{
  "nbformat": 4,
  "nbformat_minor": 0,
  "metadata": {
    "colab": {
      "name": "nlip-hw1-colab.ipynb",
      "version": "0.3.2",
      "provenance": [],
      "include_colab_link": true
    },
    "kernelspec": {
      "name": "python3",
      "display_name": "Python 3"
    }
  },
  "cells": [
    {
      "cell_type": "markdown",
      "metadata": {
        "id": "view-in-github",
        "colab_type": "text"
      },
      "source": [
        "<a href=\"https://colab.research.google.com/github/borisevstratov/homeworkHSM/blob/master/nlip_hw1_colab.ipynb\" target=\"_parent\"><img src=\"https://colab.research.google.com/assets/colab-badge.svg\" alt=\"Open In Colab\"/></a>"
      ]
    },
    {
      "metadata": {
        "id": "gfC0u_Ka1hrs",
        "colab_type": "code",
        "colab": {}
      },
      "cell_type": "code",
      "source": [
        "# import packages and libs\n",
        "import pandas as pd\n",
        "import numpy as np\n",
        "import matplotlib.pyplot as plt\n",
        "from sklearn.preprocessing import StandardScaler\n",
        "from sklearn.model_selection import train_test_split\n",
        "from sklearn.model_selection import GridSearchCV\n",
        "from sklearn.feature_selection import SelectFromModel\n",
        "from sklearn.metrics import roc_auc_score\n",
        "from sklearn.neighbors import KNeighborsClassifier\n",
        "from sklearn.linear_model import LogisticRegression\n",
        "from sklearn.ensemble import RandomForestClassifier"
      ],
      "execution_count": 0,
      "outputs": []
    },
    {
      "metadata": {
        "id": "n3LrWgSKLxLx",
        "colab_type": "text"
      },
      "cell_type": "markdown",
      "source": [
        "# 1. Load the data"
      ]
    },
    {
      "metadata": {
        "id": "cFjTK0tGCXBz",
        "colab_type": "code",
        "colab": {
          "base_uri": "https://localhost:8080/",
          "height": 229
        },
        "outputId": "44cf68a7-deda-4d98-b916-f5fba77748ef"
      },
      "cell_type": "code",
      "source": [
        "# mount google drive folder to access dataframe from google colab\n",
        "from google.colab import drive\n",
        "drive.mount('/content/drive')"
      ],
      "execution_count": 3,
      "outputs": [
        {
          "output_type": "stream",
          "text": [
            "Go to this URL in a browser: https://accounts.google.com/o/oauth2/auth?client_id=947318989803-6bn6qk8qdgf4n4g3pfee6491hc0brc4i.apps.googleusercontent.com&redirect_uri=urn%3Aietf%3Awg%3Aoauth%3A2.0%3Aoob&scope=email%20https%3A%2F%2Fwww.googleapis.com%2Fauth%2Fdocs.test%20https%3A%2F%2Fwww.googleapis.com%2Fauth%2Fdrive%20https%3A%2F%2Fwww.googleapis.com%2Fauth%2Fdrive.photos.readonly%20https%3A%2F%2Fwww.googleapis.com%2Fauth%2Fpeopleapi.readonly&response_type=code\n",
            "\n",
            "Enter your authorization code:\n",
            "··········\n",
            "Mounted at /content/drive\n"
          ],
          "name": "stdout"
        }
      ]
    },
    {
      "metadata": {
        "id": "rMhwVYHGCjfA",
        "colab_type": "code",
        "colab": {}
      },
      "cell_type": "code",
      "source": [
        "# specify location and filename\n",
        "FolderPath = \"/content/drive/My Drive/GSOM/2 semester/Natural Language and Image Recognition/Homework/Homework 1/\"\n",
        "FileName = \"dataset_simple.csv\"\n",
        "FullPath = FolderPath + FileName"
      ],
      "execution_count": 0,
      "outputs": []
    },
    {
      "metadata": {
        "id": "U03H61jyItwD",
        "colab_type": "code",
        "colab": {
          "base_uri": "https://localhost:8080/",
          "height": 426
        },
        "outputId": "811e8398-43f5-494e-9191-f9914a009616"
      },
      "cell_type": "code",
      "source": [
        "# initialize pandas dataframe from csv file\n",
        "DataFrame = pd.read_csv(FullPath)\n",
        "DataFrame.describe()"
      ],
      "execution_count": 5,
      "outputs": [
        {
          "output_type": "execute_result",
          "data": {
            "text/html": [
              "<div>\n",
              "<style scoped>\n",
              "    .dataframe tbody tr th:only-of-type {\n",
              "        vertical-align: middle;\n",
              "    }\n",
              "\n",
              "    .dataframe tbody tr th {\n",
              "        vertical-align: top;\n",
              "    }\n",
              "\n",
              "    .dataframe thead th {\n",
              "        text-align: right;\n",
              "    }\n",
              "</style>\n",
              "<table border=\"1\" class=\"dataframe\">\n",
              "  <thead>\n",
              "    <tr style=\"text-align: right;\">\n",
              "      <th></th>\n",
              "      <th>feature_0</th>\n",
              "      <th>feature_1</th>\n",
              "      <th>feature_2</th>\n",
              "      <th>feature_3</th>\n",
              "      <th>feature_4</th>\n",
              "      <th>feature_5</th>\n",
              "      <th>feature_6</th>\n",
              "      <th>feature_7</th>\n",
              "      <th>feature_8</th>\n",
              "      <th>feature_9</th>\n",
              "      <th>...</th>\n",
              "      <th>feature_991</th>\n",
              "      <th>feature_992</th>\n",
              "      <th>feature_993</th>\n",
              "      <th>feature_994</th>\n",
              "      <th>feature_995</th>\n",
              "      <th>feature_996</th>\n",
              "      <th>feature_997</th>\n",
              "      <th>feature_998</th>\n",
              "      <th>feature_999</th>\n",
              "      <th>label</th>\n",
              "    </tr>\n",
              "  </thead>\n",
              "  <tbody>\n",
              "    <tr>\n",
              "      <th>count</th>\n",
              "      <td>9999.000000</td>\n",
              "      <td>9999.000000</td>\n",
              "      <td>9999.000000</td>\n",
              "      <td>9999.000000</td>\n",
              "      <td>9999.000000</td>\n",
              "      <td>9999.000000</td>\n",
              "      <td>9999.000000</td>\n",
              "      <td>9999.000000</td>\n",
              "      <td>9999.000000</td>\n",
              "      <td>9999.000000</td>\n",
              "      <td>...</td>\n",
              "      <td>9999.000000</td>\n",
              "      <td>9999.000000</td>\n",
              "      <td>9999.000000</td>\n",
              "      <td>9999.000000</td>\n",
              "      <td>9999.000000</td>\n",
              "      <td>9999.000000</td>\n",
              "      <td>9999.000000</td>\n",
              "      <td>9999.000000</td>\n",
              "      <td>9999.000000</td>\n",
              "      <td>9999.000000</td>\n",
              "    </tr>\n",
              "    <tr>\n",
              "      <th>mean</th>\n",
              "      <td>-0.004460</td>\n",
              "      <td>-0.013556</td>\n",
              "      <td>-0.003732</td>\n",
              "      <td>-0.526323</td>\n",
              "      <td>0.005371</td>\n",
              "      <td>-0.008539</td>\n",
              "      <td>0.017156</td>\n",
              "      <td>-0.001695</td>\n",
              "      <td>0.016588</td>\n",
              "      <td>-0.011591</td>\n",
              "      <td>...</td>\n",
              "      <td>0.004245</td>\n",
              "      <td>0.004588</td>\n",
              "      <td>0.000104</td>\n",
              "      <td>-0.004114</td>\n",
              "      <td>-0.015524</td>\n",
              "      <td>0.003792</td>\n",
              "      <td>-0.012826</td>\n",
              "      <td>-0.000154</td>\n",
              "      <td>0.008867</td>\n",
              "      <td>0.493149</td>\n",
              "    </tr>\n",
              "    <tr>\n",
              "      <th>std</th>\n",
              "      <td>0.991939</td>\n",
              "      <td>1.004086</td>\n",
              "      <td>1.004643</td>\n",
              "      <td>5.892651</td>\n",
              "      <td>0.995250</td>\n",
              "      <td>1.001142</td>\n",
              "      <td>0.995826</td>\n",
              "      <td>1.000576</td>\n",
              "      <td>1.016175</td>\n",
              "      <td>0.994338</td>\n",
              "      <td>...</td>\n",
              "      <td>1.010292</td>\n",
              "      <td>0.996613</td>\n",
              "      <td>0.984661</td>\n",
              "      <td>1.005568</td>\n",
              "      <td>1.000405</td>\n",
              "      <td>0.992878</td>\n",
              "      <td>0.986676</td>\n",
              "      <td>1.003824</td>\n",
              "      <td>0.992667</td>\n",
              "      <td>0.499978</td>\n",
              "    </tr>\n",
              "    <tr>\n",
              "      <th>min</th>\n",
              "      <td>-3.769974</td>\n",
              "      <td>-3.617617</td>\n",
              "      <td>-3.753391</td>\n",
              "      <td>-21.830355</td>\n",
              "      <td>-3.952088</td>\n",
              "      <td>-4.302776</td>\n",
              "      <td>-3.693491</td>\n",
              "      <td>-3.769295</td>\n",
              "      <td>-3.582291</td>\n",
              "      <td>-3.964497</td>\n",
              "      <td>...</td>\n",
              "      <td>-3.543944</td>\n",
              "      <td>-3.702521</td>\n",
              "      <td>-3.645616</td>\n",
              "      <td>-3.757164</td>\n",
              "      <td>-3.998032</td>\n",
              "      <td>-3.844831</td>\n",
              "      <td>-4.314576</td>\n",
              "      <td>-3.912707</td>\n",
              "      <td>-3.852604</td>\n",
              "      <td>0.000000</td>\n",
              "    </tr>\n",
              "    <tr>\n",
              "      <th>25%</th>\n",
              "      <td>-0.667193</td>\n",
              "      <td>-0.702984</td>\n",
              "      <td>-0.666734</td>\n",
              "      <td>-4.535838</td>\n",
              "      <td>-0.664072</td>\n",
              "      <td>-0.676919</td>\n",
              "      <td>-0.657419</td>\n",
              "      <td>-0.678497</td>\n",
              "      <td>-0.670545</td>\n",
              "      <td>-0.696125</td>\n",
              "      <td>...</td>\n",
              "      <td>-0.686178</td>\n",
              "      <td>-0.674913</td>\n",
              "      <td>-0.663270</td>\n",
              "      <td>-0.676386</td>\n",
              "      <td>-0.690162</td>\n",
              "      <td>-0.660690</td>\n",
              "      <td>-0.671733</td>\n",
              "      <td>-0.689658</td>\n",
              "      <td>-0.653306</td>\n",
              "      <td>0.000000</td>\n",
              "    </tr>\n",
              "    <tr>\n",
              "      <th>50%</th>\n",
              "      <td>0.006990</td>\n",
              "      <td>-0.019359</td>\n",
              "      <td>0.002527</td>\n",
              "      <td>-0.596745</td>\n",
              "      <td>0.008596</td>\n",
              "      <td>-0.014751</td>\n",
              "      <td>0.023373</td>\n",
              "      <td>-0.005377</td>\n",
              "      <td>0.007411</td>\n",
              "      <td>-0.023052</td>\n",
              "      <td>...</td>\n",
              "      <td>-0.002653</td>\n",
              "      <td>0.000651</td>\n",
              "      <td>-0.005459</td>\n",
              "      <td>-0.002117</td>\n",
              "      <td>-0.017218</td>\n",
              "      <td>0.005911</td>\n",
              "      <td>-0.009118</td>\n",
              "      <td>0.024641</td>\n",
              "      <td>-0.002785</td>\n",
              "      <td>0.000000</td>\n",
              "    </tr>\n",
              "    <tr>\n",
              "      <th>75%</th>\n",
              "      <td>0.655618</td>\n",
              "      <td>0.667009</td>\n",
              "      <td>0.660033</td>\n",
              "      <td>3.367154</td>\n",
              "      <td>0.672424</td>\n",
              "      <td>0.662462</td>\n",
              "      <td>0.697545</td>\n",
              "      <td>0.662622</td>\n",
              "      <td>0.720524</td>\n",
              "      <td>0.668373</td>\n",
              "      <td>...</td>\n",
              "      <td>0.682821</td>\n",
              "      <td>0.680257</td>\n",
              "      <td>0.668761</td>\n",
              "      <td>0.675716</td>\n",
              "      <td>0.660026</td>\n",
              "      <td>0.680975</td>\n",
              "      <td>0.647070</td>\n",
              "      <td>0.674688</td>\n",
              "      <td>0.677321</td>\n",
              "      <td>1.000000</td>\n",
              "    </tr>\n",
              "    <tr>\n",
              "      <th>max</th>\n",
              "      <td>3.629974</td>\n",
              "      <td>4.437563</td>\n",
              "      <td>3.724971</td>\n",
              "      <td>20.021875</td>\n",
              "      <td>3.444207</td>\n",
              "      <td>3.502859</td>\n",
              "      <td>3.925565</td>\n",
              "      <td>4.069058</td>\n",
              "      <td>5.209648</td>\n",
              "      <td>3.871048</td>\n",
              "      <td>...</td>\n",
              "      <td>3.616481</td>\n",
              "      <td>4.456758</td>\n",
              "      <td>3.727838</td>\n",
              "      <td>3.959971</td>\n",
              "      <td>3.520052</td>\n",
              "      <td>4.305980</td>\n",
              "      <td>3.671758</td>\n",
              "      <td>3.555786</td>\n",
              "      <td>3.574397</td>\n",
              "      <td>1.000000</td>\n",
              "    </tr>\n",
              "  </tbody>\n",
              "</table>\n",
              "<p>8 rows × 1001 columns</p>\n",
              "</div>"
            ],
            "text/plain": [
              "         feature_0    feature_1    feature_2    feature_3    feature_4  \\\n",
              "count  9999.000000  9999.000000  9999.000000  9999.000000  9999.000000   \n",
              "mean     -0.004460    -0.013556    -0.003732    -0.526323     0.005371   \n",
              "std       0.991939     1.004086     1.004643     5.892651     0.995250   \n",
              "min      -3.769974    -3.617617    -3.753391   -21.830355    -3.952088   \n",
              "25%      -0.667193    -0.702984    -0.666734    -4.535838    -0.664072   \n",
              "50%       0.006990    -0.019359     0.002527    -0.596745     0.008596   \n",
              "75%       0.655618     0.667009     0.660033     3.367154     0.672424   \n",
              "max       3.629974     4.437563     3.724971    20.021875     3.444207   \n",
              "\n",
              "         feature_5    feature_6    feature_7    feature_8    feature_9  \\\n",
              "count  9999.000000  9999.000000  9999.000000  9999.000000  9999.000000   \n",
              "mean     -0.008539     0.017156    -0.001695     0.016588    -0.011591   \n",
              "std       1.001142     0.995826     1.000576     1.016175     0.994338   \n",
              "min      -4.302776    -3.693491    -3.769295    -3.582291    -3.964497   \n",
              "25%      -0.676919    -0.657419    -0.678497    -0.670545    -0.696125   \n",
              "50%      -0.014751     0.023373    -0.005377     0.007411    -0.023052   \n",
              "75%       0.662462     0.697545     0.662622     0.720524     0.668373   \n",
              "max       3.502859     3.925565     4.069058     5.209648     3.871048   \n",
              "\n",
              "          ...       feature_991  feature_992  feature_993  feature_994  \\\n",
              "count     ...       9999.000000  9999.000000  9999.000000  9999.000000   \n",
              "mean      ...          0.004245     0.004588     0.000104    -0.004114   \n",
              "std       ...          1.010292     0.996613     0.984661     1.005568   \n",
              "min       ...         -3.543944    -3.702521    -3.645616    -3.757164   \n",
              "25%       ...         -0.686178    -0.674913    -0.663270    -0.676386   \n",
              "50%       ...         -0.002653     0.000651    -0.005459    -0.002117   \n",
              "75%       ...          0.682821     0.680257     0.668761     0.675716   \n",
              "max       ...          3.616481     4.456758     3.727838     3.959971   \n",
              "\n",
              "       feature_995  feature_996  feature_997  feature_998  feature_999  \\\n",
              "count  9999.000000  9999.000000  9999.000000  9999.000000  9999.000000   \n",
              "mean     -0.015524     0.003792    -0.012826    -0.000154     0.008867   \n",
              "std       1.000405     0.992878     0.986676     1.003824     0.992667   \n",
              "min      -3.998032    -3.844831    -4.314576    -3.912707    -3.852604   \n",
              "25%      -0.690162    -0.660690    -0.671733    -0.689658    -0.653306   \n",
              "50%      -0.017218     0.005911    -0.009118     0.024641    -0.002785   \n",
              "75%       0.660026     0.680975     0.647070     0.674688     0.677321   \n",
              "max       3.520052     4.305980     3.671758     3.555786     3.574397   \n",
              "\n",
              "             label  \n",
              "count  9999.000000  \n",
              "mean      0.493149  \n",
              "std       0.499978  \n",
              "min       0.000000  \n",
              "25%       0.000000  \n",
              "50%       0.000000  \n",
              "75%       1.000000  \n",
              "max       1.000000  \n",
              "\n",
              "[8 rows x 1001 columns]"
            ]
          },
          "metadata": {
            "tags": []
          },
          "execution_count": 5
        }
      ]
    },
    {
      "metadata": {
        "id": "fcuigCqILHSs",
        "colab_type": "code",
        "colab": {
          "base_uri": "https://localhost:8080/",
          "height": 34
        },
        "outputId": "e8f580b0-0122-4cbc-f591-829c5c725789"
      },
      "cell_type": "code",
      "source": [
        "# checking the shape of the data\n",
        "DataFrame.shape"
      ],
      "execution_count": 12,
      "outputs": [
        {
          "output_type": "execute_result",
          "data": {
            "text/plain": [
              "(9999, 1001)"
            ]
          },
          "metadata": {
            "tags": []
          },
          "execution_count": 12
        }
      ]
    },
    {
      "metadata": {
        "id": "Ts_TEN3DMEN4",
        "colab_type": "code",
        "colab": {
          "base_uri": "https://localhost:8080/",
          "height": 68
        },
        "outputId": "7e7967ff-f72c-47d8-cb56-9fb0e694a3bd"
      },
      "cell_type": "code",
      "source": [
        "# checking the sample for imbalance\n",
        "DataFrame['label'].value_counts(normalize=True)"
      ],
      "execution_count": 13,
      "outputs": [
        {
          "output_type": "execute_result",
          "data": {
            "text/plain": [
              "0    0.506851\n",
              "1    0.493149\n",
              "Name: label, dtype: float64"
            ]
          },
          "metadata": {
            "tags": []
          },
          "execution_count": 13
        }
      ]
    },
    {
      "metadata": {
        "id": "SHMEjvCyMORr",
        "colab_type": "text"
      },
      "cell_type": "markdown",
      "source": [
        "The sample is balanced"
      ]
    },
    {
      "metadata": {
        "id": "WjPoFZUeMSNr",
        "colab_type": "text"
      },
      "cell_type": "markdown",
      "source": [
        "# 2. Generating the sample data"
      ]
    },
    {
      "metadata": {
        "id": "KkZ0XsNrNc8q",
        "colab_type": "code",
        "colab": {}
      },
      "cell_type": "code",
      "source": [
        "# create initial train and test samples\n",
        "X_train, X_test, y_train, y_test = train_test_split(DataFrame.drop('label', axis = 1), DataFrame['label'], \n",
        "                                                    test_size=0.3, random_state=113768, shuffle=True)"
      ],
      "execution_count": 0,
      "outputs": []
    },
    {
      "metadata": {
        "id": "x2PY8Q22aCs2",
        "colab_type": "code",
        "colab": {
          "base_uri": "https://localhost:8080/",
          "height": 426
        },
        "outputId": "c611bd87-827d-483a-9467-d5051d77e566"
      },
      "cell_type": "code",
      "source": [
        "# scale the data\n",
        "scaler = StandardScaler()\n",
        "scaler.fit(X_train)\n",
        "X_train_scaled = scaler.transform(X_train)\n",
        "X_test_scaled = scaler.transform(X_test)\n",
        "\n",
        "# re-assign names of rows and columns \n",
        "X_train_scaled = pd.DataFrame(X_train_scaled)\n",
        "X_test_scaled = pd.DataFrame(X_test_scaled)\n",
        "\n",
        "X_train_scaled.columns = X_train.columns.values\n",
        "X_train_scaled.index = X_train.index\n",
        "\n",
        "X_test_scaled.columns = X_test.columns.values\n",
        "X_test_scaled.index = X_test.index\n",
        "\n",
        "X_train_scaled.describe()"
      ],
      "execution_count": 15,
      "outputs": [
        {
          "output_type": "execute_result",
          "data": {
            "text/html": [
              "<div>\n",
              "<style scoped>\n",
              "    .dataframe tbody tr th:only-of-type {\n",
              "        vertical-align: middle;\n",
              "    }\n",
              "\n",
              "    .dataframe tbody tr th {\n",
              "        vertical-align: top;\n",
              "    }\n",
              "\n",
              "    .dataframe thead th {\n",
              "        text-align: right;\n",
              "    }\n",
              "</style>\n",
              "<table border=\"1\" class=\"dataframe\">\n",
              "  <thead>\n",
              "    <tr style=\"text-align: right;\">\n",
              "      <th></th>\n",
              "      <th>feature_0</th>\n",
              "      <th>feature_1</th>\n",
              "      <th>feature_2</th>\n",
              "      <th>feature_3</th>\n",
              "      <th>feature_4</th>\n",
              "      <th>feature_5</th>\n",
              "      <th>feature_6</th>\n",
              "      <th>feature_7</th>\n",
              "      <th>feature_8</th>\n",
              "      <th>feature_9</th>\n",
              "      <th>...</th>\n",
              "      <th>feature_990</th>\n",
              "      <th>feature_991</th>\n",
              "      <th>feature_992</th>\n",
              "      <th>feature_993</th>\n",
              "      <th>feature_994</th>\n",
              "      <th>feature_995</th>\n",
              "      <th>feature_996</th>\n",
              "      <th>feature_997</th>\n",
              "      <th>feature_998</th>\n",
              "      <th>feature_999</th>\n",
              "    </tr>\n",
              "  </thead>\n",
              "  <tbody>\n",
              "    <tr>\n",
              "      <th>count</th>\n",
              "      <td>6.999000e+03</td>\n",
              "      <td>6.999000e+03</td>\n",
              "      <td>6.999000e+03</td>\n",
              "      <td>6.999000e+03</td>\n",
              "      <td>6.999000e+03</td>\n",
              "      <td>6.999000e+03</td>\n",
              "      <td>6.999000e+03</td>\n",
              "      <td>6.999000e+03</td>\n",
              "      <td>6.999000e+03</td>\n",
              "      <td>6.999000e+03</td>\n",
              "      <td>...</td>\n",
              "      <td>6.999000e+03</td>\n",
              "      <td>6.999000e+03</td>\n",
              "      <td>6.999000e+03</td>\n",
              "      <td>6.999000e+03</td>\n",
              "      <td>6.999000e+03</td>\n",
              "      <td>6.999000e+03</td>\n",
              "      <td>6.999000e+03</td>\n",
              "      <td>6.999000e+03</td>\n",
              "      <td>6.999000e+03</td>\n",
              "      <td>6.999000e+03</td>\n",
              "    </tr>\n",
              "    <tr>\n",
              "      <th>mean</th>\n",
              "      <td>1.269008e-17</td>\n",
              "      <td>8.486488e-18</td>\n",
              "      <td>-5.377420e-18</td>\n",
              "      <td>-2.112105e-17</td>\n",
              "      <td>2.268351e-18</td>\n",
              "      <td>2.284214e-18</td>\n",
              "      <td>2.461875e-17</td>\n",
              "      <td>-2.522946e-17</td>\n",
              "      <td>1.465704e-17</td>\n",
              "      <td>-6.567114e-18</td>\n",
              "      <td>...</td>\n",
              "      <td>1.649710e-18</td>\n",
              "      <td>-5.756536e-17</td>\n",
              "      <td>-7.094546e-18</td>\n",
              "      <td>3.048791e-17</td>\n",
              "      <td>1.672116e-17</td>\n",
              "      <td>4.761951e-17</td>\n",
              "      <td>-9.929984e-18</td>\n",
              "      <td>1.068346e-17</td>\n",
              "      <td>1.687780e-17</td>\n",
              "      <td>-9.105130e-18</td>\n",
              "    </tr>\n",
              "    <tr>\n",
              "      <th>std</th>\n",
              "      <td>1.000071e+00</td>\n",
              "      <td>1.000071e+00</td>\n",
              "      <td>1.000071e+00</td>\n",
              "      <td>1.000071e+00</td>\n",
              "      <td>1.000071e+00</td>\n",
              "      <td>1.000071e+00</td>\n",
              "      <td>1.000071e+00</td>\n",
              "      <td>1.000071e+00</td>\n",
              "      <td>1.000071e+00</td>\n",
              "      <td>1.000071e+00</td>\n",
              "      <td>...</td>\n",
              "      <td>1.000071e+00</td>\n",
              "      <td>1.000071e+00</td>\n",
              "      <td>1.000071e+00</td>\n",
              "      <td>1.000071e+00</td>\n",
              "      <td>1.000071e+00</td>\n",
              "      <td>1.000071e+00</td>\n",
              "      <td>1.000071e+00</td>\n",
              "      <td>1.000071e+00</td>\n",
              "      <td>1.000071e+00</td>\n",
              "      <td>1.000071e+00</td>\n",
              "    </tr>\n",
              "    <tr>\n",
              "      <th>min</th>\n",
              "      <td>-3.794443e+00</td>\n",
              "      <td>-3.559883e+00</td>\n",
              "      <td>-3.757881e+00</td>\n",
              "      <td>-3.638255e+00</td>\n",
              "      <td>-3.972147e+00</td>\n",
              "      <td>-4.275815e+00</td>\n",
              "      <td>-3.704513e+00</td>\n",
              "      <td>-3.750296e+00</td>\n",
              "      <td>-3.560468e+00</td>\n",
              "      <td>-3.395792e+00</td>\n",
              "      <td>...</td>\n",
              "      <td>-3.610808e+00</td>\n",
              "      <td>-3.416185e+00</td>\n",
              "      <td>-3.554031e+00</td>\n",
              "      <td>-3.714590e+00</td>\n",
              "      <td>-3.713280e+00</td>\n",
              "      <td>-3.945987e+00</td>\n",
              "      <td>-3.861551e+00</td>\n",
              "      <td>-4.351920e+00</td>\n",
              "      <td>-3.135034e+00</td>\n",
              "      <td>-3.884088e+00</td>\n",
              "    </tr>\n",
              "    <tr>\n",
              "      <th>25%</th>\n",
              "      <td>-6.752867e-01</td>\n",
              "      <td>-6.836349e-01</td>\n",
              "      <td>-6.608566e-01</td>\n",
              "      <td>-6.806223e-01</td>\n",
              "      <td>-6.683760e-01</td>\n",
              "      <td>-6.618225e-01</td>\n",
              "      <td>-6.854063e-01</td>\n",
              "      <td>-6.770352e-01</td>\n",
              "      <td>-6.843066e-01</td>\n",
              "      <td>-6.922372e-01</td>\n",
              "      <td>...</td>\n",
              "      <td>-6.810807e-01</td>\n",
              "      <td>-6.791855e-01</td>\n",
              "      <td>-6.845149e-01</td>\n",
              "      <td>-6.733425e-01</td>\n",
              "      <td>-6.658740e-01</td>\n",
              "      <td>-6.691881e-01</td>\n",
              "      <td>-6.681551e-01</td>\n",
              "      <td>-6.637504e-01</td>\n",
              "      <td>-7.030714e-01</td>\n",
              "      <td>-6.629223e-01</td>\n",
              "    </tr>\n",
              "    <tr>\n",
              "      <th>50%</th>\n",
              "      <td>1.740959e-02</td>\n",
              "      <td>-1.825350e-03</td>\n",
              "      <td>4.732626e-03</td>\n",
              "      <td>-8.574115e-03</td>\n",
              "      <td>4.656695e-03</td>\n",
              "      <td>-7.300607e-03</td>\n",
              "      <td>5.304856e-03</td>\n",
              "      <td>-7.286954e-03</td>\n",
              "      <td>-3.712826e-03</td>\n",
              "      <td>-6.731354e-03</td>\n",
              "      <td>...</td>\n",
              "      <td>-1.039153e-03</td>\n",
              "      <td>5.231096e-03</td>\n",
              "      <td>3.879236e-03</td>\n",
              "      <td>-1.379303e-02</td>\n",
              "      <td>-4.747503e-03</td>\n",
              "      <td>-1.099247e-03</td>\n",
              "      <td>4.381364e-03</td>\n",
              "      <td>5.561928e-03</td>\n",
              "      <td>1.891295e-02</td>\n",
              "      <td>-1.363645e-02</td>\n",
              "    </tr>\n",
              "    <tr>\n",
              "      <th>75%</th>\n",
              "      <td>6.646423e-01</td>\n",
              "      <td>6.851900e-01</td>\n",
              "      <td>6.599639e-01</td>\n",
              "      <td>6.578250e-01</td>\n",
              "      <td>6.688989e-01</td>\n",
              "      <td>6.672276e-01</td>\n",
              "      <td>6.874024e-01</td>\n",
              "      <td>6.679876e-01</td>\n",
              "      <td>6.872277e-01</td>\n",
              "      <td>6.928306e-01</td>\n",
              "      <td>...</td>\n",
              "      <td>6.659222e-01</td>\n",
              "      <td>6.712706e-01</td>\n",
              "      <td>6.713234e-01</td>\n",
              "      <td>6.810947e-01</td>\n",
              "      <td>6.756952e-01</td>\n",
              "      <td>6.752878e-01</td>\n",
              "      <td>6.800340e-01</td>\n",
              "      <td>6.632122e-01</td>\n",
              "      <td>6.831098e-01</td>\n",
              "      <td>6.755519e-01</td>\n",
              "    </tr>\n",
              "    <tr>\n",
              "      <th>max</th>\n",
              "      <td>3.659143e+00</td>\n",
              "      <td>4.418584e+00</td>\n",
              "      <td>3.537421e+00</td>\n",
              "      <td>3.502734e+00</td>\n",
              "      <td>3.441352e+00</td>\n",
              "      <td>3.484128e+00</td>\n",
              "      <td>3.548575e+00</td>\n",
              "      <td>4.055397e+00</td>\n",
              "      <td>5.122034e+00</td>\n",
              "      <td>3.803073e+00</td>\n",
              "      <td>...</td>\n",
              "      <td>4.666567e+00</td>\n",
              "      <td>3.572493e+00</td>\n",
              "      <td>3.529391e+00</td>\n",
              "      <td>3.697507e+00</td>\n",
              "      <td>3.889895e+00</td>\n",
              "      <td>3.322318e+00</td>\n",
              "      <td>4.314648e+00</td>\n",
              "      <td>3.729094e+00</td>\n",
              "      <td>3.541315e+00</td>\n",
              "      <td>3.599152e+00</td>\n",
              "    </tr>\n",
              "  </tbody>\n",
              "</table>\n",
              "<p>8 rows × 1000 columns</p>\n",
              "</div>"
            ],
            "text/plain": [
              "          feature_0     feature_1     feature_2     feature_3     feature_4  \\\n",
              "count  6.999000e+03  6.999000e+03  6.999000e+03  6.999000e+03  6.999000e+03   \n",
              "mean   1.269008e-17  8.486488e-18 -5.377420e-18 -2.112105e-17  2.268351e-18   \n",
              "std    1.000071e+00  1.000071e+00  1.000071e+00  1.000071e+00  1.000071e+00   \n",
              "min   -3.794443e+00 -3.559883e+00 -3.757881e+00 -3.638255e+00 -3.972147e+00   \n",
              "25%   -6.752867e-01 -6.836349e-01 -6.608566e-01 -6.806223e-01 -6.683760e-01   \n",
              "50%    1.740959e-02 -1.825350e-03  4.732626e-03 -8.574115e-03  4.656695e-03   \n",
              "75%    6.646423e-01  6.851900e-01  6.599639e-01  6.578250e-01  6.688989e-01   \n",
              "max    3.659143e+00  4.418584e+00  3.537421e+00  3.502734e+00  3.441352e+00   \n",
              "\n",
              "          feature_5     feature_6     feature_7     feature_8     feature_9  \\\n",
              "count  6.999000e+03  6.999000e+03  6.999000e+03  6.999000e+03  6.999000e+03   \n",
              "mean   2.284214e-18  2.461875e-17 -2.522946e-17  1.465704e-17 -6.567114e-18   \n",
              "std    1.000071e+00  1.000071e+00  1.000071e+00  1.000071e+00  1.000071e+00   \n",
              "min   -4.275815e+00 -3.704513e+00 -3.750296e+00 -3.560468e+00 -3.395792e+00   \n",
              "25%   -6.618225e-01 -6.854063e-01 -6.770352e-01 -6.843066e-01 -6.922372e-01   \n",
              "50%   -7.300607e-03  5.304856e-03 -7.286954e-03 -3.712826e-03 -6.731354e-03   \n",
              "75%    6.672276e-01  6.874024e-01  6.679876e-01  6.872277e-01  6.928306e-01   \n",
              "max    3.484128e+00  3.548575e+00  4.055397e+00  5.122034e+00  3.803073e+00   \n",
              "\n",
              "           ...        feature_990   feature_991   feature_992   feature_993  \\\n",
              "count      ...       6.999000e+03  6.999000e+03  6.999000e+03  6.999000e+03   \n",
              "mean       ...       1.649710e-18 -5.756536e-17 -7.094546e-18  3.048791e-17   \n",
              "std        ...       1.000071e+00  1.000071e+00  1.000071e+00  1.000071e+00   \n",
              "min        ...      -3.610808e+00 -3.416185e+00 -3.554031e+00 -3.714590e+00   \n",
              "25%        ...      -6.810807e-01 -6.791855e-01 -6.845149e-01 -6.733425e-01   \n",
              "50%        ...      -1.039153e-03  5.231096e-03  3.879236e-03 -1.379303e-02   \n",
              "75%        ...       6.659222e-01  6.712706e-01  6.713234e-01  6.810947e-01   \n",
              "max        ...       4.666567e+00  3.572493e+00  3.529391e+00  3.697507e+00   \n",
              "\n",
              "        feature_994   feature_995   feature_996   feature_997   feature_998  \\\n",
              "count  6.999000e+03  6.999000e+03  6.999000e+03  6.999000e+03  6.999000e+03   \n",
              "mean   1.672116e-17  4.761951e-17 -9.929984e-18  1.068346e-17  1.687780e-17   \n",
              "std    1.000071e+00  1.000071e+00  1.000071e+00  1.000071e+00  1.000071e+00   \n",
              "min   -3.713280e+00 -3.945987e+00 -3.861551e+00 -4.351920e+00 -3.135034e+00   \n",
              "25%   -6.658740e-01 -6.691881e-01 -6.681551e-01 -6.637504e-01 -7.030714e-01   \n",
              "50%   -4.747503e-03 -1.099247e-03  4.381364e-03  5.561928e-03  1.891295e-02   \n",
              "75%    6.756952e-01  6.752878e-01  6.800340e-01  6.632122e-01  6.831098e-01   \n",
              "max    3.889895e+00  3.322318e+00  4.314648e+00  3.729094e+00  3.541315e+00   \n",
              "\n",
              "        feature_999  \n",
              "count  6.999000e+03  \n",
              "mean  -9.105130e-18  \n",
              "std    1.000071e+00  \n",
              "min   -3.884088e+00  \n",
              "25%   -6.629223e-01  \n",
              "50%   -1.363645e-02  \n",
              "75%    6.755519e-01  \n",
              "max    3.599152e+00  \n",
              "\n",
              "[8 rows x 1000 columns]"
            ]
          },
          "metadata": {
            "tags": []
          },
          "execution_count": 15
        }
      ]
    },
    {
      "metadata": {
        "id": "Ljkwf7dwajgg",
        "colab_type": "code",
        "colab": {
          "base_uri": "https://localhost:8080/",
          "height": 34
        },
        "outputId": "f31f27f6-018a-4747-d67c-c185612681b3"
      },
      "cell_type": "code",
      "source": [
        "# let's implement random forest as the base classifier for feature selection.\n",
        "base_clf = RandomForestClassifier(n_estimators=100)\n",
        "\n",
        "# setting a minimum threshold of 2*mean\n",
        "sfm = SelectFromModel(base_clf, threshold=\"2*mean\")\n",
        "sfm.fit(X_train_scaled, y_train)\n",
        "n_features = sfm.transform(X_train_scaled).shape[1]\n",
        "\n",
        "print('Features selected:', n_features)"
      ],
      "execution_count": 16,
      "outputs": [
        {
          "output_type": "stream",
          "text": [
            "Features selected: 56\n"
          ],
          "name": "stdout"
        }
      ]
    },
    {
      "metadata": {
        "id": "aFJ14g98a9Vp",
        "colab_type": "code",
        "colab": {}
      },
      "cell_type": "code",
      "source": [
        "# creating scaled test and train samples with only main features\n",
        "X_train_scaled_main = sfm.transform(X_train_scaled)\n",
        "X_test_scaled_main = sfm.transform(X_test_scaled)\n"
      ],
      "execution_count": 0,
      "outputs": []
    },
    {
      "metadata": {
        "id": "gkITLKe4bAqO",
        "colab_type": "text"
      },
      "cell_type": "markdown",
      "source": [
        "# 3. Models testing"
      ]
    },
    {
      "metadata": {
        "id": "PzVKMo96bERc",
        "colab_type": "code",
        "colab": {}
      },
      "cell_type": "code",
      "source": [
        "# define a simple routine for model tuning\n",
        "def ModelTuning(ModelName, ModelObject, Parameters, X_train, y_train, X_test, y_test):\n",
        "    clf = GridSearchCV(ModelObject, Parameters, scoring='roc_auc', n_jobs=-1, cv=3)\n",
        "    clf.fit(X_train, y_train)\n",
        "    print(clf.best_estimator_)\n",
        "    print()\n",
        "    print('ROC-AUC of', ModelName, 'model on cross-validation:', clf.best_score_)\n",
        "    print('ROC-AUC of', ModelName, 'model on holdout:', roc_auc_score(y_test, clf.best_estimator_.predict(X_test)))"
      ],
      "execution_count": 0,
      "outputs": []
    },
    {
      "metadata": {
        "id": "ve54wtErbgJ3",
        "colab_type": "text"
      },
      "cell_type": "markdown",
      "source": [
        "### K Nearest Neighbours"
      ]
    },
    {
      "metadata": {
        "id": "Crmkq8f6bfM3",
        "colab_type": "code",
        "colab": {}
      },
      "cell_type": "code",
      "source": [
        "ParamKNN = {\n",
        " 'n_neighbors':range(5,15,1),\n",
        " 'p': [1, 2]\n",
        "}"
      ],
      "execution_count": 0,
      "outputs": []
    },
    {
      "metadata": {
        "id": "2IF6s6_gcJFx",
        "colab_type": "code",
        "colab": {
          "base_uri": "https://localhost:8080/",
          "height": 119
        },
        "outputId": "c40dc513-e4b0-444e-9e93-ff0128a6a958"
      },
      "cell_type": "code",
      "source": [
        "ModelTuning('KNN', KNeighborsClassifier(), ParamKNN,\n",
        "            X_train_scaled_main, y_train, X_test_scaled_main, y_test)"
      ],
      "execution_count": 22,
      "outputs": [
        {
          "output_type": "stream",
          "text": [
            "KNeighborsClassifier(algorithm='auto', leaf_size=30, metric='minkowski',\n",
            "           metric_params=None, n_jobs=None, n_neighbors=14, p=2,\n",
            "           weights='uniform')\n",
            "\n",
            "ROC-AUC of KNN model on cross-validation: 0.9772535039197823\n",
            "ROC-AUC of KNN model on holdout: 0.9384753901560624\n"
          ],
          "name": "stdout"
        }
      ]
    },
    {
      "metadata": {
        "id": "luYYWyjQcuyn",
        "colab_type": "text"
      },
      "cell_type": "markdown",
      "source": [
        "### Logistic Regression"
      ]
    },
    {
      "metadata": {
        "id": "5G673oZ2cxyd",
        "colab_type": "code",
        "colab": {}
      },
      "cell_type": "code",
      "source": [
        "ParamLR = {\n",
        " 'penalty': ['l1', 'l2'],\n",
        " 'C': [0.001, 0.01, 0.1, 1, 10, 100, 1000],\n",
        "}"
      ],
      "execution_count": 0,
      "outputs": []
    },
    {
      "metadata": {
        "id": "bpRjioDNc3sq",
        "colab_type": "code",
        "colab": {
          "base_uri": "https://localhost:8080/",
          "height": 230
        },
        "outputId": "51e19f37-8435-4316-b654-446884c3a61c"
      },
      "cell_type": "code",
      "source": [
        "ModelTuning('LR', LogisticRegression(), ParamLR,\n",
        "            X_train_scaled_main, y_train, X_test_scaled_main, y_test)"
      ],
      "execution_count": 21,
      "outputs": [
        {
          "output_type": "stream",
          "text": [
            "LogisticRegression(C=0.1, class_weight=None, dual=False, fit_intercept=True,\n",
            "          intercept_scaling=1, max_iter=100, multi_class='warn',\n",
            "          n_jobs=None, penalty='l2', random_state=None, solver='warn',\n",
            "          tol=0.0001, verbose=0, warm_start=False)\n",
            "\n",
            "ROC-AUC of LR model on cross-validation: 0.9063415481975114\n",
            "ROC-AUC of LR model on holdout: 0.8112178204615179\n"
          ],
          "name": "stdout"
        },
        {
          "output_type": "stream",
          "text": [
            "/usr/local/lib/python3.6/dist-packages/sklearn/linear_model/logistic.py:433: FutureWarning: Default solver will be changed to 'lbfgs' in 0.22. Specify a solver to silence this warning.\n",
            "  FutureWarning)\n"
          ],
          "name": "stderr"
        }
      ]
    },
    {
      "metadata": {
        "id": "6rpdWJvddfUp",
        "colab_type": "text"
      },
      "cell_type": "markdown",
      "source": [
        "### Random Forest"
      ]
    },
    {
      "metadata": {
        "id": "DOPk-Ng9dhVs",
        "colab_type": "code",
        "colab": {}
      },
      "cell_type": "code",
      "source": [
        "ParamRF = {\n",
        " 'max_depth': [25, 50, 100, None],\n",
        " 'min_samples_leaf': [1, 5],\n",
        " 'n_estimators': [200, 400, 600]\n",
        "}"
      ],
      "execution_count": 0,
      "outputs": []
    },
    {
      "metadata": {
        "id": "CPQbR1VDd0aE",
        "colab_type": "code",
        "colab": {
          "base_uri": "https://localhost:8080/",
          "height": 187
        },
        "outputId": "a8b2f910-254a-4f2c-cc06-510b50af19e5"
      },
      "cell_type": "code",
      "source": [
        "ModelTuning('RF', RandomForestClassifier(), ParamRF, \n",
        "             X_train_scaled_main, y_train, X_test_scaled_main, y_test)"
      ],
      "execution_count": 25,
      "outputs": [
        {
          "output_type": "stream",
          "text": [
            "RandomForestClassifier(bootstrap=True, class_weight=None, criterion='gini',\n",
            "            max_depth=None, max_features='auto', max_leaf_nodes=None,\n",
            "            min_impurity_decrease=0.0, min_impurity_split=None,\n",
            "            min_samples_leaf=1, min_samples_split=2,\n",
            "            min_weight_fraction_leaf=0.0, n_estimators=600, n_jobs=None,\n",
            "            oob_score=False, random_state=None, verbose=0,\n",
            "            warm_start=False)\n",
            "\n",
            "ROC-AUC of RF model on cross-validation: 0.9529278046069887\n",
            "ROC-AUC of RF model on holdout: 0.8840669601173803\n"
          ],
          "name": "stdout"
        }
      ]
    },
    {
      "metadata": {
        "id": "GgSMNvWvm6J2",
        "colab_type": "text"
      },
      "cell_type": "markdown",
      "source": [
        "# 4. Conclusion"
      ]
    },
    {
      "metadata": {
        "id": "tliCiidAm_9e",
        "colab_type": "text"
      },
      "cell_type": "markdown",
      "source": [
        "There were built 3 types of ML models: K Nearest Neighbours, Logistic Regression and Random Forest.\n",
        "\n",
        "The models were tuned and performed with the following results:\n",
        "\n",
        "* Roc-AUC of K Nearest Neighbours:\n",
        "  * Cross-validation 97.72%\n",
        "  * Holdout 93.84%\n",
        "* Roc-AUC of Logistic Regression:\n",
        "  * Cross-validation 90.63%\n",
        "  * Holdout 81.12%\n",
        "* Roc-AUC of Random Forest:\n",
        "  * Cross-validation 95.29%\n",
        "  * Holdout 88.41%\n",
        "\n",
        "\n",
        "---\n",
        "\n",
        "\n",
        "The best results on holdout data were performed by the KNN model on selected features with the following parameters:\n",
        "```\n",
        "n_neighbors = 14\n",
        "p = 2\n",
        "```\n",
        "\n",
        "\n"
      ]
    }
  ]
}
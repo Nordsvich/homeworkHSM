{
  "nbformat": 4,
  "nbformat_minor": 0,
  "metadata": {
    "colab": {
      "name": "nlip-hw2-colab.ipynb",
      "version": "0.3.2",
      "provenance": [],
      "collapsed_sections": [],
      "include_colab_link": true
    },
    "kernelspec": {
      "name": "python3",
      "display_name": "Python 3"
    }
  },
  "cells": [
    {
      "cell_type": "markdown",
      "metadata": {
        "id": "view-in-github",
        "colab_type": "text"
      },
      "source": [
        "<a href=\"https://colab.research.google.com/github/borisevstratov/homeworkHSM/blob/master/nlip_hw2_colab.ipynb\" target=\"_parent\"><img src=\"https://colab.research.google.com/assets/colab-badge.svg\" alt=\"Open In Colab\"/></a>"
      ]
    },
    {
      "metadata": {
        "id": "t33NfuTLQ02D",
        "colab_type": "text"
      },
      "cell_type": "markdown",
      "source": [
        "# HW2: Spam detection with naive bayes\n",
        "*Boris Evstratov*"
      ]
    },
    {
      "metadata": {
        "id": "IUMN2iQaQ-j8",
        "colab_type": "text"
      },
      "cell_type": "markdown",
      "source": [
        "## Task\n",
        "* Download sms-spam dataset https://archive.ics.uci.edu/ml/\n",
        "datasets/sms+spam+collection\n",
        "* Choose and argument metric for quality\n",
        "* Code «by a hands» naive bayes for spam detection task;\n",
        "* Choose a measure of a test's accuracy and argument your choice;\n",
        "Perform 5-fold validation for this task;\n",
        "* Compare your results with sklearn naive_bayes\n",
        "* I expect your result as self-sufficient (with all comments/graph/etc.)\n",
        "Jupiter notebook in your GitHub in 2 weeks (next lecture)."
      ]
    },
    {
      "metadata": {
        "id": "gr0t3aPQTZIP",
        "colab_type": "text"
      },
      "cell_type": "markdown",
      "source": [
        "## 1. Exploratory data analysis"
      ]
    },
    {
      "metadata": {
        "id": "FTptjZm4HBB3",
        "colab_type": "code",
        "outputId": "0280d098-6ab8-4159-c263-df045a8db9b7",
        "colab": {
          "base_uri": "https://localhost:8080/",
          "height": 51
        }
      },
      "cell_type": "code",
      "source": [
        "import pandas as pd\n",
        "import numpy as np\n",
        "import scipy\n",
        "from sklearn.model_selection import train_test_split\n",
        "from sklearn.feature_extraction.text import CountVectorizer\n",
        "from sklearn.metrics import accuracy_score, precision_score, recall_score, f1_score\n",
        "from sklearn.naive_bayes import MultinomialNB\n",
        "from sklearn.feature_extraction.text import TfidfVectorizer\n",
        "from sklearn.metrics import classification_report\n",
        "import nltk\n",
        "nltk.download(\"stopwords\")\n",
        "from nltk.corpus import stopwords\n",
        "import string"
      ],
      "execution_count": 75,
      "outputs": [
        {
          "output_type": "stream",
          "text": [
            "[nltk_data] Downloading package stopwords to /root/nltk_data...\n",
            "[nltk_data]   Package stopwords is already up-to-date!\n"
          ],
          "name": "stdout"
        }
      ]
    },
    {
      "metadata": {
        "id": "x7v_inPUKjtj",
        "colab_type": "code",
        "outputId": "316da3e9-212b-435e-9121-062800a416f5",
        "colab": {
          "base_uri": "https://localhost:8080/",
          "height": 74
        }
      },
      "cell_type": "code",
      "source": [
        "# Mount google drive folder to access dataframe from google colab\n",
        "from google.colab import drive\n",
        "drive.mount('/content/drive')"
      ],
      "execution_count": 76,
      "outputs": [
        {
          "output_type": "stream",
          "text": [
            "Drive already mounted at /content/drive; to attempt to forcibly remount, call drive.mount(\"/content/drive\", force_remount=True).\n"
          ],
          "name": "stdout"
        }
      ]
    },
    {
      "metadata": {
        "id": "UchecK0lLfva",
        "colab_type": "code",
        "colab": {}
      },
      "cell_type": "code",
      "source": [
        "# Specify the path to the csv data file\n",
        "DataPath = '/content/drive/My Drive/GSOM/2 semester/Natural Language and Image Recognition/Homework/Homework 2/SMSSpamCollection.csv'"
      ],
      "execution_count": 0,
      "outputs": []
    },
    {
      "metadata": {
        "id": "SoG375fjLsZG",
        "colab_type": "code",
        "outputId": "998d9932-279f-47fc-b7ce-23771af68c47",
        "colab": {
          "base_uri": "https://localhost:8080/",
          "height": 204
        }
      },
      "cell_type": "code",
      "source": [
        "# Convert csv file to a pandas' dataframe\n",
        "DataFrame = pd.read_csv(DataPath, delimiter='\\t', header=None, names=['sender', 'message'])\n",
        "DataFrame.head()"
      ],
      "execution_count": 78,
      "outputs": [
        {
          "output_type": "execute_result",
          "data": {
            "text/html": [
              "<div>\n",
              "<style scoped>\n",
              "    .dataframe tbody tr th:only-of-type {\n",
              "        vertical-align: middle;\n",
              "    }\n",
              "\n",
              "    .dataframe tbody tr th {\n",
              "        vertical-align: top;\n",
              "    }\n",
              "\n",
              "    .dataframe thead th {\n",
              "        text-align: right;\n",
              "    }\n",
              "</style>\n",
              "<table border=\"1\" class=\"dataframe\">\n",
              "  <thead>\n",
              "    <tr style=\"text-align: right;\">\n",
              "      <th></th>\n",
              "      <th>sender</th>\n",
              "      <th>message</th>\n",
              "    </tr>\n",
              "  </thead>\n",
              "  <tbody>\n",
              "    <tr>\n",
              "      <th>0</th>\n",
              "      <td>ham</td>\n",
              "      <td>Go until jurong point, crazy.. Available only ...</td>\n",
              "    </tr>\n",
              "    <tr>\n",
              "      <th>1</th>\n",
              "      <td>ham</td>\n",
              "      <td>Ok lar... Joking wif u oni...</td>\n",
              "    </tr>\n",
              "    <tr>\n",
              "      <th>2</th>\n",
              "      <td>spam</td>\n",
              "      <td>Free entry in 2 a wkly comp to win FA Cup fina...</td>\n",
              "    </tr>\n",
              "    <tr>\n",
              "      <th>3</th>\n",
              "      <td>ham</td>\n",
              "      <td>U dun say so early hor... U c already then say...</td>\n",
              "    </tr>\n",
              "    <tr>\n",
              "      <th>4</th>\n",
              "      <td>ham</td>\n",
              "      <td>Nah I don't think he goes to usf, he lives aro...</td>\n",
              "    </tr>\n",
              "  </tbody>\n",
              "</table>\n",
              "</div>"
            ],
            "text/plain": [
              "  sender                                            message\n",
              "0    ham  Go until jurong point, crazy.. Available only ...\n",
              "1    ham                      Ok lar... Joking wif u oni...\n",
              "2   spam  Free entry in 2 a wkly comp to win FA Cup fina...\n",
              "3    ham  U dun say so early hor... U c already then say...\n",
              "4    ham  Nah I don't think he goes to usf, he lives aro..."
            ]
          },
          "metadata": {
            "tags": []
          },
          "execution_count": 78
        }
      ]
    },
    {
      "metadata": {
        "id": "NF_-4gmIOaNs",
        "colab_type": "code",
        "outputId": "3da00198-49a9-411b-e76b-888728fb2593",
        "colab": {
          "base_uri": "https://localhost:8080/",
          "height": 68
        }
      },
      "cell_type": "code",
      "source": [
        "# Check the percentage of 'spam' and 'ham' messages\n",
        "DataFrame['sender'].value_counts(normalize=True)"
      ],
      "execution_count": 79,
      "outputs": [
        {
          "output_type": "execute_result",
          "data": {
            "text/plain": [
              "ham     0.865937\n",
              "spam    0.134063\n",
              "Name: sender, dtype: float64"
            ]
          },
          "metadata": {
            "tags": []
          },
          "execution_count": 79
        }
      ]
    },
    {
      "metadata": {
        "id": "KUpqy7ZuPC93",
        "colab_type": "code",
        "outputId": "daf49e82-d71e-487c-b378-22ac4ac1c4e4",
        "colab": {
          "base_uri": "https://localhost:8080/",
          "height": 34
        }
      },
      "cell_type": "code",
      "source": [
        "print('Total number of records: ', DataFrame.shape[0])"
      ],
      "execution_count": 80,
      "outputs": [
        {
          "output_type": "stream",
          "text": [
            "Total number of records:  5572\n"
          ],
          "name": "stdout"
        }
      ]
    },
    {
      "metadata": {
        "id": "x7u9X9QMPIDl",
        "colab_type": "code",
        "outputId": "f6f3f2fa-70dd-4dd8-9af5-90ee5393caa5",
        "colab": {
          "base_uri": "https://localhost:8080/",
          "height": 34
        }
      },
      "cell_type": "code",
      "source": [
        "# Check the sample for the missing values\n",
        "DataFrame.isnull().values.any()"
      ],
      "execution_count": 81,
      "outputs": [
        {
          "output_type": "execute_result",
          "data": {
            "text/plain": [
              "False"
            ]
          },
          "metadata": {
            "tags": []
          },
          "execution_count": 81
        }
      ]
    },
    {
      "metadata": {
        "id": "MmcbCC02ekc7",
        "colab_type": "text"
      },
      "cell_type": "markdown",
      "source": [
        "## 2.0 Preparing the data"
      ]
    },
    {
      "metadata": {
        "id": "qkz7kNnJoeTB",
        "colab_type": "code",
        "colab": {}
      },
      "cell_type": "code",
      "source": [
        "# Mapping the 'ham' and 'spam' to 0 and 1 correspondingly\n",
        "DataFrame['label'] = DataFrame['sender'].map({'ham': 0, 'spam': 1})"
      ],
      "execution_count": 0,
      "outputs": []
    },
    {
      "metadata": {
        "id": "E5zitBd_lNBr",
        "colab_type": "code",
        "colab": {}
      },
      "cell_type": "code",
      "source": [
        "# Split the dataframe into training and testing sets\n",
        "X_train, X_test, y_train, y_test = train_test_split(DataFrame['message'], \n",
        "                                                    DataFrame['label'], \n",
        "                                                    random_state=113)"
      ],
      "execution_count": 0,
      "outputs": []
    },
    {
      "metadata": {
        "id": "TJPKKH64jtAN",
        "colab_type": "code",
        "colab": {}
      },
      "cell_type": "code",
      "source": [
        "# Instantiate the CountVectorizer method\n",
        "CountVector = CountVectorizer(lowercase = True, token_pattern = '(?u)\\\\b\\\\w\\\\w+\\\\b', stop_words = 'english')"
      ],
      "execution_count": 0,
      "outputs": []
    },
    {
      "metadata": {
        "id": "96G0Rpv-kyiW",
        "colab_type": "code",
        "colab": {}
      },
      "cell_type": "code",
      "source": [
        "# Transforming the data using CountVectorizer method\n",
        "TrainingData = CountVector.fit_transform(X_train)\n",
        "TestingData = CountVector.transform(X_test)"
      ],
      "execution_count": 0,
      "outputs": []
    },
    {
      "metadata": {
        "id": "g62YVRKLrB8L",
        "colab_type": "text"
      },
      "cell_type": "markdown",
      "source": [
        "## 2.1 Naive Bayes manual implementation"
      ]
    },
    {
      "metadata": {
        "id": "Y5xBijgBoBkw",
        "colab_type": "code",
        "colab": {}
      },
      "cell_type": "code",
      "source": [
        "# Calculating probabilities for 'spam' and 'ham'\n",
        "ProbSpam = sum(y_train) / len(y_train)\n",
        "ProbHam = 1 - sum(y_train) / len(y_train)"
      ],
      "execution_count": 0,
      "outputs": []
    },
    {
      "metadata": {
        "id": "xRN0EvkPpEIS",
        "colab_type": "code",
        "colab": {}
      },
      "cell_type": "code",
      "source": [
        "# Find probabilities for 'spam'\n",
        "IndiciesSpam = np.where(y_train == 1)[0]\n",
        "SpamData = TrainingData.tocsr()[IndiciesSpam,:]\n",
        "\n",
        "FreqSpam = SpamData.toarray().sum(axis=0) + 1\n",
        "ProbsSpam = FreqSpam / (sum(FreqSpam))"
      ],
      "execution_count": 0,
      "outputs": []
    },
    {
      "metadata": {
        "id": "qnRGvXIWpmF0",
        "colab_type": "code",
        "colab": {}
      },
      "cell_type": "code",
      "source": [
        "# Find probabilities for 'ham'\n",
        "IndiciesHam = np.where(y_train == 0)[0]\n",
        "HamData = TrainingData.tocsr()[IndiciesHam,:]\n",
        "\n",
        "FreqHam = HamData.toarray().sum(axis=0) + 1\n",
        "ProbsHam = FreqHam / (sum(FreqHam))"
      ],
      "execution_count": 0,
      "outputs": []
    },
    {
      "metadata": {
        "id": "mpH1-4XKpy0Z",
        "colab_type": "code",
        "colab": {}
      },
      "cell_type": "code",
      "source": [
        "def SpamOrHam(Arr):\n",
        "    PrHam = np.log(ProbHam)\n",
        "    PrSpam = np.log(ProbSpam)\n",
        "    Arr = scipy.sparse.find(Arr)\n",
        "    for i in range(len(Arr[1])):\n",
        "        PrHam = PrHam + np.log(ProbsHam[Arr[1][i]]) * Arr[2][i]\n",
        "        PrSpam = PrSpam + np.log(ProbsSpam[Arr[1][i]]) * Arr[2][i]\n",
        "\n",
        "    if PrHam >= PrSpam:\n",
        "        return 0\n",
        "    else:\n",
        "        return 1\n",
        "\n",
        "PredictionsMI = []\n",
        "for i in TestingData:\n",
        "    PredictionsMI.append(SpamOrHam(i))"
      ],
      "execution_count": 0,
      "outputs": []
    },
    {
      "metadata": {
        "id": "AaBufOhOmjps",
        "colab_type": "text"
      },
      "cell_type": "markdown",
      "source": [
        "## 2.2 Naive Bayes implementation using SciKit-Learn"
      ]
    },
    {
      "metadata": {
        "id": "qoPK74jUmxZ2",
        "colab_type": "code",
        "outputId": "4f022dc0-762c-42c8-9612-824568f8ef3d",
        "colab": {
          "base_uri": "https://localhost:8080/",
          "height": 34
        }
      },
      "cell_type": "code",
      "source": [
        "# Applying MultinomialNB classifier\n",
        "NBCLassifierSK = MultinomialNB()\n",
        "NBCLassifierSK.fit(TrainingDataSK, y_train)"
      ],
      "execution_count": 91,
      "outputs": [
        {
          "output_type": "execute_result",
          "data": {
            "text/plain": [
              "MultinomialNB(alpha=1.0, class_prior=None, fit_prior=True)"
            ]
          },
          "metadata": {
            "tags": []
          },
          "execution_count": 91
        }
      ]
    },
    {
      "metadata": {
        "id": "w-KF6Wl1n2-e",
        "colab_type": "code",
        "colab": {}
      },
      "cell_type": "code",
      "source": [
        "# Testing the model\n",
        "PredictionsSK = NBCLassifierSK.predict(TestingDataSK)"
      ],
      "execution_count": 0,
      "outputs": []
    },
    {
      "metadata": {
        "id": "oNVEJoEAoBm7",
        "colab_type": "text"
      },
      "cell_type": "markdown",
      "source": [
        "## 3. Evaluating the model"
      ]
    },
    {
      "metadata": {
        "id": "zzaIvmX6vvEW",
        "colab_type": "code",
        "outputId": "65ed2c73-b58f-4934-e39d-a82a0388ee95",
        "colab": {
          "base_uri": "https://localhost:8080/",
          "height": 187
        }
      },
      "cell_type": "code",
      "source": [
        "print('------------ Naive Bayes: Manual Implementation -----')\n",
        "print(classification_report(y_test, PredictionsMI))"
      ],
      "execution_count": 102,
      "outputs": [
        {
          "output_type": "stream",
          "text": [
            "------------ Naive Bayes: Manual Implementation -----\n",
            "              precision    recall  f1-score   support\n",
            "\n",
            "           0       0.99      0.99      0.99      1208\n",
            "           1       0.94      0.94      0.94       185\n",
            "\n",
            "   micro avg       0.98      0.98      0.98      1393\n",
            "   macro avg       0.97      0.96      0.96      1393\n",
            "weighted avg       0.98      0.98      0.98      1393\n",
            "\n"
          ],
          "name": "stdout"
        }
      ]
    },
    {
      "metadata": {
        "id": "NWiTNfbGoD6E",
        "colab_type": "code",
        "outputId": "84727473-00cb-4792-9ad9-01b017f57540",
        "colab": {
          "base_uri": "https://localhost:8080/",
          "height": 187
        }
      },
      "cell_type": "code",
      "source": [
        "print('------------ Naive Bayes: SciKit-Learn --------------')\n",
        "print(classification_report(y_test, PredictionsSK))"
      ],
      "execution_count": 103,
      "outputs": [
        {
          "output_type": "stream",
          "text": [
            "------------ Naive Bayes: SciKit-Learn --------------\n",
            "              precision    recall  f1-score   support\n",
            "\n",
            "           0       0.99      0.99      0.99      1208\n",
            "           1       0.94      0.94      0.94       185\n",
            "\n",
            "   micro avg       0.98      0.98      0.98      1393\n",
            "   macro avg       0.97      0.96      0.96      1393\n",
            "weighted avg       0.98      0.98      0.98      1393\n",
            "\n"
          ],
          "name": "stdout"
        }
      ]
    },
    {
      "metadata": {
        "id": "XvcF1-j0ppDj",
        "colab_type": "text"
      },
      "cell_type": "markdown",
      "source": [
        "## Conclusion"
      ]
    },
    {
      "metadata": {
        "id": "xO3qDW7ppsaM",
        "colab_type": "text"
      },
      "cell_type": "markdown",
      "source": [
        "The Manual Implementation of Naive Bayes model gains the same test results as the Sci-Kit Learn implementation of Multinominal Naive Bayes classifier.\n",
        "\n",
        "Probably they are using same algorithm/approach to this problem"
      ]
    }
  ]
}
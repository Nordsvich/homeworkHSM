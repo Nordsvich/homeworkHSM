{
  "nbformat": 4,
  "nbformat_minor": 0,
  "metadata": {
    "colab": {
      "name": "nlip-hw3-colab.ipynb",
      "version": "0.3.2",
      "provenance": [],
      "include_colab_link": true
    },
    "kernelspec": {
      "name": "python3",
      "display_name": "Python 3"
    }
  },
  "cells": [
    {
      "cell_type": "markdown",
      "metadata": {
        "id": "view-in-github",
        "colab_type": "text"
      },
      "source": [
        "<a href=\"https://colab.research.google.com/github/borisevstratov/homeworkHSM/blob/master/nlip_hw3_colab.ipynb\" target=\"_parent\"><img src=\"https://colab.research.google.com/assets/colab-badge.svg\" alt=\"Open In Colab\"/></a>"
      ]
    },
    {
      "cell_type": "markdown",
      "metadata": {
        "id": "p7j7Hh9-rTo3",
        "colab_type": "text"
      },
      "source": [
        "# HW3: BBC Text classification\n",
        "*Boris Evstratov*"
      ]
    },
    {
      "cell_type": "markdown",
      "metadata": {
        "id": "PrxtCCD_tFdD",
        "colab_type": "text"
      },
      "source": [
        "## Task:\n",
        "Classify news to one of 5 categories based on text\n",
        "1. Choose and argue your measure of a test's accuracy;\n",
        "2. Build data processing and classification pipeline;\n",
        "3. Tune  your model."
      ]
    },
    {
      "cell_type": "code",
      "metadata": {
        "id": "eREbO2r1Wx_n",
        "colab_type": "code",
        "outputId": "147d006d-8723-4101-a5d3-8d24a32b5e2e",
        "colab": {
          "base_uri": "https://localhost:8080/",
          "height": 34
        }
      },
      "source": [
        "%matplotlib inline\n",
        "import matplotlib.pyplot as plt\n",
        "import numpy as np\n",
        "import pandas as pd\n",
        "import tensorflow as tf\n",
        "import itertools\n",
        "\n",
        "from sklearn.preprocessing import LabelBinarizer, LabelEncoder\n",
        "from sklearn.metrics import confusion_matrix\n",
        "\n",
        "from tensorflow import keras\n",
        "layers = keras.layers\n",
        "models = keras.models\n",
        "\n",
        "\n",
        "# This code was tested with the following version of TensorFlow\n",
        "print(\"TensorFlow version\", tf.__version__)"
      ],
      "execution_count": 38,
      "outputs": [
        {
          "output_type": "stream",
          "text": [
            "TensorFlow version 1.13.1\n"
          ],
          "name": "stdout"
        }
      ]
    },
    {
      "cell_type": "code",
      "metadata": {
        "id": "XbDRRD2Gap6X",
        "colab_type": "code",
        "outputId": "c25a3b16-12f8-4ac0-eb76-1aef4de1d329",
        "colab": {
          "base_uri": "https://localhost:8080/",
          "height": 204
        }
      },
      "source": [
        "# Load the dataset\n",
        "data = pd.read_csv(\"https://storage.googleapis.com/dataset-uploader/bbc/bbc-text.csv\")\n",
        "data.tail()\n"
      ],
      "execution_count": 2,
      "outputs": [
        {
          "output_type": "execute_result",
          "data": {
            "text/html": [
              "<div>\n",
              "<style scoped>\n",
              "    .dataframe tbody tr th:only-of-type {\n",
              "        vertical-align: middle;\n",
              "    }\n",
              "\n",
              "    .dataframe tbody tr th {\n",
              "        vertical-align: top;\n",
              "    }\n",
              "\n",
              "    .dataframe thead th {\n",
              "        text-align: right;\n",
              "    }\n",
              "</style>\n",
              "<table border=\"1\" class=\"dataframe\">\n",
              "  <thead>\n",
              "    <tr style=\"text-align: right;\">\n",
              "      <th></th>\n",
              "      <th>category</th>\n",
              "      <th>text</th>\n",
              "    </tr>\n",
              "  </thead>\n",
              "  <tbody>\n",
              "    <tr>\n",
              "      <th>2220</th>\n",
              "      <td>business</td>\n",
              "      <td>cars pull down us retail figures us retail sal...</td>\n",
              "    </tr>\n",
              "    <tr>\n",
              "      <th>2221</th>\n",
              "      <td>politics</td>\n",
              "      <td>kilroy unveils immigration policy ex-chatshow ...</td>\n",
              "    </tr>\n",
              "    <tr>\n",
              "      <th>2222</th>\n",
              "      <td>entertainment</td>\n",
              "      <td>rem announce new glasgow concert us band rem h...</td>\n",
              "    </tr>\n",
              "    <tr>\n",
              "      <th>2223</th>\n",
              "      <td>politics</td>\n",
              "      <td>how political squabbles snowball it s become c...</td>\n",
              "    </tr>\n",
              "    <tr>\n",
              "      <th>2224</th>\n",
              "      <td>sport</td>\n",
              "      <td>souness delight at euro progress boss graeme s...</td>\n",
              "    </tr>\n",
              "  </tbody>\n",
              "</table>\n",
              "</div>"
            ],
            "text/plain": [
              "           category                                               text\n",
              "2220       business  cars pull down us retail figures us retail sal...\n",
              "2221       politics  kilroy unveils immigration policy ex-chatshow ...\n",
              "2222  entertainment  rem announce new glasgow concert us band rem h...\n",
              "2223       politics  how political squabbles snowball it s become c...\n",
              "2224          sport  souness delight at euro progress boss graeme s..."
            ]
          },
          "metadata": {
            "tags": []
          },
          "execution_count": 2
        }
      ]
    },
    {
      "cell_type": "code",
      "metadata": {
        "id": "YM4Q4sjmbHW-",
        "colab_type": "code",
        "outputId": "6cd2cf32-9f46-4a82-a124-823f7ec4d019",
        "colab": {
          "base_uri": "https://localhost:8080/",
          "height": 119
        }
      },
      "source": [
        "# Get a number of each category occurences in the dataset\n",
        "data['category'].value_counts()"
      ],
      "execution_count": 0,
      "outputs": [
        {
          "output_type": "execute_result",
          "data": {
            "text/plain": [
              "sport            511\n",
              "business         510\n",
              "politics         417\n",
              "tech             401\n",
              "entertainment    386\n",
              "Name: category, dtype: int64"
            ]
          },
          "metadata": {
            "tags": []
          },
          "execution_count": 34
        }
      ]
    },
    {
      "cell_type": "code",
      "metadata": {
        "id": "iwPqm_bVbQ9w",
        "colab_type": "code",
        "outputId": "23730f70-49b4-41e7-e618-8c281c076a90",
        "colab": {
          "base_uri": "https://localhost:8080/",
          "height": 51
        }
      },
      "source": [
        "# Calculate test and train sample sizes\n",
        "train_size = int(len(data) * .8)\n",
        "test_size = len(data) - train_size\n",
        "print (\"Train size: %d\" % train_size)\n",
        "print (\"Test size: %d\" % test_size)"
      ],
      "execution_count": 3,
      "outputs": [
        {
          "output_type": "stream",
          "text": [
            "Train size: 1780\n",
            "Test size: 445\n"
          ],
          "name": "stdout"
        }
      ]
    },
    {
      "cell_type": "code",
      "metadata": {
        "id": "ovwvRMDjbcyf",
        "colab_type": "code",
        "colab": {}
      },
      "source": [
        "# Define a function for splitting the data into test and training sets\n",
        "def train_test_split(data, train_size):\n",
        "    train = data[:train_size]\n",
        "    test = data[train_size:]\n",
        "    return train, test"
      ],
      "execution_count": 0,
      "outputs": []
    },
    {
      "cell_type": "code",
      "metadata": {
        "id": "PdBe5w_UbhD3",
        "colab_type": "code",
        "colab": {}
      },
      "source": [
        "# Split the data into test and training sets\n",
        "train_cat, test_cat = train_test_split(data['category'], train_size)\n",
        "train_text, test_text = train_test_split(data['text'], train_size)\n"
      ],
      "execution_count": 0,
      "outputs": []
    },
    {
      "cell_type": "code",
      "metadata": {
        "id": "QUWKk5EDblmf",
        "colab_type": "code",
        "colab": {}
      },
      "source": [
        "# Create a tokenizer object\n",
        "max_words = 1000\n",
        "tokenize = keras.preprocessing.text.Tokenizer(num_words=max_words, \n",
        "                                              char_level=False)\n"
      ],
      "execution_count": 0,
      "outputs": []
    },
    {
      "cell_type": "code",
      "metadata": {
        "id": "pRkSDgc3boCw",
        "colab_type": "code",
        "colab": {}
      },
      "source": [
        "# Fit with tokenizer with the training text data\n",
        "tokenize.fit_on_texts(train_text) \n",
        "x_train = tokenize.texts_to_matrix(train_text)\n",
        "x_test = tokenize.texts_to_matrix(test_text)"
      ],
      "execution_count": 0,
      "outputs": []
    },
    {
      "cell_type": "code",
      "metadata": {
        "id": "qC-FhDj-bqgn",
        "colab_type": "code",
        "colab": {}
      },
      "source": [
        "# Convert label strings to numbered index\n",
        "encoder = LabelEncoder()\n",
        "encoder.fit(train_cat)\n",
        "y_train = encoder.transform(train_cat)\n",
        "y_test = encoder.transform(test_cat)"
      ],
      "execution_count": 0,
      "outputs": []
    },
    {
      "cell_type": "code",
      "metadata": {
        "id": "0QIpF3Gybsee",
        "colab_type": "code",
        "colab": {}
      },
      "source": [
        "# Convert the labels to a one-hot encoding\n",
        "num_classes = np.max(y_train) + 1\n",
        "y_train = keras.utils.to_categorical(y_train, num_classes)\n",
        "y_test = keras.utils.to_categorical(y_test, num_classes)"
      ],
      "execution_count": 0,
      "outputs": []
    },
    {
      "cell_type": "code",
      "metadata": {
        "id": "NYkDAD5kbuNe",
        "colab_type": "code",
        "outputId": "fd7bd7f0-5d18-414c-8128-1e2cec1777f8",
        "colab": {
          "base_uri": "https://localhost:8080/",
          "height": 85
        }
      },
      "source": [
        "# Inspect the dimensions of the training and test data\n",
        "print('x_train shape:', x_train.shape)\n",
        "print('x_test shape:', x_test.shape)\n",
        "print('y_train shape:', y_train.shape)\n",
        "print('y_test shape:', y_test.shape)"
      ],
      "execution_count": 13,
      "outputs": [
        {
          "output_type": "stream",
          "text": [
            "x_train shape: (1780, 1000)\n",
            "x_test shape: (445, 1000)\n",
            "y_train shape: (1780, 5)\n",
            "y_test shape: (445, 5)\n"
          ],
          "name": "stdout"
        }
      ]
    },
    {
      "cell_type": "code",
      "metadata": {
        "id": "soY2tnBZb0uw",
        "colab_type": "code",
        "colab": {}
      },
      "source": [
        "# Define model training parameters\n",
        "batch_size = 32\n",
        "epochs = 2\n",
        "drop_ratio = 0.5"
      ],
      "execution_count": 0,
      "outputs": []
    },
    {
      "cell_type": "code",
      "metadata": {
        "id": "paTVXGtNb2_2",
        "colab_type": "code",
        "colab": {}
      },
      "source": [
        "# Building the model\n",
        "model = models.Sequential()\n",
        "model.add(layers.Dense(512, input_shape=(max_words,)))\n",
        "model.add(layers.Activation('relu'))\n",
        "model.add(layers.Dense(num_classes))\n",
        "model.add(layers.Activation('softmax'))\n",
        "model.compile(loss='categorical_crossentropy',\n",
        "              optimizer='adam',\n",
        "              metrics=['accuracy'])"
      ],
      "execution_count": 0,
      "outputs": []
    },
    {
      "cell_type": "code",
      "metadata": {
        "id": "A_7K94NgcDMt",
        "colab_type": "code",
        "outputId": "99baa510-e7c1-48f3-f72c-86eb02026fd5",
        "colab": {
          "base_uri": "https://localhost:8080/",
          "height": 182
        }
      },
      "source": [
        "# Training the model\n",
        "# The validation_split param tells Keras what % of our training data should be used in the validation set\n",
        "# You can see the validation loss decreasing slowly when you run this\n",
        "# Because val_loss is no longer decreasing we stop training to prevent overfitting\n",
        "history = model.fit(x_train, y_train,\n",
        "                    batch_size=batch_size,\n",
        "                    epochs=epochs,\n",
        "                    verbose=1,\n",
        "                    validation_split=0.1)"
      ],
      "execution_count": 19,
      "outputs": [
        {
          "output_type": "stream",
          "text": [
            "Train on 1602 samples, validate on 178 samples\n",
            "Epoch 1/2\n",
            "1602/1602 [==============================] - 0s 309us/sample - loss: 0.0117 - acc: 1.0000 - val_loss: 0.1161 - val_acc: 0.9494\n",
            "Epoch 2/2\n",
            "1602/1602 [==============================] - 1s 316us/sample - loss: 0.0063 - acc: 1.0000 - val_loss: 0.1124 - val_acc: 0.9494\n"
          ],
          "name": "stdout"
        }
      ]
    },
    {
      "cell_type": "code",
      "metadata": {
        "id": "ICcBy7VHcGqV",
        "colab_type": "code",
        "outputId": "0d43de16-1d99-4735-f661-e79aa8cb986b",
        "colab": {
          "base_uri": "https://localhost:8080/",
          "height": 68
        }
      },
      "source": [
        "# Evaluate the accuracy of the trained model\n",
        "score = model.evaluate(x_test, y_test,\n",
        "                       batch_size=batch_size, verbose=1)\n",
        "print('Test loss:', score[0])\n",
        "print('Test accuracy:', score[1])"
      ],
      "execution_count": 20,
      "outputs": [
        {
          "output_type": "stream",
          "text": [
            "445/445 [==============================] - 0s 89us/sample - loss: 0.1295 - acc: 0.9618\n",
            "Test loss: 0.12951066879074224\n",
            "Test accuracy: 0.9617978\n"
          ],
          "name": "stdout"
        }
      ]
    },
    {
      "cell_type": "code",
      "metadata": {
        "id": "QsqLCPKRcLMV",
        "colab_type": "code",
        "colab": {}
      },
      "source": [
        "# Define a function to expirement with the model's adjusted parameters\n",
        "def run_experiment(batch_size, epochs, drop_ratio):\n",
        "  print('batch size: {}, epochs: {}, drop_ratio: {}'.format(\n",
        "      batch_size, epochs, drop_ratio))\n",
        "  model = models.Sequential()\n",
        "  model.add(layers.Dense(512, input_shape=(max_words,)))\n",
        "  model.add(layers.Activation('relu'))\n",
        "  model.add(layers.Dropout(drop_ratio))\n",
        "  model.add(layers.Dense(num_classes))\n",
        "  model.add(layers.Activation('softmax'))\n",
        "\n",
        "  model.compile(loss='categorical_crossentropy',\n",
        "                optimizer='adam',\n",
        "                metrics=['accuracy'])\n",
        "  history = model.fit(x_train, y_train,\n",
        "                    batch_size=batch_size,\n",
        "                    epochs=epochs,\n",
        "                    verbose=0,\n",
        "                    validation_split=0.1)\n",
        "  score = model.evaluate(x_test, y_test,\n",
        "                       batch_size=batch_size, verbose=0)\n",
        "  print('\\tTest loss:', score[0])\n",
        "  print('\\tTest accuracy:', score[1])"
      ],
      "execution_count": 0,
      "outputs": []
    },
    {
      "cell_type": "code",
      "metadata": {
        "id": "YWiJJMXscOdc",
        "colab_type": "code",
        "outputId": "9f216bdc-ec2d-44d0-fa2e-692d86442ae5",
        "colab": {
          "base_uri": "https://localhost:8080/",
          "height": 68
        }
      },
      "source": [
        "# Run a single experiment\n",
        "batch_size = 20\n",
        "epochs = 5\n",
        "drop_ratio = 0.35\n",
        "run_experiment(batch_size, epochs, drop_ratio)"
      ],
      "execution_count": 23,
      "outputs": [
        {
          "output_type": "stream",
          "text": [
            "batch size: 20, epochs: 5, drop_ratio: 0.35\n",
            "\tTest loss: 0.12537436044952843\n",
            "\tTest accuracy: 0.95955056\n"
          ],
          "name": "stdout"
        }
      ]
    },
    {
      "cell_type": "code",
      "metadata": {
        "id": "egrOZ-Y4cVpM",
        "colab_type": "code",
        "outputId": "b17e5e31-ffd7-4995-e48c-60c80de2ab5d",
        "colab": {
          "base_uri": "https://localhost:8080/",
          "height": 1394
        }
      },
      "source": [
        "# Run a series of experiments, adjusting model parameters on each iteration\n",
        "for batch_size in range(10,31,10):\n",
        "  for epochs in range(3,15,5):\n",
        "    for drop_ratio in np.linspace(0.1, 0.5, 3):\n",
        "      run_experiment(batch_size, epochs, drop_ratio)"
      ],
      "execution_count": 24,
      "outputs": [
        {
          "output_type": "stream",
          "text": [
            "batch size: 10, epochs: 3, drop_ratio: 0.1\n",
            "\tTest loss: 0.12437001090454922\n",
            "\tTest accuracy: 0.95730335\n",
            "batch size: 10, epochs: 3, drop_ratio: 0.30000000000000004\n",
            "\tTest loss: 0.1624865521980303\n",
            "\tTest accuracy: 0.952809\n",
            "batch size: 10, epochs: 3, drop_ratio: 0.5\n",
            "\tTest loss: 0.14943099831325118\n",
            "\tTest accuracy: 0.952809\n",
            "batch size: 10, epochs: 8, drop_ratio: 0.1\n",
            "\tTest loss: 0.12418579448830713\n",
            "\tTest accuracy: 0.96629214\n",
            "batch size: 10, epochs: 8, drop_ratio: 0.30000000000000004\n",
            "\tTest loss: 0.13959724731152104\n",
            "\tTest accuracy: 0.9617978\n",
            "batch size: 10, epochs: 8, drop_ratio: 0.5\n",
            "\tTest loss: 0.13812059320619308\n",
            "\tTest accuracy: 0.95730335\n",
            "batch size: 10, epochs: 13, drop_ratio: 0.1\n",
            "\tTest loss: 0.1318263961814849\n",
            "\tTest accuracy: 0.9617978\n",
            "batch size: 10, epochs: 13, drop_ratio: 0.30000000000000004\n",
            "\tTest loss: 0.1439427961296143\n",
            "\tTest accuracy: 0.95955056\n",
            "batch size: 10, epochs: 13, drop_ratio: 0.5\n",
            "\tTest loss: 0.1390916228904572\n",
            "\tTest accuracy: 0.95730335\n",
            "batch size: 20, epochs: 3, drop_ratio: 0.1\n",
            "\tTest loss: 0.11665876201364432\n",
            "\tTest accuracy: 0.9707865\n",
            "batch size: 20, epochs: 3, drop_ratio: 0.30000000000000004\n",
            "\tTest loss: 0.12249095352847925\n",
            "\tTest accuracy: 0.9685393\n",
            "batch size: 20, epochs: 3, drop_ratio: 0.5\n",
            "\tTest loss: 0.12743527961246084\n",
            "\tTest accuracy: 0.952809\n",
            "batch size: 20, epochs: 8, drop_ratio: 0.1\n",
            "\tTest loss: 0.12575975556470706\n",
            "\tTest accuracy: 0.9617978\n",
            "batch size: 20, epochs: 8, drop_ratio: 0.30000000000000004\n",
            "\tTest loss: 0.12638546266917433\n",
            "\tTest accuracy: 0.96629214\n",
            "batch size: 20, epochs: 8, drop_ratio: 0.5\n",
            "\tTest loss: 0.12880053793948687\n",
            "\tTest accuracy: 0.9550562\n",
            "batch size: 20, epochs: 13, drop_ratio: 0.1\n",
            "\tTest loss: 0.12850268504299808\n",
            "\tTest accuracy: 0.9617978\n",
            "batch size: 20, epochs: 13, drop_ratio: 0.30000000000000004\n",
            "\tTest loss: 0.13191576239265754\n",
            "\tTest accuracy: 0.95955056\n",
            "batch size: 20, epochs: 13, drop_ratio: 0.5\n",
            "\tTest loss: 0.13241178094503586\n",
            "\tTest accuracy: 0.9550562\n",
            "batch size: 30, epochs: 3, drop_ratio: 0.1\n",
            "\tTest loss: 0.126285738908173\n",
            "\tTest accuracy: 0.9640449\n",
            "batch size: 30, epochs: 3, drop_ratio: 0.30000000000000004\n",
            "\tTest loss: 0.12103707008482364\n",
            "\tTest accuracy: 0.9640449\n",
            "batch size: 30, epochs: 3, drop_ratio: 0.5\n",
            "\tTest loss: 0.12523908674549522\n",
            "\tTest accuracy: 0.9617978\n",
            "batch size: 30, epochs: 8, drop_ratio: 0.1\n",
            "\tTest loss: 0.11935059244880515\n",
            "\tTest accuracy: 0.9617978\n",
            "batch size: 30, epochs: 8, drop_ratio: 0.30000000000000004\n",
            "\tTest loss: 0.12827793466910886\n",
            "\tTest accuracy: 0.9617978\n",
            "batch size: 30, epochs: 8, drop_ratio: 0.5\n",
            "\tTest loss: 0.13249702981851075\n",
            "\tTest accuracy: 0.9685393\n",
            "batch size: 30, epochs: 13, drop_ratio: 0.1\n",
            "\tTest loss: 0.12849798815303973\n",
            "\tTest accuracy: 0.95730335\n",
            "batch size: 30, epochs: 13, drop_ratio: 0.30000000000000004\n",
            "\tTest loss: 0.13074706745951364\n",
            "\tTest accuracy: 0.9640449\n",
            "batch size: 30, epochs: 13, drop_ratio: 0.5\n",
            "\tTest loss: 0.12981499538997585\n",
            "\tTest accuracy: 0.96629214\n"
          ],
          "name": "stdout"
        }
      ]
    },
    {
      "cell_type": "code",
      "metadata": {
        "id": "T3rD6fzHdyiQ",
        "colab_type": "code",
        "outputId": "60e77c5c-0958-4847-9eaa-a186f40b4a3e",
        "colab": {
          "base_uri": "https://localhost:8080/",
          "height": 493
        }
      },
      "source": [
        "# Generate a prediction on individual examples\n",
        "text_labels = encoder.classes_ \n",
        "\n",
        "for i in range(7):\n",
        "    prediction = model.predict(np.array([x_test[i]]))\n",
        "    predicted_label = text_labels[np.argmax(prediction)]\n",
        "    print(test_text.iloc[i][:50], \"...\")\n",
        "    print('Actual label:' + test_cat.iloc[i])\n",
        "    print(\"Predicted label: \" + predicted_label + \"\\n\")  \n"
      ],
      "execution_count": 26,
      "outputs": [
        {
          "output_type": "stream",
          "text": [
            "hobbit picture  four years away  lord of the rings ...\n",
            "Actual label:entertainment\n",
            "Predicted label: entertainment\n",
            "\n",
            "game firm holds  cast  auditions video game firm b ...\n",
            "Actual label:tech\n",
            "Predicted label: tech\n",
            "\n",
            "clarke plans migrant point scheme anyone planning  ...\n",
            "Actual label:politics\n",
            "Predicted label: politics\n",
            "\n",
            "radcliffe will compete in london paula radcliffe w ...\n",
            "Actual label:sport\n",
            "Predicted label: sport\n",
            "\n",
            "serena becomes world number two serena williams ha ...\n",
            "Actual label:sport\n",
            "Predicted label: sport\n",
            "\n",
            "ultimate game  award for doom 3 sci-fi shooter doo ...\n",
            "Actual label:tech\n",
            "Predicted label: tech\n",
            "\n",
            "algeria hit by further gas riots algeria suffered  ...\n",
            "Actual label:business\n",
            "Predicted label: business\n",
            "\n"
          ],
          "name": "stdout"
        }
      ]
    },
    {
      "cell_type": "code",
      "metadata": {
        "id": "eWRqTGHVd5DJ",
        "colab_type": "code",
        "colab": {}
      },
      "source": [
        "# Visualize the confusion matrix\n",
        "y_softmax = model.predict(x_test)\n",
        "\n",
        "y_test_1d = []\n",
        "y_pred_1d = []\n",
        "\n",
        "for i in range(len(y_test)):\n",
        "    probs = y_test[i]\n",
        "    index_arr = np.nonzero(probs)\n",
        "    one_hot_index = index_arr[0].item(0)\n",
        "    y_test_1d.append(one_hot_index)\n",
        "\n",
        "for i in range(0, len(y_softmax)):\n",
        "    probs = y_softmax[i]\n",
        "    predicted_index = np.argmax(probs)\n",
        "    y_pred_1d.append(predicted_index)"
      ],
      "execution_count": 0,
      "outputs": []
    },
    {
      "cell_type": "code",
      "metadata": {
        "id": "P2-Z5_Gqd8N5",
        "colab_type": "code",
        "colab": {}
      },
      "source": [
        "# This utility function is from the sklearn docs\n",
        "def plot_confusion_matrix(cm, classes,\n",
        "                          title='Confusion matrix',\n",
        "                          cmap=plt.cm.Blues):\n",
        "    \"\"\"\n",
        "    This function prints and plots the confusion matrix.\n",
        "    Normalization can be applied by setting `normalize=True`.\n",
        "    \"\"\"\n",
        "\n",
        "    cm = cm.astype('float') / cm.sum(axis=1)[:, np.newaxis]\n",
        "\n",
        "    plt.imshow(cm, interpolation='nearest', cmap=cmap)\n",
        "    plt.title(title, fontsize=30)\n",
        "    plt.colorbar()\n",
        "    tick_marks = np.arange(len(classes))\n",
        "    plt.xticks(tick_marks, classes, rotation=45, fontsize=22)\n",
        "    plt.yticks(tick_marks, classes, fontsize=22)\n",
        "\n",
        "    fmt = '.2f'\n",
        "    thresh = cm.max() / 2.\n",
        "    for i, j in itertools.product(range(cm.shape[0]), range(cm.shape[1])):\n",
        "        plt.text(j, i, format(cm[i, j], fmt),\n",
        "                 horizontalalignment=\"center\",\n",
        "                 color=\"white\" if cm[i, j] > thresh else \"black\")\n",
        "\n",
        "    plt.ylabel('True label', fontsize=25)\n",
        "    plt.xlabel('Predicted label', fontsize=25)"
      ],
      "execution_count": 0,
      "outputs": []
    },
    {
      "cell_type": "code",
      "metadata": {
        "id": "sPB4rHzOd-tp",
        "colab_type": "code",
        "outputId": "42355676-d0a9-434f-b6ec-768c652264d3",
        "colab": {
          "base_uri": "https://localhost:8080/",
          "height": 1313
        }
      },
      "source": [
        "cnf_matrix = confusion_matrix(y_test_1d, y_pred_1d)\n",
        "plt.figure(figsize=(24,20))\n",
        "plot_confusion_matrix(cnf_matrix, classes=text_labels, title=\"Confusion matrix\")\n",
        "plt.show()"
      ],
      "execution_count": 40,
      "outputs": [
        {
          "output_type": "display_data",
          "data": {
            "image/png": "[encoded data removed]",
            "text/plain": [
              "<Figure size 1728x1440 with 2 Axes>"
            ]
          },
          "metadata": {
            "tags": []
          }
        }
      ]
    }
  ]
}
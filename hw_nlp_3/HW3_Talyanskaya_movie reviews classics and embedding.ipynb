{
 "cells": [
  {
   "cell_type": "markdown",
   "metadata": {},
   "source": [
    "# NLP Homework 3. Classical approach and embedding\n",
    "\n",
    " ** Author: Talyanskaya Marina **"
   ]
  },
  {
   "cell_type": "markdown",
   "metadata": {},
   "source": [
    "## Introduction and comments\n",
    "The initial plan was (and still mostly is):\n",
    "1. To look at the datasets\n",
    "2. To clean data (finally managed to do only separately)\n",
    "3. To apply tfidf as 'classical approch'\n",
    "4. To apply Word2vec as an example of embedding\n",
    "5. To apply Random forest and Logistic regression classifiers to both approaches\n",
    "6. Some tuning\n",
    "7. Final comments"
   ]
  },
  {
   "cell_type": "markdown",
   "metadata": {},
   "source": [
    "Note: after looking on dataset I decided to work only with train.tsv as test.tsv provides no signs of classes and I would fail to estimate the work of my classifiers. The sampleSabmission file contained only 2nd class signs that seems to be weird, so, I did as seemed to be logical.\n",
    "\n",
    "The choice of Random forest and Logregression as classifiers is based on the fact that they both can work with tfidf and word2vec and take relatively little time and computational resources to use.\n",
    "\n",
    "F1-score metric was chosen due to its ability to take into account not only the number of correct predictions but also a number of missed elements of each class (i.e. includes both precision and recall). As usually, though...\n"
   ]
  },
  {
   "cell_type": "code",
   "execution_count": 16,
   "metadata": {},
   "outputs": [],
   "source": [
    "import numpy as np \n",
    "import pandas as pd \n",
    "import nltk\n",
    "from nltk.tokenize import word_tokenize\n",
    "from nltk.stem import WordNetLemmatizer\n",
    "from nltk.corpus import stopwords\n",
    "from bs4 import BeautifulSoup\n",
    "import re\n",
    "import random\n",
    "from sklearn.model_selection import train_test_split\n",
    "from tqdm import tqdm\n",
    "import matplotlib.pyplot as plt\n",
    "from sklearn import metrics"
   ]
  },
  {
   "cell_type": "code",
   "execution_count": 4,
   "metadata": {},
   "outputs": [],
   "source": [
    "import zipfile\n",
    "\n",
    "local_zip = '//jet/prs/workspace/movie-review-sentiment-analysis-kernels-only.zip'\n",
    "zip_ref = zipfile.ZipFile(local_zip, 'r')\n",
    "zip_ref.extractall('/home/talyanskaya_marina/train_movie_review')\n",
    "zip_ref.close()"
   ]
  },
  {
   "cell_type": "code",
   "execution_count": 5,
   "metadata": {},
   "outputs": [],
   "source": [
    "train = pd.read_csv('/home/talyanskaya_marina/train_movie_review/train.tsv', sep=\"\\t\")\n",
    "test = pd.read_csv('/home/talyanskaya_marina/train_movie_review/test.tsv', sep=\"\\t\")\n",
    "sub = pd.read_csv('/home/talyanskaya_marina/train_movie_review/sampleSubmission.csv', sep=\",\")"
   ]
  },
  {
   "cell_type": "code",
   "execution_count": 41,
   "metadata": {},
   "outputs": [
    {
     "data": {
      "image/png": "[encoded data removed]",
      "text/plain": [
       "<Figure size 576x432 with 1 Axes>"
      ]
     },
     "metadata": {},
     "output_type": "display_data"
    }
   ],
   "source": [
    "import matplotlib.pyplot as plt\n",
    "fig = plt.figure(figsize=(8,6))\n",
    "train.groupby('Sentiment').Phrase.count().plot.bar(ylim=0)\n",
    "plt.show()"
   ]
  },
  {
   "cell_type": "markdown",
   "metadata": {},
   "source": [
    "All in all, the classes are imbalanced that may cause some problems..."
   ]
  },
  {
   "cell_type": "markdown",
   "metadata": {},
   "source": [
    "## Classical approach: tfidf + LogRegression and Random forest"
   ]
  },
  {
   "cell_type": "markdown",
   "metadata": {},
   "source": [
    "Verctorizing text using classical tfidf approach."
   ]
  },
  {
   "cell_type": "code",
   "execution_count": 7,
   "metadata": {},
   "outputs": [],
   "source": [
    "from sklearn.feature_extraction.text import TfidfVectorizer"
   ]
  },
  {
   "cell_type": "code",
   "execution_count": 8,
   "metadata": {},
   "outputs": [],
   "source": [
    "text_train = train['Phrase']"
   ]
  },
  {
   "cell_type": "code",
   "execution_count": 9,
   "metadata": {},
   "outputs": [],
   "source": [
    "tfidf=TfidfVectorizer(ngram_range=(1,3),max_df=0.95,min_df=10,sublinear_tf=True, stop_words='english')\n",
    "trainv =tfidf.fit_transform(text_train)"
   ]
  },
  {
   "cell_type": "code",
   "execution_count": 88,
   "metadata": {},
   "outputs": [
    {
     "data": {
      "text/plain": [
       "(156060, 30560)"
      ]
     },
     "execution_count": 88,
     "metadata": {},
     "output_type": "execute_result"
    }
   ],
   "source": [
    "trainv.shape"
   ]
  },
  {
   "cell_type": "code",
   "execution_count": 10,
   "metadata": {},
   "outputs": [],
   "source": [
    "y = train['Sentiment']"
   ]
  },
  {
   "cell_type": "code",
   "execution_count": 11,
   "metadata": {},
   "outputs": [],
   "source": [
    "#Splitting data\n",
    "X_train, X_test, y_train, y_test = train_test_split(trainv, train.Sentiment, test_size=0.3, random_state = 1000)"
   ]
  },
  {
   "cell_type": "code",
   "execution_count": 12,
   "metadata": {},
   "outputs": [
    {
     "name": "stderr",
     "output_type": "stream",
     "text": [
      "/jet/var/python/lib/python3.6/site-packages/sklearn/ensemble/forest.py:245: FutureWarning: The default value of n_estimators will change from 10 in version 0.20 to 100 in 0.22.\n",
      "  \"10 in version 0.20 to 100 in 0.22.\", FutureWarning)\n"
     ]
    }
   ],
   "source": [
    "#Trying Random Forest classifier\n",
    "from sklearn.ensemble import RandomForestClassifier\n",
    "clf_RF_tfidf = RandomForestClassifier()\n",
    "clf_RF_tfidf.fit(X_train, y_train)\n",
    "y_rf = clf_RF_tfidf.predict(X_test)"
   ]
  },
  {
   "cell_type": "code",
   "execution_count": 92,
   "metadata": {},
   "outputs": [
    {
     "name": "stdout",
     "output_type": "stream",
     "text": [
      "              precision    recall  f1-score   support\n",
      "\n",
      "           0       0.44      0.37      0.40      2128\n",
      "           1       0.52      0.46      0.49      8215\n",
      "           2       0.71      0.79      0.75     23852\n",
      "           3       0.54      0.48      0.51      9853\n",
      "           4       0.47      0.40      0.43      2770\n",
      "\n",
      "    accuracy                           0.63     46818\n",
      "   macro avg       0.53      0.50      0.52     46818\n",
      "weighted avg       0.61      0.63      0.62     46818\n",
      "\n"
     ]
    }
   ],
   "source": [
    "print(metrics.classification_report(y_test, y_rf))"
   ]
  },
  {
   "cell_type": "code",
   "execution_count": 13,
   "metadata": {},
   "outputs": [
    {
     "name": "stderr",
     "output_type": "stream",
     "text": [
      "/jet/var/python/lib/python3.6/site-packages/sklearn/linear_model/logistic.py:432: FutureWarning: Default solver will be changed to 'lbfgs' in 0.22. Specify a solver to silence this warning.\n",
      "  FutureWarning)\n",
      "/jet/var/python/lib/python3.6/site-packages/sklearn/linear_model/logistic.py:469: FutureWarning: Default multi_class will be changed to 'auto' in 0.22. Specify the multi_class option to silence this warning.\n",
      "  \"this warning.\", FutureWarning)\n"
     ]
    }
   ],
   "source": [
    "#Trying Logistic regression classifier\n",
    "from sklearn.linear_model import LogisticRegression\n",
    "clf_LR_tfidf = LogisticRegression()\n",
    "clf_LR_tfidf.fit(X_train, y_train)\n",
    "y_lr = clf_LR_tfidf.predict(X_test)"
   ]
  },
  {
   "cell_type": "code",
   "execution_count": 17,
   "metadata": {},
   "outputs": [
    {
     "name": "stdout",
     "output_type": "stream",
     "text": [
      "              precision    recall  f1-score   support\n",
      "\n",
      "           0       0.60      0.16      0.25      2128\n",
      "           1       0.53      0.29      0.38      8215\n",
      "           2       0.64      0.90      0.75     23852\n",
      "           3       0.56      0.42      0.48      9853\n",
      "           4       0.57      0.20      0.30      2770\n",
      "\n",
      "    accuracy                           0.62     46818\n",
      "   macro avg       0.58      0.39      0.43     46818\n",
      "weighted avg       0.60      0.62      0.58     46818\n",
      "\n"
     ]
    }
   ],
   "source": [
    "print(metrics.classification_report(y_test, y_lr))"
   ]
  },
  {
   "cell_type": "markdown",
   "metadata": {},
   "source": [
    "#### Let's try to tune it: Grid search + cross validation"
   ]
  },
  {
   "cell_type": "code",
   "execution_count": 115,
   "metadata": {},
   "outputs": [],
   "source": [
    "from sklearn.model_selection import GridSearchCV"
   ]
  },
  {
   "cell_type": "code",
   "execution_count": null,
   "metadata": {},
   "outputs": [],
   "source": [
    "#creation of the parameter grid for Logistic regression\n",
    "param_grid_LR = {'penalty': ['l1', 'l2'],'C': [0.001, 0.01, 1, 100]}\n",
    "\n",
    "# looking for best model\n",
    "tunning_LR = GridSearchCV(clf_LR_tfidf, param_grid_LR, scoring = 'f1_weighted', cv = 5)\n",
    "tunning_LR.fit(X_train, y_train)\n",
    "\n",
    "# checking what is the best model\n",
    "tunning_LR.best_estimator_\n",
    "print(\"Parameters:\" ,tunning_LR.best_params_)\n",
    "print(\"Score:\",tunning_LR.best_score_)"
   ]
  },
  {
   "cell_type": "code",
   "execution_count": null,
   "metadata": {},
   "outputs": [],
   "source": [
    "#creation of the parameter grid for Random Forest\n",
    "param_grid_RF = {'n_estimators:': 10, 100, 500,'max_depth': 10, 100}\n",
    "\n",
    "# looking for best model\n",
    "tunning_RF = GridSearchCV(clf_RF_tfidf, param_grid_RF, scoring = 'f1_weighted', cv = 5)\n",
    "tunning_RF.fit(X_train, y_train)\n",
    "\n",
    "# checking what is the best model\n",
    "tunning_RF.best_estimator_\n",
    "print(\"Parameters:\" ,tunning_RF.best_params_)\n",
    "print(\"Score:\",tunning_RF.best_score_)"
   ]
  },
  {
   "cell_type": "markdown",
   "metadata": {},
   "source": [
    "Well, as far as we can see, tuning with Grid Search and cross validation didn't really help our models (and took lots of time...), the best results are still around 0.62-0.63 with F1-score metric (shown by Random forest classifier on tfidf-ed data), that is really poor. An intersting note: it performs relatively ok on 2nd class, it seems to be due to it huge size compared to the others."
   ]
  },
  {
   "cell_type": "markdown",
   "metadata": {},
   "source": [
    "## Let's try word2vec..."
   ]
  },
  {
   "cell_type": "code",
   "execution_count": 42,
   "metadata": {},
   "outputs": [
    {
     "name": "stderr",
     "output_type": "stream",
     "text": [
      "[nltk_data] Downloading package punkt to /jet/nltk_data...\n",
      "[nltk_data]   Package punkt is already up-to-date!\n",
      "[nltk_data] Downloading package stopwords to /jet/nltk_data...\n",
      "[nltk_data]   Package stopwords is already up-to-date!\n",
      "[nltk_data] Downloading package wordnet to /jet/nltk_data...\n",
      "[nltk_data]   Package wordnet is already up-to-date!\n"
     ]
    }
   ],
   "source": [
    "import nltk\n",
    "nltk.download('punkt')\n",
    "nltk.download('stopwords')\n",
    "nltk.download('wordnet')\n",
    "lemmatizer = WordNetLemmatizer()"
   ]
  },
  {
   "cell_type": "markdown",
   "metadata": {},
   "source": [
    "Some data preparation (cleaning)"
   ]
  },
  {
   "cell_type": "code",
   "execution_count": 53,
   "metadata": {},
   "outputs": [],
   "source": [
    "def clean_sentences(train):\n",
    "    reviews = []\n",
    "\n",
    "    for sent in tqdm(df['Phrase']):\n",
    "        \n",
    "        #remove html content\n",
    "        review_text = BeautifulSoup(sent).get_text()\n",
    "        #remove non-alphabetic characters\n",
    "        review_text = re.sub(\"[^a-zA-Z]\",\" \", review_text)\n",
    "        #tokenize the sentences\n",
    "        words = word_tokenize(review_text.lower())\n",
    "        #stop words removal\n",
    "        omit_words = set(stopwords.words('english'))\n",
    "        words = [x for x in words if x not in omit_words]\n",
    "        #lemmatize each word to its lemma\n",
    "        lemma_words = [lemmatizer.lemmatize(i) for i in words]\n",
    "    \n",
    "        reviews.append(lemma_words)\n",
    "\n",
    "    return(reviews)"
   ]
  },
  {
   "cell_type": "code",
   "execution_count": 44,
   "metadata": {},
   "outputs": [
    {
     "name": "stderr",
     "output_type": "stream",
     "text": [
      "  0%|          | 0/156060 [00:00<?, ?it/s]/jet/var/python/lib/python3.6/site-packages/bs4/__init__.py:272: UserWarning: \"b'.'\" looks like a filename, not markup. You should probably open this file and pass the filehandle into Beautiful Soup.\n",
      "  ' Beautiful Soup.' % markup)\n",
      "100%|██████████| 156060/156060 [04:47<00:00, 543.49it/s]\n"
     ]
    }
   ],
   "source": [
    "#cleaned reviews for train dataset\n",
    "train_sentences = clean_sentences(train)"
   ]
  },
  {
   "cell_type": "code",
   "execution_count": 45,
   "metadata": {},
   "outputs": [
    {
     "name": "stdout",
     "output_type": "stream",
     "text": [
      "156060\n"
     ]
    }
   ],
   "source": [
    "print(len(train_sentences))"
   ]
  },
  {
   "cell_type": "code",
   "execution_count": 95,
   "metadata": {},
   "outputs": [],
   "source": [
    "target=train.Sentiment.values"
   ]
  },
  {
   "cell_type": "code",
   "execution_count": 96,
   "metadata": {},
   "outputs": [],
   "source": [
    "num_features = 180"
   ]
  },
  {
   "cell_type": "code",
   "execution_count": 97,
   "metadata": {},
   "outputs": [],
   "source": [
    "#Word2vec applying\n",
    "model_w2v = word2vec.Word2Vec(train_sentences, workers=180, size=num_features, min_count = 35, window = 15, sample = 1e-3)"
   ]
  },
  {
   "cell_type": "code",
   "execution_count": null,
   "metadata": {},
   "outputs": [],
   "source": [
    "model_w2v.init_sims(replace=True)"
   ]
  },
  {
   "cell_type": "code",
   "execution_count": 100,
   "metadata": {},
   "outputs": [],
   "source": [
    "def createFeatureVector(words, model, num_features):\n",
    "    featureVector = np.zeros((num_features,),dtype=\"float32\")\n",
    "    nWords = 0\n",
    "    index2word_set = set(model_w2v.wv.index2word)\n",
    "    \n",
    "    for word in words:\n",
    "        if word in index2word_set: \n",
    "            nWords = nWords + 1.\n",
    "            featureVector = np.add(featureVector,model[word])\n",
    "    if(nWords != 0):\n",
    "        featureVector = np.divide(featureVector,nWords)\n",
    "    return featureVector"
   ]
  },
  {
   "cell_type": "code",
   "execution_count": null,
   "metadata": {},
   "outputs": [],
   "source": [
    "def averageFeatureVectors(sentences, model, num_features):\n",
    "    overallFeatureVectors = []\n",
    "    for sentence in tqdm(sentences):\n",
    "        overallFeatureVectors.append(createFeatureVector(sentence, model, num_features)) \n",
    "    return overallFeatureVectors"
   ]
  },
  {
   "cell_type": "code",
   "execution_count": 103,
   "metadata": {},
   "outputs": [
    {
     "name": "stderr",
     "output_type": "stream",
     "text": [
      "  0%|          | 0/156060 [00:00<?, ?it/s]/jet/var/python/lib/python3.6/site-packages/ipykernel_launcher.py:9: DeprecationWarning: Call to deprecated `__getitem__` (Method will be removed in 4.0.0, use self.wv.__getitem__() instead).\n",
      "  if __name__ == '__main__':\n",
      "100%|██████████| 156060/156060 [00:36<00:00, 4263.10it/s]\n"
     ]
    }
   ],
   "source": [
    "train_vect = averagegFeatureVectors(train_sentences, model_w2v, num_features)"
   ]
  },
  {
   "cell_type": "markdown",
   "metadata": {},
   "source": [
    "Now we are ready to make some predictions."
   ]
  },
  {
   "cell_type": "code",
   "execution_count": 110,
   "metadata": {},
   "outputs": [],
   "source": [
    "#Splitting into train and test sets.\n",
    "X_train2,X_test2,y_train2,y_test2=train_test_split(train_vect, target, test_size=0.3, stratify=target)"
   ]
  },
  {
   "cell_type": "code",
   "execution_count": 111,
   "metadata": {},
   "outputs": [
    {
     "name": "stderr",
     "output_type": "stream",
     "text": [
      "[Parallel(n_jobs=-1)]: Using backend ThreadingBackend with 8 concurrent workers.\n",
      "[Parallel(n_jobs=-1)]: Done  34 tasks      | elapsed:   11.9s\n",
      "[Parallel(n_jobs=-1)]: Done 184 tasks      | elapsed:   59.9s\n",
      "[Parallel(n_jobs=-1)]: Done 434 tasks      | elapsed:  2.4min\n",
      "[Parallel(n_jobs=-1)]: Done 500 out of 500 | elapsed:  2.7min finished\n"
     ]
    },
    {
     "data": {
      "text/plain": [
       "RandomForestClassifier(bootstrap=True, class_weight=None, criterion='gini',\n",
       "                       max_depth=None, max_features='auto', max_leaf_nodes=None,\n",
       "                       min_impurity_decrease=0.0, min_impurity_split=None,\n",
       "                       min_samples_leaf=1, min_samples_split=2,\n",
       "                       min_weight_fraction_leaf=0.0, n_estimators=500,\n",
       "                       n_jobs=-1, oob_score=True, random_state=100, verbose=1,\n",
       "                       warm_start=False)"
      ]
     },
     "execution_count": 111,
     "metadata": {},
     "output_type": "execute_result"
    }
   ],
   "source": [
    "model_rf_w2v = RandomForestClassifier(random_state=100, n_estimators=500, verbose=1, n_jobs=-1, oob_score=True)\n",
    "model_rf_w2v.fit(X_train2, y_train2)"
   ]
  },
  {
   "cell_type": "code",
   "execution_count": 112,
   "metadata": {},
   "outputs": [
    {
     "name": "stderr",
     "output_type": "stream",
     "text": [
      "[Parallel(n_jobs=8)]: Using backend ThreadingBackend with 8 concurrent workers.\n",
      "[Parallel(n_jobs=8)]: Done  34 tasks      | elapsed:    0.1s\n",
      "[Parallel(n_jobs=8)]: Done 184 tasks      | elapsed:    0.6s\n",
      "[Parallel(n_jobs=8)]: Done 434 tasks      | elapsed:    1.4s\n"
     ]
    },
    {
     "name": "stdout",
     "output_type": "stream",
     "text": [
      "              precision    recall  f1-score   support\n",
      "\n",
      "           0       0.45      0.29      0.35      2122\n",
      "           1       0.51      0.37      0.43      8182\n",
      "           2       0.66      0.83      0.74     23874\n",
      "           3       0.53      0.44      0.48      9878\n",
      "           4       0.50      0.31      0.38      2762\n",
      "\n",
      "    accuracy                           0.61     46818\n",
      "   macro avg       0.53      0.45      0.48     46818\n",
      "weighted avg       0.59      0.61      0.59     46818\n",
      "\n"
     ]
    },
    {
     "name": "stderr",
     "output_type": "stream",
     "text": [
      "[Parallel(n_jobs=8)]: Done 500 out of 500 | elapsed:    1.7s finished\n"
     ]
    }
   ],
   "source": [
    "from sklearn import metrics\n",
    "y_rf_w2v = model_rf_w2v.predict(X_test2)\n",
    "print(metrics.classification_report(y_test2, y_rf_w2v))"
   ]
  },
  {
   "cell_type": "code",
   "execution_count": 113,
   "metadata": {},
   "outputs": [
    {
     "name": "stderr",
     "output_type": "stream",
     "text": [
      "/jet/var/python/lib/python3.6/site-packages/sklearn/linear_model/logistic.py:432: FutureWarning: Default solver will be changed to 'lbfgs' in 0.22. Specify a solver to silence this warning.\n",
      "  FutureWarning)\n",
      "/jet/var/python/lib/python3.6/site-packages/sklearn/linear_model/logistic.py:469: FutureWarning: Default multi_class will be changed to 'auto' in 0.22. Specify the multi_class option to silence this warning.\n",
      "  \"this warning.\", FutureWarning)\n"
     ]
    }
   ],
   "source": [
    "model_lr_w2v = LogisticRegression()\n",
    "model_lr_w2v.fit(X_train2, y_train2)\n",
    "y_lr_w2v = model_lr_w2v.predict(X_test2)"
   ]
  },
  {
   "cell_type": "code",
   "execution_count": 114,
   "metadata": {},
   "outputs": [
    {
     "name": "stdout",
     "output_type": "stream",
     "text": [
      "              precision    recall  f1-score   support\n",
      "\n",
      "           0       0.44      0.01      0.02      2122\n",
      "           1       0.33      0.03      0.06      8182\n",
      "           2       0.53      0.94      0.68     23874\n",
      "           3       0.42      0.15      0.22      9878\n",
      "           4       0.27      0.01      0.02      2762\n",
      "\n",
      "    accuracy                           0.52     46818\n",
      "   macro avg       0.40      0.23      0.20     46818\n",
      "weighted avg       0.45      0.52      0.41     46818\n",
      "\n"
     ]
    }
   ],
   "source": [
    "print(metrics.classification_report(y_test2, y_lr_w2v))"
   ]
  },
  {
   "cell_type": "markdown",
   "metadata": {},
   "source": [
    "#### Tuning on Word2vec: Grid search + CV"
   ]
  },
  {
   "cell_type": "code",
   "execution_count": null,
   "metadata": {},
   "outputs": [],
   "source": [
    "#creation of the parameter grid for Logistic regression\n",
    "param_grid_LR2 = {'penalty': ['l1', 'l2'],'C': [0.001, 0.01, 1, 100]}\n",
    "\n",
    "# looking for best model\n",
    "tunning_LR2 = GridSearchCV(model_lr_w2v, param_grid_LR2, scoring = 'f1_weighted', cv = 5)\n",
    "tunning_LR2.fit(X_train2, y_train2)\n",
    "\n",
    "# checking what is the best model\n",
    "tunning_LR2.best_estimator_\n",
    "print(\"Parameters:\" ,tunning_LR2.best_params_)\n",
    "print(\"Score:\",tunning_LR2.best_score_)"
   ]
  },
  {
   "cell_type": "code",
   "execution_count": null,
   "metadata": {},
   "outputs": [],
   "source": [
    "#creation of the parameter grid for Random Forest\n",
    "param_grid_RF2 = {'n_estimators:': 10, 100, 500, 'max_depth': 10, 100}\n",
    "\n",
    "# looking for best model\n",
    "tunning_RF2 = GridSearchCV(model_rf_w2v, param_grid_RF, scoring = 'f1_weighted', cv = 5)\n",
    "tunning_RF2.fit(X_train2, y_train2)\n",
    "\n",
    "# checking what is the best model\n",
    "tunning_RF2.best_estimator_\n",
    "print(\"Parameters:\" ,tunning_RF2.best_params_)\n",
    "print(\"Score:\",tunning_RF2.best_score_)"
   ]
  },
  {
   "cell_type": "markdown",
   "metadata": {},
   "source": [
    "Once again, two hours of grid search didn't improve the situtation, the best results are still around 0.6 on F1-score measure (Random forest classifier with n_estimators=500). And again they are very poor and 2nd performed better than the others."
   ]
  },
  {
   "cell_type": "markdown",
   "metadata": {},
   "source": [
    "## Final comments\n",
    "\n",
    "I am not sure if I made it correctly (especially with Word2vec appoach), all in all, it perform pretty bad. The best result was shown by Random Forest Classifier on tf-idf ('classical') approach with 0.63 F1-score, however, the difference is really small (Random Forest on Word2vec was close to 0.6) to argue that the classical approach is really better.\n",
    "And it still seems I did something wrong, I can't believe it be just a little bit better than random..."
   ]
  }
 ],
 "metadata": {
  "kernelspec": {
   "display_name": "Python 3",
   "language": "python",
   "name": "python3"
  },
  "language_info": {
   "codemirror_mode": {
    "name": "ipython",
    "version": 3
   },
   "file_extension": ".py",
   "mimetype": "text/x-python",
   "name": "python",
   "nbconvert_exporter": "python",
   "pygments_lexer": "ipython3",
   "version": "3.6.3"
  }
 },
 "nbformat": 4,
 "nbformat_minor": 2
}

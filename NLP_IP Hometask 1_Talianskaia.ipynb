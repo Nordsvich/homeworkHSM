{
 "cells": [
  {
   "cell_type": "markdown",
   "metadata": {},
   "source": [
    "# Natural Language and Image Processing: Homework 1\n",
    "prepared by *Marina Talianskaia*\n",
    "\n",
    "You should build full ML pipeline and get best AUC.\n",
    "\n",
    "Important stages in pipeline:\n",
    "\n",
    "1. Feature selection\n",
    "2. Cross validation\n",
    "3. Hyper parameters tuning\n",
    "4. Compare minimum 2 models"
   ]
  },
  {
   "cell_type": "markdown",
   "metadata": {},
   "source": [
    "# Dowloadling libraries"
   ]
  },
  {
   "cell_type": "code",
   "execution_count": 80,
   "metadata": {},
   "outputs": [
    {
     "name": "stderr",
     "output_type": "stream",
     "text": [
      "C:\\ProgramData\\Anaconda3\\lib\\site-packages\\sklearn\\cross_validation.py:41: DeprecationWarning: This module was deprecated in version 0.18 in favor of the model_selection module into which all the refactored classes and functions are moved. Also note that the interface of the new CV iterators are different from that of this module. This module will be removed in 0.20.\n",
      "  \"This module will be removed in 0.20.\", DeprecationWarning)\n",
      "C:\\ProgramData\\Anaconda3\\lib\\site-packages\\sklearn\\grid_search.py:42: DeprecationWarning: This module was deprecated in version 0.18 in favor of the model_selection module into which all the refactored classes and functions are moved. This module will be removed in 0.20.\n",
      "  DeprecationWarning)\n"
     ]
    }
   ],
   "source": [
    "import matplotlib.pyplot as plt\n",
    "\n",
    "import numpy as np\n",
    "import pandas as pd\n",
    "\n",
    "import sklearn.metrics as metrics\n",
    "\n",
    "from scipy.stats import randint as sp_randint\n",
    "from time import time\n",
    "\n",
    "from sklearn.svm import LinearSVC\n",
    "from sklearn.ensemble import ExtraTreesClassifier\n",
    "from sklearn.feature_selection import SelectFromModel\n",
    "from sklearn.model_selection import GridSearchCV\n",
    "from sklearn.preprocessing import StandardScaler\n",
    "from sklearn import grid_search\n",
    "\n",
    "from sklearn.model_selection import cross_validate, train_test_split\n",
    "from sklearn.linear_model import LogisticRegression\n",
    "from sklearn.tree import DecisionTreeClassifier\n",
    "from sklearn.ensemble import RandomForestClassifier\n",
    "from sklearn.ensemble import GradientBoostingClassifier\n",
    "from sklearn.linear_model import SGDClassifier\n",
    "from sklearn.naive_bayes import GaussianNB\n",
    "from sklearn.neural_network import MLPClassifier"
   ]
  },
  {
   "cell_type": "markdown",
   "metadata": {},
   "source": [
    "# Data reading and description"
   ]
  },
  {
   "cell_type": "code",
   "execution_count": 2,
   "metadata": {},
   "outputs": [],
   "source": [
    "data = pd.read_csv('C:\\\\For Python\\dataset_simple.csv')"
   ]
  },
  {
   "cell_type": "code",
   "execution_count": 15,
   "metadata": {},
   "outputs": [
    {
     "data": {
      "text/plain": [
       "(9999, 1001)"
      ]
     },
     "execution_count": 15,
     "metadata": {},
     "output_type": "execute_result"
    }
   ],
   "source": [
    "data.shape"
   ]
  },
  {
   "cell_type": "code",
   "execution_count": 14,
   "metadata": {},
   "outputs": [
    {
     "data": {
      "text/html": [
       "<div>\n",
       "<style scoped>\n",
       "    .dataframe tbody tr th:only-of-type {\n",
       "        vertical-align: middle;\n",
       "    }\n",
       "\n",
       "    .dataframe tbody tr th {\n",
       "        vertical-align: top;\n",
       "    }\n",
       "\n",
       "    .dataframe thead th {\n",
       "        text-align: right;\n",
       "    }\n",
       "</style>\n",
       "<table border=\"1\" class=\"dataframe\">\n",
       "  <thead>\n",
       "    <tr style=\"text-align: right;\">\n",
       "      <th></th>\n",
       "      <th>feature_0</th>\n",
       "      <th>feature_1</th>\n",
       "      <th>feature_2</th>\n",
       "      <th>feature_3</th>\n",
       "      <th>feature_4</th>\n",
       "      <th>feature_5</th>\n",
       "      <th>feature_6</th>\n",
       "      <th>feature_7</th>\n",
       "      <th>feature_8</th>\n",
       "      <th>feature_9</th>\n",
       "      <th>...</th>\n",
       "      <th>feature_991</th>\n",
       "      <th>feature_992</th>\n",
       "      <th>feature_993</th>\n",
       "      <th>feature_994</th>\n",
       "      <th>feature_995</th>\n",
       "      <th>feature_996</th>\n",
       "      <th>feature_997</th>\n",
       "      <th>feature_998</th>\n",
       "      <th>feature_999</th>\n",
       "      <th>label</th>\n",
       "    </tr>\n",
       "  </thead>\n",
       "  <tbody>\n",
       "    <tr>\n",
       "      <th>0</th>\n",
       "      <td>-0.272674</td>\n",
       "      <td>0.801643</td>\n",
       "      <td>-0.650531</td>\n",
       "      <td>0.952486</td>\n",
       "      <td>-0.153037</td>\n",
       "      <td>0.427145</td>\n",
       "      <td>-1.085534</td>\n",
       "      <td>1.318513</td>\n",
       "      <td>0.002588</td>\n",
       "      <td>-1.849832</td>\n",
       "      <td>...</td>\n",
       "      <td>-0.572848</td>\n",
       "      <td>-0.448690</td>\n",
       "      <td>0.073369</td>\n",
       "      <td>-0.845503</td>\n",
       "      <td>-1.074903</td>\n",
       "      <td>0.222103</td>\n",
       "      <td>-1.024658</td>\n",
       "      <td>-0.711647</td>\n",
       "      <td>0.036411</td>\n",
       "      <td>1</td>\n",
       "    </tr>\n",
       "    <tr>\n",
       "      <th>1</th>\n",
       "      <td>0.201004</td>\n",
       "      <td>-0.263537</td>\n",
       "      <td>-0.793137</td>\n",
       "      <td>-4.483672</td>\n",
       "      <td>0.745123</td>\n",
       "      <td>1.156577</td>\n",
       "      <td>0.351558</td>\n",
       "      <td>1.735511</td>\n",
       "      <td>-1.490988</td>\n",
       "      <td>-0.327063</td>\n",
       "      <td>...</td>\n",
       "      <td>1.045496</td>\n",
       "      <td>1.494638</td>\n",
       "      <td>-0.776573</td>\n",
       "      <td>-1.219524</td>\n",
       "      <td>-0.756398</td>\n",
       "      <td>-0.963046</td>\n",
       "      <td>0.488610</td>\n",
       "      <td>0.313609</td>\n",
       "      <td>-0.490794</td>\n",
       "      <td>0</td>\n",
       "    </tr>\n",
       "    <tr>\n",
       "      <th>2</th>\n",
       "      <td>-1.834495</td>\n",
       "      <td>-0.305209</td>\n",
       "      <td>0.053789</td>\n",
       "      <td>4.448289</td>\n",
       "      <td>1.294481</td>\n",
       "      <td>1.241900</td>\n",
       "      <td>-1.358354</td>\n",
       "      <td>-0.211469</td>\n",
       "      <td>-0.186544</td>\n",
       "      <td>0.964812</td>\n",
       "      <td>...</td>\n",
       "      <td>0.917945</td>\n",
       "      <td>0.920003</td>\n",
       "      <td>0.690022</td>\n",
       "      <td>-0.834381</td>\n",
       "      <td>-0.261806</td>\n",
       "      <td>-0.061880</td>\n",
       "      <td>-1.177730</td>\n",
       "      <td>-1.345305</td>\n",
       "      <td>-0.085971</td>\n",
       "      <td>0</td>\n",
       "    </tr>\n",
       "    <tr>\n",
       "      <th>3</th>\n",
       "      <td>-0.484526</td>\n",
       "      <td>0.473056</td>\n",
       "      <td>-0.345463</td>\n",
       "      <td>-7.375136</td>\n",
       "      <td>-0.817676</td>\n",
       "      <td>-0.778446</td>\n",
       "      <td>0.909734</td>\n",
       "      <td>-0.677147</td>\n",
       "      <td>-1.913900</td>\n",
       "      <td>-0.087426</td>\n",
       "      <td>...</td>\n",
       "      <td>0.598949</td>\n",
       "      <td>0.078195</td>\n",
       "      <td>0.024128</td>\n",
       "      <td>1.308711</td>\n",
       "      <td>0.943230</td>\n",
       "      <td>0.903181</td>\n",
       "      <td>0.501013</td>\n",
       "      <td>2.639802</td>\n",
       "      <td>1.540640</td>\n",
       "      <td>1</td>\n",
       "    </tr>\n",
       "    <tr>\n",
       "      <th>4</th>\n",
       "      <td>-0.032351</td>\n",
       "      <td>0.247055</td>\n",
       "      <td>-0.351119</td>\n",
       "      <td>-2.669246</td>\n",
       "      <td>-1.068889</td>\n",
       "      <td>0.322954</td>\n",
       "      <td>1.101136</td>\n",
       "      <td>1.817973</td>\n",
       "      <td>0.944537</td>\n",
       "      <td>0.406005</td>\n",
       "      <td>...</td>\n",
       "      <td>-0.851188</td>\n",
       "      <td>1.272217</td>\n",
       "      <td>0.172442</td>\n",
       "      <td>-0.509007</td>\n",
       "      <td>0.357073</td>\n",
       "      <td>0.523263</td>\n",
       "      <td>0.965078</td>\n",
       "      <td>0.297335</td>\n",
       "      <td>0.088714</td>\n",
       "      <td>1</td>\n",
       "    </tr>\n",
       "    <tr>\n",
       "      <th>5</th>\n",
       "      <td>0.611700</td>\n",
       "      <td>-0.244822</td>\n",
       "      <td>0.583607</td>\n",
       "      <td>1.503404</td>\n",
       "      <td>-0.104725</td>\n",
       "      <td>0.943069</td>\n",
       "      <td>1.826918</td>\n",
       "      <td>-0.694449</td>\n",
       "      <td>-0.113367</td>\n",
       "      <td>0.909642</td>\n",
       "      <td>...</td>\n",
       "      <td>0.441221</td>\n",
       "      <td>-1.386731</td>\n",
       "      <td>2.167706</td>\n",
       "      <td>0.143728</td>\n",
       "      <td>-0.031690</td>\n",
       "      <td>-0.710304</td>\n",
       "      <td>-0.406994</td>\n",
       "      <td>1.284103</td>\n",
       "      <td>0.398134</td>\n",
       "      <td>1</td>\n",
       "    </tr>\n",
       "    <tr>\n",
       "      <th>6</th>\n",
       "      <td>-0.683728</td>\n",
       "      <td>0.624575</td>\n",
       "      <td>-2.098098</td>\n",
       "      <td>14.415604</td>\n",
       "      <td>0.089336</td>\n",
       "      <td>0.591611</td>\n",
       "      <td>0.292786</td>\n",
       "      <td>0.853558</td>\n",
       "      <td>2.063484</td>\n",
       "      <td>-1.549264</td>\n",
       "      <td>...</td>\n",
       "      <td>1.298536</td>\n",
       "      <td>0.848869</td>\n",
       "      <td>-2.538228</td>\n",
       "      <td>1.595099</td>\n",
       "      <td>-0.365556</td>\n",
       "      <td>2.755379</td>\n",
       "      <td>-1.017768</td>\n",
       "      <td>-0.028076</td>\n",
       "      <td>0.098568</td>\n",
       "      <td>0</td>\n",
       "    </tr>\n",
       "  </tbody>\n",
       "</table>\n",
       "<p>7 rows × 1001 columns</p>\n",
       "</div>"
      ],
      "text/plain": [
       "   feature_0  feature_1  feature_2  feature_3  feature_4  feature_5  \\\n",
       "0  -0.272674   0.801643  -0.650531   0.952486  -0.153037   0.427145   \n",
       "1   0.201004  -0.263537  -0.793137  -4.483672   0.745123   1.156577   \n",
       "2  -1.834495  -0.305209   0.053789   4.448289   1.294481   1.241900   \n",
       "3  -0.484526   0.473056  -0.345463  -7.375136  -0.817676  -0.778446   \n",
       "4  -0.032351   0.247055  -0.351119  -2.669246  -1.068889   0.322954   \n",
       "5   0.611700  -0.244822   0.583607   1.503404  -0.104725   0.943069   \n",
       "6  -0.683728   0.624575  -2.098098  14.415604   0.089336   0.591611   \n",
       "\n",
       "   feature_6  feature_7  feature_8  feature_9  ...    feature_991  \\\n",
       "0  -1.085534   1.318513   0.002588  -1.849832  ...      -0.572848   \n",
       "1   0.351558   1.735511  -1.490988  -0.327063  ...       1.045496   \n",
       "2  -1.358354  -0.211469  -0.186544   0.964812  ...       0.917945   \n",
       "3   0.909734  -0.677147  -1.913900  -0.087426  ...       0.598949   \n",
       "4   1.101136   1.817973   0.944537   0.406005  ...      -0.851188   \n",
       "5   1.826918  -0.694449  -0.113367   0.909642  ...       0.441221   \n",
       "6   0.292786   0.853558   2.063484  -1.549264  ...       1.298536   \n",
       "\n",
       "   feature_992  feature_993  feature_994  feature_995  feature_996  \\\n",
       "0    -0.448690     0.073369    -0.845503    -1.074903     0.222103   \n",
       "1     1.494638    -0.776573    -1.219524    -0.756398    -0.963046   \n",
       "2     0.920003     0.690022    -0.834381    -0.261806    -0.061880   \n",
       "3     0.078195     0.024128     1.308711     0.943230     0.903181   \n",
       "4     1.272217     0.172442    -0.509007     0.357073     0.523263   \n",
       "5    -1.386731     2.167706     0.143728    -0.031690    -0.710304   \n",
       "6     0.848869    -2.538228     1.595099    -0.365556     2.755379   \n",
       "\n",
       "   feature_997  feature_998  feature_999  label  \n",
       "0    -1.024658    -0.711647     0.036411      1  \n",
       "1     0.488610     0.313609    -0.490794      0  \n",
       "2    -1.177730    -1.345305    -0.085971      0  \n",
       "3     0.501013     2.639802     1.540640      1  \n",
       "4     0.965078     0.297335     0.088714      1  \n",
       "5    -0.406994     1.284103     0.398134      1  \n",
       "6    -1.017768    -0.028076     0.098568      0  \n",
       "\n",
       "[7 rows x 1001 columns]"
      ]
     },
     "execution_count": 14,
     "metadata": {},
     "output_type": "execute_result"
    }
   ],
   "source": [
    "data.head(7)"
   ]
  },
  {
   "cell_type": "code",
   "execution_count": 9,
   "metadata": {},
   "outputs": [
    {
     "data": {
      "text/plain": [
       "label\n",
       "0    5068\n",
       "1    4931\n",
       "dtype: int64"
      ]
     },
     "execution_count": 9,
     "metadata": {},
     "output_type": "execute_result"
    }
   ],
   "source": [
    "data.groupby('label').size()"
   ]
  },
  {
   "cell_type": "code",
   "execution_count": 11,
   "metadata": {},
   "outputs": [
    {
     "data": {
      "text/html": [
       "<div>\n",
       "<style scoped>\n",
       "    .dataframe tbody tr th:only-of-type {\n",
       "        vertical-align: middle;\n",
       "    }\n",
       "\n",
       "    .dataframe tbody tr th {\n",
       "        vertical-align: top;\n",
       "    }\n",
       "\n",
       "    .dataframe thead th {\n",
       "        text-align: right;\n",
       "    }\n",
       "</style>\n",
       "<table border=\"1\" class=\"dataframe\">\n",
       "  <thead>\n",
       "    <tr style=\"text-align: right;\">\n",
       "      <th></th>\n",
       "      <th>feature_0</th>\n",
       "      <th>feature_1</th>\n",
       "      <th>feature_2</th>\n",
       "      <th>feature_3</th>\n",
       "      <th>feature_4</th>\n",
       "      <th>feature_5</th>\n",
       "      <th>feature_6</th>\n",
       "      <th>feature_7</th>\n",
       "      <th>feature_8</th>\n",
       "      <th>feature_9</th>\n",
       "      <th>...</th>\n",
       "      <th>feature_991</th>\n",
       "      <th>feature_992</th>\n",
       "      <th>feature_993</th>\n",
       "      <th>feature_994</th>\n",
       "      <th>feature_995</th>\n",
       "      <th>feature_996</th>\n",
       "      <th>feature_997</th>\n",
       "      <th>feature_998</th>\n",
       "      <th>feature_999</th>\n",
       "      <th>label</th>\n",
       "    </tr>\n",
       "  </thead>\n",
       "  <tbody>\n",
       "    <tr>\n",
       "      <th>count</th>\n",
       "      <td>9999.000000</td>\n",
       "      <td>9999.000000</td>\n",
       "      <td>9999.000000</td>\n",
       "      <td>9999.000000</td>\n",
       "      <td>9999.000000</td>\n",
       "      <td>9999.000000</td>\n",
       "      <td>9999.000000</td>\n",
       "      <td>9999.000000</td>\n",
       "      <td>9999.000000</td>\n",
       "      <td>9999.000000</td>\n",
       "      <td>...</td>\n",
       "      <td>9999.000000</td>\n",
       "      <td>9999.000000</td>\n",
       "      <td>9999.000000</td>\n",
       "      <td>9999.000000</td>\n",
       "      <td>9999.000000</td>\n",
       "      <td>9999.000000</td>\n",
       "      <td>9999.000000</td>\n",
       "      <td>9999.000000</td>\n",
       "      <td>9999.000000</td>\n",
       "      <td>9999.000000</td>\n",
       "    </tr>\n",
       "    <tr>\n",
       "      <th>mean</th>\n",
       "      <td>-0.004460</td>\n",
       "      <td>-0.013556</td>\n",
       "      <td>-0.003732</td>\n",
       "      <td>-0.526323</td>\n",
       "      <td>0.005371</td>\n",
       "      <td>-0.008539</td>\n",
       "      <td>0.017156</td>\n",
       "      <td>-0.001695</td>\n",
       "      <td>0.016588</td>\n",
       "      <td>-0.011591</td>\n",
       "      <td>...</td>\n",
       "      <td>0.004245</td>\n",
       "      <td>0.004588</td>\n",
       "      <td>0.000104</td>\n",
       "      <td>-0.004114</td>\n",
       "      <td>-0.015524</td>\n",
       "      <td>0.003792</td>\n",
       "      <td>-0.012826</td>\n",
       "      <td>-0.000154</td>\n",
       "      <td>0.008867</td>\n",
       "      <td>0.493149</td>\n",
       "    </tr>\n",
       "    <tr>\n",
       "      <th>std</th>\n",
       "      <td>0.991939</td>\n",
       "      <td>1.004086</td>\n",
       "      <td>1.004643</td>\n",
       "      <td>5.892651</td>\n",
       "      <td>0.995250</td>\n",
       "      <td>1.001142</td>\n",
       "      <td>0.995826</td>\n",
       "      <td>1.000576</td>\n",
       "      <td>1.016175</td>\n",
       "      <td>0.994338</td>\n",
       "      <td>...</td>\n",
       "      <td>1.010292</td>\n",
       "      <td>0.996613</td>\n",
       "      <td>0.984661</td>\n",
       "      <td>1.005568</td>\n",
       "      <td>1.000405</td>\n",
       "      <td>0.992878</td>\n",
       "      <td>0.986676</td>\n",
       "      <td>1.003824</td>\n",
       "      <td>0.992667</td>\n",
       "      <td>0.499978</td>\n",
       "    </tr>\n",
       "    <tr>\n",
       "      <th>min</th>\n",
       "      <td>-3.769974</td>\n",
       "      <td>-3.617617</td>\n",
       "      <td>-3.753391</td>\n",
       "      <td>-21.830355</td>\n",
       "      <td>-3.952088</td>\n",
       "      <td>-4.302776</td>\n",
       "      <td>-3.693491</td>\n",
       "      <td>-3.769295</td>\n",
       "      <td>-3.582291</td>\n",
       "      <td>-3.964497</td>\n",
       "      <td>...</td>\n",
       "      <td>-3.543944</td>\n",
       "      <td>-3.702521</td>\n",
       "      <td>-3.645616</td>\n",
       "      <td>-3.757164</td>\n",
       "      <td>-3.998032</td>\n",
       "      <td>-3.844831</td>\n",
       "      <td>-4.314576</td>\n",
       "      <td>-3.912707</td>\n",
       "      <td>-3.852604</td>\n",
       "      <td>0.000000</td>\n",
       "    </tr>\n",
       "    <tr>\n",
       "      <th>25%</th>\n",
       "      <td>-0.667193</td>\n",
       "      <td>-0.702984</td>\n",
       "      <td>-0.666734</td>\n",
       "      <td>-4.535838</td>\n",
       "      <td>-0.664072</td>\n",
       "      <td>-0.676919</td>\n",
       "      <td>-0.657419</td>\n",
       "      <td>-0.678497</td>\n",
       "      <td>-0.670545</td>\n",
       "      <td>-0.696125</td>\n",
       "      <td>...</td>\n",
       "      <td>-0.686178</td>\n",
       "      <td>-0.674913</td>\n",
       "      <td>-0.663270</td>\n",
       "      <td>-0.676386</td>\n",
       "      <td>-0.690162</td>\n",
       "      <td>-0.660690</td>\n",
       "      <td>-0.671733</td>\n",
       "      <td>-0.689658</td>\n",
       "      <td>-0.653306</td>\n",
       "      <td>0.000000</td>\n",
       "    </tr>\n",
       "    <tr>\n",
       "      <th>50%</th>\n",
       "      <td>0.006990</td>\n",
       "      <td>-0.019359</td>\n",
       "      <td>0.002527</td>\n",
       "      <td>-0.596745</td>\n",
       "      <td>0.008596</td>\n",
       "      <td>-0.014751</td>\n",
       "      <td>0.023373</td>\n",
       "      <td>-0.005377</td>\n",
       "      <td>0.007411</td>\n",
       "      <td>-0.023052</td>\n",
       "      <td>...</td>\n",
       "      <td>-0.002653</td>\n",
       "      <td>0.000651</td>\n",
       "      <td>-0.005459</td>\n",
       "      <td>-0.002117</td>\n",
       "      <td>-0.017218</td>\n",
       "      <td>0.005911</td>\n",
       "      <td>-0.009118</td>\n",
       "      <td>0.024641</td>\n",
       "      <td>-0.002785</td>\n",
       "      <td>0.000000</td>\n",
       "    </tr>\n",
       "    <tr>\n",
       "      <th>75%</th>\n",
       "      <td>0.655618</td>\n",
       "      <td>0.667009</td>\n",
       "      <td>0.660033</td>\n",
       "      <td>3.367154</td>\n",
       "      <td>0.672424</td>\n",
       "      <td>0.662462</td>\n",
       "      <td>0.697545</td>\n",
       "      <td>0.662622</td>\n",
       "      <td>0.720524</td>\n",
       "      <td>0.668373</td>\n",
       "      <td>...</td>\n",
       "      <td>0.682821</td>\n",
       "      <td>0.680257</td>\n",
       "      <td>0.668761</td>\n",
       "      <td>0.675716</td>\n",
       "      <td>0.660026</td>\n",
       "      <td>0.680975</td>\n",
       "      <td>0.647070</td>\n",
       "      <td>0.674688</td>\n",
       "      <td>0.677321</td>\n",
       "      <td>1.000000</td>\n",
       "    </tr>\n",
       "    <tr>\n",
       "      <th>max</th>\n",
       "      <td>3.629974</td>\n",
       "      <td>4.437563</td>\n",
       "      <td>3.724971</td>\n",
       "      <td>20.021875</td>\n",
       "      <td>3.444207</td>\n",
       "      <td>3.502859</td>\n",
       "      <td>3.925565</td>\n",
       "      <td>4.069058</td>\n",
       "      <td>5.209648</td>\n",
       "      <td>3.871048</td>\n",
       "      <td>...</td>\n",
       "      <td>3.616481</td>\n",
       "      <td>4.456758</td>\n",
       "      <td>3.727838</td>\n",
       "      <td>3.959971</td>\n",
       "      <td>3.520052</td>\n",
       "      <td>4.305980</td>\n",
       "      <td>3.671758</td>\n",
       "      <td>3.555786</td>\n",
       "      <td>3.574397</td>\n",
       "      <td>1.000000</td>\n",
       "    </tr>\n",
       "  </tbody>\n",
       "</table>\n",
       "<p>8 rows × 1001 columns</p>\n",
       "</div>"
      ],
      "text/plain": [
       "         feature_0    feature_1    feature_2    feature_3    feature_4  \\\n",
       "count  9999.000000  9999.000000  9999.000000  9999.000000  9999.000000   \n",
       "mean     -0.004460    -0.013556    -0.003732    -0.526323     0.005371   \n",
       "std       0.991939     1.004086     1.004643     5.892651     0.995250   \n",
       "min      -3.769974    -3.617617    -3.753391   -21.830355    -3.952088   \n",
       "25%      -0.667193    -0.702984    -0.666734    -4.535838    -0.664072   \n",
       "50%       0.006990    -0.019359     0.002527    -0.596745     0.008596   \n",
       "75%       0.655618     0.667009     0.660033     3.367154     0.672424   \n",
       "max       3.629974     4.437563     3.724971    20.021875     3.444207   \n",
       "\n",
       "         feature_5    feature_6    feature_7    feature_8    feature_9  \\\n",
       "count  9999.000000  9999.000000  9999.000000  9999.000000  9999.000000   \n",
       "mean     -0.008539     0.017156    -0.001695     0.016588    -0.011591   \n",
       "std       1.001142     0.995826     1.000576     1.016175     0.994338   \n",
       "min      -4.302776    -3.693491    -3.769295    -3.582291    -3.964497   \n",
       "25%      -0.676919    -0.657419    -0.678497    -0.670545    -0.696125   \n",
       "50%      -0.014751     0.023373    -0.005377     0.007411    -0.023052   \n",
       "75%       0.662462     0.697545     0.662622     0.720524     0.668373   \n",
       "max       3.502859     3.925565     4.069058     5.209648     3.871048   \n",
       "\n",
       "          ...       feature_991  feature_992  feature_993  feature_994  \\\n",
       "count     ...       9999.000000  9999.000000  9999.000000  9999.000000   \n",
       "mean      ...          0.004245     0.004588     0.000104    -0.004114   \n",
       "std       ...          1.010292     0.996613     0.984661     1.005568   \n",
       "min       ...         -3.543944    -3.702521    -3.645616    -3.757164   \n",
       "25%       ...         -0.686178    -0.674913    -0.663270    -0.676386   \n",
       "50%       ...         -0.002653     0.000651    -0.005459    -0.002117   \n",
       "75%       ...          0.682821     0.680257     0.668761     0.675716   \n",
       "max       ...          3.616481     4.456758     3.727838     3.959971   \n",
       "\n",
       "       feature_995  feature_996  feature_997  feature_998  feature_999  \\\n",
       "count  9999.000000  9999.000000  9999.000000  9999.000000  9999.000000   \n",
       "mean     -0.015524     0.003792    -0.012826    -0.000154     0.008867   \n",
       "std       1.000405     0.992878     0.986676     1.003824     0.992667   \n",
       "min      -3.998032    -3.844831    -4.314576    -3.912707    -3.852604   \n",
       "25%      -0.690162    -0.660690    -0.671733    -0.689658    -0.653306   \n",
       "50%      -0.017218     0.005911    -0.009118     0.024641    -0.002785   \n",
       "75%       0.660026     0.680975     0.647070     0.674688     0.677321   \n",
       "max       3.520052     4.305980     3.671758     3.555786     3.574397   \n",
       "\n",
       "             label  \n",
       "count  9999.000000  \n",
       "mean      0.493149  \n",
       "std       0.499978  \n",
       "min       0.000000  \n",
       "25%       0.000000  \n",
       "50%       0.000000  \n",
       "75%       1.000000  \n",
       "max       1.000000  \n",
       "\n",
       "[8 rows x 1001 columns]"
      ]
     },
     "execution_count": 11,
     "metadata": {},
     "output_type": "execute_result"
    }
   ],
   "source": [
    "data.describe()"
   ]
  },
  {
   "cell_type": "code",
   "execution_count": null,
   "metadata": {},
   "outputs": [],
   "source": []
  },
  {
   "cell_type": "markdown",
   "metadata": {},
   "source": [
    "As we can see, we have a dataset of 9999 observations with 1000 features, dataset consists of two classes with appproximately the same size, so, we don't face the sample imbalance problem."
   ]
  },
  {
   "cell_type": "markdown",
   "metadata": {},
   "source": [
    "# Feature seletion"
   ]
  },
  {
   "cell_type": "code",
   "execution_count": 17,
   "metadata": {},
   "outputs": [],
   "source": [
    "X, y = data.drop('label', axis = 1), data['label']"
   ]
  },
  {
   "cell_type": "code",
   "execution_count": 20,
   "metadata": {},
   "outputs": [
    {
     "data": {
      "text/plain": [
       "StandardScaler(copy=True, with_mean=True, with_std=True)"
      ]
     },
     "execution_count": 20,
     "metadata": {},
     "output_type": "execute_result"
    }
   ],
   "source": [
    "# Scaling \n",
    "sc = StandardScaler()\n",
    "sc.fit(X)"
   ]
  },
  {
   "cell_type": "markdown",
   "metadata": {},
   "source": [
    "## Tree-based feature selection"
   ]
  },
  {
   "cell_type": "code",
   "execution_count": 33,
   "metadata": {},
   "outputs": [
    {
     "data": {
      "text/plain": [
       "(9999, 111)"
      ]
     },
     "execution_count": 33,
     "metadata": {},
     "output_type": "execute_result"
    }
   ],
   "source": [
    "clf = ExtraTreesClassifier(n_estimators=300)\n",
    "clf = clf.fit(X, y)\n",
    "model = SelectFromModel(clf, prefit=True)\n",
    "X_new_2 = model.transform(X)\n",
    "X_new_2.shape"
   ]
  },
  {
   "cell_type": "markdown",
   "metadata": {},
   "source": [
    "## L1-based feature selection"
   ]
  },
  {
   "cell_type": "code",
   "execution_count": 31,
   "metadata": {},
   "outputs": [
    {
     "data": {
      "text/plain": [
       "(9999, 483)"
      ]
     },
     "execution_count": 31,
     "metadata": {},
     "output_type": "execute_result"
    }
   ],
   "source": [
    "lsvc = LinearSVC(C=0.01, penalty=\"l1\", dual=False).fit(X, y)\n",
    "model = SelectFromModel(lsvc, prefit=True)\n",
    "X_new = model.transform(X)\n",
    "X_new.shape"
   ]
  },
  {
   "cell_type": "markdown",
   "metadata": {},
   "source": [
    "As the PCA method I get used to for dimension reduction totally failed, I tried approaches recommended by the lecturer, among them the Tree-based feature selection (FS) and L-1 based FS seemed to be applicable for presented dataset. After applying both of them I stopped at the first one. The parametres applied is the consensus between representativity and computative power of hardware."
   ]
  },
  {
   "cell_type": "markdown",
   "metadata": {},
   "source": [
    "# Applying different classifiers with default parameters"
   ]
  },
  {
   "cell_type": "code",
   "execution_count": 45,
   "metadata": {},
   "outputs": [],
   "source": [
    "#Splitting data on test and training samples\n",
    "data_tr, data_t, y_tr, y_t = train_test_split (X_new_2, y, test_size=0.25, random_state=123)"
   ]
  },
  {
   "cell_type": "markdown",
   "metadata": {},
   "source": [
    "### Model performance function"
   ]
  },
  {
   "cell_type": "code",
   "execution_count": 49,
   "metadata": {},
   "outputs": [],
   "source": [
    "def model_performance(model_name, X_tr, y_tr, y_te, y_pred):\n",
    "    print('Model name: %s'%model_name)\n",
    "    print('Test accuracy (Accuracy Score): %f'%metrics.accuracy_score(y_te, y_pred))\n",
    "    print('Test accuracy (ROC AUC Score): %f'%metrics.roc_auc_score(y_te, y_pred))\n",
    "    print('Test precision 0: %f'%metrics.precision_score(y_te, y_pred, pos_label=0))   \n",
    "    print('Test precision 1: %f'%metrics.precision_score(y_te, y_pred, pos_label=1)) \n",
    "    print('Test recall 0: %f'%metrics.recall_score(y_te, y_pred, pos_label=0))   \n",
    "    print('Test recall 1: %f'%metrics.recall_score(y_te, y_pred, pos_label=1))\n",
    "\n",
    "    false_positive_rate, true_positive_rate, thresholds = metrics.roc_curve(y_te, y_pred)\n",
    "    roc_auc = metrics.auc(false_positive_rate, true_positive_rate)\n",
    "\n",
    "    # making the graph\n",
    "    plt.title('Receiver Operating Characteristic')\n",
    "    plt.plot(false_positive_rate, true_positive_rate, 'b', label='AUC = %0.2f'% roc_auc)\n",
    "    plt.legend(loc='lower right')\n",
    "    plt.plot([0,1],[0,1],'r--')\n",
    "    plt.xlim([-0.1,1.2])\n",
    "    plt.ylim([-0.1,1.2])\n",
    "    plt.ylabel('True Positive Rate')\n",
    "    plt.xlabel('False Positive Rate')\n",
    "    plt.show()"
   ]
  },
  {
   "cell_type": "markdown",
   "metadata": {},
   "source": [
    "##Logistic regression"
   ]
  },
  {
   "cell_type": "code",
   "execution_count": 46,
   "metadata": {},
   "outputs": [
    {
     "data": {
      "text/plain": [
       "LogisticRegression(C=1.0, class_weight=None, dual=False, fit_intercept=True,\n",
       "          intercept_scaling=1, max_iter=100, multi_class='ovr', n_jobs=1,\n",
       "          penalty='l2', random_state=None, solver='liblinear', tol=0.0001,\n",
       "          verbose=0, warm_start=False)"
      ]
     },
     "execution_count": 46,
     "metadata": {},
     "output_type": "execute_result"
    }
   ],
   "source": [
    "class_LogR = LogisticRegression()\n",
    "class_LogR.fit(data_tr, y_tr)"
   ]
  },
  {
   "cell_type": "code",
   "execution_count": 52,
   "metadata": {},
   "outputs": [
    {
     "name": "stdout",
     "output_type": "stream",
     "text": [
      "Model name: Logistic Regression\n",
      "Test accuracy (Accuracy Score): 0.839200\n",
      "Test accuracy (ROC AUC Score): 0.839092\n",
      "Test precision 0: 0.846154\n",
      "Test precision 1: 0.831822\n",
      "Test recall 0: 0.842227\n",
      "Test recall 1: 0.835957\n"
     ]
    },
    {
     "data": {
      "image/png": "[encoded data removed]",
      "text/plain": [
       "<Figure size 432x288 with 1 Axes>"
      ]
     },
     "metadata": {},
     "output_type": "display_data"
    }
   ],
   "source": [
    "y_pred_LogR = class_LogR.predict(data_t)\n",
    "model_performance('Logistic Regression', X_tr=data_tr, y_tr=y_train, y_te=y_t, y_pred=y_pred_LogR)"
   ]
  },
  {
   "cell_type": "markdown",
   "metadata": {},
   "source": [
    "##Desicion Tree"
   ]
  },
  {
   "cell_type": "code",
   "execution_count": 54,
   "metadata": {},
   "outputs": [
    {
     "data": {
      "text/plain": [
       "DecisionTreeClassifier(class_weight=None, criterion='gini', max_depth=None,\n",
       "            max_features=None, max_leaf_nodes=None,\n",
       "            min_impurity_decrease=0.0, min_impurity_split=None,\n",
       "            min_samples_leaf=1, min_samples_split=2,\n",
       "            min_weight_fraction_leaf=0.0, presort=False, random_state=None,\n",
       "            splitter='best')"
      ]
     },
     "execution_count": 54,
     "metadata": {},
     "output_type": "execute_result"
    }
   ],
   "source": [
    "class_DT = DecisionTreeClassifier()\n",
    "class_DT.fit(data_tr, y_tr)"
   ]
  },
  {
   "cell_type": "code",
   "execution_count": 55,
   "metadata": {},
   "outputs": [
    {
     "name": "stdout",
     "output_type": "stream",
     "text": [
      "Model name: Decision tree classifier\n",
      "Test accuracy (Accuracy Score): 0.660000\n",
      "Test accuracy (ROC AUC Score): 0.659790\n",
      "Test precision 0: 0.673182\n",
      "Test precision 1: 0.646192\n",
      "Test recall 0: 0.665893\n",
      "Test recall 1: 0.653687\n"
     ]
    },
    {
     "data": {
      "image/png": "[encoded data removed]",
      "text/plain": [
       "<Figure size 432x288 with 1 Axes>"
      ]
     },
     "metadata": {},
     "output_type": "display_data"
    }
   ],
   "source": [
    "y_pred_DT = class_DT.predict(data_t)\n",
    "model_performance('Decision tree classifier', X_tr=data_tr, y_tr=y_train, y_te=y_t, y_pred=y_pred_DT)"
   ]
  },
  {
   "cell_type": "code",
   "execution_count": 56,
   "metadata": {},
   "outputs": [
    {
     "data": {
      "text/plain": [
       "RandomForestClassifier(bootstrap=True, class_weight=None, criterion='gini',\n",
       "            max_depth=None, max_features='auto', max_leaf_nodes=None,\n",
       "            min_impurity_decrease=0.0, min_impurity_split=None,\n",
       "            min_samples_leaf=1, min_samples_split=2,\n",
       "            min_weight_fraction_leaf=0.0, n_estimators=10, n_jobs=1,\n",
       "            oob_score=False, random_state=None, verbose=0,\n",
       "            warm_start=False)"
      ]
     },
     "execution_count": 56,
     "metadata": {},
     "output_type": "execute_result"
    }
   ],
   "source": [
    "class_RF = RandomForestClassifier()\n",
    "class_RF.fit(data_tr, y_tr)"
   ]
  },
  {
   "cell_type": "code",
   "execution_count": 58,
   "metadata": {},
   "outputs": [
    {
     "name": "stdout",
     "output_type": "stream",
     "text": [
      "Model name: Random forest classifier\n",
      "Test accuracy (Accuracy Score): 0.782400\n",
      "Test accuracy (ROC AUC Score): 0.779222\n",
      "Test precision 0: 0.748837\n",
      "Test precision 1: 0.833166\n",
      "Test recall 0: 0.871616\n",
      "Test recall 1: 0.686827\n"
     ]
    },
    {
     "data": {
      "image/png": "[encoded data removed]",
      "text/plain": [
       "<Figure size 432x288 with 1 Axes>"
      ]
     },
     "metadata": {},
     "output_type": "display_data"
    }
   ],
   "source": [
    "y_pred_RF = class_RF.predict(data_t)\n",
    "model_performance('Random forest classifier', X_tr=data_tr, y_tr=y_train, y_te=y_t, y_pred=y_pred_RF)"
   ]
  },
  {
   "cell_type": "markdown",
   "metadata": {},
   "source": [
    "## Gaussian Naive Bayes"
   ]
  },
  {
   "cell_type": "code",
   "execution_count": 62,
   "metadata": {},
   "outputs": [
    {
     "data": {
      "text/plain": [
       "GaussianNB(priors=None)"
      ]
     },
     "execution_count": 62,
     "metadata": {},
     "output_type": "execute_result"
    }
   ],
   "source": [
    "class_GNB = GaussianNB()\n",
    "class_GNB.fit(data_tr, y_tr)"
   ]
  },
  {
   "cell_type": "code",
   "execution_count": 63,
   "metadata": {},
   "outputs": [
    {
     "name": "stdout",
     "output_type": "stream",
     "text": [
      "Model name: GaussianNB\n",
      "Test accuracy (Accuracy Score): 0.822400\n",
      "Test accuracy (ROC AUC Score): 0.822355\n",
      "Test precision 0: 0.831382\n",
      "Test precision 1: 0.812961\n",
      "Test recall 0: 0.823666\n",
      "Test recall 1: 0.821044\n"
     ]
    },
    {
     "data": {
      "image/png": "[encoded data removed]",
      "text/plain": [
       "<Figure size 432x288 with 1 Axes>"
      ]
     },
     "metadata": {},
     "output_type": "display_data"
    }
   ],
   "source": [
    "y_pred_GNB = class_GNB.predict(data_t)\n",
    "model_performance('GaussianNB', X_tr=data_tr, y_tr=y_train, y_te=y_t, y_pred=y_pred_GNB)"
   ]
  },
  {
   "cell_type": "markdown",
   "metadata": {},
   "source": [
    "## Gradient Boosting"
   ]
  },
  {
   "cell_type": "code",
   "execution_count": 65,
   "metadata": {},
   "outputs": [
    {
     "data": {
      "text/plain": [
       "GradientBoostingClassifier(criterion='friedman_mse', init=None,\n",
       "              learning_rate=0.1, loss='deviance', max_depth=3,\n",
       "              max_features=None, max_leaf_nodes=None,\n",
       "              min_impurity_decrease=0.0, min_impurity_split=None,\n",
       "              min_samples_leaf=1, min_samples_split=2,\n",
       "              min_weight_fraction_leaf=0.0, n_estimators=100,\n",
       "              presort='auto', random_state=None, subsample=1.0, verbose=0,\n",
       "              warm_start=False)"
      ]
     },
     "execution_count": 65,
     "metadata": {},
     "output_type": "execute_result"
    }
   ],
   "source": [
    "class_GB = GradientBoostingClassifier().fit(data_tr, y_tr)\n",
    "class_GB.fit(data_tr, y_tr)"
   ]
  },
  {
   "cell_type": "code",
   "execution_count": 66,
   "metadata": {},
   "outputs": [
    {
     "name": "stdout",
     "output_type": "stream",
     "text": [
      "Model name: GradientBoostingClassifier\n",
      "Test accuracy (Accuracy Score): 0.864000\n",
      "Test accuracy (ROC AUC Score): 0.863756\n",
      "Test precision 0: 0.866821\n",
      "Test precision 1: 0.860949\n",
      "Test recall 0: 0.870843\n",
      "Test recall 1: 0.856669\n"
     ]
    },
    {
     "data": {
      "image/png": "[encoded data removed]",
      "text/plain": [
       "<Figure size 432x288 with 1 Axes>"
      ]
     },
     "metadata": {},
     "output_type": "display_data"
    }
   ],
   "source": [
    "y_pred_GB = class_GB.predict(data_t)\n",
    "model_performance('GradientBoostingClassifier', X_tr=data_tr, y_tr=y_train, y_te=y_t, y_pred=y_pred_GB)"
   ]
  },
  {
   "cell_type": "markdown",
   "metadata": {},
   "source": [
    "## Linear models with stochastic gradient descent (SGD) learning"
   ]
  },
  {
   "cell_type": "code",
   "execution_count": 68,
   "metadata": {},
   "outputs": [
    {
     "name": "stderr",
     "output_type": "stream",
     "text": [
      "C:\\ProgramData\\Anaconda3\\lib\\site-packages\\sklearn\\linear_model\\stochastic_gradient.py:128: FutureWarning: max_iter and tol parameters have been added in <class 'sklearn.linear_model.stochastic_gradient.SGDClassifier'> in 0.19. If both are left unset, they default to max_iter=5 and tol=None. If tol is not None, max_iter defaults to max_iter=1000. From 0.21, default max_iter will be 1000, and default tol will be 1e-3.\n",
      "  \"and default tol will be 1e-3.\" % type(self), FutureWarning)\n"
     ]
    },
    {
     "data": {
      "text/plain": [
       "SGDClassifier(alpha=0.0001, average=False, class_weight=None, epsilon=0.1,\n",
       "       eta0=0.0, fit_intercept=True, l1_ratio=0.15,\n",
       "       learning_rate='optimal', loss='hinge', max_iter=None, n_iter=None,\n",
       "       n_jobs=1, penalty='l2', power_t=0.5, random_state=None,\n",
       "       shuffle=True, tol=None, verbose=0, warm_start=False)"
      ]
     },
     "execution_count": 68,
     "metadata": {},
     "output_type": "execute_result"
    }
   ],
   "source": [
    "class_SGDC = SGDClassifier()\n",
    "class_SGDC.fit(data_tr, y_tr)"
   ]
  },
  {
   "cell_type": "code",
   "execution_count": 69,
   "metadata": {},
   "outputs": [
    {
     "name": "stdout",
     "output_type": "stream",
     "text": [
      "Model name: SGDClassifier\n",
      "Test accuracy (Accuracy Score): 0.782400\n",
      "Test accuracy (ROC AUC Score): 0.783134\n",
      "Test precision 0: 0.806716\n",
      "Test precision 1: 0.759187\n",
      "Test recall 0: 0.761794\n",
      "Test recall 1: 0.804474\n"
     ]
    },
    {
     "data": {
      "image/png": "[encoded data removed]",
      "text/plain": [
       "<Figure size 432x288 with 1 Axes>"
      ]
     },
     "metadata": {},
     "output_type": "display_data"
    }
   ],
   "source": [
    "y_pred_SGDC = class_SGDC.predict(data_t)\n",
    "model_performance('SGDClassifier', X_tr=data_tr, y_tr=y_train, y_te=y_t, y_pred=y_pred_SGDC)"
   ]
  },
  {
   "cell_type": "markdown",
   "metadata": {},
   "source": [
    "## Multi-layer Perceptron"
   ]
  },
  {
   "cell_type": "code",
   "execution_count": 71,
   "metadata": {},
   "outputs": [
    {
     "data": {
      "text/plain": [
       "MLPClassifier(activation='relu', alpha=0.0001, batch_size='auto', beta_1=0.9,\n",
       "       beta_2=0.999, early_stopping=False, epsilon=1e-08,\n",
       "       hidden_layer_sizes=(100,), learning_rate='constant',\n",
       "       learning_rate_init=0.001, max_iter=200, momentum=0.9,\n",
       "       nesterovs_momentum=True, power_t=0.5, random_state=None,\n",
       "       shuffle=True, solver='adam', tol=0.0001, validation_fraction=0.1,\n",
       "       verbose=False, warm_start=False)"
      ]
     },
     "execution_count": 71,
     "metadata": {},
     "output_type": "execute_result"
    }
   ],
   "source": [
    "class_MLP = MLPClassifier()\n",
    "class_MLP.fit(data_tr, y_tr)"
   ]
  },
  {
   "cell_type": "code",
   "execution_count": 72,
   "metadata": {},
   "outputs": [
    {
     "name": "stdout",
     "output_type": "stream",
     "text": [
      "Model name: MLPClassifier\n",
      "Test accuracy (Accuracy Score): 0.782400\n",
      "Test accuracy (ROC AUC Score): 0.783134\n",
      "Test precision 0: 0.806716\n",
      "Test precision 1: 0.759187\n",
      "Test recall 0: 0.761794\n",
      "Test recall 1: 0.804474\n"
     ]
    },
    {
     "data": {
      "image/png": "[encoded data removed]",
      "text/plain": [
       "<Figure size 432x288 with 1 Axes>"
      ]
     },
     "metadata": {},
     "output_type": "display_data"
    }
   ],
   "source": [
    "y_pred_MLP = class_MLP.predict(data_t)\n",
    "model_performance('MLPClassifier', X_tr=data_tr, y_tr=y_train, y_te=y_t, y_pred=y_pred_SGDC)"
   ]
  },
  {
   "cell_type": "markdown",
   "metadata": {},
   "source": [
    "After applying several classifiers with default parameters I decided to drop DT classifier as it presented lower level of accuracy.\n",
    "The best classifier with the defaulf parameters are gradient boosting and log-regression which performed over 84% under AUC-metric."
   ]
  },
  {
   "cell_type": "markdown",
   "metadata": {},
   "source": [
    "# Cross-validation"
   ]
  },
  {
   "cell_type": "code",
   "execution_count": 74,
   "metadata": {},
   "outputs": [],
   "source": [
    "def cross_val_results(model_name, model, X, y, cv):\n",
    "    scores = cross_validate(model, X, y, cv=cv, scoring=('roc_auc'))\n",
    "    print('Model name: %s'%model_name)\n",
    "    print('------------------------------')\n",
    "    print(\"AUC scores\", scores['test_score'].round(4))\n",
    "    # with 95% confidence interval\n",
    "    print(\"AUC 95 prc confidence interval: %0.2f (+/- %0.2f)\" % (scores['test_score'].mean(), scores['test_score'].std() * 2))\n",
    "    print('______________________________')\n",
    "    print(\" \")"
   ]
  },
  {
   "cell_type": "code",
   "execution_count": 75,
   "metadata": {},
   "outputs": [
    {
     "name": "stdout",
     "output_type": "stream",
     "text": [
      "Model name: Logistic regression\n",
      "------------------------------\n",
      "AUC scores [0.9106 0.9213 0.9096 0.9219 0.9077]\n",
      "AUC 95 prc confidence interval: 0.91 (+/- 0.01)\n",
      "______________________________\n",
      " \n"
     ]
    },
    {
     "name": "stderr",
     "output_type": "stream",
     "text": [
      "C:\\ProgramData\\Anaconda3\\lib\\site-packages\\sklearn\\linear_model\\stochastic_gradient.py:128: FutureWarning: max_iter and tol parameters have been added in <class 'sklearn.linear_model.stochastic_gradient.SGDClassifier'> in 0.19. If both are left unset, they default to max_iter=5 and tol=None. If tol is not None, max_iter defaults to max_iter=1000. From 0.21, default max_iter will be 1000, and default tol will be 1e-3.\n",
      "  \"and default tol will be 1e-3.\" % type(self), FutureWarning)\n",
      "C:\\ProgramData\\Anaconda3\\lib\\site-packages\\sklearn\\linear_model\\stochastic_gradient.py:128: FutureWarning: max_iter and tol parameters have been added in <class 'sklearn.linear_model.stochastic_gradient.SGDClassifier'> in 0.19. If both are left unset, they default to max_iter=5 and tol=None. If tol is not None, max_iter defaults to max_iter=1000. From 0.21, default max_iter will be 1000, and default tol will be 1e-3.\n",
      "  \"and default tol will be 1e-3.\" % type(self), FutureWarning)\n",
      "C:\\ProgramData\\Anaconda3\\lib\\site-packages\\sklearn\\linear_model\\stochastic_gradient.py:128: FutureWarning: max_iter and tol parameters have been added in <class 'sklearn.linear_model.stochastic_gradient.SGDClassifier'> in 0.19. If both are left unset, they default to max_iter=5 and tol=None. If tol is not None, max_iter defaults to max_iter=1000. From 0.21, default max_iter will be 1000, and default tol will be 1e-3.\n",
      "  \"and default tol will be 1e-3.\" % type(self), FutureWarning)\n",
      "C:\\ProgramData\\Anaconda3\\lib\\site-packages\\sklearn\\linear_model\\stochastic_gradient.py:128: FutureWarning: max_iter and tol parameters have been added in <class 'sklearn.linear_model.stochastic_gradient.SGDClassifier'> in 0.19. If both are left unset, they default to max_iter=5 and tol=None. If tol is not None, max_iter defaults to max_iter=1000. From 0.21, default max_iter will be 1000, and default tol will be 1e-3.\n",
      "  \"and default tol will be 1e-3.\" % type(self), FutureWarning)\n",
      "C:\\ProgramData\\Anaconda3\\lib\\site-packages\\sklearn\\linear_model\\stochastic_gradient.py:128: FutureWarning: max_iter and tol parameters have been added in <class 'sklearn.linear_model.stochastic_gradient.SGDClassifier'> in 0.19. If both are left unset, they default to max_iter=5 and tol=None. If tol is not None, max_iter defaults to max_iter=1000. From 0.21, default max_iter will be 1000, and default tol will be 1e-3.\n",
      "  \"and default tol will be 1e-3.\" % type(self), FutureWarning)\n"
     ]
    },
    {
     "name": "stdout",
     "output_type": "stream",
     "text": [
      "Model name: SGDClassifier\n",
      "------------------------------\n",
      "AUC scores [0.838  0.8542 0.8503 0.882  0.8225]\n",
      "AUC 95 prc confidence interval: 0.85 (+/- 0.04)\n",
      "______________________________\n",
      " \n",
      "Model name: Random Forest classifier\n",
      "------------------------------\n",
      "AUC scores [0.8329 0.8474 0.839  0.8365 0.8551]\n",
      "AUC 95 prc confidence interval: 0.84 (+/- 0.02)\n",
      "______________________________\n",
      " \n",
      "Model name: Gradient Tree Boosting\n",
      "------------------------------\n",
      "AUC scores [0.9321 0.9443 0.9359 0.941  0.9352]\n",
      "AUC 95 prc confidence interval: 0.94 (+/- 0.01)\n",
      "______________________________\n",
      " \n",
      "Model name: Multi-layer Perceptron\n",
      "------------------------------\n",
      "AUC scores [0.9912 0.9929 0.9864 0.991  0.9904]\n",
      "AUC 95 prc confidence interval: 0.99 (+/- 0.00)\n",
      "______________________________\n",
      " \n",
      "Model name: GaussianNB\n",
      "------------------------------\n",
      "AUC scores [0.8892 0.8899 0.8931 0.9038 0.8979]\n",
      "AUC 95 prc confidence interval: 0.89 (+/- 0.01)\n",
      "______________________________\n",
      " \n"
     ]
    }
   ],
   "source": [
    "cross_val_results('Logistic regression', class_LogR, X_new_2, y, cv=5)\n",
    "cross_val_results('SGDClassifier', class_SGDC, X_new_2, y, cv=5)\n",
    "cross_val_results('Random Forest classifier', class_RF, X_new_2, y, cv=5)\n",
    "cross_val_results('Gradient Tree Boosting', class_GB, X_new_2, y, cv=5)\n",
    "cross_val_results('Multi-layer Perceptron', class_MLP, X_new_2, y, cv=5)\n",
    "cross_val_results('GaussianNB', class_GNB, X_new_2, y, cv=5)"
   ]
  },
  {
   "cell_type": "markdown",
   "metadata": {},
   "source": [
    "For futher consideration and tuning I decided to take those models which represented the quality over 90% under AUC-metric as follows (from the worst to the best):\n",
    "\n",
    "- Logistic regression\n",
    "- Gradient Tree Boosting\n",
    "- Multi-layer Perceptron\n"
   ]
  },
  {
   "cell_type": "markdown",
   "metadata": {},
   "source": [
    "# Model tuning"
   ]
  },
  {
   "cell_type": "markdown",
   "metadata": {},
   "source": [
    "## Log-regression"
   ]
  },
  {
   "cell_type": "code",
   "execution_count": 97,
   "metadata": {},
   "outputs": [],
   "source": [
    "param_grid_LR = {\"penalty\": ['l2','l1'],\n",
    "              \"C\": [0.001, 1.0, 1000]}"
   ]
  },
  {
   "cell_type": "code",
   "execution_count": 98,
   "metadata": {},
   "outputs": [
    {
     "data": {
      "text/plain": [
       "GridSearchCV(cv=5, error_score='raise',\n",
       "       estimator=LogisticRegression(C=1.0, class_weight=None, dual=False, fit_intercept=True,\n",
       "          intercept_scaling=1, max_iter=100, multi_class='ovr', n_jobs=1,\n",
       "          penalty='l2', random_state=None, solver='liblinear', tol=0.0001,\n",
       "          verbose=0, warm_start=False),\n",
       "       fit_params={}, iid=True, n_jobs=1,\n",
       "       param_grid={'penalty': ['l2', 'l1'], 'C': [0.001, 1.0, 1000]},\n",
       "       pre_dispatch='2*n_jobs', refit=True, scoring='roc_auc', verbose=0)"
      ]
     },
     "execution_count": 98,
     "metadata": {},
     "output_type": "execute_result"
    }
   ],
   "source": [
    "tunning_LR = grid_search.GridSearchCV(class_LogR, param_grid_LR, scoring = 'roc_auc', cv = 5)\n",
    "tunning_LR.fit(data_tr, y_tr)\n"
   ]
  },
  {
   "cell_type": "code",
   "execution_count": 99,
   "metadata": {},
   "outputs": [
    {
     "data": {
      "text/plain": [
       "LogisticRegression(C=0.001, class_weight=None, dual=False, fit_intercept=True,\n",
       "          intercept_scaling=1, max_iter=100, multi_class='ovr', n_jobs=1,\n",
       "          penalty='l2', random_state=None, solver='liblinear', tol=0.0001,\n",
       "          verbose=0, warm_start=False)"
      ]
     },
     "execution_count": 99,
     "metadata": {},
     "output_type": "execute_result"
    }
   ],
   "source": [
    "tunning_LR.best_estimator_"
   ]
  },
  {
   "cell_type": "code",
   "execution_count": 101,
   "metadata": {},
   "outputs": [
    {
     "name": "stdout",
     "output_type": "stream",
     "text": [
      "Chosen parameters: {'C': 0.001, 'penalty': 'l2'}\n",
      "AUC score: 0.9124231823862048\n"
     ]
    }
   ],
   "source": [
    "print(\"Chosen parameters:\" ,tunning_LR.best_params_)\n",
    "print(\"AUC score:\",tunning_LR.best_score_)"
   ]
  },
  {
   "cell_type": "markdown",
   "metadata": {},
   "source": [
    "## Gradient Tree Boosting"
   ]
  },
  {
   "cell_type": "code",
   "execution_count": 122,
   "metadata": {},
   "outputs": [],
   "source": [
    "param_grid_GB = {\"loss\": ['deviance', 'exponential'],\n",
    "              \"n_estimators\" : [10, 100],\n",
    "              \"max_features\": [None, 25]}"
   ]
  },
  {
   "cell_type": "code",
   "execution_count": 123,
   "metadata": {},
   "outputs": [
    {
     "data": {
      "text/plain": [
       "GridSearchCV(cv=5, error_score='raise',\n",
       "       estimator=GradientBoostingClassifier(criterion='friedman_mse', init=None,\n",
       "              learning_rate=0.1, loss='deviance', max_depth=3,\n",
       "              max_features=None, max_leaf_nodes=None,\n",
       "              min_impurity_decrease=0.0, min_impurity_split=None,\n",
       "              min_samples_leaf=1, min_samples_split=2,\n",
       "              min_weight_fraction_leaf=0.0, n_estimators=100,\n",
       "              presort='auto', random_state=None, subsample=1.0, verbose=0,\n",
       "              warm_start=False),\n",
       "       fit_params={}, iid=True, n_jobs=1,\n",
       "       param_grid={'loss': ['deviance', 'exponential'], 'n_estimators': [10, 100], 'max_features': [None, 25]},\n",
       "       pre_dispatch='2*n_jobs', refit=True, scoring='roc_auc', verbose=0)"
      ]
     },
     "execution_count": 123,
     "metadata": {},
     "output_type": "execute_result"
    }
   ],
   "source": [
    "tunning_GB = grid_search.GridSearchCV(class_GB, param_grid_GB, scoring = 'roc_auc', cv = 5)\n",
    "tunning_GB.fit(data_tr, y_tr)"
   ]
  },
  {
   "cell_type": "code",
   "execution_count": 124,
   "metadata": {},
   "outputs": [
    {
     "data": {
      "text/plain": [
       "GradientBoostingClassifier(criterion='friedman_mse', init=None,\n",
       "              learning_rate=0.1, loss='deviance', max_depth=3,\n",
       "              max_features=None, max_leaf_nodes=None,\n",
       "              min_impurity_decrease=0.0, min_impurity_split=None,\n",
       "              min_samples_leaf=1, min_samples_split=2,\n",
       "              min_weight_fraction_leaf=0.0, n_estimators=100,\n",
       "              presort='auto', random_state=None, subsample=1.0, verbose=0,\n",
       "              warm_start=False)"
      ]
     },
     "execution_count": 124,
     "metadata": {},
     "output_type": "execute_result"
    }
   ],
   "source": [
    "tunning_GB.best_estimator_"
   ]
  },
  {
   "cell_type": "code",
   "execution_count": 125,
   "metadata": {},
   "outputs": [
    {
     "name": "stdout",
     "output_type": "stream",
     "text": [
      "Chosen parameters: {'loss': 'deviance', 'max_features': None, 'n_estimators': 100}\n",
      "AUC score: 0.9323129009869313\n"
     ]
    }
   ],
   "source": [
    "print(\"Chosen parameters:\" ,tunning_GB.best_params_)\n",
    "print(\"AUC score:\",tunning_GB.best_score_)"
   ]
  },
  {
   "cell_type": "markdown",
   "metadata": {},
   "source": [
    "## MLP"
   ]
  },
  {
   "cell_type": "code",
   "execution_count": 139,
   "metadata": {},
   "outputs": [],
   "source": [
    "param_grid_MLP = {\"activation\": ['identity','logistic', 'tanh', 'relu'],\n",
    "              \"solver\": ['lbfgs', 'sgd', 'adam'],\n",
    "              \"learning_rate_init\": [0.01, 0.0001]}"
   ]
  },
  {
   "cell_type": "code",
   "execution_count": 140,
   "metadata": {},
   "outputs": [
    {
     "name": "stderr",
     "output_type": "stream",
     "text": [
      "C:\\ProgramData\\Anaconda3\\lib\\site-packages\\sklearn\\neural_network\\multilayer_perceptron.py:564: ConvergenceWarning: Stochastic Optimizer: Maximum iterations (200) reached and the optimization hasn't converged yet.\n",
      "  % self.max_iter, ConvergenceWarning)\n",
      "C:\\ProgramData\\Anaconda3\\lib\\site-packages\\sklearn\\neural_network\\multilayer_perceptron.py:564: ConvergenceWarning: Stochastic Optimizer: Maximum iterations (200) reached and the optimization hasn't converged yet.\n",
      "  % self.max_iter, ConvergenceWarning)\n",
      "C:\\ProgramData\\Anaconda3\\lib\\site-packages\\sklearn\\neural_network\\multilayer_perceptron.py:564: ConvergenceWarning: Stochastic Optimizer: Maximum iterations (200) reached and the optimization hasn't converged yet.\n",
      "  % self.max_iter, ConvergenceWarning)\n",
      "C:\\ProgramData\\Anaconda3\\lib\\site-packages\\sklearn\\neural_network\\multilayer_perceptron.py:564: ConvergenceWarning: Stochastic Optimizer: Maximum iterations (200) reached and the optimization hasn't converged yet.\n",
      "  % self.max_iter, ConvergenceWarning)\n",
      "C:\\ProgramData\\Anaconda3\\lib\\site-packages\\sklearn\\neural_network\\multilayer_perceptron.py:564: ConvergenceWarning: Stochastic Optimizer: Maximum iterations (200) reached and the optimization hasn't converged yet.\n",
      "  % self.max_iter, ConvergenceWarning)\n",
      "C:\\ProgramData\\Anaconda3\\lib\\site-packages\\sklearn\\neural_network\\multilayer_perceptron.py:564: ConvergenceWarning: Stochastic Optimizer: Maximum iterations (200) reached and the optimization hasn't converged yet.\n",
      "  % self.max_iter, ConvergenceWarning)\n",
      "C:\\ProgramData\\Anaconda3\\lib\\site-packages\\sklearn\\neural_network\\multilayer_perceptron.py:564: ConvergenceWarning: Stochastic Optimizer: Maximum iterations (200) reached and the optimization hasn't converged yet.\n",
      "  % self.max_iter, ConvergenceWarning)\n",
      "C:\\ProgramData\\Anaconda3\\lib\\site-packages\\sklearn\\neural_network\\multilayer_perceptron.py:564: ConvergenceWarning: Stochastic Optimizer: Maximum iterations (200) reached and the optimization hasn't converged yet.\n",
      "  % self.max_iter, ConvergenceWarning)\n",
      "C:\\ProgramData\\Anaconda3\\lib\\site-packages\\sklearn\\neural_network\\multilayer_perceptron.py:564: ConvergenceWarning: Stochastic Optimizer: Maximum iterations (200) reached and the optimization hasn't converged yet.\n",
      "  % self.max_iter, ConvergenceWarning)\n",
      "C:\\ProgramData\\Anaconda3\\lib\\site-packages\\sklearn\\neural_network\\multilayer_perceptron.py:564: ConvergenceWarning: Stochastic Optimizer: Maximum iterations (200) reached and the optimization hasn't converged yet.\n",
      "  % self.max_iter, ConvergenceWarning)\n",
      "C:\\ProgramData\\Anaconda3\\lib\\site-packages\\sklearn\\neural_network\\multilayer_perceptron.py:564: ConvergenceWarning: Stochastic Optimizer: Maximum iterations (200) reached and the optimization hasn't converged yet.\n",
      "  % self.max_iter, ConvergenceWarning)\n",
      "C:\\ProgramData\\Anaconda3\\lib\\site-packages\\sklearn\\neural_network\\multilayer_perceptron.py:564: ConvergenceWarning: Stochastic Optimizer: Maximum iterations (200) reached and the optimization hasn't converged yet.\n",
      "  % self.max_iter, ConvergenceWarning)\n",
      "C:\\ProgramData\\Anaconda3\\lib\\site-packages\\sklearn\\neural_network\\multilayer_perceptron.py:564: ConvergenceWarning: Stochastic Optimizer: Maximum iterations (200) reached and the optimization hasn't converged yet.\n",
      "  % self.max_iter, ConvergenceWarning)\n",
      "C:\\ProgramData\\Anaconda3\\lib\\site-packages\\sklearn\\neural_network\\multilayer_perceptron.py:564: ConvergenceWarning: Stochastic Optimizer: Maximum iterations (200) reached and the optimization hasn't converged yet.\n",
      "  % self.max_iter, ConvergenceWarning)\n",
      "C:\\ProgramData\\Anaconda3\\lib\\site-packages\\sklearn\\neural_network\\multilayer_perceptron.py:564: ConvergenceWarning: Stochastic Optimizer: Maximum iterations (200) reached and the optimization hasn't converged yet.\n",
      "  % self.max_iter, ConvergenceWarning)\n",
      "C:\\ProgramData\\Anaconda3\\lib\\site-packages\\sklearn\\neural_network\\multilayer_perceptron.py:564: ConvergenceWarning: Stochastic Optimizer: Maximum iterations (200) reached and the optimization hasn't converged yet.\n",
      "  % self.max_iter, ConvergenceWarning)\n",
      "C:\\ProgramData\\Anaconda3\\lib\\site-packages\\sklearn\\neural_network\\multilayer_perceptron.py:564: ConvergenceWarning: Stochastic Optimizer: Maximum iterations (200) reached and the optimization hasn't converged yet.\n",
      "  % self.max_iter, ConvergenceWarning)\n",
      "C:\\ProgramData\\Anaconda3\\lib\\site-packages\\sklearn\\neural_network\\multilayer_perceptron.py:564: ConvergenceWarning: Stochastic Optimizer: Maximum iterations (200) reached and the optimization hasn't converged yet.\n",
      "  % self.max_iter, ConvergenceWarning)\n",
      "C:\\ProgramData\\Anaconda3\\lib\\site-packages\\sklearn\\neural_network\\multilayer_perceptron.py:564: ConvergenceWarning: Stochastic Optimizer: Maximum iterations (200) reached and the optimization hasn't converged yet.\n",
      "  % self.max_iter, ConvergenceWarning)\n",
      "C:\\ProgramData\\Anaconda3\\lib\\site-packages\\sklearn\\neural_network\\multilayer_perceptron.py:564: ConvergenceWarning: Stochastic Optimizer: Maximum iterations (200) reached and the optimization hasn't converged yet.\n",
      "  % self.max_iter, ConvergenceWarning)\n",
      "C:\\ProgramData\\Anaconda3\\lib\\site-packages\\sklearn\\neural_network\\multilayer_perceptron.py:564: ConvergenceWarning: Stochastic Optimizer: Maximum iterations (200) reached and the optimization hasn't converged yet.\n",
      "  % self.max_iter, ConvergenceWarning)\n",
      "C:\\ProgramData\\Anaconda3\\lib\\site-packages\\sklearn\\neural_network\\multilayer_perceptron.py:564: ConvergenceWarning: Stochastic Optimizer: Maximum iterations (200) reached and the optimization hasn't converged yet.\n",
      "  % self.max_iter, ConvergenceWarning)\n",
      "C:\\ProgramData\\Anaconda3\\lib\\site-packages\\sklearn\\neural_network\\multilayer_perceptron.py:564: ConvergenceWarning: Stochastic Optimizer: Maximum iterations (200) reached and the optimization hasn't converged yet.\n",
      "  % self.max_iter, ConvergenceWarning)\n",
      "C:\\ProgramData\\Anaconda3\\lib\\site-packages\\sklearn\\neural_network\\multilayer_perceptron.py:564: ConvergenceWarning: Stochastic Optimizer: Maximum iterations (200) reached and the optimization hasn't converged yet.\n",
      "  % self.max_iter, ConvergenceWarning)\n",
      "C:\\ProgramData\\Anaconda3\\lib\\site-packages\\sklearn\\neural_network\\multilayer_perceptron.py:564: ConvergenceWarning: Stochastic Optimizer: Maximum iterations (200) reached and the optimization hasn't converged yet.\n",
      "  % self.max_iter, ConvergenceWarning)\n",
      "C:\\ProgramData\\Anaconda3\\lib\\site-packages\\sklearn\\neural_network\\multilayer_perceptron.py:564: ConvergenceWarning: Stochastic Optimizer: Maximum iterations (200) reached and the optimization hasn't converged yet.\n",
      "  % self.max_iter, ConvergenceWarning)\n",
      "C:\\ProgramData\\Anaconda3\\lib\\site-packages\\sklearn\\neural_network\\multilayer_perceptron.py:564: ConvergenceWarning: Stochastic Optimizer: Maximum iterations (200) reached and the optimization hasn't converged yet.\n",
      "  % self.max_iter, ConvergenceWarning)\n",
      "C:\\ProgramData\\Anaconda3\\lib\\site-packages\\sklearn\\neural_network\\multilayer_perceptron.py:564: ConvergenceWarning: Stochastic Optimizer: Maximum iterations (200) reached and the optimization hasn't converged yet.\n",
      "  % self.max_iter, ConvergenceWarning)\n",
      "C:\\ProgramData\\Anaconda3\\lib\\site-packages\\sklearn\\neural_network\\multilayer_perceptron.py:564: ConvergenceWarning: Stochastic Optimizer: Maximum iterations (200) reached and the optimization hasn't converged yet.\n",
      "  % self.max_iter, ConvergenceWarning)\n",
      "C:\\ProgramData\\Anaconda3\\lib\\site-packages\\sklearn\\neural_network\\multilayer_perceptron.py:564: ConvergenceWarning: Stochastic Optimizer: Maximum iterations (200) reached and the optimization hasn't converged yet.\n",
      "  % self.max_iter, ConvergenceWarning)\n"
     ]
    },
    {
     "data": {
      "text/plain": [
       "GridSearchCV(cv=5, error_score='raise',\n",
       "       estimator=MLPClassifier(activation='relu', alpha=0.0001, batch_size='auto', beta_1=0.9,\n",
       "       beta_2=0.999, early_stopping=False, epsilon=1e-08,\n",
       "       hidden_layer_sizes=(100,), learning_rate='constant',\n",
       "       learning_rate_init=0.001, max_iter=200, momentum=0.9,\n",
       "       nesterovs_momentum=True, power_t=0.5, random_state=None,\n",
       "       shuffle=True, solver='adam', tol=0.0001, validation_fraction=0.1,\n",
       "       verbose=False, warm_start=False),\n",
       "       fit_params={}, iid=True, n_jobs=1,\n",
       "       param_grid={'activation': ['identity', 'logistic', 'tanh', 'relu'], 'solver': ['lbfgs', 'sgd', 'adam'], 'learning_rate_init': [0.01, 0.0001]},\n",
       "       pre_dispatch='2*n_jobs', refit=True, scoring='roc_auc', verbose=0)"
      ]
     },
     "execution_count": 140,
     "metadata": {},
     "output_type": "execute_result"
    }
   ],
   "source": [
    "tunning_MLP = grid_search.GridSearchCV(class_MLP, param_grid_MLP, scoring = 'roc_auc', cv = 5)\n",
    "tunning_MLP.fit(data_tr, y_tr)"
   ]
  },
  {
   "cell_type": "code",
   "execution_count": 141,
   "metadata": {},
   "outputs": [
    {
     "data": {
      "text/plain": [
       "MLPClassifier(activation='relu', alpha=0.0001, batch_size='auto', beta_1=0.9,\n",
       "       beta_2=0.999, early_stopping=False, epsilon=1e-08,\n",
       "       hidden_layer_sizes=(100,), learning_rate='constant',\n",
       "       learning_rate_init=0.01, max_iter=200, momentum=0.9,\n",
       "       nesterovs_momentum=True, power_t=0.5, random_state=None,\n",
       "       shuffle=True, solver='adam', tol=0.0001, validation_fraction=0.1,\n",
       "       verbose=False, warm_start=False)"
      ]
     },
     "execution_count": 141,
     "metadata": {},
     "output_type": "execute_result"
    }
   ],
   "source": [
    "tunning_MLP.best_estimator_"
   ]
  },
  {
   "cell_type": "code",
   "execution_count": 142,
   "metadata": {},
   "outputs": [
    {
     "name": "stdout",
     "output_type": "stream",
     "text": [
      "Chosen parameters: {'activation': 'relu', 'learning_rate_init': 0.01, 'solver': 'adam'}\n",
      "AUC score: 0.9897337900424678\n"
     ]
    }
   ],
   "source": [
    "print(\"Chosen parameters:\" ,tunning_MLP.best_params_)\n",
    "print(\"AUC score:\",tunning_MLP.best_score_)"
   ]
  },
  {
   "cell_type": "markdown",
   "metadata": {},
   "source": [
    "Comment: there are a number of parameters that also could be changed to increase the model performance (for example, learning rate in Gradient Boosting Classifier or Hidden layer size in MLP-model), however, the computation of such parameters is rather time consuming, so, mostly only easily computating parameters have been used."
   ]
  },
  {
   "cell_type": "markdown",
   "metadata": {},
   "source": [
    "# Conclusions: model comparison\n",
    "\n",
    "We tried to build our ideal model applying the following classifiers:\n",
    "- Logistic regression\n",
    "- Gradient Tree Boosting\n",
    "- Multi-layer Perceptron\n",
    "- Decision Tree\n",
    "- Random Forest\n",
    "- Gaussian Naive Bayes\n",
    "\n",
    "After several stages of selection we stopped ar three models: ANN MLP, Log-regression and Gradien Tree Boosting, all of them represent good results (over 0.91 accuracy rate) after cross-validation even with the defaulf settings.\n",
    "Comparing tree models after tuning, we can conclude that the best model is Multi-layer Perceptron ANN, its the AUC reuslt is more around 99% (almost a perfect one) and the best parameters are 'activation': 'relu', 'learning_rate_init': 0.01, 'solver': 'adam', but we should notice that training of these model was rather time and resource consuming and the defauls setting with same level accuracy would be more preferable."
   ]
  }
 ],
 "metadata": {
  "kernelspec": {
   "display_name": "Python 3",
   "language": "python",
   "name": "python3"
  },
  "language_info": {
   "codemirror_mode": {
    "name": "ipython",
    "version": 3
   },
   "file_extension": ".py",
   "mimetype": "text/x-python",
   "name": "python",
   "nbconvert_exporter": "python",
   "pygments_lexer": "ipython3",
   "version": "3.6.5"
  },
  "varInspector": {
   "cols": {
    "lenName": 16,
    "lenType": 16,
    "lenVar": 40
   },
   "kernels_config": {
    "python": {
     "delete_cmd_postfix": "",
     "delete_cmd_prefix": "del ",
     "library": "var_list.py",
     "varRefreshCmd": "print(var_dic_list())"
    },
    "r": {
     "delete_cmd_postfix": ") ",
     "delete_cmd_prefix": "rm(",
     "library": "var_list.r",
     "varRefreshCmd": "cat(var_dic_list()) "
    }
   },
   "types_to_exclude": [
    "module",
    "function",
    "builtin_function_or_method",
    "instance",
    "_Feature"
   ],
   "window_display": false
  }
 },
 "nbformat": 4,
 "nbformat_minor": 2
}

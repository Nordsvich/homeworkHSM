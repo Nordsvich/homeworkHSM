{
 "cells": [
  {
   "cell_type": "markdown",
   "metadata": {},
   "source": [
    "# HW2: Spam detection with naive bayes"
   ]
  },
  {
   "cell_type": "markdown",
   "metadata": {},
   "source": [
    "*by Alexander Marinkiy*"
   ]
  },
  {
   "cell_type": "markdown",
   "metadata": {},
   "source": [
    "## Task"
   ]
  },
  {
   "cell_type": "markdown",
   "metadata": {},
   "source": [
    "* Download sms-spam dataset https://archive.ics.uci.edu/ml/datasets/sms+spam+collection\n",
    "* Choose and argument metric for quality\n",
    "* Code «by a hands» naive bayes for spam detection task;\n",
    "* Choose a measure of a test's accuracy and argument your choice;\n",
    "Perform 5-fold validation for this task;\n",
    "* Compare your results with sklearn naive_bayes\n",
    "* I expect your result as self-sufficient (with all comments/graph/etc.)\n",
    "Jupiter notebook in your GitHub in 2 weeks (next lecture)."
   ]
  },
  {
   "cell_type": "markdown",
   "metadata": {},
   "source": [
    "## 1. EDA"
   ]
  },
  {
   "cell_type": "code",
   "execution_count": 1,
   "metadata": {},
   "outputs": [],
   "source": [
    "# importing librarires\n",
    "import pandas as pd\n",
    "import numpy as np\n",
    "from matplotlib import pyplot as plt\n",
    "import re\n",
    "import scipy\n",
    "\n",
    "from sklearn.feature_extraction.text import CountVectorizer\n",
    "from sklearn.model_selection import train_test_split\n",
    "from sklearn.model_selection import KFold\n",
    "from sklearn.model_selection import cross_val_score\n",
    "from sklearn.naive_bayes import MultinomialNB\n",
    "from sklearn.base import BaseEstimator\n",
    "from sklearn.metrics import f1_score\n"
   ]
  },
  {
   "cell_type": "code",
   "execution_count": 2,
   "metadata": {},
   "outputs": [
    {
     "data": {
      "text/html": [
       "<div>\n",
       "<style scoped>\n",
       "    .dataframe tbody tr th:only-of-type {\n",
       "        vertical-align: middle;\n",
       "    }\n",
       "\n",
       "    .dataframe tbody tr th {\n",
       "        vertical-align: top;\n",
       "    }\n",
       "\n",
       "    .dataframe thead th {\n",
       "        text-align: right;\n",
       "    }\n",
       "</style>\n",
       "<table border=\"1\" class=\"dataframe\">\n",
       "  <thead>\n",
       "    <tr style=\"text-align: right;\">\n",
       "      <th></th>\n",
       "      <th>label</th>\n",
       "      <th>text</th>\n",
       "    </tr>\n",
       "  </thead>\n",
       "  <tbody>\n",
       "    <tr>\n",
       "      <th>0</th>\n",
       "      <td>ham</td>\n",
       "      <td>Go until jurong point, crazy.. Available only ...</td>\n",
       "    </tr>\n",
       "    <tr>\n",
       "      <th>1</th>\n",
       "      <td>ham</td>\n",
       "      <td>Ok lar... Joking wif u oni...</td>\n",
       "    </tr>\n",
       "    <tr>\n",
       "      <th>2</th>\n",
       "      <td>spam</td>\n",
       "      <td>Free entry in 2 a wkly comp to win FA Cup fina...</td>\n",
       "    </tr>\n",
       "    <tr>\n",
       "      <th>3</th>\n",
       "      <td>ham</td>\n",
       "      <td>U dun say so early hor... U c already then say...</td>\n",
       "    </tr>\n",
       "    <tr>\n",
       "      <th>4</th>\n",
       "      <td>ham</td>\n",
       "      <td>Nah I don't think he goes to usf, he lives aro...</td>\n",
       "    </tr>\n",
       "  </tbody>\n",
       "</table>\n",
       "</div>"
      ],
      "text/plain": [
       "  label                                               text\n",
       "0   ham  Go until jurong point, crazy.. Available only ...\n",
       "1   ham                      Ok lar... Joking wif u oni...\n",
       "2  spam  Free entry in 2 a wkly comp to win FA Cup fina...\n",
       "3   ham  U dun say so early hor... U c already then say...\n",
       "4   ham  Nah I don't think he goes to usf, he lives aro..."
      ]
     },
     "execution_count": 2,
     "metadata": {},
     "output_type": "execute_result"
    }
   ],
   "source": [
    "# read file to dataframe\n",
    "df = pd.read_csv('SMSSpamCollection', sep='\\t', names=[\"label\", \"text\"])\n",
    "df.head(n=5)"
   ]
  },
  {
   "cell_type": "code",
   "execution_count": 3,
   "metadata": {},
   "outputs": [
    {
     "name": "stdout",
     "output_type": "stream",
     "text": [
      "There are 5572 rows and 2 columns in our dataset\n"
     ]
    }
   ],
   "source": [
    "print('There are', df.shape[0], 'rows and', df.shape[1], 'columns in our dataset')"
   ]
  },
  {
   "cell_type": "code",
   "execution_count": 4,
   "metadata": {},
   "outputs": [
    {
     "data": {
      "text/plain": [
       "ham     4825\n",
       "spam     747\n",
       "Name: label, dtype: int64"
      ]
     },
     "execution_count": 4,
     "metadata": {},
     "output_type": "execute_result"
    }
   ],
   "source": [
    "# let's check the distribution of labels in dataset\n",
    "df[\"label\"].value_counts()"
   ]
  },
  {
   "cell_type": "code",
   "execution_count": 5,
   "metadata": {},
   "outputs": [
    {
     "data": {
      "image/png": "[encoded data removed]",
      "text/plain": [
       "<Figure size 432x432 with 1 Axes>"
      ]
     },
     "metadata": {},
     "output_type": "display_data"
    }
   ],
   "source": [
    "# Visualizing the distribution\n",
    "df[\"label\"].value_counts().plot(kind = 'pie', explode = [0, 0.1], figsize = (6, 6), autopct = '%1.1f%%', shadow = True)\n",
    "plt.legend([\"Ham\", \"Spam\"])\n",
    "plt.title('Distribution of spam and ham')\n",
    "plt.show()"
   ]
  },
  {
   "cell_type": "markdown",
   "metadata": {},
   "source": [
    "Our sample is clearly imbalanced."
   ]
  },
  {
   "cell_type": "code",
   "execution_count": 6,
   "metadata": {},
   "outputs": [
    {
     "data": {
      "text/plain": [
       "False"
      ]
     },
     "execution_count": 6,
     "metadata": {},
     "output_type": "execute_result"
    }
   ],
   "source": [
    "df.isnull().values.any()"
   ]
  },
  {
   "cell_type": "markdown",
   "metadata": {},
   "source": [
    "There are no missing values in the dataset"
   ]
  },
  {
   "cell_type": "markdown",
   "metadata": {},
   "source": [
    "## 2. Choosing metric for quality"
   ]
  },
  {
   "cell_type": "markdown",
   "metadata": {},
   "source": [
    "Our sample is imbalanced, and this means that accuracy will not be good indicator of the quality of our model. We can just predict the majority class for all elements of test sample and still get 86% accuracy, which sounds like a reasonably good model. Therefore, our main indicators should be Precision, Recall and F1 score. \n",
    "\n",
    "If we need to choose just one metric of model quality it is reasonable to choose F1 score since it accounts for both Precision and Recall."
   ]
  },
  {
   "cell_type": "markdown",
   "metadata": {},
   "source": [
    "## 3. Data Preprocessing"
   ]
  },
  {
   "cell_type": "code",
   "execution_count": 7,
   "metadata": {},
   "outputs": [],
   "source": [
    "# replace 'ham' with 0 and 'spam' with 1\n",
    "df['label'] = df['label'].map({'ham': 0, 'spam': 1})"
   ]
  },
  {
   "cell_type": "markdown",
   "metadata": {},
   "source": [
    "Now, lets assume that if we have 10 or more digits in a row - it's a phone number. The assumption will not always hold, but it may be good enough."
   ]
  },
  {
   "cell_type": "code",
   "execution_count": 8,
   "metadata": {},
   "outputs": [],
   "source": [
    "# Use regular expressions to find all words with over 10 digits in a row\n",
    "text_processed = []\n",
    "for i in df['text']:\n",
    "    i = re.sub(\"\\d{10,}\\w|\\d{10,}\",\n",
    "        \"digitsphonenumber\",\n",
    "        i)\n",
    "          \n",
    "    text_processed.append(i)\n",
    "\n",
    "df['text'] = text_processed"
   ]
  },
  {
   "cell_type": "code",
   "execution_count": 9,
   "metadata": {},
   "outputs": [
    {
     "name": "stdout",
     "output_type": "stream",
     "text": [
      "Number of rows in the total set: 5572\n",
      "Number of rows in the training set: 4179\n",
      "Number of rows in the test set: 1393\n"
     ]
    }
   ],
   "source": [
    "# Creating training and testing sets.\n",
    "\n",
    "X_train, X_test, y_train, y_test = train_test_split(df['text'], \n",
    "                                                    df['label'], \n",
    "                                                    random_state=42)\n",
    "\n",
    "print('Number of rows in the total set: {}'.format(df.shape[0]))\n",
    "print('Number of rows in the training set: {}'.format(X_train.shape[0]))\n",
    "print('Number of rows in the test set: {}'.format(X_test.shape[0]))"
   ]
  },
  {
   "cell_type": "code",
   "execution_count": 10,
   "metadata": {},
   "outputs": [],
   "source": [
    "# transforming the data using CountVectorizer. We gonna use n_grams in range 1-2.\n",
    "count_vector = CountVectorizer(stop_words='english', ngram_range=(1, 2))\n",
    "X_train_trans = count_vector.fit_transform(X_train)\n",
    "X_test_trans = count_vector.transform(X_test)"
   ]
  },
  {
   "cell_type": "markdown",
   "metadata": {},
   "source": [
    "## 4. Naive Bayes implementation from scratch"
   ]
  },
  {
   "cell_type": "markdown",
   "metadata": {},
   "source": [
    "First of all, lets calculate probabilities of spam and ham in our dataset"
   ]
  },
  {
   "cell_type": "markdown",
   "metadata": {},
   "source": [
    "$$P(ham) = \\frac{number\\, of\\, documents\\, belonging\\, to\\, category\\, ham}{total\\, number\\, of\\, documents}$$"
   ]
  },
  {
   "cell_type": "markdown",
   "metadata": {},
   "source": [
    "$$P(spam) = \\frac{no\\ of\\ documents\\ belonging\\ to\\ category\\ spam}{total\\ no\\ of\\ documents}$$"
   ]
  },
  {
   "cell_type": "code",
   "execution_count": 11,
   "metadata": {},
   "outputs": [
    {
     "data": {
      "text/plain": [
       "0.1342426417803302"
      ]
     },
     "execution_count": 11,
     "metadata": {},
     "output_type": "execute_result"
    }
   ],
   "source": [
    "# P(spam)\n",
    "p_spam = sum(y_train) / len(y_train)\n",
    "p_spam"
   ]
  },
  {
   "cell_type": "code",
   "execution_count": 12,
   "metadata": {},
   "outputs": [
    {
     "data": {
      "text/plain": [
       "0.8657573582196698"
      ]
     },
     "execution_count": 12,
     "metadata": {},
     "output_type": "execute_result"
    }
   ],
   "source": [
    "# P(ham)\n",
    "p_ham = 1 - sum(y_train) / len(y_train)\n",
    "p_ham"
   ]
  },
  {
   "cell_type": "markdown",
   "metadata": {},
   "source": [
    "Secondly, for each word we will find probability of this word apperaing in spam and ham message"
   ]
  },
  {
   "cell_type": "markdown",
   "metadata": {},
   "source": [
    "$$P(word1 | ham) = \\frac{count\\ of\\ word1\\ belonging\\ to\\ category\\ ham + 1}{total\\ count\\ of\\ words\\ belonging\\ to\\ ham\\ + number\\ of\\ distinct\\ words\\ in\\ training\\ data\\ sets} $$"
   ]
  },
  {
   "cell_type": "markdown",
   "metadata": {},
   "source": [
    "$$P(word1 | spam) = \\frac{count\\ of\\ word1\\ belonging\\ to\\ category\\ spam + 1}{total\\ count\\ of\\ words\\ belonging\\ to\\ spam\\ + number\\ of\\ distinct\\ words\\ in\\ training\\ data\\ sets} $$"
   ]
  },
  {
   "cell_type": "code",
   "execution_count": 13,
   "metadata": {},
   "outputs": [],
   "source": [
    "# find probabilities for spam\n",
    "indices = np.where(y_train == 1)[0]\n",
    "spam = X_train_trans.tocsr()[indices,:]\n",
    "\n",
    "frequency_spam = spam.toarray().sum(axis=0) + 1\n",
    "probability_spam = frequency_spam / (sum(frequency_spam))"
   ]
  },
  {
   "cell_type": "code",
   "execution_count": 14,
   "metadata": {},
   "outputs": [],
   "source": [
    "# find probabilities for ham\n",
    "indices = np.where(y_train == 0)[0]\n",
    "ham = X_train_trans.tocsr()[indices,:]\n",
    "\n",
    "frequency_ham = ham.toarray().sum(axis=0) + 1\n",
    "probability_ham = frequency_ham / (sum(frequency_ham))\n",
    "\n"
   ]
  },
  {
   "cell_type": "markdown",
   "metadata": {},
   "source": [
    "Finally, lets find log of P(ham | bodyText) and P(spam | bodyText)"
   ]
  },
  {
   "cell_type": "markdown",
   "metadata": {},
   "source": [
    "$$ log(P(ham | bodyText)) = log(P(ham)) + log(P(bodyText | ham)) = log(P(ham)) + log(P(word1 | ham)) + log(P(word2 | ham)) … $$"
   ]
  },
  {
   "cell_type": "markdown",
   "metadata": {},
   "source": [
    "$$log(P(spam | bodyText)) = log(P(spam)) + log(P(bodyText | spam)) = log(P(spam)) + log(P(word1 | spam)) + log(P(word2 | spam)) …$$"
   ]
  },
  {
   "cell_type": "code",
   "execution_count": 15,
   "metadata": {},
   "outputs": [],
   "source": [
    "def spam_or_ham(arr):\n",
    "    prob_ham = np.log(p_ham)\n",
    "    prob_spam = np.log(p_spam)\n",
    "    arr = scipy.sparse.find(arr)\n",
    "    for i in range(len(arr[1])):\n",
    "        prob_ham = prob_ham + np.log(probability_ham[arr[1][i]]) * arr[2][i]\n",
    "        prob_spam = prob_spam + np.log(probability_spam[arr[1][i]]) * arr[2][i]\n",
    "\n",
    "    if prob_ham >= prob_spam:\n",
    "        return 0\n",
    "    else:\n",
    "        return 1\n",
    "\n",
    "ans = []\n",
    "for i in X_test_trans:\n",
    "    ans.append(spam_or_ham(i))"
   ]
  },
  {
   "cell_type": "code",
   "execution_count": 16,
   "metadata": {},
   "outputs": [
    {
     "name": "stdout",
     "output_type": "stream",
     "text": [
      "              precision    recall  f1-score   support\n",
      "\n",
      "           0       0.99      1.00      0.99      1207\n",
      "           1       0.97      0.96      0.96       186\n",
      "\n",
      "   micro avg       0.99      0.99      0.99      1393\n",
      "   macro avg       0.98      0.98      0.98      1393\n",
      "weighted avg       0.99      0.99      0.99      1393\n",
      "\n"
     ]
    }
   ],
   "source": [
    "from sklearn.metrics import classification_report\n",
    "\n",
    "print(classification_report(y_test, ans))"
   ]
  },
  {
   "cell_type": "markdown",
   "metadata": {},
   "source": [
    "## 5. Lets rewrite this model as a class"
   ]
  },
  {
   "cell_type": "markdown",
   "metadata": {},
   "source": [
    "In order to conduct cross-validation and use model in the future it is reasonable to rewrite our code as class."
   ]
  },
  {
   "cell_type": "code",
   "execution_count": 17,
   "metadata": {},
   "outputs": [],
   "source": [
    "class custom_NBclassifier(BaseEstimator):\n",
    "    def __init__(self):\n",
    "        # initialize object of class\n",
    "        self.p_spam = None\n",
    "        self.p_spam = None\n",
    "        self.probability_spam = None\n",
    "        self.probability_ham = None\n",
    "\n",
    "    def fit(self, X, y):\n",
    "        # P(spam) & P(ham)\n",
    "        self.p_spam = sum(y) / len(y)\n",
    "        self.p_ham = 1 - sum(y) / len(y)\n",
    "\n",
    "        # find probabilities for spam\n",
    "        indices = np.where(y == 1)[0]\n",
    "        spam = X.tocsr()[indices,:]\n",
    "        frequency_spam = spam.toarray().sum(axis=0) + 1\n",
    "        self.probability_spam = frequency_spam / (sum(frequency_spam))\n",
    "\n",
    "        # find probabilities for ham\n",
    "        indices = np.where(y == 0)[0]\n",
    "        ham = X.tocsr()[indices,:]\n",
    "        frequency_ham = ham.toarray().sum(axis=0) + 1\n",
    "        self.probability_ham = frequency_ham / (sum(frequency_ham))\n",
    "\n",
    "    def predict(self, X):\n",
    "        ans = []\n",
    "        for i in X:\n",
    "            ans.append(spam_or_ham(i))\n",
    "        return ans\n",
    "\n",
    "    def spam_or_ham(self, arr):\n",
    "        prob_ham = np.log(self.p_ham)\n",
    "        prob_spam = np.log(self.p_spam)\n",
    "        arr = scipy.sparse.find(arr)\n",
    "        for i in range(len(arr[1])):\n",
    "            prob_ham = prob_ham + np.log(self.probability_ham[arr[1][i]]) * arr[2][i]\n",
    "            prob_spam = prob_spam + np.log(self.probability_spam[arr[1][i]]) * arr[2][i]\n",
    "\n",
    "        if prob_ham >= prob_spam:\n",
    "            return 0\n",
    "        else:\n",
    "            return 1"
   ]
  },
  {
   "cell_type": "markdown",
   "metadata": {},
   "source": [
    "## 6. Comparing with Naive Bayes sklearn implementation"
   ]
  },
  {
   "cell_type": "code",
   "execution_count": 18,
   "metadata": {},
   "outputs": [
    {
     "data": {
      "text/plain": [
       "MultinomialNB(alpha=1.0, class_prior=None, fit_prior=True)"
      ]
     },
     "execution_count": 18,
     "metadata": {},
     "output_type": "execute_result"
    }
   ],
   "source": [
    "# training model\n",
    "naive_bayes = MultinomialNB()\n",
    "naive_bayes.fit(X_train_trans, y_train)"
   ]
  },
  {
   "cell_type": "code",
   "execution_count": 19,
   "metadata": {},
   "outputs": [
    {
     "name": "stdout",
     "output_type": "stream",
     "text": [
      "              precision    recall  f1-score   support\n",
      "\n",
      "           0       0.99      1.00      0.99      1207\n",
      "           1       0.97      0.96      0.96       186\n",
      "\n",
      "   micro avg       0.99      0.99      0.99      1393\n",
      "   macro avg       0.98      0.98      0.98      1393\n",
      "weighted avg       0.99      0.99      0.99      1393\n",
      "\n"
     ]
    }
   ],
   "source": [
    "print(classification_report(y_test, naive_bayes.predict(X_test_trans)))"
   ]
  },
  {
   "cell_type": "code",
   "execution_count": 20,
   "metadata": {},
   "outputs": [
    {
     "name": "stdout",
     "output_type": "stream",
     "text": [
      "[0.97849462 0.97488038 0.97129187 0.9760479  0.9760479 ]\n"
     ]
    }
   ],
   "source": [
    "# cross val scores for sklearn implementation\n",
    "naive_bayes = MultinomialNB()\n",
    "print(cross_val_score(naive_bayes, X_train_trans, y_train, cv=5, scoring = 'f1')) "
   ]
  },
  {
   "cell_type": "code",
   "execution_count": 23,
   "metadata": {},
   "outputs": [
    {
     "name": "stdout",
     "output_type": "stream",
     "text": [
      "[0.99056604 0.99574468 0.99122807 0.99534884 0.99152542]\n"
     ]
    }
   ],
   "source": [
    "# cross val scores for custom implementation\n",
    "clf = custom_NBclassifier()\n",
    "print(cross_val_score(clf, X_train_trans, y_train, cv=5, scoring = 'f1')) "
   ]
  },
  {
   "cell_type": "markdown",
   "metadata": {},
   "source": [
    "## Results"
   ]
  },
  {
   "cell_type": "markdown",
   "metadata": {},
   "source": [
    "We can see that our implementation of Naive Bayes model achieved **similar model quality** on cross validation as sklearn implementation :)"
   ]
  },
  {
   "cell_type": "code",
   "execution_count": null,
   "metadata": {},
   "outputs": [],
   "source": []
  }
 ],
 "metadata": {
  "kernelspec": {
   "display_name": "Python 3",
   "language": "python",
   "name": "python3"
  },
  "language_info": {
   "codemirror_mode": {
    "name": "ipython",
    "version": 3
   },
   "file_extension": ".py",
   "mimetype": "text/x-python",
   "name": "python",
   "nbconvert_exporter": "python",
   "pygments_lexer": "ipython3",
   "version": "3.6.6"
  },
  "varInspector": {
   "cols": {
    "lenName": 16,
    "lenType": 16,
    "lenVar": 40
   },
   "kernels_config": {
    "python": {
     "delete_cmd_postfix": "",
     "delete_cmd_prefix": "del ",
     "library": "var_list.py",
     "varRefreshCmd": "print(var_dic_list())"
    },
    "r": {
     "delete_cmd_postfix": ") ",
     "delete_cmd_prefix": "rm(",
     "library": "var_list.r",
     "varRefreshCmd": "cat(var_dic_list()) "
    }
   },
   "types_to_exclude": [
    "module",
    "function",
    "builtin_function_or_method",
    "instance",
    "_Feature"
   ],
   "window_display": false
  }
 },
 "nbformat": 4,
 "nbformat_minor": 2
}

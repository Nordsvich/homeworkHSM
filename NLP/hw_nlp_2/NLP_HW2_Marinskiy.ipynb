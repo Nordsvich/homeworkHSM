{
 "cells": [
  {
   "cell_type": "markdown",
   "metadata": {},
   "source": [
    "# NLP HW2: BBC Dataset"
   ]
  },
  {
   "cell_type": "markdown",
   "metadata": {},
   "source": [
    "*by Alexander Marinskiy*"
   ]
  },
  {
   "cell_type": "markdown",
   "metadata": {},
   "source": [
    "## Task\n",
    "Classify news to one of 5 categories based on text\n",
    "\n",
    "1. Choose and argue your measure of a test's accuracy\n",
    "2. Build data processing and classification pipeline\n",
    "3. Tune  your model\n"
   ]
  },
  {
   "cell_type": "code",
   "execution_count": 1,
   "metadata": {},
   "outputs": [],
   "source": [
    "# import libraries\n",
    "\n",
    "import os\n",
    "import warnings\n",
    "\n",
    "import pandas as pd\n",
    "import numpy as np\n",
    "from matplotlib import pyplot as plt\n",
    "\n",
    "from sklearn.feature_extraction.text import TfidfVectorizer\n",
    "from sklearn.feature_extraction.text import CountVectorizer\n",
    "from sklearn.pipeline import make_pipeline\n",
    "\n",
    "from sklearn.linear_model import LogisticRegression\n",
    "from sklearn.ensemble import RandomForestClassifier\n",
    "from sklearn.naive_bayes import MultinomialNB\n",
    "\n",
    "from sklearn.model_selection import cross_validate\n",
    "from sklearn.model_selection import GridSearchCV"
   ]
  },
  {
   "cell_type": "code",
   "execution_count": 2,
   "metadata": {},
   "outputs": [],
   "source": [
    "# ignore warnings\n",
    "warnings.filterwarnings(\"ignore\")"
   ]
  },
  {
   "cell_type": "markdown",
   "metadata": {},
   "source": [
    "## 1. Get Data "
   ]
  },
  {
   "cell_type": "code",
   "execution_count": 3,
   "metadata": {},
   "outputs": [],
   "source": [
    "# initialize dataframe\n",
    "df = pd.DataFrame()\n",
    "\n",
    "# initialize variables\n",
    "texts = []\n",
    "labels = []\n",
    "titles = []\n",
    "\n",
    "# walk through all the files in dataset\n",
    "for subdir, dirs, files in os.walk('dataset'):\n",
    "    for file in files:\n",
    "        \n",
    "        # get texts\n",
    "        with open(os.path.join(subdir, file), 'r') as doc:\n",
    "            texts.append(' '.join(doc.readlines()).replace('\\n', ''))   \n",
    "        # get labels\n",
    "        labels.append(subdir.split('\\\\')[-1])\n",
    "\n",
    "# fill dataframe\n",
    "df['text'] = texts\n",
    "df['label'] = labels\n"
   ]
  },
  {
   "cell_type": "code",
   "execution_count": 4,
   "metadata": {},
   "outputs": [
    {
     "data": {
      "text/html": [
       "<div>\n",
       "<style scoped>\n",
       "    .dataframe tbody tr th:only-of-type {\n",
       "        vertical-align: middle;\n",
       "    }\n",
       "\n",
       "    .dataframe tbody tr th {\n",
       "        vertical-align: top;\n",
       "    }\n",
       "\n",
       "    .dataframe thead th {\n",
       "        text-align: right;\n",
       "    }\n",
       "</style>\n",
       "<table border=\"1\" class=\"dataframe\">\n",
       "  <thead>\n",
       "    <tr style=\"text-align: right;\">\n",
       "      <th></th>\n",
       "      <th>text</th>\n",
       "      <th>label</th>\n",
       "    </tr>\n",
       "  </thead>\n",
       "  <tbody>\n",
       "    <tr>\n",
       "      <th>0</th>\n",
       "      <td>Ad sales boost Time Warner profit  Quarterly p...</td>\n",
       "      <td>business</td>\n",
       "    </tr>\n",
       "    <tr>\n",
       "      <th>1</th>\n",
       "      <td>Dollar gains on Greenspan speech  The dollar h...</td>\n",
       "      <td>business</td>\n",
       "    </tr>\n",
       "    <tr>\n",
       "      <th>2</th>\n",
       "      <td>Yukos unit buyer faces loan claim  The owners ...</td>\n",
       "      <td>business</td>\n",
       "    </tr>\n",
       "    <tr>\n",
       "      <th>3</th>\n",
       "      <td>High fuel prices hit BA's profits  British Air...</td>\n",
       "      <td>business</td>\n",
       "    </tr>\n",
       "    <tr>\n",
       "      <th>4</th>\n",
       "      <td>Pernod takeover talk lifts Domecq  Shares in U...</td>\n",
       "      <td>business</td>\n",
       "    </tr>\n",
       "  </tbody>\n",
       "</table>\n",
       "</div>"
      ],
      "text/plain": [
       "                                                text     label\n",
       "0  Ad sales boost Time Warner profit  Quarterly p...  business\n",
       "1  Dollar gains on Greenspan speech  The dollar h...  business\n",
       "2  Yukos unit buyer faces loan claim  The owners ...  business\n",
       "3  High fuel prices hit BA's profits  British Air...  business\n",
       "4  Pernod takeover talk lifts Domecq  Shares in U...  business"
      ]
     },
     "execution_count": 4,
     "metadata": {},
     "output_type": "execute_result"
    }
   ],
   "source": [
    "# Check what dataframe looks like\n",
    "df.head(n=5)"
   ]
  },
  {
   "cell_type": "code",
   "execution_count": 5,
   "metadata": {},
   "outputs": [
    {
     "name": "stdout",
     "output_type": "stream",
     "text": [
      "There are 2225 rows and 2 columns in our dataset\n"
     ]
    }
   ],
   "source": [
    "print('There are', df.shape[0], 'rows and', df.shape[1], 'columns in our dataset')"
   ]
  },
  {
   "cell_type": "code",
   "execution_count": 6,
   "metadata": {},
   "outputs": [
    {
     "data": {
      "text/plain": [
       "sport            511\n",
       "business         510\n",
       "politics         417\n",
       "tech             401\n",
       "entertainment    386\n",
       "Name: label, dtype: int64"
      ]
     },
     "execution_count": 6,
     "metadata": {},
     "output_type": "execute_result"
    }
   ],
   "source": [
    "# let's check the distribution of labels in dataset\n",
    "df[\"label\"].value_counts()"
   ]
  },
  {
   "cell_type": "code",
   "execution_count": 7,
   "metadata": {},
   "outputs": [
    {
     "data": {
      "image/png": "[encoded data removed]",
      "text/plain": [
       "<Figure size 432x432 with 1 Axes>"
      ]
     },
     "metadata": {},
     "output_type": "display_data"
    }
   ],
   "source": [
    "# Visualizing the distribution\n",
    "df[\"label\"].value_counts().plot(kind = 'pie', figsize = (6, 6), autopct = '%1.1f%%', shadow = True)\n",
    "plt.title('Distribution of categories')\n",
    "plt.show()"
   ]
  },
  {
   "cell_type": "markdown",
   "metadata": {},
   "source": [
    "We can see that the dataset is almost balanced."
   ]
  },
  {
   "cell_type": "markdown",
   "metadata": {},
   "source": [
    "## 2. Choosing metric for quality"
   ]
  },
  {
   "cell_type": "markdown",
   "metadata": {},
   "source": [
    "We are facing with the task of **multiclass classification** in a **balanced dataset**. Since the dataset is balanced, it is reasonable to use average accuracy or macro averaged f1 score as metrics. I will use average accuracy because this metric is more intuitive."
   ]
  },
  {
   "cell_type": "markdown",
   "metadata": {},
   "source": [
    "## 3. Initialize Vectorizers and Models"
   ]
  },
  {
   "cell_type": "markdown",
   "metadata": {},
   "source": [
    "It's important to note during process ov vectorization that we **can not use vectorization on the whole dataset** because in this approach we may **leak test data to our model**, even though we don't feed it explicitly. Such values as size of vocabulary and IDF value of each term in vocabulary may differ when test documents are included in vectorization. In order to get a correct evaluation of the quality of the model, we need to fit the vectorizer for each fold of cross validation separately."
   ]
  },
  {
   "cell_type": "code",
   "execution_count": 8,
   "metadata": {},
   "outputs": [],
   "source": [
    "# make dictionary with names of vectorizers and vectorizers\n",
    "vecrotizers={'Tf-idf vectorizer': TfidfVectorizer(sublinear_tf=True, \n",
    "                                                  min_df=5, \n",
    "                                                  norm='l2', \n",
    "                                                  encoding='latin-1', \n",
    "                                                  ngram_range=(1, 2), \n",
    "                                                  stop_words='english'),\n",
    "             'Count vectorizer': CountVectorizer(min_df=5, \n",
    "                                                 encoding='latin-1', \n",
    "                                                 stop_words='english', \n",
    "                                                 ngram_range=(1, 2))}"
   ]
  },
  {
   "cell_type": "markdown",
   "metadata": {},
   "source": [
    "Now lets create dictionary with models to choose from. I choosed one tree-based model, one bayasian model and one linear model. "
   ]
  },
  {
   "cell_type": "code",
   "execution_count": 9,
   "metadata": {},
   "outputs": [],
   "source": [
    "# create dictionary with models\n",
    "models = {'Random Forest': RandomForestClassifier(n_estimators=200, random_state=42),\n",
    "          'Multinomial Naive Bayes': MultinomialNB(),\n",
    "          'Logistic Regression': LogisticRegression(random_state=42)}"
   ]
  },
  {
   "cell_type": "markdown",
   "metadata": {},
   "source": [
    "## 4. Model selection"
   ]
  },
  {
   "cell_type": "markdown",
   "metadata": {},
   "source": [
    "Now, lets get scores for each model and each vectorizer:"
   ]
  },
  {
   "cell_type": "code",
   "execution_count": 10,
   "metadata": {},
   "outputs": [],
   "source": [
    "# Function to get scores for specific vectorizer and model. \n",
    "def evaluate_model(X, y, vectorizer_name, vectorizer, model_name, model):\n",
    "    # create pipline to fit vectorizer on each fold\n",
    "    clf = make_pipeline(vectorizer, model)\n",
    "    \n",
    "    # get scores\n",
    "    scores = cross_validate(clf, \n",
    "                            X, \n",
    "                            y, \n",
    "                            scoring=['accuracy'], \n",
    "                            cv=5)\n",
    "    \n",
    "    # print results\n",
    "    print('Accuracy for', model_name, 'model with', vectorizer_name, 'on cross-validation is', np.mean(scores['test_accuracy']))"
   ]
  },
  {
   "cell_type": "code",
   "execution_count": 11,
   "metadata": {},
   "outputs": [
    {
     "name": "stdout",
     "output_type": "stream",
     "text": [
      "Accuracy for Random Forest model with Tf-idf vectorizer on cross-validation is 0.9501459354619467\n",
      "Accuracy for Random Forest model with Count vectorizer on cross-validation is 0.9488036130030512\n",
      "Accuracy for Multinomial Naive Bayes model with Tf-idf vectorizer on cross-validation is 0.9622608202102583\n",
      "Accuracy for Multinomial Naive Bayes model with Count vectorizer on cross-validation is 0.964084728789785\n",
      "Accuracy for Logistic Regression model with Tf-idf vectorizer on cross-validation is 0.9699114192442846\n",
      "Accuracy for Logistic Regression model with Count vectorizer on cross-validation is 0.9645341669920322\n"
     ]
    }
   ],
   "source": [
    "for model_name, model in models.items():\n",
    "    for vectorizer_name, vectorizer in vecrotizers.items():\n",
    "        evaluate_model(df.text, df.label, vectorizer_name, vectorizer, model_name, model)"
   ]
  },
  {
   "cell_type": "markdown",
   "metadata": {},
   "source": [
    "All of the combinations of model and vectorizer showed good results. For model tuninig i will use Logistic Regression model with tf-idf vectorizer."
   ]
  },
  {
   "cell_type": "markdown",
   "metadata": {},
   "source": [
    "## 5. Model tuning"
   ]
  },
  {
   "cell_type": "code",
   "execution_count": 12,
   "metadata": {},
   "outputs": [],
   "source": [
    "# build function for model tuning\n",
    "def model_tuning(model_name, model, vectorizer, param, X, y):\n",
    "    # fit gridsearchCV\n",
    "    clf = make_pipeline(vectorizer, model)\n",
    "    clf_cv = GridSearchCV(clf, param, scoring='accuracy', n_jobs=-1, cv=5)   \n",
    "    clf_cv.fit(X, y)\n",
    "    \n",
    "    # print results\n",
    "    print(clf_cv.best_estimator_)\n",
    "    print()\n",
    "    print('Best accuracy of', model_name, 'model on cross-validation:', clf_cv.best_score_)"
   ]
  },
  {
   "cell_type": "code",
   "execution_count": 13,
   "metadata": {},
   "outputs": [],
   "source": [
    "# set parameters to choose from\n",
    "param_logreg = {\n",
    " 'logisticregression__penalty': ['l1', 'l2'],\n",
    " 'logisticregression__C': [0.001, 0.01, 0.1, 1, 10, 100, 1000, 10000]\n",
    "}"
   ]
  },
  {
   "cell_type": "code",
   "execution_count": 14,
   "metadata": {},
   "outputs": [
    {
     "name": "stdout",
     "output_type": "stream",
     "text": [
      "Pipeline(memory=None,\n",
      "         steps=[('tfidfvectorizer',\n",
      "                 TfidfVectorizer(analyzer='word', binary=False,\n",
      "                                 decode_error='strict',\n",
      "                                 dtype=<class 'numpy.float64'>,\n",
      "                                 encoding='latin-1', input='content',\n",
      "                                 lowercase=True, max_df=1.0, max_features=None,\n",
      "                                 min_df=5, ngram_range=(1, 2), norm='l2',\n",
      "                                 preprocessor=None, smooth_idf=True,\n",
      "                                 stop_words='english', strip_accents=None,\n",
      "                                 sublinear_tf=True,\n",
      "                                 token_pattern='(?u)\\\\b\\\\w\\\\w+\\\\b',\n",
      "                                 tokenizer=None, use_idf=True,\n",
      "                                 vocabulary=None)),\n",
      "                ('logisticregression',\n",
      "                 LogisticRegression(C=1000, class_weight=None, dual=False,\n",
      "                                    fit_intercept=True, intercept_scaling=1,\n",
      "                                    l1_ratio=None, max_iter=100,\n",
      "                                    multi_class='warn', n_jobs=None,\n",
      "                                    penalty='l2', random_state=42,\n",
      "                                    solver='warn', tol=0.0001, verbose=0,\n",
      "                                    warm_start=False))],\n",
      "         verbose=False)\n",
      "\n",
      "Best accuracy of Logistic regression model on cross-validation: 0.9752808988764045\n"
     ]
    }
   ],
   "source": [
    "model_tuning('Logistic regression', \n",
    "             models['Logistic Regression'], \n",
    "             vecrotizers['Tf-idf vectorizer'],\n",
    "             param_logreg, \n",
    "             df.text, \n",
    "             df.label)"
   ]
  },
  {
   "cell_type": "markdown",
   "metadata": {},
   "source": [
    "All done :)"
   ]
  },
  {
   "cell_type": "code",
   "execution_count": null,
   "metadata": {},
   "outputs": [],
   "source": []
  }
 ],
 "metadata": {
  "kernelspec": {
   "display_name": "Python 3",
   "language": "python",
   "name": "python3"
  },
  "language_info": {
   "codemirror_mode": {
    "name": "ipython",
    "version": 3
   },
   "file_extension": ".py",
   "mimetype": "text/x-python",
   "name": "python",
   "nbconvert_exporter": "python",
   "pygments_lexer": "ipython3",
   "version": "3.6.8"
  },
  "varInspector": {
   "cols": {
    "lenName": 16,
    "lenType": 16,
    "lenVar": 40
   },
   "kernels_config": {
    "python": {
     "delete_cmd_postfix": "",
     "delete_cmd_prefix": "del ",
     "library": "var_list.py",
     "varRefreshCmd": "print(var_dic_list())"
    },
    "r": {
     "delete_cmd_postfix": ") ",
     "delete_cmd_prefix": "rm(",
     "library": "var_list.r",
     "varRefreshCmd": "cat(var_dic_list()) "
    }
   },
   "types_to_exclude": [
    "module",
    "function",
    "builtin_function_or_method",
    "instance",
    "_Feature"
   ],
   "window_display": false
  }
 },
 "nbformat": 4,
 "nbformat_minor": 2
}

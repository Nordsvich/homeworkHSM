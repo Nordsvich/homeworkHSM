{
 "cells": [
  {
   "cell_type": "markdown",
   "metadata": {},
   "source": [
    "# NLIP. Home assignment 1.                                  Zhanna Azizova"
   ]
  },
  {
   "cell_type": "code",
   "execution_count": 1,
   "metadata": {
    "collapsed": true,
    "scrolled": true
   },
   "outputs": [],
   "source": [
    "# load libraries\n",
    "\n",
    "%matplotlib inline\n",
    "import matplotlib.pyplot as plt\n",
    "\n",
    "import numpy as np\n",
    "import pandas as pd\n",
    "\n",
    "import sklearn.metrics as metrics\n",
    "\n",
    "from scipy.stats import randint as sp_randint\n",
    "from time import time\n",
    "\n",
    "from sklearn.svm import LinearSVC\n",
    "from sklearn.ensemble import ExtraTreesClassifier\n",
    "from sklearn.feature_selection import SelectFromModel\n",
    "from sklearn.model_selection import GridSearchCV\n",
    "\n",
    "from sklearn.model_selection import cross_validate, train_test_split\n",
    "from sklearn.linear_model import LogisticRegression\n",
    "from sklearn.tree import DecisionTreeClassifier\n",
    "from sklearn.ensemble import RandomForestClassifier\n",
    "from sklearn.ensemble import GradientBoostingClassifier\n",
    "from sklearn.neural_network import MLPClassifier\n",
    "\n",
    "import warnings\n",
    "warnings.filterwarnings(\"ignore\")"
   ]
  },
  {
   "cell_type": "code",
   "execution_count": 2,
   "metadata": {
    "collapsed": true
   },
   "outputs": [],
   "source": [
    "# function to estimate model performance and draw the AUC-ROC curve\n",
    "\n",
    "def model_performance(model_name, X_tr, y_tr, y_te, y_pred):\n",
    "    print('Model name: %s'%model_name)\n",
    "    print('-----------------------------------')\n",
    "    print('Test accuracy (Accuracy Score): %0.2f'%metrics.accuracy_score(y_te, y_pred))\n",
    "    print('Test precision 0: %0.2f'%metrics.precision_score(y_te, y_pred, pos_label=0))   \n",
    "    print('Test precision 1: %0.2f'%metrics.precision_score(y_te, y_pred, pos_label=1)) \n",
    "    print('Test recall 0: %0.2f'%metrics.recall_score(y_te, y_pred, pos_label=0))   \n",
    "    print('Test recall 1: %0.2f'%metrics.recall_score(y_te, y_pred, pos_label=1))\n",
    "    print('-----------------------------------')\n",
    "    print('Test accuracy (ROC AUC Score): %0.2f'%metrics.roc_auc_score(y_te, y_pred))\n",
    "\n",
    "    false_positive_rate, true_positive_rate, thresholds = metrics.roc_curve(y_te, y_pred)\n",
    "    roc_auc = metrics.auc(false_positive_rate, true_positive_rate)\n",
    "\n",
    "    # making the graph\n",
    "    plt.title('Receiver Operating Characteristic')\n",
    "    plt.plot(false_positive_rate, true_positive_rate, 'b', label='AUC = %0.2f'% roc_auc)\n",
    "    plt.legend(loc='lower right')\n",
    "    plt.plot([0,1],[0,1],'r--')\n",
    "    plt.xlim([-0.1,1.2])\n",
    "    plt.ylim([-0.1,1.2])\n",
    "    plt.ylabel('True Positive Rate')\n",
    "    plt.xlabel('False Positive Rate')\n",
    "    plt.show()"
   ]
  },
  {
   "cell_type": "markdown",
   "metadata": {},
   "source": [
    "## 0. Data pre-processing"
   ]
  },
  {
   "cell_type": "code",
   "execution_count": 3,
   "metadata": {
    "collapsed": true
   },
   "outputs": [],
   "source": [
    "# reading the data \n",
    "data = pd.read_csv('dataset_simple.csv')"
   ]
  },
  {
   "cell_type": "code",
   "execution_count": 4,
   "metadata": {},
   "outputs": [
    {
     "data": {
      "text/plain": [
       "(9999, 1001)"
      ]
     },
     "execution_count": 4,
     "metadata": {},
     "output_type": "execute_result"
    }
   ],
   "source": [
    "data.shape"
   ]
  },
  {
   "cell_type": "code",
   "execution_count": 5,
   "metadata": {},
   "outputs": [
    {
     "data": {
      "text/html": [
       "<div>\n",
       "<style>\n",
       "    .dataframe thead tr:only-child th {\n",
       "        text-align: right;\n",
       "    }\n",
       "\n",
       "    .dataframe thead th {\n",
       "        text-align: left;\n",
       "    }\n",
       "\n",
       "    .dataframe tbody tr th {\n",
       "        vertical-align: top;\n",
       "    }\n",
       "</style>\n",
       "<table border=\"1\" class=\"dataframe\">\n",
       "  <thead>\n",
       "    <tr style=\"text-align: right;\">\n",
       "      <th></th>\n",
       "      <th>feature_0</th>\n",
       "      <th>feature_1</th>\n",
       "      <th>feature_2</th>\n",
       "      <th>feature_3</th>\n",
       "      <th>feature_4</th>\n",
       "      <th>feature_5</th>\n",
       "      <th>feature_6</th>\n",
       "      <th>feature_7</th>\n",
       "      <th>feature_8</th>\n",
       "      <th>feature_9</th>\n",
       "      <th>...</th>\n",
       "      <th>feature_991</th>\n",
       "      <th>feature_992</th>\n",
       "      <th>feature_993</th>\n",
       "      <th>feature_994</th>\n",
       "      <th>feature_995</th>\n",
       "      <th>feature_996</th>\n",
       "      <th>feature_997</th>\n",
       "      <th>feature_998</th>\n",
       "      <th>feature_999</th>\n",
       "      <th>label</th>\n",
       "    </tr>\n",
       "  </thead>\n",
       "  <tbody>\n",
       "    <tr>\n",
       "      <th>0</th>\n",
       "      <td>-0.272674</td>\n",
       "      <td>0.801643</td>\n",
       "      <td>-0.650531</td>\n",
       "      <td>0.952486</td>\n",
       "      <td>-0.153037</td>\n",
       "      <td>0.427145</td>\n",
       "      <td>-1.085534</td>\n",
       "      <td>1.318513</td>\n",
       "      <td>0.002588</td>\n",
       "      <td>-1.849832</td>\n",
       "      <td>...</td>\n",
       "      <td>-0.572848</td>\n",
       "      <td>-0.448690</td>\n",
       "      <td>0.073369</td>\n",
       "      <td>-0.845503</td>\n",
       "      <td>-1.074903</td>\n",
       "      <td>0.222103</td>\n",
       "      <td>-1.024658</td>\n",
       "      <td>-0.711647</td>\n",
       "      <td>0.036411</td>\n",
       "      <td>1</td>\n",
       "    </tr>\n",
       "    <tr>\n",
       "      <th>1</th>\n",
       "      <td>0.201004</td>\n",
       "      <td>-0.263537</td>\n",
       "      <td>-0.793137</td>\n",
       "      <td>-4.483672</td>\n",
       "      <td>0.745123</td>\n",
       "      <td>1.156577</td>\n",
       "      <td>0.351558</td>\n",
       "      <td>1.735511</td>\n",
       "      <td>-1.490988</td>\n",
       "      <td>-0.327063</td>\n",
       "      <td>...</td>\n",
       "      <td>1.045496</td>\n",
       "      <td>1.494638</td>\n",
       "      <td>-0.776573</td>\n",
       "      <td>-1.219524</td>\n",
       "      <td>-0.756398</td>\n",
       "      <td>-0.963046</td>\n",
       "      <td>0.488610</td>\n",
       "      <td>0.313609</td>\n",
       "      <td>-0.490794</td>\n",
       "      <td>0</td>\n",
       "    </tr>\n",
       "    <tr>\n",
       "      <th>2</th>\n",
       "      <td>-1.834495</td>\n",
       "      <td>-0.305209</td>\n",
       "      <td>0.053789</td>\n",
       "      <td>4.448289</td>\n",
       "      <td>1.294481</td>\n",
       "      <td>1.241900</td>\n",
       "      <td>-1.358354</td>\n",
       "      <td>-0.211469</td>\n",
       "      <td>-0.186544</td>\n",
       "      <td>0.964812</td>\n",
       "      <td>...</td>\n",
       "      <td>0.917945</td>\n",
       "      <td>0.920003</td>\n",
       "      <td>0.690022</td>\n",
       "      <td>-0.834381</td>\n",
       "      <td>-0.261806</td>\n",
       "      <td>-0.061880</td>\n",
       "      <td>-1.177730</td>\n",
       "      <td>-1.345305</td>\n",
       "      <td>-0.085971</td>\n",
       "      <td>0</td>\n",
       "    </tr>\n",
       "    <tr>\n",
       "      <th>3</th>\n",
       "      <td>-0.484526</td>\n",
       "      <td>0.473056</td>\n",
       "      <td>-0.345463</td>\n",
       "      <td>-7.375136</td>\n",
       "      <td>-0.817676</td>\n",
       "      <td>-0.778446</td>\n",
       "      <td>0.909734</td>\n",
       "      <td>-0.677147</td>\n",
       "      <td>-1.913900</td>\n",
       "      <td>-0.087426</td>\n",
       "      <td>...</td>\n",
       "      <td>0.598949</td>\n",
       "      <td>0.078195</td>\n",
       "      <td>0.024128</td>\n",
       "      <td>1.308711</td>\n",
       "      <td>0.943230</td>\n",
       "      <td>0.903181</td>\n",
       "      <td>0.501013</td>\n",
       "      <td>2.639802</td>\n",
       "      <td>1.540640</td>\n",
       "      <td>1</td>\n",
       "    </tr>\n",
       "    <tr>\n",
       "      <th>4</th>\n",
       "      <td>-0.032351</td>\n",
       "      <td>0.247055</td>\n",
       "      <td>-0.351119</td>\n",
       "      <td>-2.669246</td>\n",
       "      <td>-1.068889</td>\n",
       "      <td>0.322954</td>\n",
       "      <td>1.101136</td>\n",
       "      <td>1.817973</td>\n",
       "      <td>0.944537</td>\n",
       "      <td>0.406005</td>\n",
       "      <td>...</td>\n",
       "      <td>-0.851188</td>\n",
       "      <td>1.272217</td>\n",
       "      <td>0.172442</td>\n",
       "      <td>-0.509007</td>\n",
       "      <td>0.357073</td>\n",
       "      <td>0.523263</td>\n",
       "      <td>0.965078</td>\n",
       "      <td>0.297335</td>\n",
       "      <td>0.088714</td>\n",
       "      <td>1</td>\n",
       "    </tr>\n",
       "  </tbody>\n",
       "</table>\n",
       "<p>5 rows × 1001 columns</p>\n",
       "</div>"
      ],
      "text/plain": [
       "   feature_0  feature_1  feature_2  feature_3  feature_4  feature_5  \\\n",
       "0  -0.272674   0.801643  -0.650531   0.952486  -0.153037   0.427145   \n",
       "1   0.201004  -0.263537  -0.793137  -4.483672   0.745123   1.156577   \n",
       "2  -1.834495  -0.305209   0.053789   4.448289   1.294481   1.241900   \n",
       "3  -0.484526   0.473056  -0.345463  -7.375136  -0.817676  -0.778446   \n",
       "4  -0.032351   0.247055  -0.351119  -2.669246  -1.068889   0.322954   \n",
       "\n",
       "   feature_6  feature_7  feature_8  feature_9  ...    feature_991  \\\n",
       "0  -1.085534   1.318513   0.002588  -1.849832  ...      -0.572848   \n",
       "1   0.351558   1.735511  -1.490988  -0.327063  ...       1.045496   \n",
       "2  -1.358354  -0.211469  -0.186544   0.964812  ...       0.917945   \n",
       "3   0.909734  -0.677147  -1.913900  -0.087426  ...       0.598949   \n",
       "4   1.101136   1.817973   0.944537   0.406005  ...      -0.851188   \n",
       "\n",
       "   feature_992  feature_993  feature_994  feature_995  feature_996  \\\n",
       "0    -0.448690     0.073369    -0.845503    -1.074903     0.222103   \n",
       "1     1.494638    -0.776573    -1.219524    -0.756398    -0.963046   \n",
       "2     0.920003     0.690022    -0.834381    -0.261806    -0.061880   \n",
       "3     0.078195     0.024128     1.308711     0.943230     0.903181   \n",
       "4     1.272217     0.172442    -0.509007     0.357073     0.523263   \n",
       "\n",
       "   feature_997  feature_998  feature_999  label  \n",
       "0    -1.024658    -0.711647     0.036411      1  \n",
       "1     0.488610     0.313609    -0.490794      0  \n",
       "2    -1.177730    -1.345305    -0.085971      0  \n",
       "3     0.501013     2.639802     1.540640      1  \n",
       "4     0.965078     0.297335     0.088714      1  \n",
       "\n",
       "[5 rows x 1001 columns]"
      ]
     },
     "execution_count": 5,
     "metadata": {},
     "output_type": "execute_result"
    }
   ],
   "source": [
    "data.head()"
   ]
  },
  {
   "cell_type": "code",
   "execution_count": 6,
   "metadata": {},
   "outputs": [
    {
     "data": {
      "text/plain": [
       "label\n",
       "0    5068\n",
       "1    4931\n",
       "dtype: int64"
      ]
     },
     "execution_count": 6,
     "metadata": {},
     "output_type": "execute_result"
    }
   ],
   "source": [
    "data.groupby('label').size() # The classes in the sample are balances"
   ]
  },
  {
   "cell_type": "code",
   "execution_count": 7,
   "metadata": {},
   "outputs": [
    {
     "data": {
      "text/plain": [
       "(9999, 1000)"
      ]
     },
     "execution_count": 7,
     "metadata": {},
     "output_type": "execute_result"
    }
   ],
   "source": [
    "X, y = data.drop('label', axis = 1), data['label']\n",
    "X.shape"
   ]
  },
  {
   "cell_type": "markdown",
   "metadata": {},
   "source": [
    "## 1. Feature selection"
   ]
  },
  {
   "cell_type": "markdown",
   "metadata": {},
   "source": [
    "### 1.1. L1-based feature selection\n"
   ]
  },
  {
   "cell_type": "code",
   "execution_count": 8,
   "metadata": {},
   "outputs": [
    {
     "data": {
      "text/plain": [
       "(9999, 88)"
      ]
     },
     "execution_count": 8,
     "metadata": {},
     "output_type": "execute_result"
    }
   ],
   "source": [
    "lsvc = LinearSVC(C=0.001, penalty=\"l1\", dual=False).fit(X, y)\n",
    "model = SelectFromModel(lsvc, prefit=True)\n",
    "X_new_1 = model.transform(X)\n",
    "X_new_1.shape"
   ]
  },
  {
   "cell_type": "markdown",
   "metadata": {},
   "source": [
    "### 1.2. Tree-based feature selection"
   ]
  },
  {
   "cell_type": "code",
   "execution_count": 9,
   "metadata": {},
   "outputs": [
    {
     "data": {
      "text/plain": [
       "(9999, 110)"
      ]
     },
     "execution_count": 9,
     "metadata": {},
     "output_type": "execute_result"
    }
   ],
   "source": [
    "clf = ExtraTreesClassifier(n_estimators=500)\n",
    "clf = clf.fit(X, y)\n",
    "model = SelectFromModel(clf, prefit=True)\n",
    "X_new_2 = model.transform(X)\n",
    "X_new_2.shape  "
   ]
  },
  {
   "cell_type": "markdown",
   "metadata": {},
   "source": [
    "There are several ways to organize feature selection procedure but I have selected the second one after testing two X_new samples. 110 features give slightly better results."
   ]
  },
  {
   "cell_type": "code",
   "execution_count": 10,
   "metadata": {
    "collapsed": true
   },
   "outputs": [],
   "source": [
    "X_new = X_new_2 "
   ]
  },
  {
   "cell_type": "markdown",
   "metadata": {},
   "source": [
    "# 2. Building classifiers"
   ]
  },
  {
   "cell_type": "markdown",
   "metadata": {},
   "source": [
    "### 2.1. Splitting the dataset "
   ]
  },
  {
   "cell_type": "code",
   "execution_count": 11,
   "metadata": {
    "collapsed": true
   },
   "outputs": [],
   "source": [
    "# make a fixed split into training and test samples\n",
    "X_train, X_test, y_train, y_test = train_test_split(X_new, y, test_size=0.40, random_state=43)"
   ]
  },
  {
   "cell_type": "markdown",
   "metadata": {},
   "source": [
    "### 2.2. Training  models (default parameters)"
   ]
  },
  {
   "cell_type": "code",
   "execution_count": 12,
   "metadata": {},
   "outputs": [],
   "source": [
    "clfr_LG = LogisticRegression().fit(X_train, y_train) # Logistic regression\n",
    "clfr_DT = DecisionTreeClassifier().fit(X_train, y_train) # Decision trees classifier\n",
    "clfr_RF = RandomForestClassifier().fit(X_train, y_train)  # Random forest classifier\n",
    "clfr_GB = GradientBoostingClassifier().fit(X_train, y_train)  # Gradient Boosting\n",
    "clfr_MLP = MLPClassifier().fit(X_train, y_train) # Multi-layer Perceptron¶"
   ]
  },
  {
   "cell_type": "markdown",
   "metadata": {},
   "source": [
    "### 2.3. Testing  models (fixed split 60/40). Evaluation of results."
   ]
  },
  {
   "cell_type": "markdown",
   "metadata": {},
   "source": [
    "#### Logistic regression"
   ]
  },
  {
   "cell_type": "code",
   "execution_count": 13,
   "metadata": {},
   "outputs": [
    {
     "name": "stdout",
     "output_type": "stream",
     "text": [
      "Model name: Logistic regression\n",
      "-----------------------------------\n",
      "Test accuracy (Accuracy Score): 0.84\n",
      "Test precision 0: 0.85\n",
      "Test precision 1: 0.83\n",
      "Test recall 0: 0.83\n",
      "Test recall 1: 0.84\n",
      "-----------------------------------\n",
      "Test accuracy (ROC AUC Score): 0.84\n"
     ]
    },
    {
     "data": {
      "image/png": "[encoded data removed]",
      "text/plain": [
       "<matplotlib.figure.Figure at 0x106d313c8>"
      ]
     },
     "metadata": {},
     "output_type": "display_data"
    }
   ],
   "source": [
    "y_pred_LG= clfr_LG.predict(X_test)\n",
    "model_performance('Logistic regression', X_tr=X_train, y_tr=y_train, y_te=y_test, y_pred=y_pred_LG)"
   ]
  },
  {
   "cell_type": "markdown",
   "metadata": {},
   "source": [
    "#### Decision Tree"
   ]
  },
  {
   "cell_type": "code",
   "execution_count": 14,
   "metadata": {},
   "outputs": [
    {
     "name": "stdout",
     "output_type": "stream",
     "text": [
      "Model name: Decision tree classifier\n",
      "-----------------------------------\n",
      "Test accuracy (Accuracy Score): 0.69\n",
      "Test precision 0: 0.69\n",
      "Test precision 1: 0.68\n",
      "Test recall 0: 0.70\n",
      "Test recall 1: 0.67\n",
      "-----------------------------------\n",
      "Test accuracy (ROC AUC Score): 0.68\n"
     ]
    },
    {
     "data": {
      "image/png": "[encoded data removed]",
      "text/plain": [
       "<matplotlib.figure.Figure at 0x11aecdcc0>"
      ]
     },
     "metadata": {},
     "output_type": "display_data"
    }
   ],
   "source": [
    "y_pred_DT= clfr_DT.predict(X_test)\n",
    "model_performance('Decision tree classifier', X_tr=X_train, y_tr=y_train, y_te=y_test, y_pred=y_pred_DT)"
   ]
  },
  {
   "cell_type": "markdown",
   "metadata": {},
   "source": [
    "#### Random Forest classifier"
   ]
  },
  {
   "cell_type": "code",
   "execution_count": 15,
   "metadata": {},
   "outputs": [
    {
     "name": "stdout",
     "output_type": "stream",
     "text": [
      "Model name: Random Forest classifier\n",
      "-----------------------------------\n",
      "Test accuracy (Accuracy Score): 0.75\n",
      "Test precision 0: 0.72\n",
      "Test precision 1: 0.78\n",
      "Test recall 0: 0.82\n",
      "Test recall 1: 0.67\n",
      "-----------------------------------\n",
      "Test accuracy (ROC AUC Score): 0.75\n"
     ]
    },
    {
     "data": {
      "image/png": "[encoded data removed]",
      "text/plain": [
       "<matplotlib.figure.Figure at 0x106d09b00>"
      ]
     },
     "metadata": {},
     "output_type": "display_data"
    }
   ],
   "source": [
    "# checking performance of the RF-model\n",
    "y_pred_RF= clfr_RF.predict(X_test)\n",
    "model_performance('Random Forest classifier', X_tr=X_train, y_tr=y_train, y_te=y_test, y_pred=y_pred_RF)"
   ]
  },
  {
   "cell_type": "markdown",
   "metadata": {},
   "source": [
    "#### Gradient Tree Boosting"
   ]
  },
  {
   "cell_type": "code",
   "execution_count": 16,
   "metadata": {},
   "outputs": [
    {
     "name": "stdout",
     "output_type": "stream",
     "text": [
      "Model name: Gradient Tree Boosting\n",
      "-----------------------------------\n",
      "Test accuracy (Accuracy Score): 0.86\n",
      "Test precision 0: 0.86\n",
      "Test precision 1: 0.85\n",
      "Test recall 0: 0.86\n",
      "Test recall 1: 0.85\n",
      "-----------------------------------\n",
      "Test accuracy (ROC AUC Score): 0.86\n"
     ]
    },
    {
     "data": {
      "image/png": "[encoded data removed]",
      "text/plain": [
       "<matplotlib.figure.Figure at 0x106d314a8>"
      ]
     },
     "metadata": {},
     "output_type": "display_data"
    }
   ],
   "source": [
    "y_pred_GB= clfr_GB.predict(X_test)\n",
    "model_performance('Gradient Tree Boosting', X_tr=X_train, y_tr=y_train, y_te=y_test, y_pred=y_pred_GB)"
   ]
  },
  {
   "cell_type": "markdown",
   "metadata": {},
   "source": [
    "#### ANN: Multi-layer Perceptron"
   ]
  },
  {
   "cell_type": "code",
   "execution_count": 17,
   "metadata": {},
   "outputs": [
    {
     "name": "stdout",
     "output_type": "stream",
     "text": [
      "Model name: Multi-layer Perceptron\n",
      "-----------------------------------\n",
      "Test accuracy (Accuracy Score): 0.96\n",
      "Test precision 0: 0.96\n",
      "Test precision 1: 0.95\n",
      "Test recall 0: 0.96\n",
      "Test recall 1: 0.96\n",
      "-----------------------------------\n",
      "Test accuracy (ROC AUC Score): 0.96\n"
     ]
    },
    {
     "data": {
      "image/png": "[encoded data removed]",
      "text/plain": [
       "<matplotlib.figure.Figure at 0x106d31358>"
      ]
     },
     "metadata": {},
     "output_type": "display_data"
    }
   ],
   "source": [
    "y_pred_MLP= clfr_MLP.predict(X_test)\n",
    "model_performance('Multi-layer Perceptron', X_tr=X_train, y_tr=y_train, y_te=y_test, y_pred=y_pred_MLP)"
   ]
  },
  {
   "cell_type": "markdown",
   "metadata": {},
   "source": [
    "## 3. Cross validation"
   ]
  },
  {
   "cell_type": "code",
   "execution_count": 18,
   "metadata": {},
   "outputs": [],
   "source": [
    "def cross_val_results(model_name, model, X, y, cv):\n",
    "    scores = cross_validate(model, X, y, cv=cv, scoring=('roc_auc'))\n",
    "    print('Model name: %s'%model_name)\n",
    "    print('------------------------------')\n",
    "    print(\"AUC scores\", scores['test_score'].round(4))\n",
    "    # with 95% confidence interval\n",
    "    print(\"AUC 95 prc confidence interval: %0.2f (+/- %0.2f)\" % (scores['test_score'].mean(), scores['test_score'].std() * 2))\n",
    "    print('______________________________')\n",
    "    print(\" \")"
   ]
  },
  {
   "cell_type": "code",
   "execution_count": 19,
   "metadata": {},
   "outputs": [
    {
     "name": "stdout",
     "output_type": "stream",
     "text": [
      "Model name: Logistic regression\n",
      "------------------------------\n",
      "AUC scores [0.9133 0.9121 0.9141]\n",
      "AUC 95 prc confidence interval: 0.91 (+/- 0.00)\n",
      "______________________________\n",
      " \n",
      "Model name: Decision tree\n",
      "------------------------------\n",
      "AUC scores [0.6598 0.6663 0.6797]\n",
      "AUC 95 prc confidence interval: 0.67 (+/- 0.02)\n",
      "______________________________\n",
      " \n",
      "Model name: Random Forest classifier\n",
      "------------------------------\n",
      "AUC scores [0.844  0.8392 0.8327]\n",
      "AUC 95 prc confidence interval: 0.84 (+/- 0.01)\n",
      "______________________________\n",
      " \n",
      "Model name: Gradient Tree Boosting\n",
      "------------------------------\n",
      "AUC scores [0.9323 0.9349 0.9335]\n",
      "AUC 95 prc confidence interval: 0.93 (+/- 0.00)\n",
      "______________________________\n",
      " \n",
      "Model name: Multi-layer Perceptron\n",
      "------------------------------\n",
      "AUC scores [0.9899 0.9885 0.9876]\n",
      "AUC 95 prc confidence interval: 0.99 (+/- 0.00)\n",
      "______________________________\n",
      " \n"
     ]
    }
   ],
   "source": [
    "cross_val_results('Logistic regression', clfr_LG, X_new, y, cv=3)\n",
    "cross_val_results('Decision tree', clfr_DT, X_new, y, cv=3)\n",
    "cross_val_results('Random Forest classifier', clfr_RF, X_new, y, cv=3)\n",
    "cross_val_results('Gradient Tree Boosting', clfr_GB, X_new, y, cv=3)\n",
    "cross_val_results('Multi-layer Perceptron', clfr_MLP, X_new, y, cv=3)"
   ]
  },
  {
   "cell_type": "markdown",
   "metadata": {},
   "source": [
    "I have selected the following models for further optimization:\n",
    "    * Multi-layer Perceptron\n",
    "    * Gradient Tree Boosting \n",
    "    * Logistic regression\n",
    "These models are the best performers with default parameters. "
   ]
  },
  {
   "cell_type": "markdown",
   "metadata": {
    "collapsed": true
   },
   "source": [
    "## 4. Hyper parameters tuning\n",
    "\n"
   ]
  },
  {
   "cell_type": "code",
   "execution_count": 20,
   "metadata": {
    "collapsed": true
   },
   "outputs": [],
   "source": [
    "# Utility function to report best scores\n",
    "def report(results, n_top=3):\n",
    "    for i in range(1, n_top + 1):\n",
    "        candidates = np.flatnonzero(results['rank_test_score'] == i)\n",
    "        for candidate in candidates:\n",
    "            print(\"Model with rank: {0}\".format(i))\n",
    "            print(\"Mean validation AUC score: {0:.3f} (std: {1:.3f})\".format(\n",
    "                  results['mean_test_score'][candidate],\n",
    "                  results['std_test_score'][candidate]))\n",
    "            print(\"Parameters: {0}\".format(results['params'][candidate]))\n",
    "            print(\"\")"
   ]
  },
  {
   "cell_type": "markdown",
   "metadata": {},
   "source": [
    "#### Logistic regression"
   ]
  },
  {
   "cell_type": "code",
   "execution_count": 23,
   "metadata": {},
   "outputs": [
    {
     "data": {
      "text/plain": [
       "GridSearchCV(cv=3, error_score='raise-deprecating',\n",
       "       estimator=LogisticRegression(C=1.0, class_weight=None, dual=False, fit_intercept=True,\n",
       "          intercept_scaling=1, max_iter=100, multi_class='warn',\n",
       "          n_jobs=None, penalty='l2', random_state=None, solver='warn',\n",
       "          tol=0.0001, verbose=0, warm_start=False),\n",
       "       fit_params=None, iid='warn', n_jobs=None,\n",
       "       param_grid={'solver': ['warn', 'lbfgs', 'liblinear', 'sag'], 'penalty': ['l2'], 'C': [0.5, 1.0, 3.0]},\n",
       "       pre_dispatch='2*n_jobs', refit=True, return_train_score='warn',\n",
       "       scoring='roc_auc', verbose=0)"
      ]
     },
     "execution_count": 23,
     "metadata": {},
     "output_type": "execute_result"
    }
   ],
   "source": [
    "# use a full grid over all parameters\n",
    "param_grid = {\"solver\": ['warn','lbfgs', 'liblinear', 'sag'],\n",
    "              \"penalty\": ['l2'],\n",
    "              \"C\": [0.5, 1.0, 3.0]}\n",
    "\n",
    "# run grid search\n",
    "grid_search = GridSearchCV(clfr_LG, param_grid=param_grid, cv=3, scoring=('roc_auc'))\n",
    "start = time()\n",
    "grid_search.fit(X_new, y)"
   ]
  },
  {
   "cell_type": "code",
   "execution_count": 24,
   "metadata": {},
   "outputs": [
    {
     "name": "stdout",
     "output_type": "stream",
     "text": [
      "GridSearchCV took 12.75 seconds for 12 candidate parameter settings.\n",
      "Model with rank: 1\n",
      "Mean validation AUC score: 0.913 (std: 0.001)\n",
      "Parameters: {'C': 0.5, 'penalty': 'l2', 'solver': 'lbfgs'}\n",
      "\n",
      "Model with rank: 2\n",
      "Mean validation AUC score: 0.913 (std: 0.001)\n",
      "Parameters: {'C': 0.5, 'penalty': 'l2', 'solver': 'warn'}\n",
      "\n",
      "Model with rank: 2\n",
      "Mean validation AUC score: 0.913 (std: 0.001)\n",
      "Parameters: {'C': 0.5, 'penalty': 'l2', 'solver': 'liblinear'}\n",
      "\n"
     ]
    }
   ],
   "source": [
    "print(\"GridSearchCV took %.2f seconds for %d candidate parameter settings.\"\n",
    "      % (time() - start, len(grid_search.cv_results_['params'])))\n",
    "report(grid_search.cv_results_)"
   ]
  },
  {
   "cell_type": "markdown",
   "metadata": {},
   "source": [
    "#### Gradient Tree Boosting"
   ]
  },
  {
   "cell_type": "code",
   "execution_count": 27,
   "metadata": {},
   "outputs": [
    {
     "data": {
      "text/plain": [
       "GridSearchCV(cv=3, error_score='raise-deprecating',\n",
       "       estimator=GradientBoostingClassifier(criterion='friedman_mse', init=None,\n",
       "              learning_rate=0.1, loss='deviance', max_depth=3,\n",
       "              max_features=None, max_leaf_nodes=None,\n",
       "              min_impurity_decrease=0.0, min_impurity_split=None,\n",
       "              min_samples_leaf=1, min_sampl...      subsample=1.0, tol=0.0001, validation_fraction=0.1,\n",
       "              verbose=0, warm_start=False),\n",
       "       fit_params=None, iid='warn', n_jobs=None,\n",
       "       param_grid={'loss': ['deviance', 'exponential'], 'n_estimators': [100, 500], 'max_features': [None, 50]},\n",
       "       pre_dispatch='2*n_jobs', refit=True, return_train_score='warn',\n",
       "       scoring='roc_auc', verbose=0)"
      ]
     },
     "execution_count": 27,
     "metadata": {},
     "output_type": "execute_result"
    }
   ],
   "source": [
    "param_grid = {\"loss\": ['deviance', 'exponential'],\n",
    "              \"n_estimators\": [100, 500],\n",
    "              \"max_features\": [None, 50]}\n",
    "\n",
    "# run grid search\n",
    "grid_search = GridSearchCV(clfr_GB, param_grid=param_grid, cv=3, scoring=('roc_auc'))\n",
    "start = time()\n",
    "grid_search.fit(X_new, y)"
   ]
  },
  {
   "cell_type": "code",
   "execution_count": 28,
   "metadata": {},
   "outputs": [
    {
     "name": "stdout",
     "output_type": "stream",
     "text": [
      "GridSearchCV took 565.15 seconds for 8 candidate parameter settings.\n",
      "Model with rank: 1\n",
      "Mean validation AUC score: 0.967 (std: 0.001)\n",
      "Parameters: {'loss': 'deviance', 'max_features': None, 'n_estimators': 500}\n",
      "\n",
      "Model with rank: 2\n",
      "Mean validation AUC score: 0.967 (std: 0.001)\n",
      "Parameters: {'loss': 'deviance', 'max_features': 50, 'n_estimators': 500}\n",
      "\n",
      "Model with rank: 3\n",
      "Mean validation AUC score: 0.966 (std: 0.001)\n",
      "Parameters: {'loss': 'exponential', 'max_features': 50, 'n_estimators': 500}\n",
      "\n"
     ]
    }
   ],
   "source": [
    "print(\"GridSearchCV took %.2f seconds for %d candidate parameter settings.\"\n",
    "      % (time() - start, len(grid_search.cv_results_['params'])))\n",
    "report(grid_search.cv_results_)"
   ]
  },
  {
   "cell_type": "markdown",
   "metadata": {},
   "source": [
    "#### ANN: Multi-layer Perceptron"
   ]
  },
  {
   "cell_type": "code",
   "execution_count": 29,
   "metadata": {},
   "outputs": [
    {
     "data": {
      "text/plain": [
       "GridSearchCV(cv=3, error_score='raise-deprecating',\n",
       "       estimator=MLPClassifier(activation='relu', alpha=0.0001, batch_size='auto', beta_1=0.9,\n",
       "       beta_2=0.999, early_stopping=False, epsilon=1e-08,\n",
       "       hidden_layer_sizes=(100,), learning_rate='constant',\n",
       "       learning_rate_init=0.001, max_iter=200, momentum=0.9,\n",
       "       n_iter_no_change=10, nesterovs_momentum=True, power_t=0.5,\n",
       "       random_state=None, shuffle=True, solver='adam', tol=0.0001,\n",
       "       validation_fraction=0.1, verbose=False, warm_start=False),\n",
       "       fit_params=None, iid='warn', n_jobs=None,\n",
       "       param_grid={'activation': ['logistic', 'tanh', 'relu'], 'solver': ['lbfgs', 'sgd', 'adam'], 'learning_rate_init': [0.001, 0.0001]},\n",
       "       pre_dispatch='2*n_jobs', refit=True, return_train_score='warn',\n",
       "       scoring='roc_auc', verbose=0)"
      ]
     },
     "execution_count": 29,
     "metadata": {},
     "output_type": "execute_result"
    }
   ],
   "source": [
    "param_grid = {\"activation\": ['logistic', 'tanh', 'relu'],\n",
    "              \"solver\": ['lbfgs', 'sgd', 'adam'],\n",
    "              \"learning_rate_init\": [0.001, 0.0001]}\n",
    "\n",
    "# run grid search\n",
    "grid_search = GridSearchCV(clfr_MLP, param_grid=param_grid, cv=3, scoring=('roc_auc'))\n",
    "start = time()\n",
    "grid_search.fit(X_new, y)"
   ]
  },
  {
   "cell_type": "code",
   "execution_count": 30,
   "metadata": {},
   "outputs": [
    {
     "name": "stdout",
     "output_type": "stream",
     "text": [
      "GridSearchCV took 391.91 seconds for 18 candidate parameter settings.\n",
      "Model with rank: 1\n",
      "Mean validation AUC score: 0.989 (std: 0.001)\n",
      "Parameters: {'activation': 'relu', 'learning_rate_init': 0.001, 'solver': 'adam'}\n",
      "\n",
      "Model with rank: 2\n",
      "Mean validation AUC score: 0.988 (std: 0.002)\n",
      "Parameters: {'activation': 'relu', 'learning_rate_init': 0.001, 'solver': 'lbfgs'}\n",
      "\n",
      "Model with rank: 3\n",
      "Mean validation AUC score: 0.987 (std: 0.001)\n",
      "Parameters: {'activation': 'relu', 'learning_rate_init': 0.0001, 'solver': 'lbfgs'}\n",
      "\n"
     ]
    }
   ],
   "source": [
    "print(\"GridSearchCV took %.2f seconds for %d candidate parameter settings.\"\n",
    "      % (time() - start, len(grid_search.cv_results_['params'])))\n",
    "report(grid_search.cv_results_)"
   ]
  },
  {
   "cell_type": "markdown",
   "metadata": {},
   "source": [
    "## 5. Model selection"
   ]
  },
  {
   "cell_type": "markdown",
   "metadata": {
    "collapsed": true
   },
   "source": [
    "** As we can see, in this case the best algorithm for classification is ANN (multi-layer Perceptron) with the following parameters: **\n",
    "* activation: 'relu'\n",
    "* learning_rate_init: 0.001, \n",
    "* solver: 'adam'\n",
    "\n",
    "** The model gives robust AUC score 99% what is almost a perfect classifier.**"
   ]
  }
 ],
 "metadata": {
  "kernelspec": {
   "display_name": "Python 3",
   "language": "python",
   "name": "python3"
  },
  "language_info": {
   "codemirror_mode": {
    "name": "ipython",
    "version": 3
   },
   "file_extension": ".py",
   "mimetype": "text/x-python",
   "name": "python",
   "nbconvert_exporter": "python",
   "pygments_lexer": "ipython3",
   "version": "3.6.1"
  },
  "varInspector": {
   "cols": {
    "lenName": 16,
    "lenType": 16,
    "lenVar": 40
   },
   "kernels_config": {
    "python": {
     "delete_cmd_postfix": "",
     "delete_cmd_prefix": "del ",
     "library": "var_list.py",
     "varRefreshCmd": "print(var_dic_list())"
    },
    "r": {
     "delete_cmd_postfix": ") ",
     "delete_cmd_prefix": "rm(",
     "library": "var_list.r",
     "varRefreshCmd": "cat(var_dic_list()) "
    }
   },
   "types_to_exclude": [
    "module",
    "function",
    "builtin_function_or_method",
    "instance",
    "_Feature"
   ],
   "window_display": false
  }
 },
 "nbformat": 4,
 "nbformat_minor": 2
}

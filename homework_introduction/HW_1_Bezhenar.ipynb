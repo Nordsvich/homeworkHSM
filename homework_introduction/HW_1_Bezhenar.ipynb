{
 "cells": [
  {
   "cell_type": "markdown",
   "metadata": {},
   "source": [
    "# Homework №1: Introduction \n",
    "*Bezhenaer OLga*"
   ]
  },
  {
   "cell_type": "markdown",
   "metadata": {},
   "source": [
    "### Content of the task:\n",
    "You should build full ML pipeline and get best AUC.\n",
    "\n",
    "Important stages in pipeline:\n",
    "\n",
    "- Feature selection\n",
    "- Cross validation\n",
    "- Hyper parameters tuning\n",
    "- Compare minimum 2 models"
   ]
  },
  {
   "cell_type": "code",
   "execution_count": 1,
   "metadata": {},
   "outputs": [],
   "source": [
    "import pandas as pd\n",
    "import numpy as np\n",
    "import matplotlib.pyplot as plt\n",
    "from sklearn.preprocessing import StandardScaler\n",
    "from sklearn.model_selection import train_test_split\n",
    "from sklearn.model_selection import GridSearchCV"
   ]
  },
  {
   "cell_type": "markdown",
   "metadata": {},
   "source": [
    "### 1. Exploratory data analysis"
   ]
  },
  {
   "cell_type": "code",
   "execution_count": 2,
   "metadata": {},
   "outputs": [
    {
     "data": {
      "text/html": [
       "<div>\n",
       "<style scoped>\n",
       "    .dataframe tbody tr th:only-of-type {\n",
       "        vertical-align: middle;\n",
       "    }\n",
       "\n",
       "    .dataframe tbody tr th {\n",
       "        vertical-align: top;\n",
       "    }\n",
       "\n",
       "    .dataframe thead th {\n",
       "        text-align: right;\n",
       "    }\n",
       "</style>\n",
       "<table border=\"1\" class=\"dataframe\">\n",
       "  <thead>\n",
       "    <tr style=\"text-align: right;\">\n",
       "      <th></th>\n",
       "      <th>feature_0</th>\n",
       "      <th>feature_1</th>\n",
       "      <th>feature_2</th>\n",
       "      <th>feature_3</th>\n",
       "      <th>feature_4</th>\n",
       "      <th>feature_5</th>\n",
       "      <th>feature_6</th>\n",
       "      <th>feature_7</th>\n",
       "      <th>feature_8</th>\n",
       "      <th>feature_9</th>\n",
       "      <th>...</th>\n",
       "      <th>feature_991</th>\n",
       "      <th>feature_992</th>\n",
       "      <th>feature_993</th>\n",
       "      <th>feature_994</th>\n",
       "      <th>feature_995</th>\n",
       "      <th>feature_996</th>\n",
       "      <th>feature_997</th>\n",
       "      <th>feature_998</th>\n",
       "      <th>feature_999</th>\n",
       "      <th>label</th>\n",
       "    </tr>\n",
       "  </thead>\n",
       "  <tbody>\n",
       "    <tr>\n",
       "      <th>0</th>\n",
       "      <td>-0.272674</td>\n",
       "      <td>0.801643</td>\n",
       "      <td>-0.650531</td>\n",
       "      <td>0.952486</td>\n",
       "      <td>-0.153037</td>\n",
       "      <td>0.427145</td>\n",
       "      <td>-1.085534</td>\n",
       "      <td>1.318513</td>\n",
       "      <td>0.002588</td>\n",
       "      <td>-1.849832</td>\n",
       "      <td>...</td>\n",
       "      <td>-0.572848</td>\n",
       "      <td>-0.448690</td>\n",
       "      <td>0.073369</td>\n",
       "      <td>-0.845503</td>\n",
       "      <td>-1.074903</td>\n",
       "      <td>0.222103</td>\n",
       "      <td>-1.024658</td>\n",
       "      <td>-0.711647</td>\n",
       "      <td>0.036411</td>\n",
       "      <td>1</td>\n",
       "    </tr>\n",
       "    <tr>\n",
       "      <th>1</th>\n",
       "      <td>0.201004</td>\n",
       "      <td>-0.263537</td>\n",
       "      <td>-0.793137</td>\n",
       "      <td>-4.483672</td>\n",
       "      <td>0.745123</td>\n",
       "      <td>1.156577</td>\n",
       "      <td>0.351558</td>\n",
       "      <td>1.735511</td>\n",
       "      <td>-1.490988</td>\n",
       "      <td>-0.327063</td>\n",
       "      <td>...</td>\n",
       "      <td>1.045496</td>\n",
       "      <td>1.494638</td>\n",
       "      <td>-0.776573</td>\n",
       "      <td>-1.219524</td>\n",
       "      <td>-0.756398</td>\n",
       "      <td>-0.963046</td>\n",
       "      <td>0.488610</td>\n",
       "      <td>0.313609</td>\n",
       "      <td>-0.490794</td>\n",
       "      <td>0</td>\n",
       "    </tr>\n",
       "    <tr>\n",
       "      <th>2</th>\n",
       "      <td>-1.834495</td>\n",
       "      <td>-0.305209</td>\n",
       "      <td>0.053789</td>\n",
       "      <td>4.448289</td>\n",
       "      <td>1.294481</td>\n",
       "      <td>1.241900</td>\n",
       "      <td>-1.358354</td>\n",
       "      <td>-0.211469</td>\n",
       "      <td>-0.186544</td>\n",
       "      <td>0.964812</td>\n",
       "      <td>...</td>\n",
       "      <td>0.917945</td>\n",
       "      <td>0.920003</td>\n",
       "      <td>0.690022</td>\n",
       "      <td>-0.834381</td>\n",
       "      <td>-0.261806</td>\n",
       "      <td>-0.061880</td>\n",
       "      <td>-1.177730</td>\n",
       "      <td>-1.345305</td>\n",
       "      <td>-0.085971</td>\n",
       "      <td>0</td>\n",
       "    </tr>\n",
       "    <tr>\n",
       "      <th>3</th>\n",
       "      <td>-0.484526</td>\n",
       "      <td>0.473056</td>\n",
       "      <td>-0.345463</td>\n",
       "      <td>-7.375136</td>\n",
       "      <td>-0.817676</td>\n",
       "      <td>-0.778446</td>\n",
       "      <td>0.909734</td>\n",
       "      <td>-0.677147</td>\n",
       "      <td>-1.913900</td>\n",
       "      <td>-0.087426</td>\n",
       "      <td>...</td>\n",
       "      <td>0.598949</td>\n",
       "      <td>0.078195</td>\n",
       "      <td>0.024128</td>\n",
       "      <td>1.308711</td>\n",
       "      <td>0.943230</td>\n",
       "      <td>0.903181</td>\n",
       "      <td>0.501013</td>\n",
       "      <td>2.639802</td>\n",
       "      <td>1.540640</td>\n",
       "      <td>1</td>\n",
       "    </tr>\n",
       "    <tr>\n",
       "      <th>4</th>\n",
       "      <td>-0.032351</td>\n",
       "      <td>0.247055</td>\n",
       "      <td>-0.351119</td>\n",
       "      <td>-2.669246</td>\n",
       "      <td>-1.068889</td>\n",
       "      <td>0.322954</td>\n",
       "      <td>1.101136</td>\n",
       "      <td>1.817973</td>\n",
       "      <td>0.944537</td>\n",
       "      <td>0.406005</td>\n",
       "      <td>...</td>\n",
       "      <td>-0.851188</td>\n",
       "      <td>1.272217</td>\n",
       "      <td>0.172442</td>\n",
       "      <td>-0.509007</td>\n",
       "      <td>0.357073</td>\n",
       "      <td>0.523263</td>\n",
       "      <td>0.965078</td>\n",
       "      <td>0.297335</td>\n",
       "      <td>0.088714</td>\n",
       "      <td>1</td>\n",
       "    </tr>\n",
       "  </tbody>\n",
       "</table>\n",
       "<p>5 rows × 1001 columns</p>\n",
       "</div>"
      ],
      "text/plain": [
       "   feature_0  feature_1  feature_2  feature_3  feature_4  feature_5  \\\n",
       "0  -0.272674   0.801643  -0.650531   0.952486  -0.153037   0.427145   \n",
       "1   0.201004  -0.263537  -0.793137  -4.483672   0.745123   1.156577   \n",
       "2  -1.834495  -0.305209   0.053789   4.448289   1.294481   1.241900   \n",
       "3  -0.484526   0.473056  -0.345463  -7.375136  -0.817676  -0.778446   \n",
       "4  -0.032351   0.247055  -0.351119  -2.669246  -1.068889   0.322954   \n",
       "\n",
       "   feature_6  feature_7  feature_8  feature_9  ...    feature_991  \\\n",
       "0  -1.085534   1.318513   0.002588  -1.849832  ...      -0.572848   \n",
       "1   0.351558   1.735511  -1.490988  -0.327063  ...       1.045496   \n",
       "2  -1.358354  -0.211469  -0.186544   0.964812  ...       0.917945   \n",
       "3   0.909734  -0.677147  -1.913900  -0.087426  ...       0.598949   \n",
       "4   1.101136   1.817973   0.944537   0.406005  ...      -0.851188   \n",
       "\n",
       "   feature_992  feature_993  feature_994  feature_995  feature_996  \\\n",
       "0    -0.448690     0.073369    -0.845503    -1.074903     0.222103   \n",
       "1     1.494638    -0.776573    -1.219524    -0.756398    -0.963046   \n",
       "2     0.920003     0.690022    -0.834381    -0.261806    -0.061880   \n",
       "3     0.078195     0.024128     1.308711     0.943230     0.903181   \n",
       "4     1.272217     0.172442    -0.509007     0.357073     0.523263   \n",
       "\n",
       "   feature_997  feature_998  feature_999  label  \n",
       "0    -1.024658    -0.711647     0.036411      1  \n",
       "1     0.488610     0.313609    -0.490794      0  \n",
       "2    -1.177730    -1.345305    -0.085971      0  \n",
       "3     0.501013     2.639802     1.540640      1  \n",
       "4     0.965078     0.297335     0.088714      1  \n",
       "\n",
       "[5 rows x 1001 columns]"
      ]
     },
     "execution_count": 2,
     "metadata": {},
     "output_type": "execute_result"
    }
   ],
   "source": [
    "data=pd.read_csv(\"dataset_simple.csv\")\n",
    "data.head(5)"
   ]
  },
  {
   "cell_type": "code",
   "execution_count": 3,
   "metadata": {},
   "outputs": [
    {
     "data": {
      "text/html": [
       "<div>\n",
       "<style scoped>\n",
       "    .dataframe tbody tr th:only-of-type {\n",
       "        vertical-align: middle;\n",
       "    }\n",
       "\n",
       "    .dataframe tbody tr th {\n",
       "        vertical-align: top;\n",
       "    }\n",
       "\n",
       "    .dataframe thead th {\n",
       "        text-align: right;\n",
       "    }\n",
       "</style>\n",
       "<table border=\"1\" class=\"dataframe\">\n",
       "  <thead>\n",
       "    <tr style=\"text-align: right;\">\n",
       "      <th></th>\n",
       "      <th>feature_0</th>\n",
       "      <th>feature_1</th>\n",
       "      <th>feature_2</th>\n",
       "      <th>feature_3</th>\n",
       "      <th>feature_4</th>\n",
       "      <th>feature_5</th>\n",
       "      <th>feature_6</th>\n",
       "      <th>feature_7</th>\n",
       "      <th>feature_8</th>\n",
       "      <th>feature_9</th>\n",
       "      <th>...</th>\n",
       "      <th>feature_991</th>\n",
       "      <th>feature_992</th>\n",
       "      <th>feature_993</th>\n",
       "      <th>feature_994</th>\n",
       "      <th>feature_995</th>\n",
       "      <th>feature_996</th>\n",
       "      <th>feature_997</th>\n",
       "      <th>feature_998</th>\n",
       "      <th>feature_999</th>\n",
       "      <th>label</th>\n",
       "    </tr>\n",
       "  </thead>\n",
       "  <tbody>\n",
       "    <tr>\n",
       "      <th>count</th>\n",
       "      <td>9999.000000</td>\n",
       "      <td>9999.000000</td>\n",
       "      <td>9999.000000</td>\n",
       "      <td>9999.000000</td>\n",
       "      <td>9999.000000</td>\n",
       "      <td>9999.000000</td>\n",
       "      <td>9999.000000</td>\n",
       "      <td>9999.000000</td>\n",
       "      <td>9999.000000</td>\n",
       "      <td>9999.000000</td>\n",
       "      <td>...</td>\n",
       "      <td>9999.000000</td>\n",
       "      <td>9999.000000</td>\n",
       "      <td>9999.000000</td>\n",
       "      <td>9999.000000</td>\n",
       "      <td>9999.000000</td>\n",
       "      <td>9999.000000</td>\n",
       "      <td>9999.000000</td>\n",
       "      <td>9999.000000</td>\n",
       "      <td>9999.000000</td>\n",
       "      <td>9999.000000</td>\n",
       "    </tr>\n",
       "    <tr>\n",
       "      <th>mean</th>\n",
       "      <td>-0.004460</td>\n",
       "      <td>-0.013556</td>\n",
       "      <td>-0.003732</td>\n",
       "      <td>-0.526323</td>\n",
       "      <td>0.005371</td>\n",
       "      <td>-0.008539</td>\n",
       "      <td>0.017156</td>\n",
       "      <td>-0.001695</td>\n",
       "      <td>0.016588</td>\n",
       "      <td>-0.011591</td>\n",
       "      <td>...</td>\n",
       "      <td>0.004245</td>\n",
       "      <td>0.004588</td>\n",
       "      <td>0.000104</td>\n",
       "      <td>-0.004114</td>\n",
       "      <td>-0.015524</td>\n",
       "      <td>0.003792</td>\n",
       "      <td>-0.012826</td>\n",
       "      <td>-0.000154</td>\n",
       "      <td>0.008867</td>\n",
       "      <td>0.493149</td>\n",
       "    </tr>\n",
       "    <tr>\n",
       "      <th>std</th>\n",
       "      <td>0.991939</td>\n",
       "      <td>1.004086</td>\n",
       "      <td>1.004643</td>\n",
       "      <td>5.892651</td>\n",
       "      <td>0.995250</td>\n",
       "      <td>1.001142</td>\n",
       "      <td>0.995826</td>\n",
       "      <td>1.000576</td>\n",
       "      <td>1.016175</td>\n",
       "      <td>0.994338</td>\n",
       "      <td>...</td>\n",
       "      <td>1.010292</td>\n",
       "      <td>0.996613</td>\n",
       "      <td>0.984661</td>\n",
       "      <td>1.005568</td>\n",
       "      <td>1.000405</td>\n",
       "      <td>0.992878</td>\n",
       "      <td>0.986676</td>\n",
       "      <td>1.003824</td>\n",
       "      <td>0.992667</td>\n",
       "      <td>0.499978</td>\n",
       "    </tr>\n",
       "    <tr>\n",
       "      <th>min</th>\n",
       "      <td>-3.769974</td>\n",
       "      <td>-3.617617</td>\n",
       "      <td>-3.753391</td>\n",
       "      <td>-21.830355</td>\n",
       "      <td>-3.952088</td>\n",
       "      <td>-4.302776</td>\n",
       "      <td>-3.693491</td>\n",
       "      <td>-3.769295</td>\n",
       "      <td>-3.582291</td>\n",
       "      <td>-3.964497</td>\n",
       "      <td>...</td>\n",
       "      <td>-3.543944</td>\n",
       "      <td>-3.702521</td>\n",
       "      <td>-3.645616</td>\n",
       "      <td>-3.757164</td>\n",
       "      <td>-3.998032</td>\n",
       "      <td>-3.844831</td>\n",
       "      <td>-4.314576</td>\n",
       "      <td>-3.912707</td>\n",
       "      <td>-3.852604</td>\n",
       "      <td>0.000000</td>\n",
       "    </tr>\n",
       "    <tr>\n",
       "      <th>25%</th>\n",
       "      <td>-0.667193</td>\n",
       "      <td>-0.702984</td>\n",
       "      <td>-0.666734</td>\n",
       "      <td>-4.535838</td>\n",
       "      <td>-0.664072</td>\n",
       "      <td>-0.676919</td>\n",
       "      <td>-0.657419</td>\n",
       "      <td>-0.678497</td>\n",
       "      <td>-0.670545</td>\n",
       "      <td>-0.696125</td>\n",
       "      <td>...</td>\n",
       "      <td>-0.686178</td>\n",
       "      <td>-0.674913</td>\n",
       "      <td>-0.663270</td>\n",
       "      <td>-0.676386</td>\n",
       "      <td>-0.690162</td>\n",
       "      <td>-0.660690</td>\n",
       "      <td>-0.671733</td>\n",
       "      <td>-0.689658</td>\n",
       "      <td>-0.653306</td>\n",
       "      <td>0.000000</td>\n",
       "    </tr>\n",
       "    <tr>\n",
       "      <th>50%</th>\n",
       "      <td>0.006990</td>\n",
       "      <td>-0.019359</td>\n",
       "      <td>0.002527</td>\n",
       "      <td>-0.596745</td>\n",
       "      <td>0.008596</td>\n",
       "      <td>-0.014751</td>\n",
       "      <td>0.023373</td>\n",
       "      <td>-0.005377</td>\n",
       "      <td>0.007411</td>\n",
       "      <td>-0.023052</td>\n",
       "      <td>...</td>\n",
       "      <td>-0.002653</td>\n",
       "      <td>0.000651</td>\n",
       "      <td>-0.005459</td>\n",
       "      <td>-0.002117</td>\n",
       "      <td>-0.017218</td>\n",
       "      <td>0.005911</td>\n",
       "      <td>-0.009118</td>\n",
       "      <td>0.024641</td>\n",
       "      <td>-0.002785</td>\n",
       "      <td>0.000000</td>\n",
       "    </tr>\n",
       "    <tr>\n",
       "      <th>75%</th>\n",
       "      <td>0.655618</td>\n",
       "      <td>0.667009</td>\n",
       "      <td>0.660033</td>\n",
       "      <td>3.367154</td>\n",
       "      <td>0.672424</td>\n",
       "      <td>0.662462</td>\n",
       "      <td>0.697545</td>\n",
       "      <td>0.662622</td>\n",
       "      <td>0.720524</td>\n",
       "      <td>0.668373</td>\n",
       "      <td>...</td>\n",
       "      <td>0.682821</td>\n",
       "      <td>0.680257</td>\n",
       "      <td>0.668761</td>\n",
       "      <td>0.675716</td>\n",
       "      <td>0.660026</td>\n",
       "      <td>0.680975</td>\n",
       "      <td>0.647070</td>\n",
       "      <td>0.674688</td>\n",
       "      <td>0.677321</td>\n",
       "      <td>1.000000</td>\n",
       "    </tr>\n",
       "    <tr>\n",
       "      <th>max</th>\n",
       "      <td>3.629974</td>\n",
       "      <td>4.437563</td>\n",
       "      <td>3.724971</td>\n",
       "      <td>20.021875</td>\n",
       "      <td>3.444207</td>\n",
       "      <td>3.502859</td>\n",
       "      <td>3.925565</td>\n",
       "      <td>4.069058</td>\n",
       "      <td>5.209648</td>\n",
       "      <td>3.871048</td>\n",
       "      <td>...</td>\n",
       "      <td>3.616481</td>\n",
       "      <td>4.456758</td>\n",
       "      <td>3.727838</td>\n",
       "      <td>3.959971</td>\n",
       "      <td>3.520052</td>\n",
       "      <td>4.305980</td>\n",
       "      <td>3.671758</td>\n",
       "      <td>3.555786</td>\n",
       "      <td>3.574397</td>\n",
       "      <td>1.000000</td>\n",
       "    </tr>\n",
       "  </tbody>\n",
       "</table>\n",
       "<p>8 rows × 1001 columns</p>\n",
       "</div>"
      ],
      "text/plain": [
       "         feature_0    feature_1    feature_2    feature_3    feature_4  \\\n",
       "count  9999.000000  9999.000000  9999.000000  9999.000000  9999.000000   \n",
       "mean     -0.004460    -0.013556    -0.003732    -0.526323     0.005371   \n",
       "std       0.991939     1.004086     1.004643     5.892651     0.995250   \n",
       "min      -3.769974    -3.617617    -3.753391   -21.830355    -3.952088   \n",
       "25%      -0.667193    -0.702984    -0.666734    -4.535838    -0.664072   \n",
       "50%       0.006990    -0.019359     0.002527    -0.596745     0.008596   \n",
       "75%       0.655618     0.667009     0.660033     3.367154     0.672424   \n",
       "max       3.629974     4.437563     3.724971    20.021875     3.444207   \n",
       "\n",
       "         feature_5    feature_6    feature_7    feature_8    feature_9  \\\n",
       "count  9999.000000  9999.000000  9999.000000  9999.000000  9999.000000   \n",
       "mean     -0.008539     0.017156    -0.001695     0.016588    -0.011591   \n",
       "std       1.001142     0.995826     1.000576     1.016175     0.994338   \n",
       "min      -4.302776    -3.693491    -3.769295    -3.582291    -3.964497   \n",
       "25%      -0.676919    -0.657419    -0.678497    -0.670545    -0.696125   \n",
       "50%      -0.014751     0.023373    -0.005377     0.007411    -0.023052   \n",
       "75%       0.662462     0.697545     0.662622     0.720524     0.668373   \n",
       "max       3.502859     3.925565     4.069058     5.209648     3.871048   \n",
       "\n",
       "          ...       feature_991  feature_992  feature_993  feature_994  \\\n",
       "count     ...       9999.000000  9999.000000  9999.000000  9999.000000   \n",
       "mean      ...          0.004245     0.004588     0.000104    -0.004114   \n",
       "std       ...          1.010292     0.996613     0.984661     1.005568   \n",
       "min       ...         -3.543944    -3.702521    -3.645616    -3.757164   \n",
       "25%       ...         -0.686178    -0.674913    -0.663270    -0.676386   \n",
       "50%       ...         -0.002653     0.000651    -0.005459    -0.002117   \n",
       "75%       ...          0.682821     0.680257     0.668761     0.675716   \n",
       "max       ...          3.616481     4.456758     3.727838     3.959971   \n",
       "\n",
       "       feature_995  feature_996  feature_997  feature_998  feature_999  \\\n",
       "count  9999.000000  9999.000000  9999.000000  9999.000000  9999.000000   \n",
       "mean     -0.015524     0.003792    -0.012826    -0.000154     0.008867   \n",
       "std       1.000405     0.992878     0.986676     1.003824     0.992667   \n",
       "min      -3.998032    -3.844831    -4.314576    -3.912707    -3.852604   \n",
       "25%      -0.690162    -0.660690    -0.671733    -0.689658    -0.653306   \n",
       "50%      -0.017218     0.005911    -0.009118     0.024641    -0.002785   \n",
       "75%       0.660026     0.680975     0.647070     0.674688     0.677321   \n",
       "max       3.520052     4.305980     3.671758     3.555786     3.574397   \n",
       "\n",
       "             label  \n",
       "count  9999.000000  \n",
       "mean      0.493149  \n",
       "std       0.499978  \n",
       "min       0.000000  \n",
       "25%       0.000000  \n",
       "50%       0.000000  \n",
       "75%       1.000000  \n",
       "max       1.000000  \n",
       "\n",
       "[8 rows x 1001 columns]"
      ]
     },
     "execution_count": 3,
     "metadata": {},
     "output_type": "execute_result"
    }
   ],
   "source": [
    "data.describe()"
   ]
  },
  {
   "cell_type": "code",
   "execution_count": 4,
   "metadata": {},
   "outputs": [
    {
     "data": {
      "text/plain": [
       "0    0.506851\n",
       "1    0.493149\n",
       "Name: label, dtype: float64"
      ]
     },
     "execution_count": 4,
     "metadata": {},
     "output_type": "execute_result"
    }
   ],
   "source": [
    "data.shape\n",
    "data['label'].value_counts(normalize=True) #the problem of sample imbalance is not presented "
   ]
  },
  {
   "cell_type": "markdown",
   "metadata": {},
   "source": [
    "### 2. Data preprocessing and feature selection "
   ]
  },
  {
   "cell_type": "code",
   "execution_count": 5,
   "metadata": {},
   "outputs": [],
   "source": [
    "from sklearn.model_selection import train_test_split\n",
    "from sklearn.preprocessing import StandardScaler\n",
    "from sklearn.ensemble import ExtraTreesClassifier\n",
    "from sklearn.feature_selection import SelectFromModel"
   ]
  },
  {
   "cell_type": "code",
   "execution_count": 6,
   "metadata": {},
   "outputs": [],
   "source": [
    "# X and y creation\n",
    "y = data['label']\n",
    "X = data.copy()\n",
    "X.drop([\"label\"], axis=1, inplace=True)"
   ]
  },
  {
   "cell_type": "code",
   "execution_count": 7,
   "metadata": {},
   "outputs": [],
   "source": [
    "#Normalization of Data\n",
    "sc = StandardScaler()\n",
    "sc.fit(X)\n",
    "X = sc.transform(X)"
   ]
  },
  {
   "cell_type": "code",
   "execution_count": 8,
   "metadata": {},
   "outputs": [
    {
     "data": {
      "text/plain": [
       "(9999, 143)"
      ]
     },
     "execution_count": 8,
     "metadata": {},
     "output_type": "execute_result"
    }
   ],
   "source": [
    "#Feature Selection \n",
    "clf = ExtraTreesClassifier(n_estimators=100)\n",
    "clf = clf.fit(X, y)\n",
    "clf.feature_importances_  \n",
    "model = SelectFromModel(clf, prefit=True)\n",
    "X_new = model.transform(X)\n",
    "X_new.shape   \n"
   ]
  },
  {
   "cell_type": "code",
   "execution_count": 9,
   "metadata": {},
   "outputs": [],
   "source": [
    "#Data split\n",
    "X_train, X_test, y_train, y_test = train_test_split(X_new, y, test_size=0.3, random_state=42,shuffle=True)"
   ]
  },
  {
   "cell_type": "markdown",
   "metadata": {},
   "source": [
    "### 3. Defining the classifier\n",
    "#### (with default parameters)"
   ]
  },
  {
   "cell_type": "code",
   "execution_count": 10,
   "metadata": {},
   "outputs": [],
   "source": [
    "from sklearn.tree import DecisionTreeClassifier\n",
    "from sklearn.ensemble import RandomForestClassifier\n",
    "from sklearn.linear_model import LogisticRegression\n",
    "import sklearn.metrics as metrics"
   ]
  },
  {
   "cell_type": "code",
   "execution_count": 11,
   "metadata": {},
   "outputs": [],
   "source": [
    "clfr_LR=LogisticRegression()"
   ]
  },
  {
   "cell_type": "code",
   "execution_count": 12,
   "metadata": {},
   "outputs": [],
   "source": [
    "clfr_DT = DecisionTreeClassifier()"
   ]
  },
  {
   "cell_type": "code",
   "execution_count": 13,
   "metadata": {},
   "outputs": [],
   "source": [
    "clfr_RF = RandomForestClassifier()"
   ]
  },
  {
   "cell_type": "code",
   "execution_count": 14,
   "metadata": {},
   "outputs": [],
   "source": [
    "# function to estimate model performance\n",
    "def model_performance(model_name, X_tr, y_tr, y_te, y_pred):\n",
    "    print('Model name: %s'%model_name)\n",
    "    print('Test accuracy (Accuracy Score): %f'%metrics.accuracy_score(y_te, y_pred))\n",
    "    print('Test accuracy (ROC AUC Score): %f'%metrics.roc_auc_score(y_te, y_pred))\n",
    "    print('Test precision 0: %f'%metrics.precision_score(y_te, y_pred, pos_label=0))   \n",
    "    print('Test precision 1: %f'%metrics.precision_score(y_te, y_pred, pos_label=1)) \n",
    "    print('Test recall 0: %f'%metrics.recall_score(y_te, y_pred, pos_label=0))   \n",
    "    print('Test recall 1: %f'%metrics.recall_score(y_te, y_pred, pos_label=1))\n",
    "\n",
    "    false_positive_rate, true_positive_rate, thresholds = metrics.roc_curve(y_te, y_pred)\n",
    "    roc_auc = metrics.auc(false_positive_rate, true_positive_rate)\n",
    "\n",
    "    # making the graph\n",
    "    plt.title('Receiver Operating Characteristic')\n",
    "    plt.plot(false_positive_rate, true_positive_rate, 'b', label='AUC = %0.2f'% roc_auc)\n",
    "    plt.legend(loc='lower right')\n",
    "    plt.plot([0,1],[0,1],'r--')\n",
    "    plt.xlim([-0.1,1.2])\n",
    "    plt.ylim([-0.1,1.2])\n",
    "    plt.ylabel('True Positive Rate')\n",
    "    plt.xlabel('False Positive Rate')\n",
    "    plt.show()"
   ]
  },
  {
   "cell_type": "markdown",
   "metadata": {},
   "source": [
    "#### Logistic regression"
   ]
  },
  {
   "cell_type": "code",
   "execution_count": 15,
   "metadata": {},
   "outputs": [
    {
     "data": {
      "text/plain": [
       "LogisticRegression(C=1.0, class_weight=None, dual=False, fit_intercept=True,\n",
       "          intercept_scaling=1, max_iter=100, multi_class='ovr', n_jobs=1,\n",
       "          penalty='l2', random_state=None, solver='liblinear', tol=0.0001,\n",
       "          verbose=0, warm_start=False)"
      ]
     },
     "execution_count": 15,
     "metadata": {},
     "output_type": "execute_result"
    }
   ],
   "source": [
    "#model estimation on the training sample\n",
    "clfr_LR.fit(X_train, y_train)"
   ]
  },
  {
   "cell_type": "code",
   "execution_count": 16,
   "metadata": {},
   "outputs": [
    {
     "name": "stdout",
     "output_type": "stream",
     "text": [
      "Model name: Logistic Regression\n",
      "Test accuracy (Accuracy Score): 0.852667\n",
      "Test accuracy (ROC AUC Score): 0.852770\n",
      "Test precision 0: 0.863041\n",
      "Test precision 1: 0.841927\n",
      "Test recall 0: 0.849677\n",
      "Test recall 1: 0.855862\n"
     ]
    },
    {
     "data": {
      "image/png": "[encoded data removed]",
      "text/plain": [
       "<Figure size 432x288 with 1 Axes>"
      ]
     },
     "metadata": {},
     "output_type": "display_data"
    }
   ],
   "source": [
    "# performance of the LR-model\n",
    "y_pred_LR= clfr_LR.predict(X_test)\n",
    "model_performance('Logistic Regression', X_tr=X_train, y_tr=y_train, y_te=y_test, y_pred=y_pred_LR)"
   ]
  },
  {
   "cell_type": "markdown",
   "metadata": {},
   "source": [
    "#### Decision Tree"
   ]
  },
  {
   "cell_type": "code",
   "execution_count": 17,
   "metadata": {},
   "outputs": [
    {
     "data": {
      "text/plain": [
       "DecisionTreeClassifier(class_weight=None, criterion='gini', max_depth=None,\n",
       "            max_features=None, max_leaf_nodes=None,\n",
       "            min_impurity_decrease=0.0, min_impurity_split=None,\n",
       "            min_samples_leaf=1, min_samples_split=2,\n",
       "            min_weight_fraction_leaf=0.0, presort=False, random_state=None,\n",
       "            splitter='best')"
      ]
     },
     "execution_count": 17,
     "metadata": {},
     "output_type": "execute_result"
    }
   ],
   "source": [
    "#model estimation on the training sample\n",
    "clfr_DT.fit(X_train, y_train)"
   ]
  },
  {
   "cell_type": "code",
   "execution_count": 18,
   "metadata": {},
   "outputs": [
    {
     "name": "stdout",
     "output_type": "stream",
     "text": [
      "Model name: Decision tree classifier\n",
      "Test accuracy (Accuracy Score): 0.669667\n",
      "Test accuracy (ROC AUC Score): 0.669355\n",
      "Test precision 0: 0.680906\n",
      "Test precision 1: 0.657732\n",
      "Test recall 0: 0.678710\n",
      "Test recall 1: 0.660000\n"
     ]
    },
    {
     "data": {
      "image/png": "[encoded data removed]",
      "text/plain": [
       "<Figure size 432x288 with 1 Axes>"
      ]
     },
     "metadata": {},
     "output_type": "display_data"
    }
   ],
   "source": [
    "# performance of the DT-model\n",
    "y_pred_DT= clfr_DT.predict(X_test)\n",
    "model_performance('Decision tree classifier', X_tr=X_train, y_tr=y_train, y_te=y_test, y_pred=y_pred_DT)"
   ]
  },
  {
   "cell_type": "markdown",
   "metadata": {},
   "source": [
    "#### Random forest "
   ]
  },
  {
   "cell_type": "code",
   "execution_count": 19,
   "metadata": {},
   "outputs": [
    {
     "data": {
      "text/plain": [
       "RandomForestClassifier(bootstrap=True, class_weight=None, criterion='gini',\n",
       "            max_depth=None, max_features='auto', max_leaf_nodes=None,\n",
       "            min_impurity_decrease=0.0, min_impurity_split=None,\n",
       "            min_samples_leaf=1, min_samples_split=2,\n",
       "            min_weight_fraction_leaf=0.0, n_estimators=10, n_jobs=1,\n",
       "            oob_score=False, random_state=None, verbose=0,\n",
       "            warm_start=False)"
      ]
     },
     "execution_count": 19,
     "metadata": {},
     "output_type": "execute_result"
    }
   ],
   "source": [
    "#model estimation on the training sample\n",
    "clfr_RF.fit(X_train, y_train)"
   ]
  },
  {
   "cell_type": "code",
   "execution_count": 20,
   "metadata": {},
   "outputs": [
    {
     "name": "stdout",
     "output_type": "stream",
     "text": [
      "Model name: Random forest classifier\n",
      "Test accuracy (Accuracy Score): 0.748333\n",
      "Test accuracy (ROC AUC Score): 0.745439\n",
      "Test precision 0: 0.722689\n",
      "Test precision 1: 0.786008\n",
      "Test recall 0: 0.832258\n",
      "Test recall 1: 0.658621\n"
     ]
    },
    {
     "data": {
      "image/png": "[encoded data removed]",
      "text/plain": [
       "<Figure size 432x288 with 1 Axes>"
      ]
     },
     "metadata": {},
     "output_type": "display_data"
    }
   ],
   "source": [
    "y_pred_RF= clfr_RF.predict(X_test)\n",
    "model_performance('Random forest classifier', X_tr=X_train, y_tr=y_train, y_te=y_test, y_pred=y_pred_RF)"
   ]
  },
  {
   "cell_type": "markdown",
   "metadata": {},
   "source": [
    "#### General conclusion on the models with the default parmeters: which model performs better?How we decide it?\n",
    "\n",
    "The comparison of 3 models,presented above, is held according with the performance of AUC (as it was given in the contentent of assignment). \n",
    "- AUC of the Logistic regression model = 0.85\n",
    "- AUC of te Decision Tree model = 0.66\n",
    "- AUC of the Random Forest model = 0.74\n",
    "\n",
    "Here as usual DT works as a weak classifier and its performance of AUC confirms poor performance in that case (AUC= 0.66). That is why this model is not considered further.\n",
    "\n",
    "Moreover, Logistc regression model performes better predictive quaity than Random forest classifier."
   ]
  },
  {
   "cell_type": "markdown",
   "metadata": {},
   "source": [
    "### 4. Cross-validation\n",
    "Here cross-validation is done as a separate task, in the task \"Model tunning\" it is done in more user-friendly way, as cv(cross-validation) is the part of grid_search function."
   ]
  },
  {
   "cell_type": "code",
   "execution_count": 21,
   "metadata": {},
   "outputs": [],
   "source": [
    "from sklearn.model_selection import cross_validate"
   ]
  },
  {
   "cell_type": "markdown",
   "metadata": {},
   "source": [
    "#### Logistic regression"
   ]
  },
  {
   "cell_type": "code",
   "execution_count": 22,
   "metadata": {},
   "outputs": [],
   "source": [
    "scores_LR = cross_validate(estimator=clfr_LR, X=X_train, y=y_train, cv=10, scoring='roc_auc')"
   ]
  },
  {
   "cell_type": "code",
   "execution_count": 23,
   "metadata": {},
   "outputs": [
    {
     "name": "stdout",
     "output_type": "stream",
     "text": [
      "AUC-ROS scores:  [0.90363701 0.91312369 0.91461762 0.90140903 0.9142421  0.90526221\n",
      " 0.90826639 0.91937696 0.90705538 0.90200413]\n",
      "Average AUC-ROC score:  0.9088994518003253\n"
     ]
    }
   ],
   "source": [
    "print('AUC-ROS scores: ', scores_LR['test_score'])\n",
    "print('Average AUC-ROC score: ', np.mean(scores_LR['test_score']))"
   ]
  },
  {
   "cell_type": "markdown",
   "metadata": {},
   "source": [
    "#### Random forest"
   ]
  },
  {
   "cell_type": "code",
   "execution_count": 24,
   "metadata": {},
   "outputs": [],
   "source": [
    "scores_RF = cross_validate(estimator=clfr_RF, X=X_train, y=y_train, cv=10, scoring='roc_auc')"
   ]
  },
  {
   "cell_type": "code",
   "execution_count": 25,
   "metadata": {},
   "outputs": [
    {
     "name": "stdout",
     "output_type": "stream",
     "text": [
      "AUC-ROS scores:  [0.84672929 0.8187451  0.82312484 0.81788793 0.80669573 0.83004751\n",
      " 0.81687565 0.8162389  0.80506435 0.79718866]\n",
      "Average AUC-ROC score:  0.8178597956953553\n"
     ]
    }
   ],
   "source": [
    "print('AUC-ROS scores: ', scores_RF['test_score'])\n",
    "print('Average AUC-ROC score: ', np.mean(scores_RF['test_score']))"
   ]
  },
  {
   "cell_type": "markdown",
   "metadata": {},
   "source": [
    "### 5. Hyper parameters tuning"
   ]
  },
  {
   "cell_type": "code",
   "execution_count": 26,
   "metadata": {},
   "outputs": [
    {
     "name": "stderr",
     "output_type": "stream",
     "text": [
      "C:\\ProgramData\\Anaconda3\\lib\\site-packages\\sklearn\\cross_validation.py:41: DeprecationWarning: This module was deprecated in version 0.18 in favor of the model_selection module into which all the refactored classes and functions are moved. Also note that the interface of the new CV iterators are different from that of this module. This module will be removed in 0.20.\n",
      "  \"This module will be removed in 0.20.\", DeprecationWarning)\n",
      "C:\\ProgramData\\Anaconda3\\lib\\site-packages\\sklearn\\grid_search.py:42: DeprecationWarning: This module was deprecated in version 0.18 in favor of the model_selection module into which all the refactored classes and functions are moved. This module will be removed in 0.20.\n",
      "  DeprecationWarning)\n"
     ]
    }
   ],
   "source": [
    "from sklearn import grid_search"
   ]
  },
  {
   "cell_type": "markdown",
   "metadata": {},
   "source": [
    "#### Logistic regression "
   ]
  },
  {
   "cell_type": "code",
   "execution_count": 46,
   "metadata": {},
   "outputs": [],
   "source": [
    "#creation of the parameter grid for LR\n",
    "param_grid_LR = {'penalty': ['l1', 'l2'],'C': [0.0001, 0.001, 0.01, 1, 100]}"
   ]
  },
  {
   "cell_type": "code",
   "execution_count": 47,
   "metadata": {},
   "outputs": [
    {
     "data": {
      "text/plain": [
       "GridSearchCV(cv=10, error_score='raise',\n",
       "       estimator=LogisticRegression(C=1.0, class_weight=None, dual=False, fit_intercept=True,\n",
       "          intercept_scaling=1, max_iter=100, multi_class='ovr', n_jobs=1,\n",
       "          penalty='l2', random_state=None, solver='liblinear', tol=0.0001,\n",
       "          verbose=0, warm_start=False),\n",
       "       fit_params={}, iid=True, n_jobs=1,\n",
       "       param_grid={'penalty': ['l1', 'l2'], 'C': [0.0001, 0.001, 0.01, 1, 100]},\n",
       "       pre_dispatch='2*n_jobs', refit=True, scoring='roc_auc', verbose=0)"
      ]
     },
     "execution_count": 47,
     "metadata": {},
     "output_type": "execute_result"
    }
   ],
   "source": [
    "# looking for best model\n",
    "tunning_LR = grid_search.GridSearchCV(clfr_LR, param_grid_LR, scoring = 'roc_auc', cv = 10)\n",
    "tunning_LR.fit(X_train, y_train)"
   ]
  },
  {
   "cell_type": "code",
   "execution_count": 48,
   "metadata": {},
   "outputs": [
    {
     "data": {
      "text/plain": [
       "LogisticRegression(C=1, class_weight=None, dual=False, fit_intercept=True,\n",
       "          intercept_scaling=1, max_iter=100, multi_class='ovr', n_jobs=1,\n",
       "          penalty='l1', random_state=None, solver='liblinear', tol=0.0001,\n",
       "          verbose=0, warm_start=False)"
      ]
     },
     "execution_count": 48,
     "metadata": {},
     "output_type": "execute_result"
    }
   ],
   "source": [
    "# checking what is the best model\n",
    "tunning_LR.best_estimator_"
   ]
  },
  {
   "cell_type": "code",
   "execution_count": 49,
   "metadata": {},
   "outputs": [
    {
     "name": "stdout",
     "output_type": "stream",
     "text": [
      "BEST PARAMETERS: {'C': 1, 'penalty': 'l1'}\n",
      "BEST SCORE: 0.90892279242945\n"
     ]
    }
   ],
   "source": [
    "print(\"BEST PARAMETERS:\" ,tunning_LR.best_params_)\n",
    "print(\"BEST SCORE:\",tunning_LR.best_score_)"
   ]
  },
  {
   "cell_type": "markdown",
   "metadata": {},
   "source": [
    "#### Random forest "
   ]
  },
  {
   "cell_type": "code",
   "execution_count": 31,
   "metadata": {},
   "outputs": [],
   "source": [
    "#creation of the parameter grid for RF\n",
    "param_grid_RF = {'n_estimators': [100, 200, 300]}"
   ]
  },
  {
   "cell_type": "code",
   "execution_count": null,
   "metadata": {},
   "outputs": [],
   "source": [
    "#creation of the parameter grid for RF\n",
    "#param_grid_RF = {'max_depth': [10,25,50],'min_samples_leaf': [1, 5],'n_estimators': [100, 200, 300]}"
   ]
  },
  {
   "cell_type": "code",
   "execution_count": 35,
   "metadata": {},
   "outputs": [
    {
     "data": {
      "text/plain": [
       "GridSearchCV(cv=10, error_score='raise',\n",
       "       estimator=RandomForestClassifier(bootstrap=True, class_weight=None, criterion='gini',\n",
       "            max_depth=None, max_features='auto', max_leaf_nodes=None,\n",
       "            min_impurity_decrease=0.0, min_impurity_split=None,\n",
       "            min_samples_leaf=1, min_samples_split=2,\n",
       "            min_weight_fraction_leaf=0.0, n_estimators=10, n_jobs=1,\n",
       "            oob_score=False, random_state=None, verbose=0,\n",
       "            warm_start=False),\n",
       "       fit_params={}, iid=True, n_jobs=1,\n",
       "       param_grid={'n_estimators': [100, 200, 300]},\n",
       "       pre_dispatch='2*n_jobs', refit=True, scoring='roc_auc', verbose=0)"
      ]
     },
     "execution_count": 35,
     "metadata": {},
     "output_type": "execute_result"
    }
   ],
   "source": [
    "# looking for best model\n",
    "tunning_RF = grid_search.GridSearchCV(clfr_RF, param_grid_RF, scoring = 'roc_auc', cv = 10)\n",
    "tunning_RF.fit(X_train, y_train)"
   ]
  },
  {
   "cell_type": "code",
   "execution_count": 33,
   "metadata": {},
   "outputs": [
    {
     "data": {
      "text/plain": [
       "RandomForestClassifier(bootstrap=True, class_weight=None, criterion='gini',\n",
       "            max_depth=None, max_features='auto', max_leaf_nodes=None,\n",
       "            min_impurity_decrease=0.0, min_impurity_split=None,\n",
       "            min_samples_leaf=1, min_samples_split=2,\n",
       "            min_weight_fraction_leaf=0.0, n_estimators=300, n_jobs=1,\n",
       "            oob_score=False, random_state=None, verbose=0,\n",
       "            warm_start=False)"
      ]
     },
     "execution_count": 33,
     "metadata": {},
     "output_type": "execute_result"
    }
   ],
   "source": [
    "# checking what is the best model\n",
    "tunning_RF.best_estimator_"
   ]
  },
  {
   "cell_type": "code",
   "execution_count": 36,
   "metadata": {},
   "outputs": [
    {
     "name": "stdout",
     "output_type": "stream",
     "text": [
      "BEST PARAMETERS: {'n_estimators': 300}\n",
      "BEST SCORE: 0.9641977403865036\n"
     ]
    }
   ],
   "source": [
    "print(\"BEST PARAMETERS:\" ,tunning_RF.best_params_)\n",
    "print(\"BEST SCORE:\",tunning_RF.best_score_)"
   ]
  },
  {
   "cell_type": "markdown",
   "metadata": {},
   "source": [
    "Performace of this model also could be improved by changing another parameters, for example: \"max_depth\",'min_samples_leaf'."
   ]
  },
  {
   "cell_type": "markdown",
   "metadata": {},
   "source": [
    "### 6. Model comparison: LR vs. RF"
   ]
  },
  {
   "cell_type": "markdown",
   "metadata": {},
   "source": [
    "After models tunning the following results are obtained:\n",
    "- AUC of the Logistic regression model = 0.91\n",
    "- AUC of the Random Forest model = 0.965\n",
    "\n",
    "That confirms better preductive performance of Random forest classifier in that case in conparison with loistic regression. The main parameter used - n_estimators,with the best value for the model - 300. (with the growth of n_estimators the AUC will increase,of course, in slowng rate)\n",
    "At the same time it is expected that ANNs also could show better results."
   ]
  }
 ],
 "metadata": {
  "kernelspec": {
   "display_name": "Python 3",
   "language": "python",
   "name": "python3"
  },
  "language_info": {
   "codemirror_mode": {
    "name": "ipython",
    "version": 3
   },
   "file_extension": ".py",
   "mimetype": "text/x-python",
   "name": "python",
   "nbconvert_exporter": "python",
   "pygments_lexer": "ipython3",
   "version": "3.6.5"
  }
 },
 "nbformat": 4,
 "nbformat_minor": 2
}

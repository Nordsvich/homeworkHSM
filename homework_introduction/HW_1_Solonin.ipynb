{
 "cells": [
  {
   "cell_type": "markdown",
   "metadata": {},
   "source": [
    "## Natural Language and Image Processing: Homework 1\n",
    "*Author: Maxim Solonin*"
   ]
  },
  {
   "cell_type": "markdown",
   "metadata": {},
   "source": [
    "You should build full ML pipeline and get best AUC.\n",
    "\n",
    "Important stages in pipeline:\n",
    "\n",
    "1. Feature selection\n",
    "2. Cross validation\n",
    "3. Hyper parameters tuning\n",
    "4. Compare minimum 2 models"
   ]
  },
  {
   "cell_type": "markdown",
   "metadata": {},
   "source": [
    "## 1. Intro"
   ]
  },
  {
   "cell_type": "code",
   "execution_count": 4,
   "metadata": {},
   "outputs": [],
   "source": [
    "# importing libraries\n",
    "from sklearn.model_selection import cross_val_score, GridSearchCV\n",
    "from sklearn.neural_network import MLPClassifier\n",
    "from sklearn.neighbors import KNeighborsClassifier\n",
    "from sklearn.ensemble import RandomForestClassifier\n",
    "from sklearn.metrics import jaccard_similarity_score, roc_auc_score\n",
    "from sklearn.linear_model import LogisticRegression\n",
    "from sklearn.svm import LinearSVC\n",
    "from sklearn.feature_selection import SelectFromModel\n",
    "from sklearn.pipeline import Pipeline\n",
    "from sklearn.decomposition import PCA as skPCA\n",
    "from sklearn.preprocessing import StandardScaler\n",
    "from sklearn.model_selection import train_test_split\n",
    "import numpy as np\n",
    "import pandas as pd\n",
    "import matplotlib.pyplot as plt\n",
    "import xgboost as xgb"
   ]
  },
  {
   "cell_type": "code",
   "execution_count": 5,
   "metadata": {},
   "outputs": [],
   "source": [
    "# reading the data\n",
    "data = pd.read_csv('C:\\\\Users\\\\Maxim\\\\Desktop\\\\Education\\\\GSOM\\\\Natural Language and Image Processing\\\\HW\\\\HW1\\dataset_simple.csv',sep=',')"
   ]
  },
  {
   "cell_type": "code",
   "execution_count": 6,
   "metadata": {},
   "outputs": [],
   "source": [
    "# dividing into train and test sample\n",
    "data_tr, data_t, y_tr, y_t = train_test_split(data.drop('label',axis=1), data['label'], test_size=0.2, random_state=777)"
   ]
  },
  {
   "cell_type": "markdown",
   "metadata": {},
   "source": [
    "## 2. Feature selection"
   ]
  },
  {
   "cell_type": "markdown",
   "metadata": {},
   "source": [
    "Two different approaches to feature selection are tried. One is based on random forest classifier with a threshold of 2 mean values. The other one is applied directly during model fitting and is based on support vector machine. "
   ]
  },
  {
   "cell_type": "code",
   "execution_count": 7,
   "metadata": {},
   "outputs": [],
   "source": [
    "sfm = SelectFromModel(RandomForestClassifier(n_estimators=100), threshold='2*mean')\n",
    "sfm.fit(data_tr, y_tr)\n",
    "n_features = sfm.transform(data_tr).shape[1]"
   ]
  },
  {
   "cell_type": "code",
   "execution_count": 8,
   "metadata": {},
   "outputs": [
    {
     "name": "stdout",
     "output_type": "stream",
     "text": [
      "Features selected: 58\n"
     ]
    }
   ],
   "source": [
    "print('Features selected:', n_features)"
   ]
  },
  {
   "cell_type": "code",
   "execution_count": 9,
   "metadata": {},
   "outputs": [],
   "source": [
    "data_tr_feat = sfm.transform(data_tr)\n",
    "data_t_feat = sfm.transform(data_t)"
   ]
  },
  {
   "cell_type": "markdown",
   "metadata": {},
   "source": [
    "## 3. Model training"
   ]
  },
  {
   "cell_type": "markdown",
   "metadata": {},
   "source": [
    "### LinearSVC feature selection"
   ]
  },
  {
   "cell_type": "code",
   "execution_count": 10,
   "metadata": {
    "scrolled": true
   },
   "outputs": [
    {
     "data": {
      "text/plain": [
       "Pipeline(memory=None,\n",
       "     steps=[('feature_selection', SelectFromModel(estimator=LinearSVC(C=1.0, class_weight=None, dual=False, fit_intercept=True,\n",
       "     intercept_scaling=1, loss='squared_hinge', max_iter=1000,\n",
       "     multi_class='ovr', penalty='l2', random_state=None, tol=0.0001,\n",
       "     verbose=0),\n",
       "        max_features=None, n...\n",
       "       reg_alpha=0, reg_lambda=1, scale_pos_weight=1, seed=None,\n",
       "       silent=True, subsample=1))])"
      ]
     },
     "execution_count": 10,
     "metadata": {},
     "output_type": "execute_result"
    }
   ],
   "source": [
    "# xgboost classifier\n",
    "clf1 = Pipeline([\n",
    "  ('feature_selection', SelectFromModel(LinearSVC(dual = False, penalty=\"l2\"))),\n",
    "  ('classification', xgb.XGBClassifier())\n",
    "])\n",
    "clf1.fit(data_tr, y_tr)"
   ]
  },
  {
   "cell_type": "code",
   "execution_count": 11,
   "metadata": {},
   "outputs": [
    {
     "name": "stdout",
     "output_type": "stream",
     "text": [
      "Accuracy:  0.842\n",
      "AUC:  0.8418683072590613\n"
     ]
    }
   ],
   "source": [
    "print('Accuracy: ', jaccard_similarity_score(y_t, clf1.predict(data_t)))\n",
    "print('AUC: ', roc_auc_score(y_t,clf1.predict(data_t)))"
   ]
  },
  {
   "cell_type": "code",
   "execution_count": 12,
   "metadata": {},
   "outputs": [
    {
     "data": {
      "text/plain": [
       "Pipeline(memory=None,\n",
       "     steps=[('feature_selection', SelectFromModel(estimator=LinearSVC(C=1.0, class_weight=None, dual=False, fit_intercept=True,\n",
       "     intercept_scaling=1, loss='squared_hinge', max_iter=1000,\n",
       "     multi_class='ovr', penalty='l2', random_state=None, tol=0.0001,\n",
       "     verbose=0),\n",
       "        max_features=None, n...ki',\n",
       "           metric_params=None, n_jobs=None, n_neighbors=5, p=2,\n",
       "           weights='uniform'))])"
      ]
     },
     "execution_count": 12,
     "metadata": {},
     "output_type": "execute_result"
    }
   ],
   "source": [
    "# K-Neighbours\n",
    "clf = Pipeline([\n",
    "  ('feature_selection', SelectFromModel(LinearSVC(dual = False, penalty=\"l2\"))),\n",
    "  ('classification', KNeighborsClassifier())\n",
    "])\n",
    "clf.fit(data_tr, y_tr)"
   ]
  },
  {
   "cell_type": "code",
   "execution_count": 13,
   "metadata": {},
   "outputs": [
    {
     "name": "stdout",
     "output_type": "stream",
     "text": [
      "Accuracy:  0.906\n",
      "AUC:  0.9059786152301482\n"
     ]
    }
   ],
   "source": [
    "print('Accuracy: ', jaccard_similarity_score(y_t, clf.predict(data_t)))\n",
    "print('AUC: ', roc_auc_score(y_t,clf.predict(data_t)))"
   ]
  },
  {
   "cell_type": "code",
   "execution_count": 14,
   "metadata": {},
   "outputs": [
    {
     "data": {
      "text/plain": [
       "Pipeline(memory=None,\n",
       "     steps=[('feature_selection', SelectFromModel(estimator=LinearSVC(C=1.0, class_weight=None, dual=False, fit_intercept=True,\n",
       "     intercept_scaling=1, loss='squared_hinge', max_iter=1000,\n",
       "     multi_class='ovr', penalty='l2', random_state=None, tol=0.0001,\n",
       "     verbose=0),\n",
       "        max_features=None, n...e=True, solver='sgd', tol=0.0001,\n",
       "       validation_fraction=0.1, verbose=False, warm_start=False))])"
      ]
     },
     "execution_count": 14,
     "metadata": {},
     "output_type": "execute_result"
    }
   ],
   "source": [
    "#Multi-layer perceptron\n",
    "clf2 = Pipeline([\n",
    "  ('feature_selection', SelectFromModel(LinearSVC(dual = False, penalty=\"l2\"))),\n",
    "  ('classification', MLPClassifier(solver='sgd',learning_rate = 'adaptive', alpha=1e-7, random_state=1, max_iter=500))\n",
    "])\n",
    "clf2.fit(data_tr, y_tr)"
   ]
  },
  {
   "cell_type": "code",
   "execution_count": 15,
   "metadata": {},
   "outputs": [
    {
     "name": "stdout",
     "output_type": "stream",
     "text": [
      "Accuracy:  0.922\n",
      "AUC:  0.9219731910348774\n"
     ]
    }
   ],
   "source": [
    "print('Accuracy: ', jaccard_similarity_score(y_t, clf2.predict(data_t)))\n",
    "print('AUC: ', roc_auc_score(y_t,clf2.predict(data_t)))"
   ]
  },
  {
   "cell_type": "markdown",
   "metadata": {},
   "source": [
    "### Random forest feature selection"
   ]
  },
  {
   "cell_type": "code",
   "execution_count": 16,
   "metadata": {},
   "outputs": [
    {
     "data": {
      "text/plain": [
       "XGBClassifier(base_score=0.5, booster='gbtree', colsample_bylevel=1,\n",
       "       colsample_bytree=1, gamma=0, learning_rate=0.1, max_delta_step=0,\n",
       "       max_depth=3, min_child_weight=1, missing=None, n_estimators=100,\n",
       "       n_jobs=1, nthread=None, objective='binary:logistic', random_state=0,\n",
       "       reg_alpha=0, reg_lambda=1, scale_pos_weight=1, seed=None,\n",
       "       silent=True, subsample=1)"
      ]
     },
     "execution_count": 16,
     "metadata": {},
     "output_type": "execute_result"
    }
   ],
   "source": [
    "clfx = xgb.XGBClassifier()\n",
    "clfx.fit(data_tr_feat,y_tr)"
   ]
  },
  {
   "cell_type": "code",
   "execution_count": 17,
   "metadata": {},
   "outputs": [
    {
     "name": "stdout",
     "output_type": "stream",
     "text": [
      "Accuracy:  0.8625\n",
      "AUC:  0.8623000428015409\n"
     ]
    }
   ],
   "source": [
    "print('Accuracy: ', jaccard_similarity_score(y_t, clfx.predict(data_t_feat)))\n",
    "print('AUC: ', roc_auc_score(y_t,clfx.predict(data_t_feat)))"
   ]
  },
  {
   "cell_type": "code",
   "execution_count": 18,
   "metadata": {},
   "outputs": [
    {
     "data": {
      "text/plain": [
       "MLPClassifier(activation='relu', alpha=1e-07, batch_size='auto', beta_1=0.9,\n",
       "       beta_2=0.999, early_stopping=False, epsilon=1e-08,\n",
       "       hidden_layer_sizes=(100,), learning_rate='adaptive',\n",
       "       learning_rate_init=0.001, max_iter=500, momentum=0.9,\n",
       "       n_iter_no_change=10, nesterovs_momentum=True, power_t=0.5,\n",
       "       random_state=1, shuffle=True, solver='sgd', tol=0.0001,\n",
       "       validation_fraction=0.1, verbose=False, warm_start=False)"
      ]
     },
     "execution_count": 18,
     "metadata": {},
     "output_type": "execute_result"
    }
   ],
   "source": [
    "# Multi-layer perceptron\n",
    "clff = MLPClassifier(solver='sgd',learning_rate = 'adaptive', alpha=1e-7, random_state=1,max_iter=500)\n",
    "clff.fit(data_tr_feat,y_tr)"
   ]
  },
  {
   "cell_type": "code",
   "execution_count": 19,
   "metadata": {},
   "outputs": [
    {
     "name": "stdout",
     "output_type": "stream",
     "text": [
      "Accuracy:  0.94\n",
      "AUC:  0.9399798392742138\n"
     ]
    }
   ],
   "source": [
    "print('Accuracy: ', jaccard_similarity_score(y_t, clff.predict(data_t_feat)))\n",
    "print('AUC: ', roc_auc_score(y_t,clff.predict(data_t_feat)))"
   ]
  },
  {
   "cell_type": "code",
   "execution_count": 20,
   "metadata": {},
   "outputs": [
    {
     "data": {
      "text/plain": [
       "KNeighborsClassifier(algorithm='auto', leaf_size=30, metric='minkowski',\n",
       "           metric_params=None, n_jobs=None, n_neighbors=5, p=2,\n",
       "           weights='uniform')"
      ]
     },
     "execution_count": 20,
     "metadata": {},
     "output_type": "execute_result"
    }
   ],
   "source": [
    "# K-Neighbours\n",
    "clfk = KNeighborsClassifier()\n",
    "clfk.fit(data_tr_feat,y_tr)"
   ]
  },
  {
   "cell_type": "code",
   "execution_count": 21,
   "metadata": {},
   "outputs": [
    {
     "name": "stdout",
     "output_type": "stream",
     "text": [
      "Accuracy:  0.784\n",
      "AUC:  0.7838242176718362\n"
     ]
    }
   ],
   "source": [
    "print('Accuracy: ', jaccard_similarity_score(y_t, clfk.predict(data_t_feat)))\n",
    "print('AUC: ', roc_auc_score(y_t,clfk.predict(data_t_feat)))"
   ]
  },
  {
   "cell_type": "markdown",
   "metadata": {},
   "source": [
    "### Cross-validation"
   ]
  },
  {
   "cell_type": "markdown",
   "metadata": {},
   "source": [
    "Apart from checking results on ordinary test sample, we apply cross-validation process."
   ]
  },
  {
   "cell_type": "markdown",
   "metadata": {},
   "source": [
    "#### Xgboost"
   ]
  },
  {
   "cell_type": "code",
   "execution_count": 22,
   "metadata": {},
   "outputs": [
    {
     "name": "stdout",
     "output_type": "stream",
     "text": [
      "Train Fold AUC Scores SVC:  [0.91236162 0.89837882 0.9124004  0.88822835 0.90234162]\n",
      "Train CV AUC Score SVC:  0.902742163385342\n",
      "\n",
      "Test Fold AUC Scores SVC:  [0.81974228 0.8239706  0.8361459  0.83562089 0.85567114]\n",
      "Test CV AUC Score SVC:  0.834230161684635\n"
     ]
    }
   ],
   "source": [
    "train_scores = cross_val_score(clf1, data_tr, y_tr, scoring='roc_auc', cv=5)\n",
    "test_scores = cross_val_score(clf1, data_t, y_t, scoring='roc_auc', cv=5)\n",
    "print(\"Train Fold AUC Scores SVC: \", train_scores)\n",
    "print(\"Train CV AUC Score SVC: \", train_scores.mean())\n",
    "print(\"\\nTest Fold AUC Scores SVC: \", test_scores)\n",
    "print(\"Test CV AUC Score SVC: \", test_scores.mean())"
   ]
  },
  {
   "cell_type": "code",
   "execution_count": 23,
   "metadata": {},
   "outputs": [
    {
     "name": "stdout",
     "output_type": "stream",
     "text": [
      "Train Fold AUC Scores RF:  [0.92769619 0.92173657 0.93255394 0.93036943 0.93042107]\n",
      "Train CV AUC Score RF:  0.9285554383068273\n",
      "\n",
      "Test Fold AUC Scores RF:  [0.92024479 0.89942249 0.92669817 0.90609765 0.90419117]\n",
      "Test CV AUC Score RF:  0.9113308518281513\n"
     ]
    }
   ],
   "source": [
    "train_scoresx = cross_val_score(clfx, data_tr_feat, y_tr, scoring='roc_auc', cv=5)\n",
    "test_scoresx = cross_val_score(clfx, data_t_feat, y_t, scoring='roc_auc', cv=5)\n",
    "print(\"Train Fold AUC Scores RF: \", train_scoresx)\n",
    "print(\"Train CV AUC Score RF: \", train_scoresx.mean())\n",
    "print(\"\\nTest Fold AUC Scores RF: \", test_scoresx)\n",
    "print(\"Test CV AUC Score RF: \", test_scoresx.mean())"
   ]
  },
  {
   "cell_type": "markdown",
   "metadata": {},
   "source": [
    "#### MLP"
   ]
  },
  {
   "cell_type": "code",
   "execution_count": 24,
   "metadata": {},
   "outputs": [
    {
     "name": "stdout",
     "output_type": "stream",
     "text": [
      "Train Fold AUC Scores SVC:  [0.9610673  0.9564891  0.97100043 0.9505574  0.95051201]\n",
      "Train CV AUC Score SVC:  0.9579252476404749\n",
      "\n",
      "Test Fold AUC Scores SVC:  [0.84795263 0.86952174 0.86907173 0.89809745 0.89072315]\n",
      "Test CV AUC Score SVC:  0.8750733407299081\n"
     ]
    }
   ],
   "source": [
    "train_scores_mlp = cross_val_score(clf2, data_tr, y_tr, scoring='roc_auc', cv=5)\n",
    "test_scores_mlp = cross_val_score(clf2, data_t, y_t, scoring='roc_auc', cv=5)\n",
    "print(\"Train Fold AUC Scores SVC: \", train_scores_mlp)\n",
    "print(\"Train CV AUC Score SVC: \", train_scores_mlp.mean())\n",
    "print(\"\\nTest Fold AUC Scores SVC: \", test_scores_mlp)\n",
    "print(\"Test CV AUC Score SVC: \", test_scores_mlp.mean())"
   ]
  },
  {
   "cell_type": "code",
   "execution_count": 25,
   "metadata": {},
   "outputs": [
    {
     "name": "stdout",
     "output_type": "stream",
     "text": [
      "Train Fold AUC Scores RF:  [0.97845449 0.97551058 0.98026896 0.97612527 0.97383592]\n",
      "Train CV AUC Score RF:  0.9768390457883236\n",
      "\n",
      "Test Fold AUC Scores RF:  [0.94512165 0.93339833 0.94237356 0.94922373 0.93662998]\n",
      "Test CV AUC Score RF:  0.94134945082798\n"
     ]
    }
   ],
   "source": [
    "train_scores_mlp2 = cross_val_score(clff, data_tr_feat, y_tr, scoring='roc_auc', cv=5)\n",
    "test_scores_mlp2 = cross_val_score(clff, data_t_feat, y_t, scoring='roc_auc', cv=5)\n",
    "print(\"Train Fold AUC Scores RF: \", train_scores_mlp2)\n",
    "print(\"Train CV AUC Score RF: \", train_scores_mlp2.mean())\n",
    "print(\"\\nTest Fold AUC Scores RF: \", test_scores_mlp2)\n",
    "print(\"Test CV AUC Score RF: \", test_scores_mlp2.mean())"
   ]
  },
  {
   "cell_type": "markdown",
   "metadata": {},
   "source": [
    "#### K-neigbours"
   ]
  },
  {
   "cell_type": "code",
   "execution_count": 26,
   "metadata": {},
   "outputs": [
    {
     "name": "stdout",
     "output_type": "stream",
     "text": [
      "Train Fold AUC Scores SVC:  [0.93152281 0.91918991 0.9431831  0.92011113 0.91008992]\n",
      "Train CV AUC Score SVC:  0.9248193738294953\n",
      "\n",
      "Test Fold AUC Scores SVC:  [0.82377233 0.85410885 0.84122103 0.8279957  0.85089703]\n",
      "Test CV AUC Score SVC:  0.8395989880245056\n"
     ]
    }
   ],
   "source": [
    "train_scores_knn = cross_val_score(clf, data_tr, y_tr, scoring='roc_auc', cv=5)\n",
    "test_scores_knn = cross_val_score(clf, data_t, y_t, scoring='roc_auc', cv=5)\n",
    "print(\"Train Fold AUC Scores SVC: \", train_scores_knn)\n",
    "print(\"Train CV AUC Score SVC: \", train_scores_knn.mean())\n",
    "print(\"\\nTest Fold AUC Scores SVC: \", test_scores_knn)\n",
    "print(\"Test CV AUC Score SVC: \", test_scores_knn.mean())"
   ]
  },
  {
   "cell_type": "code",
   "execution_count": 27,
   "metadata": {},
   "outputs": [
    {
     "name": "stdout",
     "output_type": "stream",
     "text": [
      "Train Fold AUC Scores SVC:  [0.82942711 0.83618203 0.82315693 0.82923711 0.82924337]\n",
      "Train CV AUC Score SVC:  0.8294493103387908\n",
      "\n",
      "Test Fold AUC Scores SVC:  [0.74440271 0.7679817  0.74438111 0.75028126 0.7272476 ]\n",
      "Test CV AUC Score SVC:  0.7468588746171799\n"
     ]
    }
   ],
   "source": [
    "train_scores_knn2 = cross_val_score(clfk, data_tr_feat, y_tr, scoring='roc_auc', cv=5)\n",
    "test_scores_knn2 = cross_val_score(clfk, data_t_feat, y_t, scoring='roc_auc', cv=5)\n",
    "print(\"Train Fold AUC Scores SVC: \", train_scores_knn2)\n",
    "print(\"Train CV AUC Score SVC: \", train_scores_knn2.mean())\n",
    "print(\"\\nTest Fold AUC Scores SVC: \", test_scores_knn2)\n",
    "print(\"Test CV AUC Score SVC: \", test_scores_knn2.mean())"
   ]
  },
  {
   "cell_type": "markdown",
   "metadata": {},
   "source": [
    "For all the tested models except for knn, performance result is better for feature selection using random forest."
   ]
  },
  {
   "cell_type": "markdown",
   "metadata": {},
   "source": [
    "### Tuning of parameters using GridSearch"
   ]
  },
  {
   "cell_type": "markdown",
   "metadata": {},
   "source": [
    "Now, parameters tuning is applied using GridSearch with default cross-validation."
   ]
  },
  {
   "cell_type": "code",
   "execution_count": 32,
   "metadata": {},
   "outputs": [],
   "source": [
    "def hyper_tun(model,params,x_tr,y_tr,x_t,y_t):\n",
    "    md = GridSearchCV(model, params, scoring='roc_auc', n_jobs=-1, cv = 3)\n",
    "    md.fit(x_tr,y_tr)\n",
    "    print(md.best_estimator_)\n",
    "    print('ROC-AUC: ', roc_auc_score(y_t, md.best_estimator_.predict(x_t)))"
   ]
  },
  {
   "cell_type": "markdown",
   "metadata": {},
   "source": [
    "#### KNN"
   ]
  },
  {
   "cell_type": "code",
   "execution_count": 29,
   "metadata": {},
   "outputs": [],
   "source": [
    "knn_params = {\n",
    " 'n_neighbors':range(1,10,2),\n",
    " 'p': [1, 2]\n",
    "}"
   ]
  },
  {
   "cell_type": "code",
   "execution_count": 33,
   "metadata": {},
   "outputs": [
    {
     "name": "stdout",
     "output_type": "stream",
     "text": [
      "KNeighborsClassifier(algorithm='auto', leaf_size=30, metric='minkowski',\n",
      "           metric_params=None, n_jobs=None, n_neighbors=9, p=1,\n",
      "           weights='uniform')\n",
      "ROC-AUC:  0.9058646111260005\n"
     ]
    }
   ],
   "source": [
    "hyper_tun(KNeighborsClassifier(),knn_params,data_tr,y_tr,data_t,y_t)"
   ]
  },
  {
   "cell_type": "markdown",
   "metadata": {},
   "source": [
    "#### MLP"
   ]
  },
  {
   "cell_type": "code",
   "execution_count": 37,
   "metadata": {},
   "outputs": [],
   "source": [
    "mlp_params = {\n",
    "'solver': ['sgd'], 'max_iter': [200,500,700,900, 1000],'hidden_layer_sizes':np.arange(100, 200, 20)\n",
    "}"
   ]
  },
  {
   "cell_type": "code",
   "execution_count": 38,
   "metadata": {},
   "outputs": [
    {
     "name": "stdout",
     "output_type": "stream",
     "text": [
      "MLPClassifier(activation='relu', alpha=1e-07, batch_size='auto', beta_1=0.9,\n",
      "       beta_2=0.999, early_stopping=False, epsilon=1e-08,\n",
      "       hidden_layer_sizes=180, learning_rate='adaptive',\n",
      "       learning_rate_init=0.001, max_iter=700, momentum=0.9,\n",
      "       n_iter_no_change=10, nesterovs_momentum=True, power_t=0.5,\n",
      "       random_state=None, shuffle=True, solver='sgd', tol=0.0001,\n",
      "       validation_fraction=0.1, verbose=False, warm_start=False)\n",
      "ROC-AUC:  0.9394108187894764\n"
     ]
    }
   ],
   "source": [
    "hyper_tun(MLPClassifier(learning_rate='adaptive',alpha=1e-7),mlp_params,data_tr_feat,y_tr,data_t_feat,y_t)"
   ]
  },
  {
   "cell_type": "markdown",
   "metadata": {},
   "source": [
    "#### XGBoost"
   ]
  },
  {
   "cell_type": "code",
   "execution_count": 45,
   "metadata": {},
   "outputs": [],
   "source": [
    "params_xgb={\n",
    "    'max_depth': [3,4,5,6,7],\n",
    "    'n_estimators': [100,300,500,700,1000]\n",
    "}\n"
   ]
  },
  {
   "cell_type": "code",
   "execution_count": 46,
   "metadata": {},
   "outputs": [
    {
     "name": "stdout",
     "output_type": "stream",
     "text": [
      "XGBClassifier(base_score=0.5, booster='gbtree', colsample_bylevel=1,\n",
      "       colsample_bytree=1, gamma=0, learning_rate=0.1, max_delta_step=0,\n",
      "       max_depth=6, min_child_weight=1, missing=None, n_estimators=1000,\n",
      "       n_jobs=-1, nthread=None, objective='binary:logistic',\n",
      "       random_state=0, reg_alpha=0, reg_lambda=1, scale_pos_weight=1,\n",
      "       seed=None, silent=True, subsample=1)\n",
      "ROC-AUC:  0.9334226032137156\n"
     ]
    }
   ],
   "source": [
    "hyper_tun(xgb.XGBClassifier(n_jobs = -1),params_xgb,data_tr_feat,y_tr,data_t_feat,y_t)"
   ]
  },
  {
   "cell_type": "markdown",
   "metadata": {},
   "source": [
    "## 4. Conclusion. Model comparison"
   ]
  },
  {
   "cell_type": "markdown",
   "metadata": {},
   "source": [
    "All the models tested demonstrated good results regarding ROC-AUC metric. The best results using cross-validation and GridSearch were demonstrated by multi-layer perceptron with ROC-AUC 0.94. At the same time xgboost model is very close with 0.933."
   ]
  }
 ],
 "metadata": {
  "kernelspec": {
   "display_name": "Python 3",
   "language": "python",
   "name": "python3"
  },
  "language_info": {
   "codemirror_mode": {
    "name": "ipython",
    "version": 3
   },
   "file_extension": ".py",
   "mimetype": "text/x-python",
   "name": "python",
   "nbconvert_exporter": "python",
   "pygments_lexer": "ipython3",
   "version": "3.7.1"
  },
  "varInspector": {
   "cols": {
    "lenName": 16,
    "lenType": 16,
    "lenVar": 40
   },
   "kernels_config": {
    "python": {
     "delete_cmd_postfix": "",
     "delete_cmd_prefix": "del ",
     "library": "var_list.py",
     "varRefreshCmd": "print(var_dic_list())"
    },
    "r": {
     "delete_cmd_postfix": ") ",
     "delete_cmd_prefix": "rm(",
     "library": "var_list.r",
     "varRefreshCmd": "cat(var_dic_list()) "
    }
   },
   "types_to_exclude": [
    "module",
    "function",
    "builtin_function_or_method",
    "instance",
    "_Feature"
   ],
   "window_display": false
  }
 },
 "nbformat": 4,
 "nbformat_minor": 2
}

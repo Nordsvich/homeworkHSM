{
 "cells": [
  {
   "cell_type": "markdown",
   "metadata": {},
   "source": [
    "# HOMEWORK 1"
   ]
  },
  {
   "cell_type": "markdown",
   "metadata": {},
   "source": [
    "*Sofiia Schipinskaia*"
   ]
  },
  {
   "cell_type": "code",
   "execution_count": 79,
   "metadata": {},
   "outputs": [],
   "source": [
    "# importing the needed libraries\n",
    "import pandas as pd\n",
    "import numpy as np\n",
    "import matplotlib.pyplot as plt\n",
    "from sklearn.preprocessing import StandardScaler\n",
    "from sklearn.model_selection import train_test_split\n",
    "from sklearn.model_selection import GridSearchCV\n",
    "from sklearn.ensemble import ExtraTreesClassifier\n",
    "from sklearn.feature_selection import SelectFromModel\n",
    "from sklearn.tree import DecisionTreeClassifier\n",
    "from sklearn.ensemble import RandomForestClassifier\n",
    "from sklearn.linear_model import LogisticRegression\n",
    "import sklearn.metrics as metrics\n",
    "from sklearn.model_selection import cross_validate, train_test_split\n",
    "from sklearn.model_selection import GridSearchCV"
   ]
  },
  {
   "cell_type": "markdown",
   "metadata": {},
   "source": [
    "## 1. Loading the data"
   ]
  },
  {
   "cell_type": "code",
   "execution_count": 8,
   "metadata": {},
   "outputs": [
    {
     "data": {
      "text/html": [
       "<div>\n",
       "<style scoped>\n",
       "    .dataframe tbody tr th:only-of-type {\n",
       "        vertical-align: middle;\n",
       "    }\n",
       "\n",
       "    .dataframe tbody tr th {\n",
       "        vertical-align: top;\n",
       "    }\n",
       "\n",
       "    .dataframe thead th {\n",
       "        text-align: right;\n",
       "    }\n",
       "</style>\n",
       "<table border=\"1\" class=\"dataframe\">\n",
       "  <thead>\n",
       "    <tr style=\"text-align: right;\">\n",
       "      <th></th>\n",
       "      <th>feature_0</th>\n",
       "      <th>feature_1</th>\n",
       "      <th>feature_2</th>\n",
       "      <th>feature_3</th>\n",
       "      <th>feature_4</th>\n",
       "      <th>feature_5</th>\n",
       "      <th>feature_6</th>\n",
       "      <th>feature_7</th>\n",
       "      <th>feature_8</th>\n",
       "      <th>feature_9</th>\n",
       "      <th>...</th>\n",
       "      <th>feature_991</th>\n",
       "      <th>feature_992</th>\n",
       "      <th>feature_993</th>\n",
       "      <th>feature_994</th>\n",
       "      <th>feature_995</th>\n",
       "      <th>feature_996</th>\n",
       "      <th>feature_997</th>\n",
       "      <th>feature_998</th>\n",
       "      <th>feature_999</th>\n",
       "      <th>label</th>\n",
       "    </tr>\n",
       "  </thead>\n",
       "  <tbody>\n",
       "    <tr>\n",
       "      <th>0</th>\n",
       "      <td>-0.272674</td>\n",
       "      <td>0.801643</td>\n",
       "      <td>-0.650531</td>\n",
       "      <td>0.952486</td>\n",
       "      <td>-0.153037</td>\n",
       "      <td>0.427145</td>\n",
       "      <td>-1.085534</td>\n",
       "      <td>1.318513</td>\n",
       "      <td>0.002588</td>\n",
       "      <td>-1.849832</td>\n",
       "      <td>...</td>\n",
       "      <td>-0.572848</td>\n",
       "      <td>-0.448690</td>\n",
       "      <td>0.073369</td>\n",
       "      <td>-0.845503</td>\n",
       "      <td>-1.074903</td>\n",
       "      <td>0.222103</td>\n",
       "      <td>-1.024658</td>\n",
       "      <td>-0.711647</td>\n",
       "      <td>0.036411</td>\n",
       "      <td>1</td>\n",
       "    </tr>\n",
       "    <tr>\n",
       "      <th>1</th>\n",
       "      <td>0.201004</td>\n",
       "      <td>-0.263537</td>\n",
       "      <td>-0.793137</td>\n",
       "      <td>-4.483672</td>\n",
       "      <td>0.745123</td>\n",
       "      <td>1.156577</td>\n",
       "      <td>0.351558</td>\n",
       "      <td>1.735511</td>\n",
       "      <td>-1.490988</td>\n",
       "      <td>-0.327063</td>\n",
       "      <td>...</td>\n",
       "      <td>1.045496</td>\n",
       "      <td>1.494638</td>\n",
       "      <td>-0.776573</td>\n",
       "      <td>-1.219524</td>\n",
       "      <td>-0.756398</td>\n",
       "      <td>-0.963046</td>\n",
       "      <td>0.488610</td>\n",
       "      <td>0.313609</td>\n",
       "      <td>-0.490794</td>\n",
       "      <td>0</td>\n",
       "    </tr>\n",
       "    <tr>\n",
       "      <th>2</th>\n",
       "      <td>-1.834495</td>\n",
       "      <td>-0.305209</td>\n",
       "      <td>0.053789</td>\n",
       "      <td>4.448289</td>\n",
       "      <td>1.294481</td>\n",
       "      <td>1.241900</td>\n",
       "      <td>-1.358354</td>\n",
       "      <td>-0.211469</td>\n",
       "      <td>-0.186544</td>\n",
       "      <td>0.964812</td>\n",
       "      <td>...</td>\n",
       "      <td>0.917945</td>\n",
       "      <td>0.920003</td>\n",
       "      <td>0.690022</td>\n",
       "      <td>-0.834381</td>\n",
       "      <td>-0.261806</td>\n",
       "      <td>-0.061880</td>\n",
       "      <td>-1.177730</td>\n",
       "      <td>-1.345305</td>\n",
       "      <td>-0.085971</td>\n",
       "      <td>0</td>\n",
       "    </tr>\n",
       "    <tr>\n",
       "      <th>3</th>\n",
       "      <td>-0.484526</td>\n",
       "      <td>0.473056</td>\n",
       "      <td>-0.345463</td>\n",
       "      <td>-7.375136</td>\n",
       "      <td>-0.817676</td>\n",
       "      <td>-0.778446</td>\n",
       "      <td>0.909734</td>\n",
       "      <td>-0.677147</td>\n",
       "      <td>-1.913900</td>\n",
       "      <td>-0.087426</td>\n",
       "      <td>...</td>\n",
       "      <td>0.598949</td>\n",
       "      <td>0.078195</td>\n",
       "      <td>0.024128</td>\n",
       "      <td>1.308711</td>\n",
       "      <td>0.943230</td>\n",
       "      <td>0.903181</td>\n",
       "      <td>0.501013</td>\n",
       "      <td>2.639802</td>\n",
       "      <td>1.540640</td>\n",
       "      <td>1</td>\n",
       "    </tr>\n",
       "  </tbody>\n",
       "</table>\n",
       "<p>4 rows × 1001 columns</p>\n",
       "</div>"
      ],
      "text/plain": [
       "   feature_0  feature_1  feature_2  feature_3  feature_4  feature_5  \\\n",
       "0  -0.272674   0.801643  -0.650531   0.952486  -0.153037   0.427145   \n",
       "1   0.201004  -0.263537  -0.793137  -4.483672   0.745123   1.156577   \n",
       "2  -1.834495  -0.305209   0.053789   4.448289   1.294481   1.241900   \n",
       "3  -0.484526   0.473056  -0.345463  -7.375136  -0.817676  -0.778446   \n",
       "\n",
       "   feature_6  feature_7  feature_8  feature_9  ...    feature_991  \\\n",
       "0  -1.085534   1.318513   0.002588  -1.849832  ...      -0.572848   \n",
       "1   0.351558   1.735511  -1.490988  -0.327063  ...       1.045496   \n",
       "2  -1.358354  -0.211469  -0.186544   0.964812  ...       0.917945   \n",
       "3   0.909734  -0.677147  -1.913900  -0.087426  ...       0.598949   \n",
       "\n",
       "   feature_992  feature_993  feature_994  feature_995  feature_996  \\\n",
       "0    -0.448690     0.073369    -0.845503    -1.074903     0.222103   \n",
       "1     1.494638    -0.776573    -1.219524    -0.756398    -0.963046   \n",
       "2     0.920003     0.690022    -0.834381    -0.261806    -0.061880   \n",
       "3     0.078195     0.024128     1.308711     0.943230     0.903181   \n",
       "\n",
       "   feature_997  feature_998  feature_999  label  \n",
       "0    -1.024658    -0.711647     0.036411      1  \n",
       "1     0.488610     0.313609    -0.490794      0  \n",
       "2    -1.177730    -1.345305    -0.085971      0  \n",
       "3     0.501013     2.639802     1.540640      1  \n",
       "\n",
       "[4 rows x 1001 columns]"
      ]
     },
     "execution_count": 8,
     "metadata": {},
     "output_type": "execute_result"
    }
   ],
   "source": [
    "# importing the file\n",
    "df = pd.read_csv('dataset_simple.csv')\n",
    "df.head(4)"
   ]
  },
  {
   "cell_type": "code",
   "execution_count": 4,
   "metadata": {},
   "outputs": [
    {
     "data": {
      "text/html": [
       "<div>\n",
       "<style scoped>\n",
       "    .dataframe tbody tr th:only-of-type {\n",
       "        vertical-align: middle;\n",
       "    }\n",
       "\n",
       "    .dataframe tbody tr th {\n",
       "        vertical-align: top;\n",
       "    }\n",
       "\n",
       "    .dataframe thead th {\n",
       "        text-align: right;\n",
       "    }\n",
       "</style>\n",
       "<table border=\"1\" class=\"dataframe\">\n",
       "  <thead>\n",
       "    <tr style=\"text-align: right;\">\n",
       "      <th></th>\n",
       "      <th>feature_0</th>\n",
       "      <th>feature_1</th>\n",
       "      <th>feature_2</th>\n",
       "      <th>feature_3</th>\n",
       "      <th>feature_4</th>\n",
       "      <th>feature_5</th>\n",
       "      <th>feature_6</th>\n",
       "      <th>feature_7</th>\n",
       "      <th>feature_8</th>\n",
       "      <th>feature_9</th>\n",
       "      <th>...</th>\n",
       "      <th>feature_991</th>\n",
       "      <th>feature_992</th>\n",
       "      <th>feature_993</th>\n",
       "      <th>feature_994</th>\n",
       "      <th>feature_995</th>\n",
       "      <th>feature_996</th>\n",
       "      <th>feature_997</th>\n",
       "      <th>feature_998</th>\n",
       "      <th>feature_999</th>\n",
       "      <th>label</th>\n",
       "    </tr>\n",
       "  </thead>\n",
       "  <tbody>\n",
       "    <tr>\n",
       "      <th>count</th>\n",
       "      <td>9999.000000</td>\n",
       "      <td>9999.000000</td>\n",
       "      <td>9999.000000</td>\n",
       "      <td>9999.000000</td>\n",
       "      <td>9999.000000</td>\n",
       "      <td>9999.000000</td>\n",
       "      <td>9999.000000</td>\n",
       "      <td>9999.000000</td>\n",
       "      <td>9999.000000</td>\n",
       "      <td>9999.000000</td>\n",
       "      <td>...</td>\n",
       "      <td>9999.000000</td>\n",
       "      <td>9999.000000</td>\n",
       "      <td>9999.000000</td>\n",
       "      <td>9999.000000</td>\n",
       "      <td>9999.000000</td>\n",
       "      <td>9999.000000</td>\n",
       "      <td>9999.000000</td>\n",
       "      <td>9999.000000</td>\n",
       "      <td>9999.000000</td>\n",
       "      <td>9999.000000</td>\n",
       "    </tr>\n",
       "    <tr>\n",
       "      <th>mean</th>\n",
       "      <td>-0.004460</td>\n",
       "      <td>-0.013556</td>\n",
       "      <td>-0.003732</td>\n",
       "      <td>-0.526323</td>\n",
       "      <td>0.005371</td>\n",
       "      <td>-0.008539</td>\n",
       "      <td>0.017156</td>\n",
       "      <td>-0.001695</td>\n",
       "      <td>0.016588</td>\n",
       "      <td>-0.011591</td>\n",
       "      <td>...</td>\n",
       "      <td>0.004245</td>\n",
       "      <td>0.004588</td>\n",
       "      <td>0.000104</td>\n",
       "      <td>-0.004114</td>\n",
       "      <td>-0.015524</td>\n",
       "      <td>0.003792</td>\n",
       "      <td>-0.012826</td>\n",
       "      <td>-0.000154</td>\n",
       "      <td>0.008867</td>\n",
       "      <td>0.493149</td>\n",
       "    </tr>\n",
       "    <tr>\n",
       "      <th>std</th>\n",
       "      <td>0.991939</td>\n",
       "      <td>1.004086</td>\n",
       "      <td>1.004643</td>\n",
       "      <td>5.892651</td>\n",
       "      <td>0.995250</td>\n",
       "      <td>1.001142</td>\n",
       "      <td>0.995826</td>\n",
       "      <td>1.000576</td>\n",
       "      <td>1.016175</td>\n",
       "      <td>0.994338</td>\n",
       "      <td>...</td>\n",
       "      <td>1.010292</td>\n",
       "      <td>0.996613</td>\n",
       "      <td>0.984661</td>\n",
       "      <td>1.005568</td>\n",
       "      <td>1.000405</td>\n",
       "      <td>0.992878</td>\n",
       "      <td>0.986676</td>\n",
       "      <td>1.003824</td>\n",
       "      <td>0.992667</td>\n",
       "      <td>0.499978</td>\n",
       "    </tr>\n",
       "    <tr>\n",
       "      <th>min</th>\n",
       "      <td>-3.769974</td>\n",
       "      <td>-3.617617</td>\n",
       "      <td>-3.753391</td>\n",
       "      <td>-21.830355</td>\n",
       "      <td>-3.952088</td>\n",
       "      <td>-4.302776</td>\n",
       "      <td>-3.693491</td>\n",
       "      <td>-3.769295</td>\n",
       "      <td>-3.582291</td>\n",
       "      <td>-3.964497</td>\n",
       "      <td>...</td>\n",
       "      <td>-3.543944</td>\n",
       "      <td>-3.702521</td>\n",
       "      <td>-3.645616</td>\n",
       "      <td>-3.757164</td>\n",
       "      <td>-3.998032</td>\n",
       "      <td>-3.844831</td>\n",
       "      <td>-4.314576</td>\n",
       "      <td>-3.912707</td>\n",
       "      <td>-3.852604</td>\n",
       "      <td>0.000000</td>\n",
       "    </tr>\n",
       "    <tr>\n",
       "      <th>25%</th>\n",
       "      <td>-0.667193</td>\n",
       "      <td>-0.702984</td>\n",
       "      <td>-0.666734</td>\n",
       "      <td>-4.535838</td>\n",
       "      <td>-0.664072</td>\n",
       "      <td>-0.676919</td>\n",
       "      <td>-0.657419</td>\n",
       "      <td>-0.678497</td>\n",
       "      <td>-0.670545</td>\n",
       "      <td>-0.696125</td>\n",
       "      <td>...</td>\n",
       "      <td>-0.686178</td>\n",
       "      <td>-0.674913</td>\n",
       "      <td>-0.663270</td>\n",
       "      <td>-0.676386</td>\n",
       "      <td>-0.690162</td>\n",
       "      <td>-0.660690</td>\n",
       "      <td>-0.671733</td>\n",
       "      <td>-0.689658</td>\n",
       "      <td>-0.653306</td>\n",
       "      <td>0.000000</td>\n",
       "    </tr>\n",
       "    <tr>\n",
       "      <th>50%</th>\n",
       "      <td>0.006990</td>\n",
       "      <td>-0.019359</td>\n",
       "      <td>0.002527</td>\n",
       "      <td>-0.596745</td>\n",
       "      <td>0.008596</td>\n",
       "      <td>-0.014751</td>\n",
       "      <td>0.023373</td>\n",
       "      <td>-0.005377</td>\n",
       "      <td>0.007411</td>\n",
       "      <td>-0.023052</td>\n",
       "      <td>...</td>\n",
       "      <td>-0.002653</td>\n",
       "      <td>0.000651</td>\n",
       "      <td>-0.005459</td>\n",
       "      <td>-0.002117</td>\n",
       "      <td>-0.017218</td>\n",
       "      <td>0.005911</td>\n",
       "      <td>-0.009118</td>\n",
       "      <td>0.024641</td>\n",
       "      <td>-0.002785</td>\n",
       "      <td>0.000000</td>\n",
       "    </tr>\n",
       "    <tr>\n",
       "      <th>75%</th>\n",
       "      <td>0.655618</td>\n",
       "      <td>0.667009</td>\n",
       "      <td>0.660033</td>\n",
       "      <td>3.367154</td>\n",
       "      <td>0.672424</td>\n",
       "      <td>0.662462</td>\n",
       "      <td>0.697545</td>\n",
       "      <td>0.662622</td>\n",
       "      <td>0.720524</td>\n",
       "      <td>0.668373</td>\n",
       "      <td>...</td>\n",
       "      <td>0.682821</td>\n",
       "      <td>0.680257</td>\n",
       "      <td>0.668761</td>\n",
       "      <td>0.675716</td>\n",
       "      <td>0.660026</td>\n",
       "      <td>0.680975</td>\n",
       "      <td>0.647070</td>\n",
       "      <td>0.674688</td>\n",
       "      <td>0.677321</td>\n",
       "      <td>1.000000</td>\n",
       "    </tr>\n",
       "    <tr>\n",
       "      <th>max</th>\n",
       "      <td>3.629974</td>\n",
       "      <td>4.437563</td>\n",
       "      <td>3.724971</td>\n",
       "      <td>20.021875</td>\n",
       "      <td>3.444207</td>\n",
       "      <td>3.502859</td>\n",
       "      <td>3.925565</td>\n",
       "      <td>4.069058</td>\n",
       "      <td>5.209648</td>\n",
       "      <td>3.871048</td>\n",
       "      <td>...</td>\n",
       "      <td>3.616481</td>\n",
       "      <td>4.456758</td>\n",
       "      <td>3.727838</td>\n",
       "      <td>3.959971</td>\n",
       "      <td>3.520052</td>\n",
       "      <td>4.305980</td>\n",
       "      <td>3.671758</td>\n",
       "      <td>3.555786</td>\n",
       "      <td>3.574397</td>\n",
       "      <td>1.000000</td>\n",
       "    </tr>\n",
       "  </tbody>\n",
       "</table>\n",
       "<p>8 rows × 1001 columns</p>\n",
       "</div>"
      ],
      "text/plain": [
       "         feature_0    feature_1    feature_2    feature_3    feature_4  \\\n",
       "count  9999.000000  9999.000000  9999.000000  9999.000000  9999.000000   \n",
       "mean     -0.004460    -0.013556    -0.003732    -0.526323     0.005371   \n",
       "std       0.991939     1.004086     1.004643     5.892651     0.995250   \n",
       "min      -3.769974    -3.617617    -3.753391   -21.830355    -3.952088   \n",
       "25%      -0.667193    -0.702984    -0.666734    -4.535838    -0.664072   \n",
       "50%       0.006990    -0.019359     0.002527    -0.596745     0.008596   \n",
       "75%       0.655618     0.667009     0.660033     3.367154     0.672424   \n",
       "max       3.629974     4.437563     3.724971    20.021875     3.444207   \n",
       "\n",
       "         feature_5    feature_6    feature_7    feature_8    feature_9  \\\n",
       "count  9999.000000  9999.000000  9999.000000  9999.000000  9999.000000   \n",
       "mean     -0.008539     0.017156    -0.001695     0.016588    -0.011591   \n",
       "std       1.001142     0.995826     1.000576     1.016175     0.994338   \n",
       "min      -4.302776    -3.693491    -3.769295    -3.582291    -3.964497   \n",
       "25%      -0.676919    -0.657419    -0.678497    -0.670545    -0.696125   \n",
       "50%      -0.014751     0.023373    -0.005377     0.007411    -0.023052   \n",
       "75%       0.662462     0.697545     0.662622     0.720524     0.668373   \n",
       "max       3.502859     3.925565     4.069058     5.209648     3.871048   \n",
       "\n",
       "          ...       feature_991  feature_992  feature_993  feature_994  \\\n",
       "count     ...       9999.000000  9999.000000  9999.000000  9999.000000   \n",
       "mean      ...          0.004245     0.004588     0.000104    -0.004114   \n",
       "std       ...          1.010292     0.996613     0.984661     1.005568   \n",
       "min       ...         -3.543944    -3.702521    -3.645616    -3.757164   \n",
       "25%       ...         -0.686178    -0.674913    -0.663270    -0.676386   \n",
       "50%       ...         -0.002653     0.000651    -0.005459    -0.002117   \n",
       "75%       ...          0.682821     0.680257     0.668761     0.675716   \n",
       "max       ...          3.616481     4.456758     3.727838     3.959971   \n",
       "\n",
       "       feature_995  feature_996  feature_997  feature_998  feature_999  \\\n",
       "count  9999.000000  9999.000000  9999.000000  9999.000000  9999.000000   \n",
       "mean     -0.015524     0.003792    -0.012826    -0.000154     0.008867   \n",
       "std       1.000405     0.992878     0.986676     1.003824     0.992667   \n",
       "min      -3.998032    -3.844831    -4.314576    -3.912707    -3.852604   \n",
       "25%      -0.690162    -0.660690    -0.671733    -0.689658    -0.653306   \n",
       "50%      -0.017218     0.005911    -0.009118     0.024641    -0.002785   \n",
       "75%       0.660026     0.680975     0.647070     0.674688     0.677321   \n",
       "max       3.520052     4.305980     3.671758     3.555786     3.574397   \n",
       "\n",
       "             label  \n",
       "count  9999.000000  \n",
       "mean      0.493149  \n",
       "std       0.499978  \n",
       "min       0.000000  \n",
       "25%       0.000000  \n",
       "50%       0.000000  \n",
       "75%       1.000000  \n",
       "max       1.000000  \n",
       "\n",
       "[8 rows x 1001 columns]"
      ]
     },
     "execution_count": 4,
     "metadata": {},
     "output_type": "execute_result"
    }
   ],
   "source": [
    "# looking through the data\n",
    "df.describe()"
   ]
  },
  {
   "cell_type": "code",
   "execution_count": 6,
   "metadata": {},
   "outputs": [
    {
     "data": {
      "text/plain": [
       "0    0.506851\n",
       "1    0.493149\n",
       "Name: label, dtype: float64"
      ]
     },
     "execution_count": 6,
     "metadata": {},
     "output_type": "execute_result"
    }
   ],
   "source": [
    "# checking the sample imbalance problem \n",
    "df['label'].value_counts(normalize=True)"
   ]
  },
  {
   "cell_type": "markdown",
   "metadata": {},
   "source": [
    "*As we can observe, the sample has no imbalance problem*"
   ]
  },
  {
   "cell_type": "markdown",
   "metadata": {},
   "source": [
    "## 2. Feature selection"
   ]
  },
  {
   "cell_type": "code",
   "execution_count": 39,
   "metadata": {},
   "outputs": [],
   "source": [
    "# splitting the data\n",
    "X_train, X_test, y_train, y_test = train_test_split(df.drop('label', axis = 1), df['label'], test_size=0.2, random_state=45, shuffle=True)"
   ]
  },
  {
   "cell_type": "code",
   "execution_count": 40,
   "metadata": {},
   "outputs": [],
   "source": [
    "# scaling the data\n",
    "sc = StandardScaler()\n",
    "sc.fit(X_train)\n",
    "X_train_sc = sc.transform(X_train)\n",
    "X_test_sc = sc.transform(X_test)"
   ]
  },
  {
   "cell_type": "code",
   "execution_count": 41,
   "metadata": {},
   "outputs": [
    {
     "data": {
      "text/plain": [
       "(7999, 1000)"
      ]
     },
     "execution_count": 41,
     "metadata": {},
     "output_type": "execute_result"
    }
   ],
   "source": [
    "# cheking the shape of trainig sample\n",
    "X_train_sc.shape"
   ]
  },
  {
   "cell_type": "code",
   "execution_count": 42,
   "metadata": {},
   "outputs": [
    {
     "data": {
      "text/plain": [
       "(2000, 1000)"
      ]
     },
     "execution_count": 42,
     "metadata": {},
     "output_type": "execute_result"
    }
   ],
   "source": [
    "# cheking the shape of test sample\n",
    "X_test_sc.shape"
   ]
  },
  {
   "cell_type": "code",
   "execution_count": 46,
   "metadata": {},
   "outputs": [],
   "source": [
    "# feature selection\n",
    "clf = ExtraTreesClassifier(n_estimators=100)\n",
    "clf = clf.fit(X_train_sc, y_train) \n",
    "model = SelectFromModel(clf, prefit=True)\n",
    "X_train_sc_fs = model.transform(X_train_sc)\n",
    "X_test_sc_fs = model.transform(X_test_sc)"
   ]
  },
  {
   "cell_type": "code",
   "execution_count": 47,
   "metadata": {},
   "outputs": [
    {
     "data": {
      "text/plain": [
       "(7999, 163)"
      ]
     },
     "execution_count": 47,
     "metadata": {},
     "output_type": "execute_result"
    }
   ],
   "source": [
    "# cheking the shape of new trainig sample\n",
    "X_train_sc_fs.shape"
   ]
  },
  {
   "cell_type": "code",
   "execution_count": 48,
   "metadata": {},
   "outputs": [
    {
     "data": {
      "text/plain": [
       "(2000, 163)"
      ]
     },
     "execution_count": 48,
     "metadata": {},
     "output_type": "execute_result"
    }
   ],
   "source": [
    "# cheking the shape of new test sample\n",
    "X_test_sc_fs.shape"
   ]
  },
  {
   "cell_type": "markdown",
   "metadata": {},
   "source": [
    "## 3. Building models and running cross validation"
   ]
  },
  {
   "cell_type": "code",
   "execution_count": 57,
   "metadata": {},
   "outputs": [],
   "source": [
    "# identufying the function to estimate model performance\n",
    "def model_performance(model_name, X_tr, y_tr, y_te, y_pred):\n",
    "    print('Model name: %s'%model_name)\n",
    "    print('Test accuracy (Accuracy Score): %f'%metrics.accuracy_score(y_te, y_pred))\n",
    "    print('Test accuracy (ROC AUC Score): %f'%metrics.roc_auc_score(y_te, y_pred))\n",
    "    print('Test precision 0: %f'%metrics.precision_score(y_te, y_pred, pos_label=0))   \n",
    "    print('Test precision 1: %f'%metrics.precision_score(y_te, y_pred, pos_label=1)) \n",
    "    print('Test recall 0: %f'%metrics.recall_score(y_te, y_pred, pos_label=0))   \n",
    "    print('Test recall 1: %f'%metrics.recall_score(y_te, y_pred, pos_label=1))"
   ]
  },
  {
   "cell_type": "markdown",
   "metadata": {},
   "source": [
    "### Logistic Regression"
   ]
  },
  {
   "cell_type": "code",
   "execution_count": 88,
   "metadata": {},
   "outputs": [
    {
     "name": "stdout",
     "output_type": "stream",
     "text": [
      "Model name: Logistic Regression\n",
      "Test accuracy (Accuracy Score): 0.824000\n",
      "Test accuracy (ROC AUC Score): 0.823957\n",
      "Test precision 0: 0.825616\n",
      "Test precision 1: 0.822335\n",
      "Test recall 0: 0.827246\n",
      "Test recall 1: 0.820669\n"
     ]
    }
   ],
   "source": [
    "# estimating the model on the training sample and checking performance \n",
    "clf_lr = LogisticRegression(random_state=0)\n",
    "clf_lr.fit(X_train_sc_fs, y_train)\n",
    "y_pred_lr = clf_lr.predict(X_test_sc_fs)\n",
    "model_performance('Logistic Regression', X_tr = X_train_sc_fs, y_tr = y_train, y_te = y_test, y_pred = y_pred_lr)"
   ]
  },
  {
   "cell_type": "code",
   "execution_count": 89,
   "metadata": {},
   "outputs": [],
   "source": [
    "# cross-validation for Logistic Regression\n",
    "scores_lr_f1 = cross_validate(clf_lr, X_train_sc_fs, y_train, cv=10, scoring=('f1'))\n",
    "scores_lr_roc = cross_validate(clf_lr, X_train_sc_fs, y_train, cv=10, scoring=('roc_auc'))"
   ]
  },
  {
   "cell_type": "code",
   "execution_count": 90,
   "metadata": {},
   "outputs": [
    {
     "name": "stdout",
     "output_type": "stream",
     "text": [
      "F1 scores:  [0.86010363 0.82945736 0.82555283 0.8        0.85678705 0.81842105\n",
      " 0.86848635 0.84169884 0.82097187 0.84130982]\n"
     ]
    }
   ],
   "source": [
    "# F1: results for LR\n",
    "print('F1 scores: ', scores_lr_f1['test_score'])"
   ]
  },
  {
   "cell_type": "code",
   "execution_count": 91,
   "metadata": {},
   "outputs": [
    {
     "name": "stdout",
     "output_type": "stream",
     "text": [
      "ROC AUC scores:  [0.93288645 0.90806884 0.90840556 0.88431128 0.92605836 0.89920411\n",
      " 0.93331453 0.91878173 0.9046688  0.91452654]\n"
     ]
    }
   ],
   "source": [
    "# ROC AUC: results for LR\n",
    "print('ROC AUC scores: ', scores_lr_roc['test_score'])"
   ]
  },
  {
   "cell_type": "markdown",
   "metadata": {},
   "source": [
    "### Decision Tree Classifier"
   ]
  },
  {
   "cell_type": "code",
   "execution_count": 74,
   "metadata": {},
   "outputs": [
    {
     "name": "stdout",
     "output_type": "stream",
     "text": [
      "Model name: Decision Tree Classifier\n",
      "Test accuracy (Accuracy Score): 0.655000\n",
      "Test accuracy (ROC AUC Score): 0.654708\n",
      "Test precision 0: 0.653956\n",
      "Test precision 1: 0.656151\n",
      "Test recall 0: 0.677196\n",
      "Test recall 1: 0.632219\n"
     ]
    }
   ],
   "source": [
    "# estimating the model on the training sample and checking performance \n",
    "clf_dt = DecisionTreeClassifier(random_state=0)\n",
    "clf_dt.fit(X_train_sc_fs, y_train)\n",
    "y_pred_dt = clf_dt.predict(X_test_sc_fs)\n",
    "model_performance('Decision Tree Classifier', X_tr = X_train_sc_fs, y_tr = y_train, y_te = y_test, y_pred = y_pred_dt)"
   ]
  },
  {
   "cell_type": "code",
   "execution_count": 75,
   "metadata": {},
   "outputs": [],
   "source": [
    "# cross-validation for Decision Tree\n",
    "scores_dt_f1 = cross_validate(clf_dt, X_train_sc_fs, y_train, cv=10, scoring=('f1'))\n",
    "scores_dt_roc = cross_validate(clf_dt, X_train_sc_fs, y_train, cv=10, scoring=('roc_auc'))"
   ]
  },
  {
   "cell_type": "code",
   "execution_count": 76,
   "metadata": {},
   "outputs": [
    {
     "name": "stdout",
     "output_type": "stream",
     "text": [
      "F1 scores:  [0.65087282 0.6835443  0.67421384 0.6898263  0.62548263 0.64419476\n",
      " 0.63779528 0.65829146 0.64654088 0.6583229 ]\n"
     ]
    }
   ],
   "source": [
    "# F1: results for DT\n",
    "print('F1 scores: ', scores_dt_f1['test_score'])"
   ]
  },
  {
   "cell_type": "code",
   "execution_count": 77,
   "metadata": {},
   "outputs": [
    {
     "name": "stdout",
     "output_type": "stream",
     "text": [
      "ROC AUC scores:  [0.65057679 0.68783127 0.67667893 0.68810563 0.63596184 0.64346055\n",
      " 0.65405465 0.6596478  0.64836435 0.6584477 ]\n"
     ]
    }
   ],
   "source": [
    "# ROC AUC: results for DT\n",
    "print('ROC AUC scores: ', scores_dt_roc['test_score'])"
   ]
  },
  {
   "cell_type": "markdown",
   "metadata": {},
   "source": [
    "### Random Forest Classifier"
   ]
  },
  {
   "cell_type": "code",
   "execution_count": 78,
   "metadata": {},
   "outputs": [
    {
     "name": "stdout",
     "output_type": "stream",
     "text": [
      "Model name: Random Forest Classifier\n",
      "Test accuracy (Accuracy Score): 0.893500\n",
      "Test accuracy (ROC AUC Score): 0.893254\n",
      "Test precision 0: 0.881679\n",
      "Test precision 1: 0.906513\n",
      "Test recall 0: 0.912142\n",
      "Test recall 1: 0.874367\n"
     ]
    }
   ],
   "source": [
    "# estimating the model on the training sample and checking performance \n",
    "clf_rf = RandomForestClassifier(n_estimators = 200, random_state = 0)\n",
    "clf_rf.fit(X_train_sc_fs, y_train)\n",
    "y_pred_rf = clf_rf.predict(X_test_sc_fs)\n",
    "model_performance('Random Forest Classifier', X_tr = X_train_sc_fs, y_tr = y_train, y_te = y_test, y_pred = y_pred_rf)"
   ]
  },
  {
   "cell_type": "code",
   "execution_count": 68,
   "metadata": {},
   "outputs": [],
   "source": [
    "# cross-validation for Random Forest\n",
    "scores_rf_f1 = cross_validate(clf_rf, X_train_sc_fs, y_train, cv=10, scoring=('f1'))\n",
    "scores_rf_roc = cross_validate(clf_rf, X_train_sc_fs, y_train, cv=10, scoring=('roc_auc'))"
   ]
  },
  {
   "cell_type": "code",
   "execution_count": 69,
   "metadata": {},
   "outputs": [
    {
     "name": "stdout",
     "output_type": "stream",
     "text": [
      "F1 scores:  [0.9021164  0.91392405 0.91044776 0.86118252 0.90231362 0.88250653\n",
      " 0.91370558 0.90566038 0.89203085 0.89698492]\n"
     ]
    }
   ],
   "source": [
    "# F1: results for RF\n",
    "print('F1 scores: ', scores_rf_f1['test_score'])"
   ]
  },
  {
   "cell_type": "code",
   "execution_count": 70,
   "metadata": {},
   "outputs": [
    {
     "name": "stdout",
     "output_type": "stream",
     "text": [
      "ROC AUC scores:  [0.96988527 0.97303735 0.96668953 0.94272931 0.96738016 0.95825343\n",
      " 0.9714702  0.96114558 0.95308015 0.95770508]\n"
     ]
    }
   ],
   "source": [
    "# ROC AUC: results for RF\n",
    "print('ROC AUC scores: ', scores_rf_roc['test_score'])"
   ]
  },
  {
   "cell_type": "markdown",
   "metadata": {},
   "source": [
    "## 4. Hyper parameters tuning"
   ]
  },
  {
   "cell_type": "markdown",
   "metadata": {},
   "source": [
    "### Logistic Regression"
   ]
  },
  {
   "cell_type": "code",
   "execution_count": 92,
   "metadata": {},
   "outputs": [],
   "source": [
    "# setting the parameters for logistic regression\n",
    "grid_lr = {\n",
    "    'penalty': ['l1', 'l2'], \n",
    "    'C': [0.001, 0.001, 0.01, 0.1, 1, 10, 100, 1000],\n",
    "}"
   ]
  },
  {
   "cell_type": "code",
   "execution_count": 93,
   "metadata": {},
   "outputs": [
    {
     "data": {
      "text/plain": [
       "GridSearchCV(cv=10, error_score='raise',\n",
       "       estimator=LogisticRegression(C=1.0, class_weight=None, dual=False, fit_intercept=True,\n",
       "          intercept_scaling=1, max_iter=100, multi_class='ovr', n_jobs=1,\n",
       "          penalty='l2', random_state=0, solver='liblinear', tol=0.0001,\n",
       "          verbose=0, warm_start=False),\n",
       "       fit_params=None, iid=True, n_jobs=1,\n",
       "       param_grid={'penalty': ['l1', 'l2'], 'C': [0.001, 0.001, 0.01, 0.1, 1, 10, 100, 1000]},\n",
       "       pre_dispatch='2*n_jobs', refit=True, return_train_score='warn',\n",
       "       scoring='roc_auc', verbose=0)"
      ]
     },
     "execution_count": 93,
     "metadata": {},
     "output_type": "execute_result"
    }
   ],
   "source": [
    "# applying grid search for LR\n",
    "clf_grid_lr = GridSearchCV(clf_lr, grid_lr, scoring='roc_auc', cv=10)\n",
    "clf_grid_lr.fit(X_train_sc_fs, y_train)"
   ]
  },
  {
   "cell_type": "code",
   "execution_count": 94,
   "metadata": {},
   "outputs": [
    {
     "name": "stdout",
     "output_type": "stream",
     "text": [
      "LogisticRegression(C=0.1, class_weight=None, dual=False, fit_intercept=True,\n",
      "          intercept_scaling=1, max_iter=100, multi_class='ovr', n_jobs=1,\n",
      "          penalty='l1', random_state=0, solver='liblinear', tol=0.0001,\n",
      "          verbose=0, warm_start=False)\n",
      "Best parameters: {'C': 0.1, 'penalty': 'l1'}\n",
      "Best ROC-AUC: 0.9137553189791207\n"
     ]
    }
   ],
   "source": [
    "# checking the best parameters and scores for LR\n",
    "print(clf_grid_lr.best_estimator_)\n",
    "print('Best parameters:', clf_grid_lr.best_params_)\n",
    "print('Best ROC-AUC:', clf_grid_lr.best_score_)"
   ]
  },
  {
   "cell_type": "markdown",
   "metadata": {},
   "source": [
    "### Decision Tree Classifier"
   ]
  },
  {
   "cell_type": "code",
   "execution_count": 101,
   "metadata": {},
   "outputs": [],
   "source": [
    "# setting the parameters for Decision Tree Classifier\n",
    "grid_dt = {\n",
    "    'max_depth': [100, 250, None], \n",
    "    'min_samples_leaf': [1, 2, 5]\n",
    "}"
   ]
  },
  {
   "cell_type": "code",
   "execution_count": 102,
   "metadata": {},
   "outputs": [
    {
     "data": {
      "text/plain": [
       "GridSearchCV(cv=10, error_score='raise',\n",
       "       estimator=DecisionTreeClassifier(class_weight=None, criterion='gini', max_depth=None,\n",
       "            max_features=None, max_leaf_nodes=None,\n",
       "            min_impurity_decrease=0.0, min_impurity_split=None,\n",
       "            min_samples_leaf=1, min_samples_split=2,\n",
       "            min_weight_fraction_leaf=0.0, presort=False, random_state=0,\n",
       "            splitter='best'),\n",
       "       fit_params=None, iid=True, n_jobs=1,\n",
       "       param_grid={'max_depth': [100, 250, None], 'min_samples_leaf': [1, 2, 5]},\n",
       "       pre_dispatch='2*n_jobs', refit=True, return_train_score='warn',\n",
       "       scoring='roc_auc', verbose=0)"
      ]
     },
     "execution_count": 102,
     "metadata": {},
     "output_type": "execute_result"
    }
   ],
   "source": [
    "# applying grid search for DT\n",
    "clf_grid_dt = GridSearchCV(clf_dt, grid_dt, scoring='roc_auc', cv=10)\n",
    "clf_grid_dt.fit(X_train_sc_fs, y_train)"
   ]
  },
  {
   "cell_type": "code",
   "execution_count": 103,
   "metadata": {},
   "outputs": [
    {
     "name": "stdout",
     "output_type": "stream",
     "text": [
      "DecisionTreeClassifier(class_weight=None, criterion='gini', max_depth=100,\n",
      "            max_features=None, max_leaf_nodes=None,\n",
      "            min_impurity_decrease=0.0, min_impurity_split=None,\n",
      "            min_samples_leaf=5, min_samples_split=2,\n",
      "            min_weight_fraction_leaf=0.0, presort=False, random_state=0,\n",
      "            splitter='best')\n",
      "Best parameters: {'max_depth': 100, 'min_samples_leaf': 5}\n",
      "Best ROC-AUC: 0.6936998676326697\n"
     ]
    }
   ],
   "source": [
    "# checking the best parameters and scores for DT\n",
    "print(clf_grid_dt.best_estimator_)\n",
    "print('Best parameters:', clf_grid_dt.best_params_)\n",
    "print('Best ROC-AUC:', clf_grid_dt.best_score_)"
   ]
  },
  {
   "cell_type": "markdown",
   "metadata": {},
   "source": [
    "### Random Forest Classifier"
   ]
  },
  {
   "cell_type": "code",
   "execution_count": 108,
   "metadata": {},
   "outputs": [],
   "source": [
    "# setting the parameters for Random Forest Classifier\n",
    "grid_rf = {\n",
    "    'n_estimators': [100, 200, 300],\n",
    "    'min_samples_leaf': [1, 2]    \n",
    "}"
   ]
  },
  {
   "cell_type": "code",
   "execution_count": 109,
   "metadata": {},
   "outputs": [
    {
     "data": {
      "text/plain": [
       "GridSearchCV(cv=10, error_score='raise',\n",
       "       estimator=RandomForestClassifier(bootstrap=True, class_weight=None, criterion='gini',\n",
       "            max_depth=None, max_features='auto', max_leaf_nodes=None,\n",
       "            min_impurity_decrease=0.0, min_impurity_split=None,\n",
       "            min_samples_leaf=1, min_samples_split=2,\n",
       "            min_weight_fraction_leaf=0.0, n_estimators=200, n_jobs=1,\n",
       "            oob_score=False, random_state=0, verbose=0, warm_start=False),\n",
       "       fit_params=None, iid=True, n_jobs=1,\n",
       "       param_grid={'n_estimators': [100, 200, 300], 'min_samples_leaf': [1, 2]},\n",
       "       pre_dispatch='2*n_jobs', refit=True, return_train_score='warn',\n",
       "       scoring='roc_auc', verbose=0)"
      ]
     },
     "execution_count": 109,
     "metadata": {},
     "output_type": "execute_result"
    }
   ],
   "source": [
    "# applying grid search for RF\n",
    "clf_grid_rf = GridSearchCV(clf_rf, grid_rf, scoring='roc_auc', cv=10)\n",
    "clf_grid_rf.fit(X_train_sc_fs, y_train)"
   ]
  },
  {
   "cell_type": "code",
   "execution_count": 110,
   "metadata": {},
   "outputs": [
    {
     "name": "stdout",
     "output_type": "stream",
     "text": [
      "RandomForestClassifier(bootstrap=True, class_weight=None, criterion='gini',\n",
      "            max_depth=None, max_features='auto', max_leaf_nodes=None,\n",
      "            min_impurity_decrease=0.0, min_impurity_split=None,\n",
      "            min_samples_leaf=2, min_samples_split=2,\n",
      "            min_weight_fraction_leaf=0.0, n_estimators=300, n_jobs=1,\n",
      "            oob_score=False, random_state=0, verbose=0, warm_start=False)\n",
      "Best parameters: {'min_samples_leaf': 2, 'n_estimators': 300}\n",
      "Best ROC-AUC: 0.9663046744797972\n"
     ]
    }
   ],
   "source": [
    "# checking the best parameters and scores for RF\n",
    "print(clf_grid_rf.best_estimator_)\n",
    "print('Best parameters:', clf_grid_rf.best_params_)\n",
    "print('Best ROC-AUC:', clf_grid_rf.best_score_)"
   ]
  },
  {
   "cell_type": "markdown",
   "metadata": {},
   "source": [
    "## Results"
   ]
  },
  {
   "cell_type": "markdown",
   "metadata": {},
   "source": [
    "As we can see, three models were biuld: logistic regression, decision tree and random forest. The models with default parameters have the following ROC-AUC measures:\n",
    "- Roc-AUC of logic regression - 82.4%\n",
    "- Roc-AUC of decision tree - 65.5%\n",
    "- **Roc-AUC of random forest - 89.3%**\n",
    "\n",
    "So, the model of random forest classifier has the best ROC-AUC.\n",
    "\n",
    "To increase the accuracy of the models, the grid search technique was applyed. After applying we have the following ROC-AUC measures:\n",
    "- Roc-AUC of logic regression - 91.37%\n",
    "- Roc-AUC of decision tree - 69.36%\n",
    "- **Roc-AUC of random forest - 96.63%**\n",
    "\n",
    "Thus, the random forest classifier performs best out of these three model. It gives 96.63% of ROC-AUC with the parameters **{'min_samples_leaf': 2, 'n_estimators': 300}**.\n",
    "\n",
    "\n",
    "*P.S. I used only this banch of parameters for the grid search part of the task because my laptop cannot compute the algorithms with larger set of parameters :(* "
   ]
  }
 ],
 "metadata": {
  "kernelspec": {
   "display_name": "Python 3",
   "language": "python",
   "name": "python3"
  },
  "language_info": {
   "codemirror_mode": {
    "name": "ipython",
    "version": 3
   },
   "file_extension": ".py",
   "mimetype": "text/x-python",
   "name": "python",
   "nbconvert_exporter": "python",
   "pygments_lexer": "ipython3",
   "version": "3.6.5"
  },
  "varInspector": {
   "cols": {
    "lenName": 16,
    "lenType": 16,
    "lenVar": 40
   },
   "kernels_config": {
    "python": {
     "delete_cmd_postfix": "",
     "delete_cmd_prefix": "del ",
     "library": "var_list.py",
     "varRefreshCmd": "print(var_dic_list())"
    },
    "r": {
     "delete_cmd_postfix": ") ",
     "delete_cmd_prefix": "rm(",
     "library": "var_list.r",
     "varRefreshCmd": "cat(var_dic_list()) "
    }
   },
   "position": {
    "height": "144px",
    "left": "955px",
    "right": "20px",
    "top": "120px",
    "width": "350px"
   },
   "types_to_exclude": [
    "module",
    "function",
    "builtin_function_or_method",
    "instance",
    "_Feature"
   ],
   "window_display": false
  }
 },
 "nbformat": 4,
 "nbformat_minor": 2
}

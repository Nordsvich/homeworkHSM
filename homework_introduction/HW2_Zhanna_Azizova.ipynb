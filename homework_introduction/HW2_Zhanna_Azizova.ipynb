{
 "cells": [
  {
   "cell_type": "markdown",
   "metadata": {},
   "source": [
    "# NLIP. Home assignment 2.                                  Zhanna Azizova"
   ]
  },
  {
   "cell_type": "code",
   "execution_count": 2,
   "metadata": {
    "collapsed": true,
    "scrolled": true
   },
   "outputs": [],
   "source": [
    "# load libraries\n",
    "\n",
    "%matplotlib inline\n",
    "import matplotlib.pyplot as plt\n",
    "\n",
    "import numpy as np\n",
    "import pandas as pd\n",
    "import nltk\n",
    "import re\n",
    "import itertools\n",
    "\n",
    "import sklearn.metrics as metrics\n",
    "\n",
    "from sklearn.feature_extraction.text import CountVectorizer\n",
    "from sklearn.model_selection import cross_validate, train_test_split\n",
    "from nltk.stem import PorterStemmer\n",
    "from nltk.tokenize import TweetTokenizer\n",
    "\n",
    "from collections import Counter\n",
    "from sklearn.naive_bayes import MultinomialNB\n",
    "from sklearn.metrics import classification_report\n",
    "from sklearn.metrics import confusion_matrix\n",
    "\n",
    "import warnings\n",
    "warnings.filterwarnings(\"ignore\")"
   ]
  },
  {
   "cell_type": "markdown",
   "metadata": {},
   "source": [
    "## 1. Data preparation and analysis "
   ]
  },
  {
   "cell_type": "code",
   "execution_count": 24,
   "metadata": {},
   "outputs": [],
   "source": [
    "# reading the data \n",
    "data = pd.read_csv('SMSSpamCollection', sep='\\t', names=[\"label\", \"sms\"])"
   ]
  },
  {
   "cell_type": "code",
   "execution_count": 25,
   "metadata": {},
   "outputs": [
    {
     "data": {
      "text/html": [
       "<div>\n",
       "<style>\n",
       "    .dataframe thead tr:only-child th {\n",
       "        text-align: right;\n",
       "    }\n",
       "\n",
       "    .dataframe thead th {\n",
       "        text-align: left;\n",
       "    }\n",
       "\n",
       "    .dataframe tbody tr th {\n",
       "        vertical-align: top;\n",
       "    }\n",
       "</style>\n",
       "<table border=\"1\" class=\"dataframe\">\n",
       "  <thead>\n",
       "    <tr style=\"text-align: right;\">\n",
       "      <th></th>\n",
       "      <th>label</th>\n",
       "      <th>sms</th>\n",
       "    </tr>\n",
       "  </thead>\n",
       "  <tbody>\n",
       "    <tr>\n",
       "      <th>0</th>\n",
       "      <td>ham</td>\n",
       "      <td>Go until jurong point, crazy.. Available only ...</td>\n",
       "    </tr>\n",
       "    <tr>\n",
       "      <th>1</th>\n",
       "      <td>ham</td>\n",
       "      <td>Ok lar... Joking wif u oni...</td>\n",
       "    </tr>\n",
       "    <tr>\n",
       "      <th>2</th>\n",
       "      <td>spam</td>\n",
       "      <td>Free entry in 2 a wkly comp to win FA Cup fina...</td>\n",
       "    </tr>\n",
       "    <tr>\n",
       "      <th>3</th>\n",
       "      <td>ham</td>\n",
       "      <td>U dun say so early hor... U c already then say...</td>\n",
       "    </tr>\n",
       "    <tr>\n",
       "      <th>4</th>\n",
       "      <td>ham</td>\n",
       "      <td>Nah I don't think he goes to usf, he lives aro...</td>\n",
       "    </tr>\n",
       "    <tr>\n",
       "      <th>5</th>\n",
       "      <td>spam</td>\n",
       "      <td>FreeMsg Hey there darling it's been 3 week's n...</td>\n",
       "    </tr>\n",
       "    <tr>\n",
       "      <th>6</th>\n",
       "      <td>ham</td>\n",
       "      <td>Even my brother is not like to speak with me. ...</td>\n",
       "    </tr>\n",
       "    <tr>\n",
       "      <th>7</th>\n",
       "      <td>ham</td>\n",
       "      <td>As per your request 'Melle Melle (Oru Minnamin...</td>\n",
       "    </tr>\n",
       "    <tr>\n",
       "      <th>8</th>\n",
       "      <td>spam</td>\n",
       "      <td>WINNER!! As a valued network customer you have...</td>\n",
       "    </tr>\n",
       "    <tr>\n",
       "      <th>9</th>\n",
       "      <td>spam</td>\n",
       "      <td>Had your mobile 11 months or more? U R entitle...</td>\n",
       "    </tr>\n",
       "  </tbody>\n",
       "</table>\n",
       "</div>"
      ],
      "text/plain": [
       "  label                                                sms\n",
       "0   ham  Go until jurong point, crazy.. Available only ...\n",
       "1   ham                      Ok lar... Joking wif u oni...\n",
       "2  spam  Free entry in 2 a wkly comp to win FA Cup fina...\n",
       "3   ham  U dun say so early hor... U c already then say...\n",
       "4   ham  Nah I don't think he goes to usf, he lives aro...\n",
       "5  spam  FreeMsg Hey there darling it's been 3 week's n...\n",
       "6   ham  Even my brother is not like to speak with me. ...\n",
       "7   ham  As per your request 'Melle Melle (Oru Minnamin...\n",
       "8  spam  WINNER!! As a valued network customer you have...\n",
       "9  spam  Had your mobile 11 months or more? U R entitle..."
      ]
     },
     "execution_count": 25,
     "metadata": {},
     "output_type": "execute_result"
    }
   ],
   "source": [
    "data.head(10) "
   ]
  },
  {
   "cell_type": "code",
   "execution_count": 26,
   "metadata": {},
   "outputs": [
    {
     "name": "stdout",
     "output_type": "stream",
     "text": [
      "Number of all sms messages: 5572\n",
      "Number of unique sms messages: 5169\n"
     ]
    }
   ],
   "source": [
    "# check duplicates in our dataset\n",
    "print(\"Number of all sms messages:\", len(data))\n",
    "print(\"Number of unique sms messages:\",len(data['sms'].unique()))"
   ]
  },
  {
   "cell_type": "code",
   "execution_count": 27,
   "metadata": {},
   "outputs": [],
   "source": [
    "# drop duplicates\n",
    "data = data.drop_duplicates('sms')"
   ]
  },
  {
   "cell_type": "code",
   "execution_count": 28,
   "metadata": {},
   "outputs": [
    {
     "data": {
      "text/plain": [
       "label\n",
       "ham     4516\n",
       "spam     653\n",
       "dtype: int64"
      ]
     },
     "execution_count": 28,
     "metadata": {},
     "output_type": "execute_result"
    }
   ],
   "source": [
    "data.groupby('label').size() # The classes in the sample are clearly imbalanced"
   ]
  },
  {
   "cell_type": "markdown",
   "metadata": {},
   "source": [
    "## 2. Metric for quality"
   ]
  },
  {
   "cell_type": "markdown",
   "metadata": {},
   "source": [
    "The best choices as metrics for quality evaluation for the model are: **recall, precsicion and f1 score** for both classes.\n",
    "\n",
    "Due to imbalance in the sample (in favour of ham messages) there is high chance to receive good metrics for class 0 (ham messages) prediction while metrics for class 1 (spam) detection might be not good enough. Therefore it is important to get classifier which perfectly separates classes 0 and 1. For this purpose accuracy is not representative metric and in the best scenario we should have equally high recall for each class. "
   ]
  },
  {
   "cell_type": "markdown",
   "metadata": {},
   "source": [
    "## 3. Data processing and feature extraction "
   ]
  },
  {
   "cell_type": "code",
   "execution_count": 29,
   "metadata": {
    "collapsed": true
   },
   "outputs": [],
   "source": [
    "# encode labels to binary variable replace \n",
    "data['label'] = data['label'].map({'ham': 0, 'spam': 1})"
   ]
  },
  {
   "cell_type": "code",
   "execution_count": 31,
   "metadata": {
    "collapsed": true
   },
   "outputs": [],
   "source": [
    "# make a fixed split into training and test samples\n",
    "X_train, X_test, y_train, y_test = train_test_split(data['sms'], data['label'], test_size=0.2, random_state=43)"
   ]
  },
  {
   "cell_type": "code",
   "execution_count": 32,
   "metadata": {},
   "outputs": [
    {
     "data": {
      "text/plain": [
       "0    3626\n",
       "1     509\n",
       "Name: label, dtype: int64"
      ]
     },
     "execution_count": 32,
     "metadata": {},
     "output_type": "execute_result"
    }
   ],
   "source": [
    "y_train.value_counts()"
   ]
  },
  {
   "cell_type": "code",
   "execution_count": 33,
   "metadata": {},
   "outputs": [
    {
     "data": {
      "text/plain": [
       "0    890\n",
       "1    144\n",
       "Name: label, dtype: int64"
      ]
     },
     "execution_count": 33,
     "metadata": {},
     "output_type": "execute_result"
    }
   ],
   "source": [
    "y_test.value_counts()  # we have checked proportionality in sizes of the classes size after splitting the dataset"
   ]
  },
  {
   "cell_type": "markdown",
   "metadata": {},
   "source": [
    "By using a sklearns count vectorizer method the messages in the dataset will be converted to a matrix, with each message being a row and each word(token) being the column, and the corresponding (row,column) values being the frequency of occurrence of each word or token in that sms message.\n",
    "\n",
    "Algorithm for sklearns count vectorizer method:\n",
    "* It tokenizes the string(separates the string into individual words) and gives an integer ID to each token.\n",
    "* It counts the occurrence of each of those tokens."
   ]
  },
  {
   "cell_type": "markdown",
   "metadata": {},
   "source": [
    "We can imagine this as a 2-Dimensional matrix. Where the 1-dimension is the entire vocabulary (1 row per word) and the other dimension are the actual messages, in this case a column per text message. We will also concider removal of stop words from our messages."
   ]
  },
  {
   "cell_type": "code",
   "execution_count": 34,
   "metadata": {},
   "outputs": [],
   "source": [
    "count_vector = CountVectorizer(analyzer = 'word', stop_words='english', binary = False, ngram_range=(1, 2))"
   ]
  },
  {
   "cell_type": "code",
   "execution_count": 120,
   "metadata": {},
   "outputs": [],
   "source": [
    "# For Sklearn NB model\n",
    "X_train_counts = count_vector.fit_transform(X_train)\n",
    "X_test_counts = count_vector.transform(X_test)"
   ]
  },
  {
   "cell_type": "code",
   "execution_count": 121,
   "metadata": {},
   "outputs": [],
   "source": [
    "# Dataframes for self-made NB model\n",
    "X_tr_df = pd.DataFrame(X_train_counts.toarray(), columns = count_vector.get_feature_names())\n",
    "X_ts_df = pd.DataFrame(X_test_counts.toarray(), columns = count_vector.get_feature_names())"
   ]
  },
  {
   "cell_type": "code",
   "execution_count": 37,
   "metadata": {},
   "outputs": [
    {
     "data": {
      "text/plain": [
       "((4135, 31026), (1034, 31026))"
      ]
     },
     "execution_count": 37,
     "metadata": {},
     "output_type": "execute_result"
    }
   ],
   "source": [
    "X_tr_df.shape, X_ts_df.shape # there are 31026 unique words (features) in our training dataset"
   ]
  },
  {
   "cell_type": "markdown",
   "metadata": {},
   "source": [
    "## 4. Naive bayes model training (by hand)"
   ]
  },
  {
   "cell_type": "markdown",
   "metadata": {},
   "source": [
    "* $ P(ham | smsText) $ = Probability that sms is ham given that it contains content - smsText \n",
    "\n",
    "* $ P(spam | smsText) $  = Probability that sms is spam given that it contains content - smsText \n",
    "\n",
    "$$ P(ham | smsText) = \\frac{P(ham) * P(smsText | ham)}{ P(smsText)} $$\n",
    "\n",
    "$$ P(spam | smsText) = \\frac{P(spam) * P(smsText | spam)}{P(smsText)} $$"
   ]
  },
  {
   "cell_type": "markdown",
   "metadata": {},
   "source": [
    "$$ P(ham | smsText) = \\frac{P(ham) * P(smsText | ham)}{P(smsText)} $$\n",
    "\n",
    "$$ P(spam | smsText) = \\frac{P(spam) * P(smsText | spam)}{P(smsText)} $$\n",
    "\n",
    "Since P(smsText) is constant and common in both expressions, we can avoid it. \n",
    "$$ P(ham) = \\frac{(number_of_messages_belonging_to_category_ham)}{total_N_of_messages} $$\n",
    "\n",
    "$$ P(spam) = \\frac{(number_of_messages_belonging_to_category_spam)}{total_N_of_messages} $$\n",
    "\n",
    "To calculate the above two probabilities, we’ll use training Set table.\n",
    "\n",
    "$$ P(smsText | spam) = P(word1 | spam) * P(word2 | spam) * … $$\n",
    "\n",
    "$$ P(smsText | ham) = P(word1 | ham) * P(word2 | ham) * … $$\n",
    "\n",
    "To calculate the above two probabilities, we’ll use wordFrequency table. Here word1, word2, word3 up to word-n are total words in smstext.\n",
    "\n",
    "$$ P(word1 | spam) = \\frac{count of word1 belonging to category spam}{total count of words belonging to category spam}.$$\n",
    "\n",
    "$$ P(word1 | ham) = \\frac{count of word1 belonging to category ham}{total count of words belonging to category ham}.$$"
   ]
  },
  {
   "cell_type": "markdown",
   "metadata": {
    "collapsed": true
   },
   "source": [
    "To solve this problem when the classifier detects a new word that is not present in training data sets, we will take log on both sides.\n",
    "\n",
    "$$ log(P(ham | bodyText)) = log(P(ham)) + log(P(bodyText | ham)) = log(P(ham)) + log(P(word1 | ham)) + log(P(word2 | ham)) … $$\n",
    "\n",
    "To solve the problem when a classifier encounters a new word that is not present in our training data sets, we’ll use Laplace smoothing. Now we’ll have-\n",
    "\n",
    "$$ P(word1 | ham) = (count of word1 belonging to category ham + 1) / (total count of words belonging to ham + no of distinct words in training data sets) $$\n",
    "\n",
    "$$ P(word1 | spam) = (count of word1 belonging to category spam + 1) / (total count of words belonging to spam + no of distinct words in training data sets) $$"
   ]
  },
  {
   "cell_type": "code",
   "execution_count": 308,
   "metadata": {
    "collapsed": true
   },
   "outputs": [],
   "source": [
    "def train_NB(X_train, y_train):\n",
    "    count_vector = CountVectorizer(analyzer = 'word', stop_words='english', binary = False, ngram_range=(1, 2))\n",
    "    \n",
    "    X_train_counts = count_vector.fit_transform(X_train)\n",
    "    \n",
    "    X_train = pd.DataFrame(X_train_counts.toarray(), columns = count_vector.get_feature_names())\n",
    "    \n",
    "    P_ham = len(y_train[y_train == 0]) / len(y_train) # Probability that chosen message belongs to ham\n",
    "    P_spam = len(y_train[y_train == 1]) / len(y_train) # Probability that chosen message belongs to spam\n",
    "    \n",
    "    classes_probs = [P_ham, P_spam]\n",
    "    \n",
    "    ham_data = X_train[X_train.index.isin(y_train[y_train == 0].index)]\n",
    "    spam_data = X_train[X_train.index.isin(y_train[y_train == 1].index)]\n",
    "    \n",
    "    unique_words_in_train_data = X_train.shape[1]\n",
    "\n",
    "    n_words_in_ham_data = np.array(ham_data).sum()\n",
    "    n_words_in_spam_data = np.array(spam_data).sum()\n",
    "    \n",
    "    n_words = [n_words_in_ham_data + unique_words_in_train_data, n_words_in_spam_data + unique_words_in_train_data]\n",
    "\n",
    "    words_frequences_for_ham = np.array(ham_data.sum())\n",
    "    words_frequences_for_spam = np.array(spam_data.sum())\n",
    "    \n",
    "    return classes_probs, n_words, words_frequences_for_ham, words_frequences_for_spam  # return P(C) and P(Wi|C)"
   ]
  },
  {
   "cell_type": "code",
   "execution_count": 309,
   "metadata": {
    "collapsed": true
   },
   "outputs": [],
   "source": [
    "NB_classifier  = train_NB(X_train, y_train)"
   ]
  },
  {
   "cell_type": "code",
   "execution_count": 310,
   "metadata": {},
   "outputs": [],
   "source": [
    "def NB_predict(model, X_test):\n",
    "    \n",
    "    X_test = count_vector.transform(X_test).toarray()\n",
    "    \n",
    "    pred = []\n",
    "    \n",
    "    classes_probs, n_words, words_frequences_for_ham, words_frequences_for_spam  = model\n",
    "    \n",
    "    for vec in X_test:\n",
    "        freq_ham = vec * words_frequences_for_ham\n",
    "        freq_ham = freq_ham[freq_ham > 0]\n",
    "        prob_for_ham = np.log(classes_probs[0]) + (np.log((1 + freq_ham))/n_words[0]).sum() # add 1 to frequencies for Laplas smoothing purpose\n",
    "        \n",
    "        freq_spam = vec * words_frequences_for_spam\n",
    "        freq_spam = freq_spam[freq_spam > 0]\n",
    "        prob_for_spam = np.log(classes_probs[1]) + (np.log((1 + freq_spam))/n_words[1]).sum()\n",
    "\n",
    "        if prob_for_spam > prob_for_ham:\n",
    "            pred.append(1)\n",
    "        else: \n",
    "            pred.append(0)\n",
    "    \n",
    "    result = pd.Series(pred, name = 'predicted')\n",
    "\n",
    "    return result"
   ]
  },
  {
   "cell_type": "markdown",
   "metadata": {},
   "source": [
    "## 3. Model testing"
   ]
  },
  {
   "cell_type": "code",
   "execution_count": 311,
   "metadata": {},
   "outputs": [],
   "source": [
    "y_pred = NB_predict(NB_classifier, X_test)"
   ]
  },
  {
   "cell_type": "code",
   "execution_count": 312,
   "metadata": {},
   "outputs": [
    {
     "name": "stdout",
     "output_type": "stream",
     "text": [
      "              precision    recall  f1-score   support\n",
      "\n",
      "           0       0.86      1.00      0.93       890\n",
      "           1       0.00      0.00      0.00       144\n",
      "\n",
      "   micro avg       0.86      0.86      0.86      1034\n",
      "   macro avg       0.43      0.50      0.46      1034\n",
      "weighted avg       0.74      0.86      0.80      1034\n",
      "\n"
     ]
    }
   ],
   "source": [
    "print(classification_report(y_test, y_pred))"
   ]
  },
  {
   "cell_type": "code",
   "execution_count": 313,
   "metadata": {
    "collapsed": true
   },
   "outputs": [],
   "source": [
    "cm = confusion_matrix(y_test,y_pred)\n",
    "np.set_printoptions(precision=2)"
   ]
  },
  {
   "cell_type": "code",
   "execution_count": 314,
   "metadata": {},
   "outputs": [
    {
     "data": {
      "text/plain": [
       "<matplotlib.text.Text at 0x138023128>"
      ]
     },
     "execution_count": 314,
     "metadata": {},
     "output_type": "execute_result"
    },
    {
     "data": {
      "image/png": "[encoded data removed]",
      "text/plain": [
       "<matplotlib.figure.Figure at 0x1380142b0>"
      ]
     },
     "metadata": {},
     "output_type": "display_data"
    }
   ],
   "source": [
    "classes = ['ham', 'spam']\n",
    "plt.imshow(cm, interpolation='nearest', cmap=plt.cm.Blues)\n",
    "plt.title('Confusion matrix for sklearn NB')\n",
    "tick_marks = np.arange(len(classes))\n",
    "plt.xticks(tick_marks, classes, rotation=45)\n",
    "plt.yticks(tick_marks, classes)\n",
    "\n",
    "thresh = cm.max() / 2.\n",
    "for i, j in itertools.product(range(cm.shape[0]), range(cm.shape[1])):\n",
    "    plt.text(j, i, cm[i, j], horizontalalignment=\"center\",\n",
    "                 color=\"white\" if cm[i, j] > thresh else \"black\")\n",
    "plt.tight_layout()\n",
    "plt.ylabel('True label')\n",
    "plt.xlabel('Predicted label')"
   ]
  },
  {
   "cell_type": "markdown",
   "metadata": {
    "collapsed": true
   },
   "source": [
    "Classifier doesnt detect spam at all"
   ]
  },
  {
   "cell_type": "markdown",
   "metadata": {},
   "source": [
    "## 4. Comparing results with sklearn NB "
   ]
  },
  {
   "cell_type": "markdown",
   "metadata": {},
   "source": [
    "Specifically, we will be using the multinomial Naive Bayes implementation. This particular classifier is suitable for classification with discrete features (such as in our case, word counts for text classification). It takes in integer word counts as its input. On the other hand Gaussian Naive Bayes is better suited for continuous data as it assumes that the input data has a Gaussian(normal) distribution. "
   ]
  },
  {
   "cell_type": "code",
   "execution_count": 213,
   "metadata": {
    "collapsed": true
   },
   "outputs": [],
   "source": [
    "skleran_NB = MultinomialNB()"
   ]
  },
  {
   "cell_type": "markdown",
   "metadata": {},
   "source": [
    "MultinomialNB implements the naive Bayes algorithm for multinomially distributed data, and is one of the two classic naive Bayes variants used in text classification (where the data are typically represented as word vector counts, although tf-idf vectors are also known to work well in practice). The distribution is parametrized by vectors \n",
    "$\\theta_y = (\\theta_{y1},\\ldots,\\theta_{yn})$\n",
    " for each class \n",
    "y\n",
    ", where \n",
    "n\n",
    " is the number of features (in text classification, the size of the vocabulary) and $\\theta_{yi}$\n",
    " is the probability $P(x_i \\mid y)$\n",
    "of feature *i*\n",
    " appearing in a sample belonging to class *y*.\n",
    "The parameters $\\theta_y$ is estimated by a smoothed version of maximum likelihood, i.e. relative frequency counting:\n",
    " \n",
    "$$ \\hat{\\theta}_{yi} = \\frac{ N_{yi} + \\alpha}{N_y + \\alpha n} $$\n",
    "where \n",
    "$N_{yi} = \\sum_{x \\in T} x_i$\n",
    " is the number of times feature *i* appears in a sample of class *y* in the training set *T*, and $N_{y} = \\sum_{i=1}^{n} N_{yi}$\n",
    " is the total count of all features for class *y*.\n",
    "The smoothing priors \n",
    "α\n",
    "≥\n",
    "0\n",
    " accounts for features not present in the learning samples and prevents zero probabilities in further computations. Setting \n",
    "α\n",
    "=\n",
    "1\n",
    " is called Laplace smoothing, while \n",
    "α\n",
    "<\n",
    "1\n",
    " is called Lidstone smoothing."
   ]
  },
  {
   "cell_type": "code",
   "execution_count": 214,
   "metadata": {},
   "outputs": [
    {
     "data": {
      "text/plain": [
       "MultinomialNB(alpha=1.0, class_prior=None, fit_prior=True)"
      ]
     },
     "execution_count": 214,
     "metadata": {},
     "output_type": "execute_result"
    }
   ],
   "source": [
    "# training the sklearn Naive Bayes model\n",
    "skleran_NB.fit(X_train_counts, y_train)"
   ]
  },
  {
   "cell_type": "code",
   "execution_count": 215,
   "metadata": {
    "collapsed": true
   },
   "outputs": [],
   "source": [
    "sk_learn_pred = skleran_NB.predict(X_test_counts)"
   ]
  },
  {
   "cell_type": "code",
   "execution_count": 216,
   "metadata": {},
   "outputs": [
    {
     "name": "stdout",
     "output_type": "stream",
     "text": [
      "              precision    recall  f1-score   support\n",
      "\n",
      "         ham       0.99      1.00      0.99       890\n",
      "        spam       0.99      0.94      0.96       144\n",
      "\n",
      "   micro avg       0.99      0.99      0.99      1034\n",
      "   macro avg       0.99      0.97      0.98      1034\n",
      "weighted avg       0.99      0.99      0.99      1034\n",
      "\n"
     ]
    }
   ],
   "source": [
    "print(classification_report(y_test, sk_learn_pred, target_names = ['ham','spam']))"
   ]
  },
  {
   "cell_type": "code",
   "execution_count": 235,
   "metadata": {},
   "outputs": [
    {
     "name": "stdout",
     "output_type": "stream",
     "text": [
      "AUC scores [1.   0.96 0.97 0.97 0.99]\n",
      "AUC 95 prc confidence interval: 0.98 (+/- 0.03)\n"
     ]
    }
   ],
   "source": [
    "# perform 5-fold CV\n",
    "scores = cross_validate(skleran_NB, X_test_counts, y_test, cv=5, scoring=('roc_auc'))\n",
    "print(\"AUC scores\", scores['test_score'].round(4))\n",
    "    # with 95% confidence interval\n",
    "print(\"AUC 95 prc confidence interval: %0.2f (+/- %0.2f)\" % (scores['test_score'].mean(), scores['test_score'].std() * 2))"
   ]
  },
  {
   "cell_type": "code",
   "execution_count": 223,
   "metadata": {},
   "outputs": [],
   "source": [
    "cm = confusion_matrix(y_test,sk_learn_pred)\n",
    "np.set_printoptions(precision=2)"
   ]
  },
  {
   "cell_type": "code",
   "execution_count": 258,
   "metadata": {},
   "outputs": [
    {
     "data": {
      "text/plain": [
       "<matplotlib.text.Text at 0x12044ea20>"
      ]
     },
     "execution_count": 258,
     "metadata": {},
     "output_type": "execute_result"
    },
    {
     "data": {
      "image/png": "[encoded data removed]",
      "text/plain": [
       "<matplotlib.figure.Figure at 0x1206b55f8>"
      ]
     },
     "metadata": {},
     "output_type": "display_data"
    }
   ],
   "source": [
    "classes = ['ham', 'spam']\n",
    "plt.imshow(cm, interpolation='nearest', cmap=plt.cm.Blues)\n",
    "plt.title('Confusion matrix for sklearn NB')\n",
    "tick_marks = np.arange(len(classes))\n",
    "plt.xticks(tick_marks, classes, rotation=45)\n",
    "plt.yticks(tick_marks, classes)\n",
    "\n",
    "thresh = cm.max() / 2.\n",
    "for i, j in itertools.product(range(cm.shape[0]), range(cm.shape[1])):\n",
    "    plt.text(j, i, cm[i, j], horizontalalignment=\"center\",\n",
    "                 color=\"white\" if cm[i, j] > thresh else \"black\")\n",
    "plt.tight_layout()\n",
    "plt.ylabel('True label')\n",
    "plt.xlabel('Predicted label')"
   ]
  },
  {
   "cell_type": "markdown",
   "metadata": {
    "collapsed": true
   },
   "source": [
    "** As we can see, in this case the best algorithm for classification is sklearn Multinominal Naive Bayes **"
   ]
  }
 ],
 "metadata": {
  "kernelspec": {
   "display_name": "Python 3",
   "language": "python",
   "name": "python3"
  },
  "varInspector": {
   "cols": {
    "lenName": 16,
    "lenType": 16,
    "lenVar": 40
   },
   "kernels_config": {
    "python": {
     "delete_cmd_postfix": "",
     "delete_cmd_prefix": "del ",
     "library": "var_list.py",
     "varRefreshCmd": "print(var_dic_list())"
    },
    "r": {
     "delete_cmd_postfix": ") ",
     "delete_cmd_prefix": "rm(",
     "library": "var_list.r",
     "varRefreshCmd": "cat(var_dic_list()) "
    }
   },
   "types_to_exclude": [
    "module",
    "function",
    "builtin_function_or_method",
    "instance",
    "_Feature"
   ],
   "window_display": false
  }
 },
 "nbformat": 4,
 "nbformat_minor": 2
}

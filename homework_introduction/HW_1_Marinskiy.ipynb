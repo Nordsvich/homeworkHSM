{
 "cells": [
  {
   "cell_type": "markdown",
   "metadata": {},
   "source": [
    "# HW 1: Alexander Marinskiy"
   ]
  },
  {
   "cell_type": "markdown",
   "metadata": {},
   "source": [
    "## Task"
   ]
  },
  {
   "cell_type": "markdown",
   "metadata": {},
   "source": [
    "Download data https://cloud.mail.ru/public/4YBW/XvCMVyxc6\n",
    "\n",
    "You should build full ML pipeline and get best AUC.\n",
    "\n",
    "Important stages in pipeline:\n",
    "\n",
    " 1. Feature selection\n",
    " -  Cross validation\n",
    " -  Hyper parameters tuning\n",
    " -  Compare minimum 2 models"
   ]
  },
  {
   "cell_type": "code",
   "execution_count": 1,
   "metadata": {},
   "outputs": [],
   "source": [
    "# loading libraries\n",
    "import pandas as pd\n",
    "import numpy as np\n",
    "import matplotlib.pyplot as plt\n",
    "from sklearn.preprocessing import StandardScaler\n",
    "from sklearn.model_selection import train_test_split\n",
    "from sklearn.model_selection import GridSearchCV\n",
    "from sklearn.feature_selection import SelectFromModel\n",
    "from sklearn.metrics import roc_auc_score\n",
    "from sklearn.neighbors import KNeighborsClassifier\n",
    "from sklearn.linear_model import LogisticRegression\n",
    "from sklearn.ensemble import RandomForestClassifier"
   ]
  },
  {
   "cell_type": "markdown",
   "metadata": {},
   "source": [
    "## 1. Loading data"
   ]
  },
  {
   "cell_type": "code",
   "execution_count": 2,
   "metadata": {},
   "outputs": [
    {
     "data": {
      "text/html": [
       "<div>\n",
       "<style scoped>\n",
       "    .dataframe tbody tr th:only-of-type {\n",
       "        vertical-align: middle;\n",
       "    }\n",
       "\n",
       "    .dataframe tbody tr th {\n",
       "        vertical-align: top;\n",
       "    }\n",
       "\n",
       "    .dataframe thead th {\n",
       "        text-align: right;\n",
       "    }\n",
       "</style>\n",
       "<table border=\"1\" class=\"dataframe\">\n",
       "  <thead>\n",
       "    <tr style=\"text-align: right;\">\n",
       "      <th></th>\n",
       "      <th>feature_0</th>\n",
       "      <th>feature_1</th>\n",
       "      <th>feature_2</th>\n",
       "      <th>feature_3</th>\n",
       "      <th>feature_4</th>\n",
       "      <th>feature_5</th>\n",
       "      <th>feature_6</th>\n",
       "      <th>feature_7</th>\n",
       "      <th>feature_8</th>\n",
       "      <th>feature_9</th>\n",
       "      <th>...</th>\n",
       "      <th>feature_991</th>\n",
       "      <th>feature_992</th>\n",
       "      <th>feature_993</th>\n",
       "      <th>feature_994</th>\n",
       "      <th>feature_995</th>\n",
       "      <th>feature_996</th>\n",
       "      <th>feature_997</th>\n",
       "      <th>feature_998</th>\n",
       "      <th>feature_999</th>\n",
       "      <th>label</th>\n",
       "    </tr>\n",
       "  </thead>\n",
       "  <tbody>\n",
       "    <tr>\n",
       "      <th>0</th>\n",
       "      <td>-0.272674</td>\n",
       "      <td>0.801643</td>\n",
       "      <td>-0.650531</td>\n",
       "      <td>0.952486</td>\n",
       "      <td>-0.153037</td>\n",
       "      <td>0.427145</td>\n",
       "      <td>-1.085534</td>\n",
       "      <td>1.318513</td>\n",
       "      <td>0.002588</td>\n",
       "      <td>-1.849832</td>\n",
       "      <td>...</td>\n",
       "      <td>-0.572848</td>\n",
       "      <td>-0.448690</td>\n",
       "      <td>0.073369</td>\n",
       "      <td>-0.845503</td>\n",
       "      <td>-1.074903</td>\n",
       "      <td>0.222103</td>\n",
       "      <td>-1.024658</td>\n",
       "      <td>-0.711647</td>\n",
       "      <td>0.036411</td>\n",
       "      <td>1</td>\n",
       "    </tr>\n",
       "    <tr>\n",
       "      <th>1</th>\n",
       "      <td>0.201004</td>\n",
       "      <td>-0.263537</td>\n",
       "      <td>-0.793137</td>\n",
       "      <td>-4.483672</td>\n",
       "      <td>0.745123</td>\n",
       "      <td>1.156577</td>\n",
       "      <td>0.351558</td>\n",
       "      <td>1.735511</td>\n",
       "      <td>-1.490988</td>\n",
       "      <td>-0.327063</td>\n",
       "      <td>...</td>\n",
       "      <td>1.045496</td>\n",
       "      <td>1.494638</td>\n",
       "      <td>-0.776573</td>\n",
       "      <td>-1.219524</td>\n",
       "      <td>-0.756398</td>\n",
       "      <td>-0.963046</td>\n",
       "      <td>0.488610</td>\n",
       "      <td>0.313609</td>\n",
       "      <td>-0.490794</td>\n",
       "      <td>0</td>\n",
       "    </tr>\n",
       "    <tr>\n",
       "      <th>2</th>\n",
       "      <td>-1.834495</td>\n",
       "      <td>-0.305209</td>\n",
       "      <td>0.053789</td>\n",
       "      <td>4.448289</td>\n",
       "      <td>1.294481</td>\n",
       "      <td>1.241900</td>\n",
       "      <td>-1.358354</td>\n",
       "      <td>-0.211469</td>\n",
       "      <td>-0.186544</td>\n",
       "      <td>0.964812</td>\n",
       "      <td>...</td>\n",
       "      <td>0.917945</td>\n",
       "      <td>0.920003</td>\n",
       "      <td>0.690022</td>\n",
       "      <td>-0.834381</td>\n",
       "      <td>-0.261806</td>\n",
       "      <td>-0.061880</td>\n",
       "      <td>-1.177730</td>\n",
       "      <td>-1.345305</td>\n",
       "      <td>-0.085971</td>\n",
       "      <td>0</td>\n",
       "    </tr>\n",
       "  </tbody>\n",
       "</table>\n",
       "<p>3 rows × 1001 columns</p>\n",
       "</div>"
      ],
      "text/plain": [
       "   feature_0  feature_1  feature_2  feature_3  feature_4  feature_5  \\\n",
       "0  -0.272674   0.801643  -0.650531   0.952486  -0.153037   0.427145   \n",
       "1   0.201004  -0.263537  -0.793137  -4.483672   0.745123   1.156577   \n",
       "2  -1.834495  -0.305209   0.053789   4.448289   1.294481   1.241900   \n",
       "\n",
       "   feature_6  feature_7  feature_8  feature_9  ...    feature_991  \\\n",
       "0  -1.085534   1.318513   0.002588  -1.849832  ...      -0.572848   \n",
       "1   0.351558   1.735511  -1.490988  -0.327063  ...       1.045496   \n",
       "2  -1.358354  -0.211469  -0.186544   0.964812  ...       0.917945   \n",
       "\n",
       "   feature_992  feature_993  feature_994  feature_995  feature_996  \\\n",
       "0    -0.448690     0.073369    -0.845503    -1.074903     0.222103   \n",
       "1     1.494638    -0.776573    -1.219524    -0.756398    -0.963046   \n",
       "2     0.920003     0.690022    -0.834381    -0.261806    -0.061880   \n",
       "\n",
       "   feature_997  feature_998  feature_999  label  \n",
       "0    -1.024658    -0.711647     0.036411      1  \n",
       "1     0.488610     0.313609    -0.490794      0  \n",
       "2    -1.177730    -1.345305    -0.085971      0  \n",
       "\n",
       "[3 rows x 1001 columns]"
      ]
     },
     "execution_count": 2,
     "metadata": {},
     "output_type": "execute_result"
    }
   ],
   "source": [
    "# load data\n",
    "df = pd.read_csv('dataset_simple.csv')\n",
    "df.head(n=3)"
   ]
  },
  {
   "cell_type": "code",
   "execution_count": 3,
   "metadata": {},
   "outputs": [
    {
     "data": {
      "text/plain": [
       "(9999, 1001)"
      ]
     },
     "execution_count": 3,
     "metadata": {},
     "output_type": "execute_result"
    }
   ],
   "source": [
    "# check the shape of data\n",
    "df.shape"
   ]
  },
  {
   "cell_type": "code",
   "execution_count": 4,
   "metadata": {},
   "outputs": [
    {
     "data": {
      "text/plain": [
       "0    5068\n",
       "1    4931\n",
       "Name: label, dtype: int64"
      ]
     },
     "execution_count": 4,
     "metadata": {},
     "output_type": "execute_result"
    }
   ],
   "source": [
    "# check if sample is balanced\n",
    "df['label'].value_counts()"
   ]
  },
  {
   "cell_type": "markdown",
   "metadata": {},
   "source": [
    "We can see that training sample is balanced"
   ]
  },
  {
   "cell_type": "markdown",
   "metadata": {},
   "source": [
    "## 2. Creating samples"
   ]
  },
  {
   "cell_type": "markdown",
   "metadata": {},
   "source": [
    "### Initial test train split"
   ]
  },
  {
   "cell_type": "code",
   "execution_count": 5,
   "metadata": {},
   "outputs": [],
   "source": [
    "# create initial train and holdout sample\n",
    "X_train, X_test, y_train, y_test = train_test_split(df.drop('label', axis = 1), df['label'], \n",
    "                                                    test_size=0.25, random_state=42, shuffle=True)"
   ]
  },
  {
   "cell_type": "markdown",
   "metadata": {},
   "source": [
    "### Scaled samples"
   ]
  },
  {
   "cell_type": "code",
   "execution_count": 6,
   "metadata": {},
   "outputs": [
    {
     "data": {
      "text/html": [
       "<div>\n",
       "<style scoped>\n",
       "    .dataframe tbody tr th:only-of-type {\n",
       "        vertical-align: middle;\n",
       "    }\n",
       "\n",
       "    .dataframe tbody tr th {\n",
       "        vertical-align: top;\n",
       "    }\n",
       "\n",
       "    .dataframe thead th {\n",
       "        text-align: right;\n",
       "    }\n",
       "</style>\n",
       "<table border=\"1\" class=\"dataframe\">\n",
       "  <thead>\n",
       "    <tr style=\"text-align: right;\">\n",
       "      <th></th>\n",
       "      <th>feature_0</th>\n",
       "      <th>feature_1</th>\n",
       "      <th>feature_2</th>\n",
       "      <th>feature_3</th>\n",
       "      <th>feature_4</th>\n",
       "      <th>feature_5</th>\n",
       "      <th>feature_6</th>\n",
       "      <th>feature_7</th>\n",
       "      <th>feature_8</th>\n",
       "      <th>feature_9</th>\n",
       "      <th>...</th>\n",
       "      <th>feature_990</th>\n",
       "      <th>feature_991</th>\n",
       "      <th>feature_992</th>\n",
       "      <th>feature_993</th>\n",
       "      <th>feature_994</th>\n",
       "      <th>feature_995</th>\n",
       "      <th>feature_996</th>\n",
       "      <th>feature_997</th>\n",
       "      <th>feature_998</th>\n",
       "      <th>feature_999</th>\n",
       "    </tr>\n",
       "  </thead>\n",
       "  <tbody>\n",
       "    <tr>\n",
       "      <th>4900</th>\n",
       "      <td>-1.024903</td>\n",
       "      <td>-0.773129</td>\n",
       "      <td>1.164818</td>\n",
       "      <td>0.385687</td>\n",
       "      <td>-1.450712</td>\n",
       "      <td>1.559885</td>\n",
       "      <td>1.587827</td>\n",
       "      <td>0.879211</td>\n",
       "      <td>-3.197993</td>\n",
       "      <td>-0.290895</td>\n",
       "      <td>...</td>\n",
       "      <td>1.774808</td>\n",
       "      <td>-0.066877</td>\n",
       "      <td>-1.534803</td>\n",
       "      <td>0.151638</td>\n",
       "      <td>-1.093780</td>\n",
       "      <td>1.038295</td>\n",
       "      <td>0.665654</td>\n",
       "      <td>0.615080</td>\n",
       "      <td>-1.379045</td>\n",
       "      <td>0.990205</td>\n",
       "    </tr>\n",
       "    <tr>\n",
       "      <th>4375</th>\n",
       "      <td>-0.050794</td>\n",
       "      <td>0.999154</td>\n",
       "      <td>-0.577595</td>\n",
       "      <td>-0.190203</td>\n",
       "      <td>-0.049139</td>\n",
       "      <td>-0.960277</td>\n",
       "      <td>0.975478</td>\n",
       "      <td>0.009504</td>\n",
       "      <td>0.502809</td>\n",
       "      <td>0.622172</td>\n",
       "      <td>...</td>\n",
       "      <td>-1.020989</td>\n",
       "      <td>-2.296338</td>\n",
       "      <td>-0.498952</td>\n",
       "      <td>0.408081</td>\n",
       "      <td>-2.722449</td>\n",
       "      <td>1.224749</td>\n",
       "      <td>-0.737418</td>\n",
       "      <td>-0.925168</td>\n",
       "      <td>-0.647342</td>\n",
       "      <td>0.167656</td>\n",
       "    </tr>\n",
       "    <tr>\n",
       "      <th>7296</th>\n",
       "      <td>0.259159</td>\n",
       "      <td>0.574684</td>\n",
       "      <td>1.454707</td>\n",
       "      <td>0.563196</td>\n",
       "      <td>1.017043</td>\n",
       "      <td>0.406381</td>\n",
       "      <td>-0.365921</td>\n",
       "      <td>-0.642002</td>\n",
       "      <td>1.053974</td>\n",
       "      <td>-1.115893</td>\n",
       "      <td>...</td>\n",
       "      <td>0.944405</td>\n",
       "      <td>1.414255</td>\n",
       "      <td>0.578379</td>\n",
       "      <td>-0.231741</td>\n",
       "      <td>-1.235242</td>\n",
       "      <td>0.398272</td>\n",
       "      <td>0.912794</td>\n",
       "      <td>1.231427</td>\n",
       "      <td>-0.913918</td>\n",
       "      <td>-0.542188</td>\n",
       "    </tr>\n",
       "    <tr>\n",
       "      <th>9804</th>\n",
       "      <td>0.182755</td>\n",
       "      <td>2.993037</td>\n",
       "      <td>0.297163</td>\n",
       "      <td>0.127897</td>\n",
       "      <td>1.111414</td>\n",
       "      <td>-0.093488</td>\n",
       "      <td>-1.479651</td>\n",
       "      <td>1.703470</td>\n",
       "      <td>3.006690</td>\n",
       "      <td>-0.734237</td>\n",
       "      <td>...</td>\n",
       "      <td>1.370249</td>\n",
       "      <td>-0.964772</td>\n",
       "      <td>-0.452219</td>\n",
       "      <td>0.654951</td>\n",
       "      <td>0.593571</td>\n",
       "      <td>1.478053</td>\n",
       "      <td>-0.442785</td>\n",
       "      <td>0.777257</td>\n",
       "      <td>-0.370619</td>\n",
       "      <td>-0.042624</td>\n",
       "    </tr>\n",
       "    <tr>\n",
       "      <th>1101</th>\n",
       "      <td>0.165573</td>\n",
       "      <td>0.471304</td>\n",
       "      <td>0.736538</td>\n",
       "      <td>-0.278460</td>\n",
       "      <td>-0.593384</td>\n",
       "      <td>-0.235622</td>\n",
       "      <td>-0.656466</td>\n",
       "      <td>-0.749498</td>\n",
       "      <td>0.337183</td>\n",
       "      <td>-0.649691</td>\n",
       "      <td>...</td>\n",
       "      <td>0.051939</td>\n",
       "      <td>0.119996</td>\n",
       "      <td>-0.524305</td>\n",
       "      <td>0.556665</td>\n",
       "      <td>0.161472</td>\n",
       "      <td>-1.091755</td>\n",
       "      <td>-2.030970</td>\n",
       "      <td>0.278783</td>\n",
       "      <td>0.490360</td>\n",
       "      <td>0.487078</td>\n",
       "    </tr>\n",
       "  </tbody>\n",
       "</table>\n",
       "<p>5 rows × 1000 columns</p>\n",
       "</div>"
      ],
      "text/plain": [
       "      feature_0  feature_1  feature_2  feature_3  feature_4  feature_5  \\\n",
       "4900  -1.024903  -0.773129   1.164818   0.385687  -1.450712   1.559885   \n",
       "4375  -0.050794   0.999154  -0.577595  -0.190203  -0.049139  -0.960277   \n",
       "7296   0.259159   0.574684   1.454707   0.563196   1.017043   0.406381   \n",
       "9804   0.182755   2.993037   0.297163   0.127897   1.111414  -0.093488   \n",
       "1101   0.165573   0.471304   0.736538  -0.278460  -0.593384  -0.235622   \n",
       "\n",
       "      feature_6  feature_7  feature_8  feature_9     ...       feature_990  \\\n",
       "4900   1.587827   0.879211  -3.197993  -0.290895     ...          1.774808   \n",
       "4375   0.975478   0.009504   0.502809   0.622172     ...         -1.020989   \n",
       "7296  -0.365921  -0.642002   1.053974  -1.115893     ...          0.944405   \n",
       "9804  -1.479651   1.703470   3.006690  -0.734237     ...          1.370249   \n",
       "1101  -0.656466  -0.749498   0.337183  -0.649691     ...          0.051939   \n",
       "\n",
       "      feature_991  feature_992  feature_993  feature_994  feature_995  \\\n",
       "4900    -0.066877    -1.534803     0.151638    -1.093780     1.038295   \n",
       "4375    -2.296338    -0.498952     0.408081    -2.722449     1.224749   \n",
       "7296     1.414255     0.578379    -0.231741    -1.235242     0.398272   \n",
       "9804    -0.964772    -0.452219     0.654951     0.593571     1.478053   \n",
       "1101     0.119996    -0.524305     0.556665     0.161472    -1.091755   \n",
       "\n",
       "      feature_996  feature_997  feature_998  feature_999  \n",
       "4900     0.665654     0.615080    -1.379045     0.990205  \n",
       "4375    -0.737418    -0.925168    -0.647342     0.167656  \n",
       "7296     0.912794     1.231427    -0.913918    -0.542188  \n",
       "9804    -0.442785     0.777257    -0.370619    -0.042624  \n",
       "1101    -2.030970     0.278783     0.490360     0.487078  \n",
       "\n",
       "[5 rows x 1000 columns]"
      ]
     },
     "execution_count": 6,
     "metadata": {},
     "output_type": "execute_result"
    }
   ],
   "source": [
    "# scale the data\n",
    "scaler = StandardScaler()\n",
    "scaler.fit(X_train)\n",
    "X_train_scaled = scaler.transform(X_train)\n",
    "X_test_scaled = scaler.transform(X_test)\n",
    "\n",
    "# re-assign names of rows and columns \n",
    "X_train_scaled = pd.DataFrame(X_train_scaled)\n",
    "X_test_scaled = pd.DataFrame(X_test_scaled)\n",
    "\n",
    "X_train_scaled.columns = X_train.columns.values\n",
    "X_train_scaled.index = X_train.index\n",
    "\n",
    "X_test_scaled.columns = X_test.columns.values\n",
    "X_test_scaled.index = X_test.index\n",
    "\n",
    "X_train_scaled.head(5)"
   ]
  },
  {
   "cell_type": "markdown",
   "metadata": {},
   "source": [
    "### Feature selection"
   ]
  },
  {
   "cell_type": "code",
   "execution_count": 7,
   "metadata": {},
   "outputs": [],
   "source": [
    "# We use the random forest as a base classifier for feature selection.\n",
    "base_clf = RandomForestClassifier(n_estimators=100)\n",
    "\n",
    "# Set a minimum threshold of 2*mean\n",
    "sfm = SelectFromModel(base_clf, threshold=\"2*mean\")\n",
    "sfm.fit(X_train_scaled, y_train)\n",
    "n_features = sfm.transform(X_train_scaled).shape[1]"
   ]
  },
  {
   "cell_type": "code",
   "execution_count": 8,
   "metadata": {},
   "outputs": [
    {
     "name": "stdout",
     "output_type": "stream",
     "text": [
      "Features selected: 55\n"
     ]
    }
   ],
   "source": [
    "print('Features selected:', n_features)"
   ]
  },
  {
   "cell_type": "code",
   "execution_count": 9,
   "metadata": {},
   "outputs": [],
   "source": [
    "# Prepere test and train samples with only main features\n",
    "X_train_scaled_main = sfm.transform(X_train_scaled)\n",
    "X_test_scaled_main = sfm.transform(X_test_scaled)"
   ]
  },
  {
   "cell_type": "markdown",
   "metadata": {},
   "source": [
    "## 3. Model selection"
   ]
  },
  {
   "cell_type": "code",
   "execution_count": 10,
   "metadata": {},
   "outputs": [],
   "source": [
    "# build function for model tuning\n",
    "def model_tuning(model_name, model, param, X_train, y_train, X_test, y_test):\n",
    "    clf = GridSearchCV(model, param, scoring='roc_auc', n_jobs=-1, cv=3)\n",
    "    clf.fit(X_train, y_train)\n",
    "    print(clf.best_estimator_)\n",
    "    print()\n",
    "    print('ROC-AUC of', model_name, 'model on cross-validation:', clf.best_score_)\n",
    "    print('ROC-AUC of', model_name, 'model on holdout:', roc_auc_score(y_test, clf.best_estimator_.predict(X_test)))\n",
    "    "
   ]
  },
  {
   "cell_type": "markdown",
   "metadata": {},
   "source": [
    "### KNN"
   ]
  },
  {
   "cell_type": "code",
   "execution_count": 11,
   "metadata": {},
   "outputs": [],
   "source": [
    "param_knn = {\n",
    " 'n_neighbors':range(1,10,2),\n",
    " 'p': [1, 2]\n",
    "}"
   ]
  },
  {
   "cell_type": "code",
   "execution_count": 12,
   "metadata": {
    "scrolled": true
   },
   "outputs": [
    {
     "name": "stdout",
     "output_type": "stream",
     "text": [
      "KNeighborsClassifier(algorithm='auto', leaf_size=30, metric='minkowski',\n",
      "           metric_params=None, n_jobs=None, n_neighbors=9, p=2,\n",
      "           weights='uniform')\n",
      "\n",
      "ROC-AUC of KNN model on cross-validation: 0.9735025216700689\n",
      "ROC-AUC of KNN model on holdout: 0.9316320616478317\n"
     ]
    }
   ],
   "source": [
    "model_tuning('KNN', KNeighborsClassifier(), param_knn, X_train_scaled_main, y_train, X_test_scaled_main, y_test)"
   ]
  },
  {
   "cell_type": "markdown",
   "metadata": {},
   "source": [
    "### Logistic regression"
   ]
  },
  {
   "cell_type": "code",
   "execution_count": 13,
   "metadata": {},
   "outputs": [],
   "source": [
    "param_logreg = {\n",
    " 'penalty': ['l1', 'l2'],\n",
    " 'C': [0.001, 0.01, 0.1, 1, 10, 100, 1000]\n",
    "}"
   ]
  },
  {
   "cell_type": "code",
   "execution_count": 14,
   "metadata": {},
   "outputs": [
    {
     "name": "stdout",
     "output_type": "stream",
     "text": [
      "LogisticRegression(C=0.01, class_weight=None, dual=False, fit_intercept=True,\n",
      "          intercept_scaling=1, max_iter=100, multi_class='warn',\n",
      "          n_jobs=None, penalty='l2', random_state=None, solver='warn',\n",
      "          tol=0.0001, verbose=0, warm_start=False)\n",
      "\n",
      "ROC-AUC of Logistic regression model on cross-validation: 0.893411908727133\n",
      "ROC-AUC of Logistic regression model on holdout: 0.8269957657551841\n"
     ]
    },
    {
     "name": "stderr",
     "output_type": "stream",
     "text": [
      "C:\\Users\\Alex\\Anaconda2\\envs\\Py3\\lib\\site-packages\\sklearn\\linear_model\\logistic.py:432: FutureWarning: Default solver will be changed to 'lbfgs' in 0.22. Specify a solver to silence this warning.\n",
      "  FutureWarning)\n"
     ]
    }
   ],
   "source": [
    "model_tuning('Logistic regression', LogisticRegression(), param_logreg, \n",
    "             X_train_scaled_main, y_train, X_test_scaled_main, y_test)"
   ]
  },
  {
   "cell_type": "markdown",
   "metadata": {},
   "source": [
    "### Random forest"
   ]
  },
  {
   "cell_type": "code",
   "execution_count": 15,
   "metadata": {},
   "outputs": [],
   "source": [
    "param_rf = {\n",
    " 'max_depth': [25, 50, 100, None],\n",
    " 'min_samples_leaf': [1, 5],\n",
    " 'n_estimators': [200, 400, 600]}"
   ]
  },
  {
   "cell_type": "code",
   "execution_count": 16,
   "metadata": {},
   "outputs": [
    {
     "name": "stdout",
     "output_type": "stream",
     "text": [
      "RandomForestClassifier(bootstrap=True, class_weight=None, criterion='gini',\n",
      "            max_depth=50, max_features='auto', max_leaf_nodes=None,\n",
      "            min_impurity_decrease=0.0, min_impurity_split=None,\n",
      "            min_samples_leaf=1, min_samples_split=2,\n",
      "            min_weight_fraction_leaf=0.0, n_estimators=600, n_jobs=None,\n",
      "            oob_score=False, random_state=None, verbose=0,\n",
      "            warm_start=False)\n",
      "\n",
      "ROC-AUC of Random forest model on cross-validation: 0.947923147103832\n",
      "ROC-AUC of Random forest model on holdout: 0.9027208408669771\n"
     ]
    }
   ],
   "source": [
    "model_tuning('Random forest', RandomForestClassifier(), param_rf, \n",
    "             X_train_scaled_main, y_train, X_test_scaled_main, y_test)"
   ]
  },
  {
   "cell_type": "markdown",
   "metadata": {},
   "source": [
    "## 4. Results"
   ]
  },
  {
   "cell_type": "markdown",
   "metadata": {},
   "source": [
    " * The best results on holdout data showed KNN model on selected features with parameters n_neighbors = 9, p = 2 \n",
    " * Best ROC-AUC score is 0.93"
   ]
  },
  {
   "cell_type": "code",
   "execution_count": null,
   "metadata": {},
   "outputs": [],
   "source": []
  }
 ],
 "metadata": {
  "kernelspec": {
   "display_name": "Python 3",
   "language": "python",
   "name": "python3"
  },
  "language_info": {
   "codemirror_mode": {
    "name": "ipython",
    "version": 3
   },
   "file_extension": ".py",
   "mimetype": "text/x-python",
   "name": "python",
   "nbconvert_exporter": "python",
   "pygments_lexer": "ipython3",
   "version": "3.6.6"
  },
  "varInspector": {
   "cols": {
    "lenName": 16,
    "lenType": 16,
    "lenVar": 40
   },
   "kernels_config": {
    "python": {
     "delete_cmd_postfix": "",
     "delete_cmd_prefix": "del ",
     "library": "var_list.py",
     "varRefreshCmd": "print(var_dic_list())"
    },
    "r": {
     "delete_cmd_postfix": ") ",
     "delete_cmd_prefix": "rm(",
     "library": "var_list.r",
     "varRefreshCmd": "cat(var_dic_list()) "
    }
   },
   "types_to_exclude": [
    "module",
    "function",
    "builtin_function_or_method",
    "instance",
    "_Feature"
   ],
   "window_display": false
  }
 },
 "nbformat": 4,
 "nbformat_minor": 2
}

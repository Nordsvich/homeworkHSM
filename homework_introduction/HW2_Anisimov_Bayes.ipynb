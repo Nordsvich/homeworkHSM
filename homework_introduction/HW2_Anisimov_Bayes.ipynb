{
 "cells": [
  {
   "cell_type": "code",
   "execution_count": 1,
   "metadata": {},
   "outputs": [],
   "source": [
    "import numpy as np\n",
    "import pandas as pd\n",
    "from sklearn.feature_extraction.text import CountVectorizer\n",
    "from sklearn.model_selection import train_test_split\n",
    "from sklearn.metrics import classification_report\n",
    "from sklearn.metrics import f1_score"
   ]
  },
  {
   "cell_type": "markdown",
   "metadata": {},
   "source": [
    "## DATA PREPORATION"
   ]
  },
  {
   "cell_type": "code",
   "execution_count": 2,
   "metadata": {},
   "outputs": [],
   "source": [
    "data_raw=pd.read_csv('SMSSpamCollection.csv',header=-1, delimiter=\"\\t\", quoting=3,names=['labels','data'])"
   ]
  },
  {
   "cell_type": "code",
   "execution_count": 3,
   "metadata": {
    "scrolled": true
   },
   "outputs": [
    {
     "data": {
      "text/html": [
       "<div>\n",
       "<style scoped>\n",
       "    .dataframe tbody tr th:only-of-type {\n",
       "        vertical-align: middle;\n",
       "    }\n",
       "\n",
       "    .dataframe tbody tr th {\n",
       "        vertical-align: top;\n",
       "    }\n",
       "\n",
       "    .dataframe thead th {\n",
       "        text-align: right;\n",
       "    }\n",
       "</style>\n",
       "<table border=\"1\" class=\"dataframe\">\n",
       "  <thead>\n",
       "    <tr style=\"text-align: right;\">\n",
       "      <th></th>\n",
       "      <th>labels</th>\n",
       "      <th>data</th>\n",
       "    </tr>\n",
       "  </thead>\n",
       "  <tbody>\n",
       "    <tr>\n",
       "      <th>0</th>\n",
       "      <td>ham</td>\n",
       "      <td>Go until jurong point, crazy.. Available only ...</td>\n",
       "    </tr>\n",
       "    <tr>\n",
       "      <th>1</th>\n",
       "      <td>ham</td>\n",
       "      <td>Ok lar... Joking wif u oni...</td>\n",
       "    </tr>\n",
       "    <tr>\n",
       "      <th>2</th>\n",
       "      <td>spam</td>\n",
       "      <td>Free entry in 2 a wkly comp to win FA Cup fina...</td>\n",
       "    </tr>\n",
       "    <tr>\n",
       "      <th>3</th>\n",
       "      <td>ham</td>\n",
       "      <td>U dun say so early hor... U c already then say...</td>\n",
       "    </tr>\n",
       "    <tr>\n",
       "      <th>4</th>\n",
       "      <td>ham</td>\n",
       "      <td>Nah I don't think he goes to usf, he lives aro...</td>\n",
       "    </tr>\n",
       "  </tbody>\n",
       "</table>\n",
       "</div>"
      ],
      "text/plain": [
       "  labels                                               data\n",
       "0    ham  Go until jurong point, crazy.. Available only ...\n",
       "1    ham                      Ok lar... Joking wif u oni...\n",
       "2   spam  Free entry in 2 a wkly comp to win FA Cup fina...\n",
       "3    ham  U dun say so early hor... U c already then say...\n",
       "4    ham  Nah I don't think he goes to usf, he lives aro..."
      ]
     },
     "execution_count": 3,
     "metadata": {},
     "output_type": "execute_result"
    }
   ],
   "source": [
    "data_raw.head()"
   ]
  },
  {
   "cell_type": "code",
   "execution_count": 4,
   "metadata": {},
   "outputs": [],
   "source": [
    "# encode labels\n",
    "data_raw['labels'] = data_raw['labels'].map({'spam':1,'ham':0})"
   ]
  },
  {
   "cell_type": "code",
   "execution_count": 5,
   "metadata": {},
   "outputs": [],
   "source": [
    "#Transform text to vec\n",
    "vectorizer = CountVectorizer()\n",
    "X = vectorizer.fit_transform(data_raw.data)\n",
    "data=pd.DataFrame(data=X.toarray(),columns=vectorizer.get_feature_names())\n"
   ]
  },
  {
   "cell_type": "code",
   "execution_count": 6,
   "metadata": {},
   "outputs": [],
   "source": [
    "data['labels']=data_raw['labels']"
   ]
  },
  {
   "cell_type": "code",
   "execution_count": 7,
   "metadata": {},
   "outputs": [],
   "source": [
    "X_train, X_test = train_test_split(data, test_size=0.33, random_state=42)"
   ]
  },
  {
   "cell_type": "markdown",
   "metadata": {},
   "source": [
    "## CHECK SKYLEARN BAYES FIRST"
   ]
  },
  {
   "cell_type": "code",
   "execution_count": 10,
   "metadata": {},
   "outputs": [
    {
     "data": {
      "text/plain": [
       "MultinomialNB(alpha=1.0, class_prior=None, fit_prior=True)"
      ]
     },
     "execution_count": 10,
     "metadata": {},
     "output_type": "execute_result"
    }
   ],
   "source": [
    "from sklearn.naive_bayes import MultinomialNB\n",
    "naive_bayes = MultinomialNB()\n",
    "naive_bayes.fit(X_train.iloc[:,:-1], X_train.iloc[:,-1])"
   ]
  },
  {
   "cell_type": "code",
   "execution_count": 11,
   "metadata": {
    "scrolled": true
   },
   "outputs": [
    {
     "name": "stdout",
     "output_type": "stream",
     "text": [
      "             precision    recall  f1-score   support\n",
      "\n",
      "          0       0.99      0.99      0.99      1585\n",
      "          1       0.93      0.96      0.94       255\n",
      "\n",
      "avg / total       0.98      0.98      0.98      1840\n",
      "\n"
     ]
    }
   ],
   "source": [
    "y_true = X_test.iloc[:,-1].values\n",
    "y_pred = naive_bayes.predict_proba(X_test.iloc[:,:-1]).argmax(axis=1)\n",
    "print(classification_report(y_true, y_pred))"
   ]
  },
  {
   "cell_type": "code",
   "execution_count": 18,
   "metadata": {},
   "outputs": [
    {
     "data": {
      "text/plain": [
       "array([0.97860963, 0.99331551, 0.98525469, 0.98525469, 0.9919571 ])"
      ]
     },
     "execution_count": 18,
     "metadata": {},
     "output_type": "execute_result"
    }
   ],
   "source": [
    "from sklearn.model_selection import cross_val_score\n",
    "scores = cross_val_score(naive_bayes, X_train, X_train.iloc[:,-1], cv=5)\n",
    "scores"
   ]
  },
  {
   "cell_type": "markdown",
   "metadata": {},
   "source": [
    "## CREATE OWN BAYES"
   ]
  },
  {
   "cell_type": "code",
   "execution_count": 19,
   "metadata": {},
   "outputs": [],
   "source": [
    "class my_bayes_v1(object):\n",
    "    def __init__(self):\n",
    "        print ('NOTE:INPUT DATA HAS TO BE PANDAS DATA FRAME TYPE!!!')\n",
    "        print ('Labeled data has to be a last column and call: labels')\n",
    "        print ('Alpha=0.001')\n",
    "        self.P_w_class = 0\n",
    "        self.P_class = 0\n",
    "        self.alfa=0.001\n",
    "    def fit(self,X_train):\n",
    "        #split classes\n",
    "        Clas=[X_train[X_train['labels']==0].iloc[:,:-1],\n",
    "              X_train[X_train['labels']==1].iloc[:,:-1]]\n",
    "        X_train=X_train.iloc[:,:-1]\n",
    "        #P(clas)\n",
    "        P_class=[Clas[0].shape[0]/X_train.shape[0],\n",
    "                 Clas[1].shape[0]/X_train.shape[0]]\n",
    "        #P_w_class\n",
    "        P_w_class=[self.alfa+Clas[0].sum()/(self.alfa*X_train.sum().sum()+Clas[0].sum().sum()),\n",
    "                   self.alfa+Clas[1].sum()/(self.alfa*X_train.sum().sum()+Clas[1].sum().sum())]\n",
    "        self.P_w_class=P_w_class\n",
    "        self.P_class=P_class\n",
    "    def proba(self,X):\n",
    "        prob=[self.P_w_class[0][X>0].product()*self.P_class[0],\n",
    "              self.P_w_class[1][X>0].product()*self.P_class[1]]\n",
    "        #requlize prob\n",
    "        prob=[prob[0]/(prob[1]+prob[0]),prob[1]/(prob[1]+prob[0])]\n",
    "        return prob\n",
    "    def predict_proba(self,X):\n",
    "        n=[]\n",
    "        if np.array(X.shape).shape[0]==1:\n",
    "            X=pd.DataFrame(data=X.values.reshape(1,X.shape[0]),columns=X.index)\n",
    "        for i in range(0,X.shape[0]):\n",
    "            n.append(self.proba(X.iloc[i,:]))\n",
    "        return np.array(n)\n",
    "    def predict(self,X):\n",
    "        prob=self.predict_proba(X)\n",
    "        a=np.array([(prob[:,0]==prob.max(axis=1))+0,\n",
    "           (prob[:,1]==prob.max(axis=1))+0])\n",
    "        return a.T\n",
    "\n"
   ]
  },
  {
   "cell_type": "code",
   "execution_count": 29,
   "metadata": {},
   "outputs": [
    {
     "name": "stdout",
     "output_type": "stream",
     "text": [
      "NOTE:INPUT DATA HAS TO BE PANDAS DATA FRAME TYPE!!!\n",
      "Labeled data has to be a last column and call: labels\n",
      "Alpha=0.001\n"
     ]
    }
   ],
   "source": [
    "a=my_bayes_v1()"
   ]
  },
  {
   "cell_type": "code",
   "execution_count": 21,
   "metadata": {},
   "outputs": [],
   "source": [
    "a.alfa=0.00001"
   ]
  },
  {
   "cell_type": "code",
   "execution_count": 30,
   "metadata": {},
   "outputs": [],
   "source": [
    "a.fit(X_train)"
   ]
  },
  {
   "cell_type": "code",
   "execution_count": 31,
   "metadata": {
    "scrolled": true
   },
   "outputs": [
    {
     "name": "stdout",
     "output_type": "stream",
     "text": [
      "             precision    recall  f1-score   support\n",
      "\n",
      "          0       0.98      0.99      0.99      1585\n",
      "          1       0.97      0.90      0.93       255\n",
      "\n",
      "avg / total       0.98      0.98      0.98      1840\n",
      "\n"
     ]
    }
   ],
   "source": [
    "y_true = X_test.iloc[:,-1].values\n",
    "y_pred = a.predict(X_test.iloc[:,:-1]).argmax(axis=1)\n",
    "print(classification_report(y_true, y_pred))"
   ]
  },
  {
   "cell_type": "markdown",
   "metadata": {},
   "source": [
    "## Custom cross_valid"
   ]
  },
  {
   "cell_type": "code",
   "execution_count": 81,
   "metadata": {},
   "outputs": [],
   "source": [
    "def cross_valid(model,fold,X_train):\n",
    "    last=int(X_train.shape[0]/fold)\n",
    "    res=[]\n",
    "    for i in range(0,5):\n",
    "        mask=np.zeros(X_train.shape[0], dtype=bool)\n",
    "        mask[i*last:i*last+last]=True\n",
    "        X_temp_tr=X_train.iloc[mask,:]\n",
    "        X_temp_test=X_train.iloc[np.invert(mask),:]\n",
    "        model.fit(X_temp_tr)\n",
    "        y_true = X_temp_test.iloc[:,-1].values\n",
    "        y_pred = model.predict(X_temp_test.iloc[:,:-1]).argmax(axis=1)\n",
    "        res.append(f1_score(y_true, y_pred, average='micro'))\n",
    "    return np.array(res)\n",
    "            "
   ]
  },
  {
   "cell_type": "code",
   "execution_count": 82,
   "metadata": {},
   "outputs": [
    {
     "name": "stdout",
     "output_type": "stream",
     "text": [
      "[0.97757697 0.97757697 0.97690763 0.97891566 0.98393574]\n",
      "mean_f1: 0.9789825970548861\n"
     ]
    }
   ],
   "source": [
    "res=cross_valid(a,5,X_train)\n",
    "print (res)\n",
    "print ('mean_f1:',res.mean())"
   ]
  },
  {
   "cell_type": "markdown",
   "metadata": {},
   "source": [
    "## Best F1 score ~98, custom bayes resuls are near to skylearn bayes results "
   ]
  }
 ],
 "metadata": {
  "kernelspec": {
   "display_name": "Python 3",
   "language": "python",
   "name": "python3"
  },
  "language_info": {
   "codemirror_mode": {
    "name": "ipython",
    "version": 3
   },
   "file_extension": ".py",
   "mimetype": "text/x-python",
   "name": "python",
   "nbconvert_exporter": "python",
   "pygments_lexer": "ipython3",
   "version": "3.6.5"
  },
  "varInspector": {
   "cols": {
    "lenName": 16,
    "lenType": 16,
    "lenVar": 40
   },
   "kernels_config": {
    "python": {
     "delete_cmd_postfix": "",
     "delete_cmd_prefix": "del ",
     "library": "var_list.py",
     "varRefreshCmd": "print(var_dic_list())"
    },
    "r": {
     "delete_cmd_postfix": ") ",
     "delete_cmd_prefix": "rm(",
     "library": "var_list.r",
     "varRefreshCmd": "cat(var_dic_list()) "
    }
   },
   "types_to_exclude": [
    "module",
    "function",
    "builtin_function_or_method",
    "instance",
    "_Feature"
   ],
   "window_display": false
  }
 },
 "nbformat": 4,
 "nbformat_minor": 2
}

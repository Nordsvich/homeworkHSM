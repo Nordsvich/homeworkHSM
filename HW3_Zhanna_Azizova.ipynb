{
 "cells": [
  {
   "cell_type": "markdown",
   "metadata": {},
   "source": [
    "# NLIP. Home assignment 3.                                  Zhanna Azizova"
   ]
  },
  {
   "cell_type": "markdown",
   "metadata": {},
   "source": [
    "**The task**\n",
    "- Classify news to one of 5 categories based on text\n",
    "\n",
    "1. Choose and argue your measure of a test's accuracy.\n",
    "2. Build data processing and classification pipeline\n",
    "3. Tune  your model;"
   ]
  },
  {
   "cell_type": "code",
   "execution_count": 18,
   "metadata": {
    "scrolled": true
   },
   "outputs": [],
   "source": [
    "# load libraries\n",
    "\n",
    "%matplotlib inline\n",
    "import matplotlib.pyplot as plt\n",
    "\n",
    "import numpy as np\n",
    "import pandas as pd\n",
    "import scipy\n",
    "import nltk\n",
    "import os\n",
    "import re\n",
    "import glob\n",
    "import multiprocessing\n",
    "import time\n",
    "import keras\n",
    "import itertools\n",
    "\n",
    "import sklearn.metrics as metrics\n",
    "\n",
    "from keras.backend import floatx\n",
    "from keras.models import Sequential, Model\n",
    "from keras.layers import Dense, Dropout, Activation, Input\n",
    "from keras.wrappers.scikit_learn import KerasClassifier\n",
    "from keras.preprocessing.text import Tokenizer\n",
    "\n",
    "from sklearn.feature_extraction.text import CountVectorizer\n",
    "from sklearn.model_selection import cross_validate, train_test_split\n",
    "from sklearn.naive_bayes import MultinomialNB\n",
    "from sklearn.metrics import classification_report,confusion_matrix, precision_score, recall_score, f1_score\n",
    "from sklearn.feature_extraction.text import CountVectorizer, TfidfVectorizer\n",
    "from sklearn.model_selection import GridSearchCV, train_test_split\n",
    "from sklearn.pipeline import Pipeline\n",
    "from sklearn.preprocessing import StandardScaler\n",
    "from sklearn.svm import SVC\n",
    "\n",
    "from nltk.corpus import stopwords\n",
    "from nltk.tokenize import RegexpTokenizer, sent_tokenize\n",
    "from nltk.stem import WordNetLemmatizer\n",
    "\n",
    "from gensim.models.doc2vec import Doc2Vec, TaggedDocument\n",
    "\n",
    "from collections import Counter\n",
    "\n",
    "import warnings\n",
    "warnings.filterwarnings(\"ignore\")"
   ]
  },
  {
   "cell_type": "code",
   "execution_count": 3,
   "metadata": {
    "collapsed": true
   },
   "outputs": [],
   "source": [
    "data_folder = \"/Users/zhannaazizova/Desktop/bbc\"\n",
    "folders = [\"business\",\"entertainment\",\"politics\",\"sport\",\"tech\"]\n",
    "\n",
    "os.chdir(data_folder)\n",
    "\n",
    "x = []\n",
    "y = []\n",
    "\n",
    "for i in folders:\n",
    "    files = os.listdir(i)\n",
    "    for text_file in files:\n",
    "        file_path = i + \"/\" +text_file\n",
    "        with open(file_path,encoding='utf-8', errors='ignore') as f:\n",
    "            data = f.readlines()\n",
    "        data = ' '.join(data)\n",
    "        x.append(data)\n",
    "        y.append(i)\n",
    " \n",
    "df = {'text': x, 'category': y}       \n",
    "data = pd.DataFrame(df)\n",
    "#print ('writing csv flie ...')\n",
    "data.to_csv('../dataset.csv', index=False)"
   ]
  },
  {
   "cell_type": "code",
   "execution_count": 4,
   "metadata": {
    "collapsed": true
   },
   "outputs": [],
   "source": [
    "def plot_confusion_matrix(Y_test, y_pred, classes, title):\n",
    "    cm = confusion_matrix(y_test,y_pred)\n",
    "    np.set_printoptions(precision=2)\n",
    "    plt.imshow(cm, interpolation='nearest', cmap=plt.cm.Blues)\n",
    "    plt.title(title)\n",
    "    tick_marks = np.arange(len(classes))\n",
    "    plt.xticks(tick_marks, classes, rotation=45)\n",
    "    plt.yticks(tick_marks, classes)\n",
    "\n",
    "    thresh = cm.max() / 2.\n",
    "    for i, j in itertools.product(range(cm.shape[0]), range(cm.shape[1])):\n",
    "        plt.text(j, i, cm[i, j], horizontalalignment=\"center\",\n",
    "                     color=\"white\" if cm[i, j] > thresh else \"black\")\n",
    "    plt.tight_layout()\n",
    "    plt.ylabel('True label')\n",
    "    plt.xlabel('Predicted label')"
   ]
  },
  {
   "cell_type": "code",
   "execution_count": 5,
   "metadata": {},
   "outputs": [
    {
     "data": {
      "text/html": [
       "<div>\n",
       "<style>\n",
       "    .dataframe thead tr:only-child th {\n",
       "        text-align: right;\n",
       "    }\n",
       "\n",
       "    .dataframe thead th {\n",
       "        text-align: left;\n",
       "    }\n",
       "\n",
       "    .dataframe tbody tr th {\n",
       "        vertical-align: top;\n",
       "    }\n",
       "</style>\n",
       "<table border=\"1\" class=\"dataframe\">\n",
       "  <thead>\n",
       "    <tr style=\"text-align: right;\">\n",
       "      <th></th>\n",
       "      <th>category</th>\n",
       "      <th>text</th>\n",
       "    </tr>\n",
       "  </thead>\n",
       "  <tbody>\n",
       "    <tr>\n",
       "      <th>0</th>\n",
       "      <td>business</td>\n",
       "      <td>UK economy facing 'major risks'\\n \\n The UK ma...</td>\n",
       "    </tr>\n",
       "    <tr>\n",
       "      <th>1</th>\n",
       "      <td>business</td>\n",
       "      <td>Aids and climate top Davos agenda\\n \\n Climate...</td>\n",
       "    </tr>\n",
       "    <tr>\n",
       "      <th>2</th>\n",
       "      <td>business</td>\n",
       "      <td>Asian quake hits European shares\\n \\n Shares i...</td>\n",
       "    </tr>\n",
       "    <tr>\n",
       "      <th>3</th>\n",
       "      <td>business</td>\n",
       "      <td>India power shares jump on debut\\n \\n Shares i...</td>\n",
       "    </tr>\n",
       "    <tr>\n",
       "      <th>4</th>\n",
       "      <td>business</td>\n",
       "      <td>Lacroix label bought by US firm\\n \\n Luxury go...</td>\n",
       "    </tr>\n",
       "  </tbody>\n",
       "</table>\n",
       "</div>"
      ],
      "text/plain": [
       "   category                                               text\n",
       "0  business  UK economy facing 'major risks'\\n \\n The UK ma...\n",
       "1  business  Aids and climate top Davos agenda\\n \\n Climate...\n",
       "2  business  Asian quake hits European shares\\n \\n Shares i...\n",
       "3  business  India power shares jump on debut\\n \\n Shares i...\n",
       "4  business  Lacroix label bought by US firm\\n \\n Luxury go..."
      ]
     },
     "execution_count": 5,
     "metadata": {},
     "output_type": "execute_result"
    }
   ],
   "source": [
    "data.head()"
   ]
  },
  {
   "cell_type": "code",
   "execution_count": 6,
   "metadata": {
    "scrolled": true
   },
   "outputs": [
    {
     "data": {
      "text/plain": [
       "sport            511\n",
       "business         510\n",
       "politics         417\n",
       "tech             401\n",
       "entertainment    386\n",
       "Name: category, dtype: int64"
      ]
     },
     "execution_count": 6,
     "metadata": {},
     "output_type": "execute_result"
    }
   ],
   "source": [
    "data['category'].value_counts() #classes are not perfectly equal but disproportionality is not as huge "
   ]
  },
  {
   "cell_type": "code",
   "execution_count": 7,
   "metadata": {
    "collapsed": true
   },
   "outputs": [],
   "source": [
    "data['target'] = pd.Categorical(data['category']).codes"
   ]
  },
  {
   "cell_type": "code",
   "execution_count": 8,
   "metadata": {},
   "outputs": [
    {
     "data": {
      "text/html": [
       "<div>\n",
       "<style>\n",
       "    .dataframe thead tr:only-child th {\n",
       "        text-align: right;\n",
       "    }\n",
       "\n",
       "    .dataframe thead th {\n",
       "        text-align: left;\n",
       "    }\n",
       "\n",
       "    .dataframe tbody tr th {\n",
       "        vertical-align: top;\n",
       "    }\n",
       "</style>\n",
       "<table border=\"1\" class=\"dataframe\">\n",
       "  <thead>\n",
       "    <tr style=\"text-align: right;\">\n",
       "      <th></th>\n",
       "      <th></th>\n",
       "    </tr>\n",
       "    <tr>\n",
       "      <th>target</th>\n",
       "      <th>category</th>\n",
       "    </tr>\n",
       "  </thead>\n",
       "  <tbody>\n",
       "    <tr>\n",
       "      <th>0</th>\n",
       "      <th>business</th>\n",
       "    </tr>\n",
       "    <tr>\n",
       "      <th>1</th>\n",
       "      <th>entertainment</th>\n",
       "    </tr>\n",
       "    <tr>\n",
       "      <th>2</th>\n",
       "      <th>politics</th>\n",
       "    </tr>\n",
       "    <tr>\n",
       "      <th>3</th>\n",
       "      <th>sport</th>\n",
       "    </tr>\n",
       "    <tr>\n",
       "      <th>4</th>\n",
       "      <th>tech</th>\n",
       "    </tr>\n",
       "  </tbody>\n",
       "</table>\n",
       "</div>"
      ],
      "text/plain": [
       "Empty DataFrame\n",
       "Columns: []\n",
       "Index: [(0, business), (1, entertainment), (2, politics), (3, sport), (4, tech)]"
      ]
     },
     "execution_count": 8,
     "metadata": {},
     "output_type": "execute_result"
    }
   ],
   "source": [
    "data[['target','category']].groupby(['target','category']).count()"
   ]
  },
  {
   "cell_type": "markdown",
   "metadata": {},
   "source": [
    "## Metric for quality\n"
   ]
  },
  {
   "cell_type": "markdown",
   "metadata": {},
   "source": [
    "If choosing the only one, the best choices as metrics for quality evaluation for multiclass classification models is: ** f1 score**. F1-score takes into account both recall and precsision that means that it evaluates how well model distinguishes between all classes.\n",
    "\n",
    "F1 Score: It is a harmonic mean of precision and recall given by- \n",
    "F1 = 2*Precision*Recall/(Precision + Recall).\n",
    "\n",
    "Since classes are more or less balanced we can choose macro average f1-score."
   ]
  },
  {
   "cell_type": "markdown",
   "metadata": {},
   "source": [
    "## Data processing and feature extraction "
   ]
  },
  {
   "cell_type": "code",
   "execution_count": 9,
   "metadata": {
    "collapsed": true
   },
   "outputs": [],
   "source": [
    "stop_words = set(stopwords.words('english'))\n",
    "regexp_tokenizer = RegexpTokenizer('[\\'a-zA-Z]+')\n",
    "wordnet_lemmatizer = WordNetLemmatizer()\n",
    "\n",
    "def tokenize(document, rebuild_document=True):\n",
    "    words = []\n",
    "\n",
    "    for sentence in sent_tokenize(document):\n",
    "        tokens = [wordnet_lemmatizer.lemmatize(t.lower().strip(\"'\")) \n",
    "                  for t in regexp_tokenizer.tokenize(sentence) if t.lower() not in stop_words]\n",
    "        words += tokens\n",
    "\n",
    "    if rebuild_document:\n",
    "        return ' '.join(words).strip()\n",
    "    else:\n",
    "        return words"
   ]
  },
  {
   "cell_type": "code",
   "execution_count": 27,
   "metadata": {
    "collapsed": true
   },
   "outputs": [],
   "source": [
    "data['toc_text'] = data['text'].apply(tokenize)"
   ]
  },
  {
   "cell_type": "code",
   "execution_count": 11,
   "metadata": {},
   "outputs": [
    {
     "data": {
      "text/html": [
       "<div>\n",
       "<style>\n",
       "    .dataframe thead tr:only-child th {\n",
       "        text-align: right;\n",
       "    }\n",
       "\n",
       "    .dataframe thead th {\n",
       "        text-align: left;\n",
       "    }\n",
       "\n",
       "    .dataframe tbody tr th {\n",
       "        vertical-align: top;\n",
       "    }\n",
       "</style>\n",
       "<table border=\"1\" class=\"dataframe\">\n",
       "  <thead>\n",
       "    <tr style=\"text-align: right;\">\n",
       "      <th></th>\n",
       "      <th>category</th>\n",
       "      <th>text</th>\n",
       "      <th>target</th>\n",
       "      <th>toc_text</th>\n",
       "    </tr>\n",
       "  </thead>\n",
       "  <tbody>\n",
       "    <tr>\n",
       "      <th>0</th>\n",
       "      <td>business</td>\n",
       "      <td>UK economy facing 'major risks'\\n \\n The UK ma...</td>\n",
       "      <td>0</td>\n",
       "      <td>uk economy facing major risk uk manufacturing ...</td>\n",
       "    </tr>\n",
       "    <tr>\n",
       "      <th>1</th>\n",
       "      <td>business</td>\n",
       "      <td>Aids and climate top Davos agenda\\n \\n Climate...</td>\n",
       "      <td>0</td>\n",
       "      <td>aid climate top davos agenda climate change fi...</td>\n",
       "    </tr>\n",
       "    <tr>\n",
       "      <th>2</th>\n",
       "      <td>business</td>\n",
       "      <td>Asian quake hits European shares\\n \\n Shares i...</td>\n",
       "      <td>0</td>\n",
       "      <td>asian quake hit european share share europe's ...</td>\n",
       "    </tr>\n",
       "    <tr>\n",
       "      <th>3</th>\n",
       "      <td>business</td>\n",
       "      <td>India power shares jump on debut\\n \\n Shares i...</td>\n",
       "      <td>0</td>\n",
       "      <td>india power share jump debut share india's lar...</td>\n",
       "    </tr>\n",
       "    <tr>\n",
       "      <th>4</th>\n",
       "      <td>business</td>\n",
       "      <td>Lacroix label bought by US firm\\n \\n Luxury go...</td>\n",
       "      <td>0</td>\n",
       "      <td>lacroix label bought u firm luxury good group ...</td>\n",
       "    </tr>\n",
       "  </tbody>\n",
       "</table>\n",
       "</div>"
      ],
      "text/plain": [
       "   category                                               text  target  \\\n",
       "0  business  UK economy facing 'major risks'\\n \\n The UK ma...       0   \n",
       "1  business  Aids and climate top Davos agenda\\n \\n Climate...       0   \n",
       "2  business  Asian quake hits European shares\\n \\n Shares i...       0   \n",
       "3  business  India power shares jump on debut\\n \\n Shares i...       0   \n",
       "4  business  Lacroix label bought by US firm\\n \\n Luxury go...       0   \n",
       "\n",
       "                                            toc_text  \n",
       "0  uk economy facing major risk uk manufacturing ...  \n",
       "1  aid climate top davos agenda climate change fi...  \n",
       "2  asian quake hit european share share europe's ...  \n",
       "3  india power share jump debut share india's lar...  \n",
       "4  lacroix label bought u firm luxury good group ...  "
      ]
     },
     "execution_count": 11,
     "metadata": {},
     "output_type": "execute_result"
    }
   ],
   "source": [
    "data.head()"
   ]
  },
  {
   "cell_type": "code",
   "execution_count": 17,
   "metadata": {
    "collapsed": true
   },
   "outputs": [],
   "source": [
    "X_train, X_test, y_train, y_test = train_test_split(data['toc_text'], data['target'], random_state=42)"
   ]
  },
  {
   "cell_type": "code",
   "execution_count": 18,
   "metadata": {
    "collapsed": true
   },
   "outputs": [],
   "source": [
    "max_words = 1000\n",
    "batch_size = 32\n",
    "epochs = 5"
   ]
  },
  {
   "cell_type": "code",
   "execution_count": 19,
   "metadata": {
    "collapsed": true
   },
   "outputs": [],
   "source": [
    "tokenizer = Tokenizer(num_words=max_words)\n",
    "tokenizer.fit_on_texts(X_train)"
   ]
  },
  {
   "cell_type": "code",
   "execution_count": 20,
   "metadata": {},
   "outputs": [
    {
     "name": "stdout",
     "output_type": "stream",
     "text": [
      "x_train shape: (1668, 1000)\n",
      "x_test shape: (557, 1000)\n"
     ]
    }
   ],
   "source": [
    "x_train_bin = tokenizer.texts_to_matrix(X_train, mode='binary')\n",
    "x_test_bin = tokenizer.texts_to_matrix(X_test, mode='binary')\n",
    "print('x_train shape:', x_train_bin.shape)\n",
    "print('x_test shape:', x_test_bin.shape)"
   ]
  },
  {
   "cell_type": "code",
   "execution_count": 21,
   "metadata": {},
   "outputs": [
    {
     "name": "stdout",
     "output_type": "stream",
     "text": [
      "y_train shape: (1668, 5)\n",
      "y_test shape: (557, 5)\n"
     ]
    }
   ],
   "source": [
    "# Convert class vector to binary class matrix for use with categorical_crossentropy\n",
    "num_classes = 5\n",
    "\n",
    "y_train_bin = keras.utils.to_categorical(y_train, num_classes)\n",
    "y_test_bin = keras.utils.to_categorical(y_test, num_classes)\n",
    "print('y_train shape:', y_train_bin.shape)\n",
    "print('y_test shape:', y_test_bin.shape)"
   ]
  },
  {
   "cell_type": "markdown",
   "metadata": {},
   "source": [
    "# Pipeline building, modeling, model evaluation and tuning"
   ]
  },
  {
   "cell_type": "markdown",
   "metadata": {},
   "source": [
    "## Keras ANN"
   ]
  },
  {
   "cell_type": "code",
   "execution_count": 22,
   "metadata": {
    "collapsed": true
   },
   "outputs": [],
   "source": [
    "# Building Keras model \n",
    "model = Sequential([\n",
    "          Dense(512, input_shape=(max_words,)),\n",
    "          Activation('relu'),\n",
    "          Dropout(0.5),\n",
    "          Dense(num_classes),\n",
    "          Activation('softmax')])"
   ]
  },
  {
   "cell_type": "code",
   "execution_count": 23,
   "metadata": {
    "collapsed": true
   },
   "outputs": [],
   "source": [
    "model.compile(loss='categorical_crossentropy',\n",
    "              optimizer='adam',\n",
    "              metrics=['accuracy'])"
   ]
  },
  {
   "cell_type": "code",
   "execution_count": 24,
   "metadata": {},
   "outputs": [
    {
     "name": "stdout",
     "output_type": "stream",
     "text": [
      "Train on 1501 samples, validate on 167 samples\n",
      "Epoch 1/5\n",
      "1501/1501 [==============================] - 3s 2ms/step - loss: 0.6245 - acc: 0.8208 - val_loss: 0.1341 - val_acc: 0.9760\n",
      "Epoch 2/5\n",
      "1501/1501 [==============================] - 1s 475us/step - loss: 0.0894 - acc: 0.9847 - val_loss: 0.0869 - val_acc: 0.9760\n",
      "Epoch 3/5\n",
      "1501/1501 [==============================] - 1s 499us/step - loss: 0.0371 - acc: 0.9960 - val_loss: 0.0669 - val_acc: 0.9940\n",
      "Epoch 4/5\n",
      "1501/1501 [==============================] - 1s 477us/step - loss: 0.0198 - acc: 0.9993 - val_loss: 0.0583 - val_acc: 0.9820\n",
      "Epoch 5/5\n",
      "1501/1501 [==============================] - 1s 484us/step - loss: 0.0127 - acc: 0.9993 - val_loss: 0.0591 - val_acc: 0.9820\n"
     ]
    }
   ],
   "source": [
    "history = model.fit(x_train_bin, y_train_bin,\n",
    "                    batch_size=batch_size,\n",
    "                    epochs=epochs,\n",
    "                    verbose=1,\n",
    "                    validation_split=0.1)"
   ]
  },
  {
   "cell_type": "code",
   "execution_count": 25,
   "metadata": {},
   "outputs": [
    {
     "name": "stdout",
     "output_type": "stream",
     "text": [
      "557/557 [==============================] - 0s 114us/step\n",
      "\n",
      "\n",
      "Test score: 0.11869349936608566\n",
      "Test accuracy: 0.9587073609687695\n"
     ]
    }
   ],
   "source": [
    "score = model.evaluate(x_test_bin, y_test_bin,\n",
    "                       batch_size=batch_size, verbose=1)\n",
    "print('\\n')\n",
    "print('Test score:', score[0])\n",
    "print('Test accuracy:', score[1])"
   ]
  },
  {
   "cell_type": "code",
   "execution_count": 26,
   "metadata": {},
   "outputs": [
    {
     "name": "stdout",
     "output_type": "stream",
     "text": [
      "557/557 [==============================] - 0s 261us/step\n"
     ]
    }
   ],
   "source": [
    "y_pred = model.predict_classes(tokenizer.texts_to_matrix(X_test, mode='binary'), batch_size=batch_size, verbose=1)"
   ]
  },
  {
   "cell_type": "code",
   "execution_count": 27,
   "metadata": {},
   "outputs": [
    {
     "name": "stdout",
     "output_type": "stream",
     "text": [
      "               precision    recall  f1-score   support\n",
      "\n",
      "     business       0.97      0.94      0.96       142\n",
      "entertainment       0.97      0.95      0.96        94\n",
      "     politics       0.87      0.98      0.92        95\n",
      "        sport       0.98      0.99      0.99       122\n",
      "         tech       1.00      0.93      0.97       104\n",
      "\n",
      "    micro avg       0.96      0.96      0.96       557\n",
      "    macro avg       0.96      0.96      0.96       557\n",
      " weighted avg       0.96      0.96      0.96       557\n",
      "\n"
     ]
    }
   ],
   "source": [
    "labels = ['business','entertainment','politics','sport','tech']\n",
    "print(classification_report(y_test, y_pred, target_names = labels))"
   ]
  },
  {
   "cell_type": "markdown",
   "metadata": {},
   "source": [
    "## Naive Bayes approach"
   ]
  },
  {
   "cell_type": "markdown",
   "metadata": {},
   "source": [
    "### Multinomial with Count Vectorizer"
   ]
  },
  {
   "cell_type": "code",
   "execution_count": 28,
   "metadata": {
    "collapsed": true
   },
   "outputs": [],
   "source": [
    "count_vectorizer = CountVectorizer()\n",
    "multinomialNB = MultinomialNB()\n",
    "\n",
    "# Define pipeline\n",
    "mn_cv_nb_pipeline = Pipeline([('vectorizer', count_vectorizer),\n",
    "                             ('multinomial_nb', multinomialNB)])\n",
    "\n",
    "# Grid search parameters\n",
    "mn_cv_nb_param_grid = [\n",
    "    {   'vectorizer__min_df': [ 1, 2, 3],\n",
    "        'vectorizer__ngram_range': [ (1, 1), (1, 2), (1, 3) ],\n",
    "        'multinomial_nb__alpha': [ 0.0, 0.25, 0.5]}]"
   ]
  },
  {
   "cell_type": "code",
   "execution_count": 29,
   "metadata": {},
   "outputs": [
    {
     "name": "stdout",
     "output_type": "stream",
     "text": [
      "Best model: {'multinomial_nb__alpha': 0.25, 'vectorizer__min_df': 2, 'vectorizer__ngram_range': (1, 3)}\n",
      "Best f1 score: 0.979299\n",
      "Best test f1 score: 0.978456\n"
     ]
    }
   ],
   "source": [
    "# Perform grid search\n",
    "mn_cv_nb_gs = GridSearchCV(estimator=mn_cv_nb_pipeline, param_grid=mn_cv_nb_param_grid, \n",
    "                           scoring='f1_macro', cv=3, n_jobs=multiprocessing.cpu_count())\n",
    "mn_cv_nb_gs.fit(X_train, y_train)\n",
    "\n",
    "# Create an instance of the best estimator\n",
    "mn_cv_nb_best = mn_cv_nb_gs.best_estimator_\n",
    "mn_cv_nb_best.fit(X_train, y_train)\n",
    "\n",
    "print('Best model: %s' % str(mn_cv_nb_gs.best_params_))\n",
    "print('Best f1 score: %f' % mn_cv_nb_gs.best_score_)\n",
    "print('Best test f1 score: %f' % mn_cv_nb_best.score(X_test, y_test))"
   ]
  },
  {
   "cell_type": "code",
   "execution_count": 30,
   "metadata": {},
   "outputs": [
    {
     "name": "stdout",
     "output_type": "stream",
     "text": [
      "               precision    recall  f1-score   support\n",
      "\n",
      "     business       0.99      0.96      0.98       142\n",
      "entertainment       0.98      0.97      0.97        94\n",
      "     politics       0.93      0.99      0.96        95\n",
      "        sport       1.00      1.00      1.00       122\n",
      "         tech       0.99      0.97      0.98       104\n",
      "\n",
      "    micro avg       0.98      0.98      0.98       557\n",
      "    macro avg       0.98      0.98      0.98       557\n",
      " weighted avg       0.98      0.98      0.98       557\n",
      "\n"
     ]
    }
   ],
   "source": [
    "mn_cv_nb_Y_pred = mn_cv_nb_best.predict(X_test)\n",
    "print(classification_report(y_test, mn_cv_nb_Y_pred, target_names = labels))"
   ]
  },
  {
   "cell_type": "markdown",
   "metadata": {},
   "source": [
    "### Multinomial with Tf-Idf Vectorizer"
   ]
  },
  {
   "cell_type": "code",
   "execution_count": 38,
   "metadata": {},
   "outputs": [
    {
     "data": {
      "text/plain": [
       "GridSearchCV(cv=3, error_score='raise-deprecating',\n",
       "       estimator=Pipeline(memory=None,\n",
       "     steps=[('vectorizer', TfidfVectorizer(analyzer='word', binary=False, decode_error='strict',\n",
       "        dtype=<class 'numpy.float64'>, encoding='utf-8', input='content',\n",
       "        lowercase=True, max_df=1.0, max_features=None, min_df=1,\n",
       "        ngram_range=(1, 1), norm='l2', preprocessor=None, smooth_idf=...  vocabulary=None)), ('multinomial_nb', MultinomialNB(alpha=1.0, class_prior=None, fit_prior=True))]),\n",
       "       fit_params=None, iid='warn', n_jobs=4,\n",
       "       param_grid=[{'vectorizer__min_df': [1, 2, 3], 'vectorizer__ngram_range': [(1, 1), (1, 2), (1, 3)], 'vectorizer__norm': [None, 'l1', 'l2'], 'multinomial_nb__alpha': [0.25, 0.5]}],\n",
       "       pre_dispatch='2*n_jobs', refit=True, return_train_score='warn',\n",
       "       scoring='f1_macro', verbose=0)"
      ]
     },
     "execution_count": 38,
     "metadata": {},
     "output_type": "execute_result"
    }
   ],
   "source": [
    "tfidf_vectorizer = TfidfVectorizer()\n",
    "multinomialNB = MultinomialNB()\n",
    "\n",
    "# Define pipeline\n",
    "mn_tfidfv_nb_pipeline = Pipeline([('vectorizer', tfidf_vectorizer),\n",
    "                             ('multinomial_nb', multinomialNB)])\n",
    "\n",
    "# Grid search parameters\n",
    "mn_tfidfv_nb_param_grid = [\n",
    "    {   'vectorizer__min_df': [ 1, 2, 3],\n",
    "        'vectorizer__ngram_range': [ (1, 1), (1, 2), (1, 3)],\n",
    "        'vectorizer__norm': [ None, 'l1', 'l2' ],\n",
    "        'multinomial_nb__alpha': [0.25, 0.5]}]\n",
    "\n",
    "# Perform grid search\n",
    "mn_tfidfv_nb_gs = GridSearchCV(estimator=mn_tfidfv_nb_pipeline, param_grid=mn_tfidfv_nb_param_grid, \n",
    "                           scoring='f1_macro', cv=3, n_jobs=multiprocessing.cpu_count())\n",
    "mn_tfidfv_nb_gs.fit(X_train, y_train)"
   ]
  },
  {
   "cell_type": "code",
   "execution_count": 39,
   "metadata": {},
   "outputs": [
    {
     "name": "stdout",
     "output_type": "stream",
     "text": [
      "Best model: {'multinomial_nb__alpha': 0.25, 'vectorizer__min_df': 2, 'vectorizer__ngram_range': (1, 2), 'vectorizer__norm': None}\n",
      "Best f1 score: 0.977870\n",
      "Best test f1 score: 0.982047\n"
     ]
    }
   ],
   "source": [
    "# Create an instance of the best estimator\n",
    "mn_tfidfv_nb_best = mn_tfidfv_nb_gs.best_estimator_\n",
    "mn_tfidfv_nb_best.fit(X_train, y_train)\n",
    "\n",
    "print('Best model: %s' % str(mn_tfidfv_nb_gs.best_params_))\n",
    "print('Best f1 score: %f' % mn_tfidfv_nb_gs.best_score_)\n",
    "print('Best test f1 score: %f' % mn_tfidfv_nb_best.score(X_test, y_test))"
   ]
  },
  {
   "cell_type": "code",
   "execution_count": 64,
   "metadata": {},
   "outputs": [
    {
     "name": "stdout",
     "output_type": "stream",
     "text": [
      "               precision    recall  f1-score   support\n",
      "\n",
      "     business       0.99      0.96      0.98       142\n",
      "entertainment       0.99      0.98      0.98        94\n",
      "     politics       0.94      1.00      0.97        95\n",
      "        sport       1.00      1.00      1.00       122\n",
      "         tech       0.98      0.97      0.98       104\n",
      "\n",
      "    micro avg       0.98      0.98      0.98       557\n",
      "    macro avg       0.98      0.98      0.98       557\n",
      " weighted avg       0.98      0.98      0.98       557\n",
      "\n"
     ]
    }
   ],
   "source": [
    "mn_tfidfv_nb_gs.fit(X_train, y_train)\n",
    "mn_tfidfv_nb_pred = mn_tfidfv_nb_gs.predict(X_test)\n",
    "print(classification_report(y_test, mn_tfidfv_nb_pred, target_names = labels))"
   ]
  },
  {
   "cell_type": "markdown",
   "metadata": {},
   "source": [
    "## Doc2Vec (Gensim-based) approach\n"
   ]
  },
  {
   "cell_type": "code",
   "execution_count": 33,
   "metadata": {},
   "outputs": [],
   "source": [
    "# Create tagged documents\n",
    "bbc_news_tagged_documents = []\n",
    "bbc_news_X = data['toc_text']\n",
    "bbc_news_Y = data['target']\n",
    "\n",
    "for i, document in enumerate(bbc_news_X):\n",
    "    bbc_news_tagged_documents.append(TaggedDocument(document.split(' '), [i]))\n",
    "    "
   ]
  },
  {
   "cell_type": "code",
   "execution_count": 36,
   "metadata": {
    "collapsed": true
   },
   "outputs": [],
   "source": [
    "# Train Doc2Vec\n",
    "doc2vec_vector_size = 50\n",
    "doc2vec_model = Doc2Vec(documents=bbc_news_tagged_documents, size=doc2vec_vector_size, window=3, \n",
    "                        min_count=2, iter=30, workers=multiprocessing.cpu_count())\n",
    "doc2vec_model.init_sims(replace=False)\n",
    "\n",
    "# Vectorize documents and split the whole corpus in train and test sets\n",
    "bbc_news_vectors = []\n",
    "\n",
    "for document in bbc_news_X:\n",
    "    bbc_news_vectors.append(doc2vec_model.infer_vector(document.split(' ')))"
   ]
  },
  {
   "cell_type": "code",
   "execution_count": 42,
   "metadata": {
    "collapsed": true
   },
   "outputs": [],
   "source": [
    "d2v_X_train, d2v_X_test, d2v_Y_train, d2v_Y_test = train_test_split(bbc_news_vectors, bbc_news_Y, test_size=0.3)"
   ]
  },
  {
   "cell_type": "markdown",
   "metadata": {},
   "source": [
    "## Support Vector Machines (Linear and Kernel-based)\n"
   ]
  },
  {
   "cell_type": "code",
   "execution_count": 39,
   "metadata": {},
   "outputs": [
    {
     "data": {
      "text/plain": [
       "GridSearchCV(cv=3, error_score='raise-deprecating',\n",
       "       estimator=Pipeline(memory=None,\n",
       "     steps=[('scaler', StandardScaler(copy=True, with_mean=True, with_std=True)), ('svc', SVC(C=1.0, cache_size=200, class_weight=None, coef0=0.0,\n",
       "  decision_function_shape='ovr', degree=3, gamma='auto_deprecated',\n",
       "  kernel='rbf', max_iter=-1, probability=False, random_state=None,\n",
       "  shrinking=True, tol=0.001, verbose=False))]),\n",
       "       fit_params=None, iid='warn', n_jobs=4,\n",
       "       param_grid=[{'svc__kernel': ['linear', 'rbf'], 'svc__C': [0.5, 1.0]}],\n",
       "       pre_dispatch='2*n_jobs', refit=True, return_train_score='warn',\n",
       "       scoring='f1_macro', verbose=0)"
      ]
     },
     "execution_count": 39,
     "metadata": {},
     "output_type": "execute_result"
    }
   ],
   "source": [
    "scaler = StandardScaler()\n",
    "svc = SVC()\n",
    "\n",
    "# Define pipeline\n",
    "svc_d2v_pipeline = Pipeline([('scaler', scaler),\n",
    "                             ('svc', svc)])\n",
    "\n",
    "# Grid search parameters\n",
    "svc_d2v_param_grid = [ {   'svc__kernel': [ 'linear', 'rbf'],\n",
    "                           'svc__C': [0.5, 1.0] }]\n",
    "\n",
    "# Perform grid search\n",
    "svc_d2v_gs = GridSearchCV(estimator=svc_d2v_pipeline, param_grid=svc_d2v_param_grid, \n",
    "                           scoring='f1_macro', cv=3, n_jobs=multiprocessing.cpu_count())\n",
    "\n",
    "svc_d2v_gs.fit(d2v_X_train, d2v_Y_train)"
   ]
  },
  {
   "cell_type": "code",
   "execution_count": 46,
   "metadata": {},
   "outputs": [
    {
     "name": "stdout",
     "output_type": "stream",
     "text": [
      "Best model: {'svc__C': 1.0, 'svc__kernel': 'rbf'}\n",
      "Best score: 0.949955\n"
     ]
    }
   ],
   "source": [
    "# Create an instance of the best estimator\n",
    "svc_d2v_best = svc_d2v_gs.best_estimator_\n",
    "svc_d2v_best.fit(d2v_X_train, d2v_Y_train)\n",
    "\n",
    "print('Best model: %s' % str(svc_d2v_gs.best_params_))\n",
    "print('Best score: %f' % svc_d2v_gs.best_score_)"
   ]
  },
  {
   "cell_type": "code",
   "execution_count": 52,
   "metadata": {},
   "outputs": [
    {
     "name": "stdout",
     "output_type": "stream",
     "text": [
      "               precision    recall  f1-score   support\n",
      "\n",
      "     business       0.92      0.98      0.95       143\n",
      "entertainment       0.97      0.97      0.97       122\n",
      "     politics       0.97      0.89      0.93       120\n",
      "        sport       0.99      0.99      0.99       161\n",
      "         tech       0.95      0.96      0.96       122\n",
      "\n",
      "    micro avg       0.96      0.96      0.96       668\n",
      "    macro avg       0.96      0.96      0.96       668\n",
      " weighted avg       0.96      0.96      0.96       668\n",
      "\n"
     ]
    }
   ],
   "source": [
    "svc_d2v_Y_pred = svc_d2v_best.predict(d2v_X_test)\n",
    "print(classification_report(d2v_Y_test, svc_d2v_Y_pred, target_names = labels))"
   ]
  },
  {
   "cell_type": "markdown",
   "metadata": {},
   "source": [
    "## Conclusion"
   ]
  },
  {
   "cell_type": "markdown",
   "metadata": {
    "collapsed": true
   },
   "source": [
    "**Multinomial NB with Tf-Idf Vectorizer with the following parameters**\n",
    "\n",
    "'multinomial_nb__alpha': 0.25, 'vectorizer__min_df': 2, 'vectorizer__ngram_range': (1, 2), 'vectorizer__norm': None\n",
    "\n",
    "**turned out to be the best model pipeline for bbc news classification with F1-score.**"
   ]
  },
  {
   "cell_type": "code",
   "execution_count": 66,
   "metadata": {},
   "outputs": [
    {
     "data": {
      "image/png": "[encoded data removed]",
      "text/plain": [
       "<matplotlib.figure.Figure at 0x138aacd68>"
      ]
     },
     "metadata": {},
     "output_type": "display_data"
    }
   ],
   "source": [
    "plot_confusion_matrix(y_test, mn_tfidfv_nb_pred, labels, 'Confusion matrix for Multinomial NB with Tf-Idf Vectorizer')"
   ]
  }
 ],
 "metadata": {
  "kernelspec": {
   "display_name": "Python 3",
   "language": "python",
   "name": "python3"
  },
  "varInspector": {
   "cols": {
    "lenName": 16,
    "lenType": 16,
    "lenVar": 40
   },
   "kernels_config": {
    "python": {
     "delete_cmd_postfix": "",
     "delete_cmd_prefix": "del ",
     "library": "var_list.py",
     "varRefreshCmd": "print(var_dic_list())"
    },
    "r": {
     "delete_cmd_postfix": ") ",
     "delete_cmd_prefix": "rm(",
     "library": "var_list.r",
     "varRefreshCmd": "cat(var_dic_list()) "
    }
   },
   "types_to_exclude": [
    "module",
    "function",
    "builtin_function_or_method",
    "instance",
    "_Feature"
   ],
   "window_display": false
  }
 },
 "nbformat": 4,
 "nbformat_minor": 2
}

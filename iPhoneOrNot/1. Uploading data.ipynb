{
 "cells": [
  {
   "cell_type": "markdown",
   "metadata": {},
   "source": [
    "# iPhone case (Getting images)"
   ]
  },
  {
   "cell_type": "markdown",
   "metadata": {},
   "source": [
    "*Sofia Shchipinskaya*"
   ]
  },
  {
   "cell_type": "markdown",
   "metadata": {},
   "source": [
    "The first part of the task was to collect images. I am bad at doing such things, so my colleagues Anton and Alexander did collect images from avito.ru. They got images with some 'trash' (pictures of non-iPhones in iPhones folders, pictures of non-iPhone related items, etc.). The next step was to clean those folders, so I helped to clean images. \n",
    "\n",
    "When we got the full dataset both of clean images of iPhones and of non-Iphones, it was needed to divide the dataset into specific folders for futher analysis and traing models. So, my colleague Anton helped me to correctly write the following code for doing such thing.\n",
    "\n",
    "As it is not allowed to upload folders into Google Cloud Jupyter Notebook, I needed to create .zip file. After that I wrote some code to unzip the dataset."
   ]
  },
  {
   "cell_type": "markdown",
   "metadata": {},
   "source": [
    "### Unzipping the dataset"
   ]
  },
  {
   "cell_type": "code",
   "execution_count": null,
   "metadata": {},
   "outputs": [],
   "source": [
    "import zipfile\n",
    "zip_ref = zipfile.ZipFile('full dataset.zip', 'r')\n",
    "zip_ref.extractall()\n",
    "zip_ref.close()"
   ]
  },
  {
   "cell_type": "markdown",
   "metadata": {},
   "source": [
    "### Splitting images into train, test and validation folders"
   ]
  },
  {
   "cell_type": "code",
   "execution_count": null,
   "metadata": {},
   "outputs": [],
   "source": [
    "path='full dataset\\\\'"
   ]
  },
  {
   "cell_type": "code",
   "execution_count": null,
   "metadata": {},
   "outputs": [],
   "source": [
    "Not=glob.glob(os.path.join(path,'An/*/','*.jpg'))\n",
    "Iphone=glob.glob(os.path.join(path,'Ip/*/','*.jpg'))"
   ]
  },
  {
   "cell_type": "code",
   "execution_count": null,
   "metadata": {},
   "outputs": [],
   "source": [
    "os.mkdir(os.path.join(path,'val'))\n",
    "os.mkdir(os.path.join(path,'train'))\n",
    "os.mkdir(os.path.join(path,'test'))\n",
    "for t in ['train/','val/','test/']:\n",
    "    for folder in ['An','Ip']:\n",
    "        os.mkdir(os.path.join(path,t,folder))"
   ]
  },
  {
   "cell_type": "code",
   "execution_count": null,
   "metadata": {},
   "outputs": [],
   "source": [
    "files=np.append(Not,Iphone)\n",
    "shuffle=np.random.permutation(len(files))"
   ]
  },
  {
   "cell_type": "code",
   "execution_count": null,
   "metadata": {},
   "outputs": [],
   "source": [
    "for i in shuffle[:2000]:\n",
    "    folder=files[i].split('\\\\')[1]\n",
    "    image=files[i].split('\\\\')[-1]\n",
    "    os.rename(files[i],path+'val\\\\'+folder+'\\\\'+ str(i)+'.jpg')"
   ]
  },
  {
   "cell_type": "code",
   "execution_count": null,
   "metadata": {},
   "outputs": [],
   "source": [
    "for i in shuffle[2000:-2000]:\n",
    "    folder=files[i].split('\\\\')[1]\n",
    "    image=files[i].split('\\\\')[-1]\n",
    "    os.rename(files[i],path+'train\\\\'+folder+'\\\\'+ str(i)+'.jpg')"
   ]
  },
  {
   "cell_type": "code",
   "execution_count": null,
   "metadata": {},
   "outputs": [],
   "source": [
    "for i in shuffle[-2000:]:\n",
    "    folder=files[i].split('\\\\')[1]\n",
    "    image=files[i].split('\\\\')[-1]\n",
    "    os.rename(files[i],path+'test\\\\'+folder+'\\\\'+ str(i)+'.jpg')"
   ]
  }
 ],
 "metadata": {
  "kernelspec": {
   "display_name": "Python 3",
   "language": "python",
   "name": "python3"
  },
  "language_info": {
   "codemirror_mode": {
    "name": "ipython",
    "version": 3
   },
   "file_extension": ".py",
   "mimetype": "text/x-python",
   "name": "python",
   "nbconvert_exporter": "python",
   "pygments_lexer": "ipython3",
   "version": "3.6.5"
  },
  "varInspector": {
   "cols": {
    "lenName": 16,
    "lenType": 16,
    "lenVar": 40
   },
   "kernels_config": {
    "python": {
     "delete_cmd_postfix": "",
     "delete_cmd_prefix": "del ",
     "library": "var_list.py",
     "varRefreshCmd": "print(var_dic_list())"
    },
    "r": {
     "delete_cmd_postfix": ") ",
     "delete_cmd_prefix": "rm(",
     "library": "var_list.r",
     "varRefreshCmd": "cat(var_dic_list()) "
    }
   },
   "types_to_exclude": [
    "module",
    "function",
    "builtin_function_or_method",
    "instance",
    "_Feature"
   ],
   "window_display": false
  }
 },
 "nbformat": 4,
 "nbformat_minor": 2
}
